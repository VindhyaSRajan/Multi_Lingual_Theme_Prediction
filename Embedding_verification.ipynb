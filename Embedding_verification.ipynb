{
  "nbformat": 4,
  "nbformat_minor": 0,
  "metadata": {
    "colab": {
      "name": "Embedding_verification.ipynb",
      "version": "0.3.2",
      "provenance": [],
      "collapsed_sections": [],
      "toc_visible": true,
      "include_colab_link": true
    },
    "language_info": {
      "codemirror_mode": {
        "name": "ipython",
        "version": 3
      },
      "file_extension": ".py",
      "mimetype": "text/x-python",
      "name": "python",
      "nbconvert_exporter": "python",
      "pygments_lexer": "ipython3",
      "version": "3.7.3"
    },
    "kernelspec": {
      "display_name": "Python 3",
      "language": "python",
      "name": "python3"
    },
    "accelerator": "GPU"
  },
  "cells": [
    {
      "cell_type": "markdown",
      "metadata": {
        "id": "view-in-github",
        "colab_type": "text"
      },
      "source": [
        "<a href=\"https://colab.research.google.com/github/chinmay5/NLP-Praktikum/blob/sentence_embedding/Embedding_verification.ipynb\" target=\"_parent\"><img src=\"https://colab.research.google.com/assets/colab-badge.svg\" alt=\"Open In Colab\"/></a>"
      ]
    },
    {
      "cell_type": "markdown",
      "metadata": {
        "colab_type": "text",
        "id": "_wUDuuzC3knQ"
      },
      "source": [
        "# This is an attempt to include the LASER multi lingual embedding\n"
      ]
    },
    {
      "cell_type": "code",
      "metadata": {
        "colab_type": "code",
        "id": "mngRKDEg3x2h",
        "outputId": "3495af61-04b7-43fe-bf38-7d71f42c4a67",
        "colab": {
          "base_uri": "https://localhost:8080/",
          "height": 104
        }
      },
      "source": [
        "!git clone https://github.com/ceshine/LASER.git"
      ],
      "execution_count": 2,
      "outputs": [
        {
          "output_type": "stream",
          "text": [
            "Cloning into 'LASER'...\n",
            "remote: Enumerating objects: 591, done.\u001b[K\n",
            "remote: Total 591 (delta 0), reused 0 (delta 0), pack-reused 591\u001b[K\n",
            "Receiving objects: 100% (591/591), 2.60 MiB | 4.17 MiB/s, done.\n",
            "Resolving deltas: 100% (185/185), done.\n"
          ],
          "name": "stdout"
        }
      ]
    },
    {
      "cell_type": "code",
      "metadata": {
        "colab_type": "code",
        "id": "1Akm1QeP4lea",
        "outputId": "0f47cdd7-1c12-451f-b8f7-d1c8457fde6b",
        "colab": {
          "base_uri": "https://localhost:8080/",
          "height": 52
        }
      },
      "source": [
        "%env LASER=/content/LASER\n",
        "!echo $LASER"
      ],
      "execution_count": 3,
      "outputs": [
        {
          "output_type": "stream",
          "text": [
            "env: LASER=/content/LASER\n",
            "/content/LASER\n"
          ],
          "name": "stdout"
        }
      ]
    },
    {
      "cell_type": "code",
      "metadata": {
        "colab_type": "code",
        "id": "3KxeDCC74lhZ",
        "outputId": "39ee673c-42b8-4999-f3b6-bf546743ec01",
        "colab": {
          "base_uri": "https://localhost:8080/",
          "height": 35
        }
      },
      "source": [
        "%cd LASER"
      ],
      "execution_count": 4,
      "outputs": [
        {
          "output_type": "stream",
          "text": [
            "/content/LASER\n"
          ],
          "name": "stdout"
        }
      ]
    },
    {
      "cell_type": "code",
      "metadata": {
        "colab_type": "code",
        "id": "D7ADRwFZ4lp8",
        "outputId": "2f51de2b-0b83-4e8d-de36-4d5c2dc0ccef",
        "colab": {
          "base_uri": "https://localhost:8080/",
          "height": 104
        }
      },
      "source": [
        "!bash install_models.sh"
      ],
      "execution_count": 5,
      "outputs": [
        {
          "output_type": "stream",
          "text": [
            "Downloading networks\n",
            " - creating directory /content/LASER/models\n",
            " - bilstm.93langs.2018-12-26.pt\n",
            " - 93langs.fcodes\n",
            " - 93langs.fvocab\n"
          ],
          "name": "stdout"
        }
      ]
    },
    {
      "cell_type": "code",
      "metadata": {
        "colab_type": "code",
        "id": "U5F_sNpe4lkm",
        "outputId": "da84e5c5-2e3b-45fc-885e-3b2fa1d364a4",
        "colab": {
          "base_uri": "https://localhost:8080/",
          "height": 1000
        }
      },
      "source": [
        "!bash install_external_tools.sh"
      ],
      "execution_count": 6,
      "outputs": [
        {
          "output_type": "stream",
          "text": [
            "Installing external tools\n",
            " - creating directory /content/LASER/tools-external/moses-tokenizer/tokenizer\n",
            " - download tokenizer/tokenizer.perl\n",
            " - download tokenizer/detokenizer.perl\n",
            " - download tokenizer/normalize-punctuation.perl\n",
            " - download tokenizer/remove-non-printing-char.perl\n",
            " - download tokenizer/deescape-special-chars.perl\n",
            " - download tokenizer/lowercase.perl\n",
            " - download tokenizer/basic-protected-patterns\n",
            " - creating directory /content/LASER/tools-external/moses-tokenizer/share/nonbreaking_prefixes\n",
            " - download share/nonbreaking_prefixes/nonbreaking_prefix.ca\n",
            " - download share/nonbreaking_prefixes/nonbreaking_prefix.cs\n",
            " - download share/nonbreaking_prefixes/nonbreaking_prefix.de\n",
            " - download share/nonbreaking_prefixes/nonbreaking_prefix.el\n",
            " - download share/nonbreaking_prefixes/nonbreaking_prefix.en\n",
            " - download share/nonbreaking_prefixes/nonbreaking_prefix.es\n",
            " - download share/nonbreaking_prefixes/nonbreaking_prefix.fi\n",
            " - download share/nonbreaking_prefixes/nonbreaking_prefix.fr\n",
            " - download share/nonbreaking_prefixes/nonbreaking_prefix.ga\n",
            " - download share/nonbreaking_prefixes/nonbreaking_prefix.hu\n",
            " - download share/nonbreaking_prefixes/nonbreaking_prefix.is\n",
            " - download share/nonbreaking_prefixes/nonbreaking_prefix.it\n",
            " - download share/nonbreaking_prefixes/nonbreaking_prefix.lt\n",
            " - download share/nonbreaking_prefixes/nonbreaking_prefix.lv\n",
            " - download share/nonbreaking_prefixes/nonbreaking_prefix.nl\n",
            " - download share/nonbreaking_prefixes/nonbreaking_prefix.pl\n",
            " - download share/nonbreaking_prefixes/nonbreaking_prefix.pt\n",
            " - download share/nonbreaking_prefixes/nonbreaking_prefix.ro\n",
            " - download share/nonbreaking_prefixes/nonbreaking_prefix.ru\n",
            " - download share/nonbreaking_prefixes/nonbreaking_prefix.sk\n",
            " - download share/nonbreaking_prefixes/nonbreaking_prefix.sl\n",
            " - download share/nonbreaking_prefixes/nonbreaking_prefix.sv\n",
            " - download share/nonbreaking_prefixes/nonbreaking_prefix.ta\n",
            " - download share/nonbreaking_prefixes/nonbreaking_prefix.yue\n",
            " - download share/nonbreaking_prefixes/nonbreaking_prefix.zh\n",
            " - download fastBPE software from github\n",
            "--2019-07-10 15:18:54--  https://github.com/glample/fastBPE/archive/master.zip\n",
            "Resolving github.com (github.com)... 140.82.118.4\n",
            "Connecting to github.com (github.com)|140.82.118.4|:443... connected.\n",
            "HTTP request sent, awaiting response... 302 Found\n",
            "Location: https://codeload.github.com/glample/fastBPE/zip/master [following]\n",
            "--2019-07-10 15:18:54--  https://codeload.github.com/glample/fastBPE/zip/master\n",
            "Resolving codeload.github.com (codeload.github.com)... 192.30.253.120\n",
            "Connecting to codeload.github.com (codeload.github.com)|192.30.253.120|:443... connected.\n",
            "HTTP request sent, awaiting response... 200 OK\n",
            "Length: unspecified [application/zip]\n",
            "Saving to: ‘master.zip’\n",
            "\n",
            "master.zip              [ <=>                ]   8.88K  --.-KB/s    in 0.08s   \n",
            "\n",
            "2019-07-10 15:18:55 (105 KB/s) - ‘master.zip’ saved [9093]\n",
            "\n",
            "Archive:  master.zip\n",
            "874634b2676d091ced2aa5a2f5917c7106735fa8\n",
            "   creating: fastBPE-master/\n",
            "  inflating: fastBPE-master/LICENSE  \n",
            "  inflating: fastBPE-master/README.md  \n",
            "   creating: fastBPE-master/fastBPE/\n",
            "  inflating: fastBPE-master/fastBPE/fastBPE.hpp  \n",
            "  inflating: fastBPE-master/fastBPE/fastBPE.pyx  \n",
            "  inflating: fastBPE-master/fastBPE/main.cc  \n",
            "  inflating: fastBPE-master/setup.py  \n",
            " - compiling\n",
            "Warning: passing language='c++' to cythonize() is deprecated. Instead, put \"# distutils: language=c++\" in your .pyx or .pxd file(s)\n",
            "Compiling fastBPE/fastBPE.pyx because it changed.\n",
            "[1/1] Cythonizing fastBPE/fastBPE.pyx\n",
            "/usr/local/lib/python3.6/dist-packages/Cython/Compiler/Main.py:367: FutureWarning: Cython directive 'language_level' not set, using 2 for now (Py2). This will change in a later release! File: /content/LASER/tools-external/fastBPE/fastBPE/fastBPE.pyx\n",
            "  tree = Parsing.p_module(s, pxd, full_module_name)\n",
            "running install\n",
            "running bdist_egg\n",
            "running egg_info\n",
            "creating fastBPE.egg-info\n",
            "writing fastBPE.egg-info/PKG-INFO\n",
            "writing dependency_links to fastBPE.egg-info/dependency_links.txt\n",
            "writing requirements to fastBPE.egg-info/requires.txt\n",
            "writing top-level names to fastBPE.egg-info/top_level.txt\n",
            "writing manifest file 'fastBPE.egg-info/SOURCES.txt'\n",
            "package init file 'fastBPE/__init__.py' not found (or not a regular file)\n",
            "reading manifest file 'fastBPE.egg-info/SOURCES.txt'\n",
            "writing manifest file 'fastBPE.egg-info/SOURCES.txt'\n",
            "installing library code to build/bdist.linux-x86_64/egg\n",
            "running install_lib\n",
            "running build_py\n",
            "running build_ext\n",
            "building 'fastBPE' extension\n",
            "creating build\n",
            "creating build/temp.linux-x86_64-3.6\n",
            "creating build/temp.linux-x86_64-3.6/fastBPE\n",
            "x86_64-linux-gnu-gcc -pthread -DNDEBUG -g -fwrapv -O2 -Wall -g -fstack-protector-strong -Wformat -Werror=format-security -Wdate-time -D_FORTIFY_SOURCE=2 -fPIC -IfastBPE -I/usr/include/python3.6m -c fastBPE/fastBPE.cpp -o build/temp.linux-x86_64-3.6/fastBPE/fastBPE.o -std=c++11 -Ofast -pthread\n",
            "creating build/lib.linux-x86_64-3.6\n",
            "x86_64-linux-gnu-g++ -pthread -shared -Wl,-O1 -Wl,-Bsymbolic-functions -Wl,-Bsymbolic-functions -Wl,-z,relro -Wl,-Bsymbolic-functions -Wl,-z,relro -g -fstack-protector-strong -Wformat -Werror=format-security -Wdate-time -D_FORTIFY_SOURCE=2 build/temp.linux-x86_64-3.6/fastBPE/fastBPE.o -o build/lib.linux-x86_64-3.6/fastBPE.cpython-36m-x86_64-linux-gnu.so\n",
            "creating build/bdist.linux-x86_64\n",
            "creating build/bdist.linux-x86_64/egg\n",
            "copying build/lib.linux-x86_64-3.6/fastBPE.cpython-36m-x86_64-linux-gnu.so -> build/bdist.linux-x86_64/egg\n",
            "creating stub loader for fastBPE.cpython-36m-x86_64-linux-gnu.so\n",
            "byte-compiling build/bdist.linux-x86_64/egg/fastBPE.py to fastBPE.cpython-36.pyc\n",
            "creating build/bdist.linux-x86_64/egg/EGG-INFO\n",
            "copying fastBPE.egg-info/PKG-INFO -> build/bdist.linux-x86_64/egg/EGG-INFO\n",
            "copying fastBPE.egg-info/SOURCES.txt -> build/bdist.linux-x86_64/egg/EGG-INFO\n",
            "copying fastBPE.egg-info/dependency_links.txt -> build/bdist.linux-x86_64/egg/EGG-INFO\n",
            "copying fastBPE.egg-info/requires.txt -> build/bdist.linux-x86_64/egg/EGG-INFO\n",
            "copying fastBPE.egg-info/top_level.txt -> build/bdist.linux-x86_64/egg/EGG-INFO\n",
            "writing build/bdist.linux-x86_64/egg/EGG-INFO/native_libs.txt\n",
            "zip_safe flag not set; analyzing archive contents...\n",
            "__pycache__.fastBPE.cpython-36: module references __file__\n",
            "creating dist\n",
            "creating 'dist/fastBPE-0.0.0-py3.6-linux-x86_64.egg' and adding 'build/bdist.linux-x86_64/egg' to it\n",
            "removing 'build/bdist.linux-x86_64/egg' (and everything under it)\n",
            "Processing fastBPE-0.0.0-py3.6-linux-x86_64.egg\n",
            "creating /usr/local/lib/python3.6/dist-packages/fastBPE-0.0.0-py3.6-linux-x86_64.egg\n",
            "Extracting fastBPE-0.0.0-py3.6-linux-x86_64.egg to /usr/local/lib/python3.6/dist-packages\n",
            "Adding fastBPE 0.0.0 to easy-install.pth file\n",
            "\n",
            "Installed /usr/local/lib/python3.6/dist-packages/fastBPE-0.0.0-py3.6-linux-x86_64.egg\n",
            "Processing dependencies for fastBPE==0.0.0\n",
            "Searching for Cython==0.29.10\n",
            "Best match: Cython 0.29.10\n",
            "Adding Cython 0.29.10 to easy-install.pth file\n",
            "Installing cygdb script to /usr/local/bin\n",
            "Installing cython script to /usr/local/bin\n",
            "Installing cythonize script to /usr/local/bin\n",
            "\n",
            "Using /usr/local/lib/python3.6/dist-packages\n",
            "Finished processing dependencies for fastBPE==0.0.0\n",
            "\n",
            "automatic installation of the Japanese tokenizer mecab may be tricky\n",
            "Please install it manually from https://github.com/taku910/mecab\n",
            "\n",
            "The installation directory should be /content/LASER/tools-external/mecab\n",
            "\n"
          ],
          "name": "stdout"
        }
      ]
    },
    {
      "cell_type": "code",
      "metadata": {
        "colab_type": "code",
        "id": "Wq9RVwqi8pyM",
        "outputId": "8a0d8ac6-85c7-4373-ebcd-72335bba3ee1",
        "colab": {
          "base_uri": "https://localhost:8080/",
          "height": 35
        }
      },
      "source": [
        "%cd tools-external/fastBPE/\n",
        "! g++ -std=c++11 -pthread -O3 fastBPE/main.cc -IfastBPE -o fast"
      ],
      "execution_count": 7,
      "outputs": [
        {
          "output_type": "stream",
          "text": [
            "/content/LASER/tools-external/fastBPE\n"
          ],
          "name": "stdout"
        }
      ]
    },
    {
      "cell_type": "code",
      "metadata": {
        "id": "xahYxLS667yF",
        "colab_type": "code",
        "colab": {}
      },
      "source": [
        "import fastBPE"
      ],
      "execution_count": 0,
      "outputs": []
    },
    {
      "cell_type": "code",
      "metadata": {
        "colab_type": "code",
        "id": "KpraUBs38jZO",
        "outputId": "593c28f8-3b87-406a-b219-0e7c839c0513",
        "colab": {
          "base_uri": "https://localhost:8080/",
          "height": 52
        }
      },
      "source": [
        "%cd ../../tasks/similarity/\n",
        "! ls"
      ],
      "execution_count": 9,
      "outputs": [
        {
          "output_type": "stream",
          "text": [
            "/content/LASER/tasks/similarity\n",
            "README.md  wmt.sh\n"
          ],
          "name": "stdout"
        }
      ]
    },
    {
      "cell_type": "code",
      "metadata": {
        "colab_type": "code",
        "id": "uVjP99krE02v",
        "outputId": "76b6726e-ed6d-43f6-e7bc-4850c6c164dd",
        "colab": {
          "base_uri": "https://localhost:8080/",
          "height": 523
        }
      },
      "source": [
        "! apt install libopenblas-base libomp-dev"
      ],
      "execution_count": 10,
      "outputs": [
        {
          "output_type": "stream",
          "text": [
            "Reading package lists... Done\n",
            "Building dependency tree       \n",
            "Reading state information... Done\n",
            "libopenblas-base is already the newest version (0.2.20+ds-4).\n",
            "libopenblas-base set to manually installed.\n",
            "The following package was automatically installed and is no longer required:\n",
            "  libnvidia-common-410\n",
            "Use 'apt autoremove' to remove it.\n",
            "Suggested packages:\n",
            "  libomp-doc\n",
            "The following NEW packages will be installed:\n",
            "  libomp-dev libomp5\n",
            "0 upgraded, 2 newly installed, 0 to remove and 4 not upgraded.\n",
            "Need to get 239 kB of archives.\n",
            "After this operation, 804 kB of additional disk space will be used.\n",
            "Get:1 http://archive.ubuntu.com/ubuntu bionic/universe amd64 libomp5 amd64 5.0.1-1 [234 kB]\n",
            "Get:2 http://archive.ubuntu.com/ubuntu bionic/universe amd64 libomp-dev amd64 5.0.1-1 [5,088 B]\n",
            "Fetched 239 kB in 0s (2,697 kB/s)\n",
            "Selecting previously unselected package libomp5:amd64.\n",
            "(Reading database ... 130963 files and directories currently installed.)\n",
            "Preparing to unpack .../libomp5_5.0.1-1_amd64.deb ...\n",
            "Unpacking libomp5:amd64 (5.0.1-1) ...\n",
            "Selecting previously unselected package libomp-dev.\n",
            "Preparing to unpack .../libomp-dev_5.0.1-1_amd64.deb ...\n",
            "Unpacking libomp-dev (5.0.1-1) ...\n",
            "Setting up libomp5:amd64 (5.0.1-1) ...\n",
            "Processing triggers for libc-bin (2.27-3ubuntu1) ...\n",
            "Setting up libomp-dev (5.0.1-1) ...\n"
          ],
          "name": "stdout"
        }
      ]
    },
    {
      "cell_type": "code",
      "metadata": {
        "colab_type": "code",
        "id": "zdgEtRK5AN9g",
        "outputId": "95d37a8c-3e38-4149-9628-ddd1fb06d18a",
        "colab": {
          "base_uri": "https://localhost:8080/",
          "height": 141
        }
      },
      "source": [
        "! pip install faiss"
      ],
      "execution_count": 11,
      "outputs": [
        {
          "output_type": "stream",
          "text": [
            "Collecting faiss\n",
            "\u001b[?25l  Downloading https://files.pythonhosted.org/packages/bd/1c/4ae6cb87cf0c09c25561ea48db11e25713b25c580909902a92c090b377c0/faiss-1.5.3-cp36-cp36m-manylinux1_x86_64.whl (4.7MB)\n",
            "\u001b[K     |████████████████████████████████| 4.7MB 6.5MB/s \n",
            "\u001b[?25hRequirement already satisfied: numpy in /usr/local/lib/python3.6/dist-packages (from faiss) (1.16.4)\n",
            "Installing collected packages: faiss\n",
            "Successfully installed faiss-1.5.3\n"
          ],
          "name": "stdout"
        }
      ]
    },
    {
      "cell_type": "code",
      "metadata": {
        "colab_type": "code",
        "id": "lBPIo9wj9GSg",
        "outputId": "b4c01e1f-1f11-492a-c345-ee407df94978",
        "colab": {
          "base_uri": "https://localhost:8080/",
          "height": 832
        }
      },
      "source": [
        " % cd ./tasks/similarity\n",
        "! bash wmt.sh"
      ],
      "execution_count": 12,
      "outputs": [
        {
          "output_type": "stream",
          "text": [
            "[Errno 2] No such file or directory: './tasks/similarity'\n",
            "/content/LASER/tasks/similarity\n",
            " - Download WMT data\n",
            "LASER: similarity search\n",
            "\n",
            "Processing:\n",
            " - loading encoder /content/LASER/models/bilstm.93langs.2018-12-26.pt\n",
            " - transfer encoder to GPU\n",
            " - creating directory embed\n",
            " - Tokenizer: newstest2012.cs in language cs  \n",
            " - fast BPE: processing newstest2012.tok.cs\n",
            " - Encoder: newstest2012.bpe.cs to newstest2012.enc.cs\n",
            " - Encoder: 3003 sentences in 5s\n",
            " - embedding: ./embed/newstest2012.enc.cs 3003 examples of dim 1024\n",
            " - creating FAISS index\n",
            " - Tokenizer: newstest2012.de in language de  \n",
            " - fast BPE: processing newstest2012.tok.de\n",
            " - Encoder: newstest2012.bpe.de to newstest2012.enc.de\n",
            " - Encoder: 3003 sentences in 5s\n",
            " - embedding: ./embed/newstest2012.enc.de 3003 examples of dim 1024\n",
            " - creating FAISS index\n",
            " - Tokenizer: newstest2012.en in language en  \n",
            " - fast BPE: processing newstest2012.tok.en\n",
            " - Encoder: newstest2012.bpe.en to newstest2012.enc.en\n",
            " - Encoder: 3003 sentences in 4s\n",
            " - embedding: ./embed/newstest2012.enc.en 3003 examples of dim 1024\n",
            " - creating FAISS index\n",
            " - Tokenizer: newstest2012.es in language es  \n",
            " - fast BPE: processing newstest2012.tok.es\n",
            " - Encoder: newstest2012.bpe.es to newstest2012.enc.es\n",
            " - Encoder: 3003 sentences in 5s\n",
            " - embedding: ./embed/newstest2012.enc.es 3003 examples of dim 1024\n",
            " - creating FAISS index\n",
            " - Tokenizer: newstest2012.fr in language fr  \n",
            " - fast BPE: processing newstest2012.tok.fr\n",
            " - Encoder: newstest2012.bpe.fr to newstest2012.enc.fr\n",
            " - Encoder: 3003 sentences in 5s\n",
            " - embedding: ./embed/newstest2012.enc.fr 3003 examples of dim 1024\n",
            " - creating FAISS index\n",
            "Confusion matrix:\n",
            "langs   cs       de       en       es       fr       avg     \n",
            "cs     0.00%    0.70%    0.90%    0.67%    0.77%    0.76%\n",
            "de     0.83%    0.00%    1.17%    0.93%    1.03%    0.99%\n",
            "en     0.93%    1.27%    0.00%    0.83%    1.07%    1.02%\n",
            "es     0.53%    0.77%    0.97%    0.00%    0.57%    0.71%\n",
            "fr     0.50%    0.90%    1.13%    0.60%    0.00%    0.78%\n",
            "avg    0.70%    0.91%    1.04%    0.76%    0.86%    0.85%\n"
          ],
          "name": "stdout"
        }
      ]
    },
    {
      "cell_type": "code",
      "metadata": {
        "colab_type": "code",
        "id": "9sS0FP2kG-cd",
        "colab": {}
      },
      "source": [
        "import os\n",
        "import sys\n",
        "LASER = os.environ['LASER']\n",
        "# now include the extra files in the source\n",
        "sys.path.append(LASER + '/source')\n",
        "sys.path.append(LASER + '/source/lib')"
      ],
      "execution_count": 0,
      "outputs": []
    },
    {
      "cell_type": "code",
      "metadata": {
        "colab_type": "code",
        "id": "39VFH-l3G-l4",
        "colab": {}
      },
      "source": [
        "from embed import SentenceEncoder, EncodeLoad, EncodeFile\n",
        "from text_processing import Token, BPEfastApply\n",
        "from indexing import IndexCreate, IndexSearchMultiple, IndexPrintConfusionMatrix"
      ],
      "execution_count": 0,
      "outputs": []
    },
    {
      "cell_type": "code",
      "metadata": {
        "colab_type": "code",
        "id": "c3ZY3F5ZbCwJ",
        "colab": {}
      },
      "source": [
        "MODEL_PATH = '/content/LASER/models/'\n",
        "sentence_encoder = SentenceEncoder(\n",
        "    str(MODEL_PATH + \"bilstm.93langs.2018-12-26.pt\"),\n",
        "    max_sentences=None,\n",
        "    max_tokens=10000,\n",
        "    cpu=False)"
      ],
      "execution_count": 0,
      "outputs": []
    },
    {
      "cell_type": "markdown",
      "metadata": {
        "id": "YSq0IMO78Rnk",
        "colab_type": "text"
      },
      "source": [
        "# Copy and paste the code by clicking on the generated link and press Enter"
      ]
    },
    {
      "cell_type": "code",
      "metadata": {
        "id": "k30PCfcugynk",
        "colab_type": "code",
        "outputId": "b63a2a39-22b2-41bc-92a1-ff9c0432c415",
        "colab": {
          "base_uri": "https://localhost:8080/",
          "height": 121
        }
      },
      "source": [
        "from google.colab import drive\n",
        "drive.mount(\"/gdrive\", force_remount=True)"
      ],
      "execution_count": 0,
      "outputs": [
        {
          "output_type": "stream",
          "text": [
            "Go to this URL in a browser: https://accounts.google.com/o/oauth2/auth?client_id=947318989803-6bn6qk8qdgf4n4g3pfee6491hc0brc4i.apps.googleusercontent.com&redirect_uri=urn%3Aietf%3Awg%3Aoauth%3A2.0%3Aoob&scope=email%20https%3A%2F%2Fwww.googleapis.com%2Fauth%2Fdocs.test%20https%3A%2F%2Fwww.googleapis.com%2Fauth%2Fdrive%20https%3A%2F%2Fwww.googleapis.com%2Fauth%2Fdrive.photos.readonly%20https%3A%2F%2Fwww.googleapis.com%2Fauth%2Fpeopleapi.readonly&response_type=code\n",
            "\n",
            "Enter your authorization code:\n",
            "··········\n",
            "Mounted at /gdrive\n"
          ],
          "name": "stdout"
        }
      ]
    },
    {
      "cell_type": "markdown",
      "metadata": {
        "id": "IowSOIlt3gt9",
        "colab_type": "text"
      },
      "source": [
        "# Change the file name below"
      ]
    },
    {
      "cell_type": "code",
      "metadata": {
        "colab_type": "code",
        "id": "MzVaHR7VcQlH",
        "colab": {}
      },
      "source": [
        "# Replace filename at the end\n",
        "import pandas as pd\n",
        "input_data = pd.read_csv('/gdrive/My Drive/data_46000_to_69000.csv')"
      ],
      "execution_count": 0,
      "outputs": []
    },
    {
      "cell_type": "code",
      "metadata": {
        "colab_type": "code",
        "id": "sJ9OuN6fnEjE",
        "outputId": "15bff6ee-b52f-40b5-d777-3730a7014622",
        "colab": {
          "base_uri": "https://localhost:8080/",
          "height": 34
        }
      },
      "source": [
        "input_data.columns"
      ],
      "execution_count": 0,
      "outputs": [
        {
          "output_type": "execute_result",
          "data": {
            "text/plain": [
              "Index(['reviewText', 'Product_Category'], dtype='object')"
            ]
          },
          "metadata": {
            "tags": []
          },
          "execution_count": 19
        }
      ]
    },
    {
      "cell_type": "code",
      "metadata": {
        "colab_type": "code",
        "id": "ImQg2ouIupGA",
        "outputId": "3ed7769a-872b-4a2d-aa80-555b5e06ea19",
        "colab": {
          "base_uri": "https://localhost:8080/",
          "height": 195
        }
      },
      "source": [
        "input_data.head()"
      ],
      "execution_count": 0,
      "outputs": [
        {
          "output_type": "execute_result",
          "data": {
            "text/html": [
              "<div>\n",
              "<style scoped>\n",
              "    .dataframe tbody tr th:only-of-type {\n",
              "        vertical-align: middle;\n",
              "    }\n",
              "\n",
              "    .dataframe tbody tr th {\n",
              "        vertical-align: top;\n",
              "    }\n",
              "\n",
              "    .dataframe thead th {\n",
              "        text-align: right;\n",
              "    }\n",
              "</style>\n",
              "<table border=\"1\" class=\"dataframe\">\n",
              "  <thead>\n",
              "    <tr style=\"text-align: right;\">\n",
              "      <th></th>\n",
              "      <th>reviewText</th>\n",
              "      <th>Product_Category</th>\n",
              "    </tr>\n",
              "  </thead>\n",
              "  <tbody>\n",
              "    <tr>\n",
              "      <th>0</th>\n",
              "      <td>A great cd, all gang-smoke songs the best of t...</td>\n",
              "      <td>Digital Music</td>\n",
              "    </tr>\n",
              "    <tr>\n",
              "      <th>1</th>\n",
              "      <td>It would be awesome if they would release this...</td>\n",
              "      <td>CDs and Vinyl</td>\n",
              "    </tr>\n",
              "    <tr>\n",
              "      <th>2</th>\n",
              "      <td>Got one of these mounted in my vehicle. Seems ...</td>\n",
              "      <td>Automotive</td>\n",
              "    </tr>\n",
              "    <tr>\n",
              "      <th>3</th>\n",
              "      <td>I got tired of using the old style staple remo...</td>\n",
              "      <td>Office Products</td>\n",
              "    </tr>\n",
              "    <tr>\n",
              "      <th>4</th>\n",
              "      <td>I've been using Ableton for 4 years and it nev...</td>\n",
              "      <td>Musical Instruments</td>\n",
              "    </tr>\n",
              "  </tbody>\n",
              "</table>\n",
              "</div>"
            ],
            "text/plain": [
              "                                          reviewText     Product_Category\n",
              "0  A great cd, all gang-smoke songs the best of t...        Digital Music\n",
              "1  It would be awesome if they would release this...        CDs and Vinyl\n",
              "2  Got one of these mounted in my vehicle. Seems ...           Automotive\n",
              "3  I got tired of using the old style staple remo...      Office Products\n",
              "4  I've been using Ableton for 4 years and it nev...  Musical Instruments"
            ]
          },
          "metadata": {
            "tags": []
          },
          "execution_count": 20
        }
      ]
    },
    {
      "cell_type": "code",
      "metadata": {
        "colab_type": "code",
        "id": "cfzKSTw5vMvP",
        "outputId": "5df74784-b0e9-4bba-c7b7-f5d6786731bb",
        "colab": {
          "base_uri": "https://localhost:8080/",
          "height": 101
        }
      },
      "source": [
        "input_data.Product_Category.describe()"
      ],
      "execution_count": 0,
      "outputs": [
        {
          "output_type": "execute_result",
          "data": {
            "text/plain": [
              "count               23000\n",
              "unique                 22\n",
              "top       Office Products\n",
              "freq                 1886\n",
              "Name: Product_Category, dtype: object"
            ]
          },
          "metadata": {
            "tags": []
          },
          "execution_count": 21
        }
      ]
    },
    {
      "cell_type": "code",
      "metadata": {
        "colab_type": "code",
        "id": "HbUHtUzLl-T1",
        "outputId": "dc796666-245d-45fc-cee9-bcbb276ca926",
        "colab": {
          "base_uri": "https://localhost:8080/",
          "height": 195
        }
      },
      "source": [
        "input_data = input_data.rename(columns={'Product_Category':'label'})\n",
        "input_data.head()"
      ],
      "execution_count": 0,
      "outputs": [
        {
          "output_type": "execute_result",
          "data": {
            "text/html": [
              "<div>\n",
              "<style scoped>\n",
              "    .dataframe tbody tr th:only-of-type {\n",
              "        vertical-align: middle;\n",
              "    }\n",
              "\n",
              "    .dataframe tbody tr th {\n",
              "        vertical-align: top;\n",
              "    }\n",
              "\n",
              "    .dataframe thead th {\n",
              "        text-align: right;\n",
              "    }\n",
              "</style>\n",
              "<table border=\"1\" class=\"dataframe\">\n",
              "  <thead>\n",
              "    <tr style=\"text-align: right;\">\n",
              "      <th></th>\n",
              "      <th>reviewText</th>\n",
              "      <th>label</th>\n",
              "    </tr>\n",
              "  </thead>\n",
              "  <tbody>\n",
              "    <tr>\n",
              "      <th>0</th>\n",
              "      <td>A great cd, all gang-smoke songs the best of t...</td>\n",
              "      <td>Digital Music</td>\n",
              "    </tr>\n",
              "    <tr>\n",
              "      <th>1</th>\n",
              "      <td>It would be awesome if they would release this...</td>\n",
              "      <td>CDs and Vinyl</td>\n",
              "    </tr>\n",
              "    <tr>\n",
              "      <th>2</th>\n",
              "      <td>Got one of these mounted in my vehicle. Seems ...</td>\n",
              "      <td>Automotive</td>\n",
              "    </tr>\n",
              "    <tr>\n",
              "      <th>3</th>\n",
              "      <td>I got tired of using the old style staple remo...</td>\n",
              "      <td>Office Products</td>\n",
              "    </tr>\n",
              "    <tr>\n",
              "      <th>4</th>\n",
              "      <td>I've been using Ableton for 4 years and it nev...</td>\n",
              "      <td>Musical Instruments</td>\n",
              "    </tr>\n",
              "  </tbody>\n",
              "</table>\n",
              "</div>"
            ],
            "text/plain": [
              "                                          reviewText                label\n",
              "0  A great cd, all gang-smoke songs the best of t...        Digital Music\n",
              "1  It would be awesome if they would release this...        CDs and Vinyl\n",
              "2  Got one of these mounted in my vehicle. Seems ...           Automotive\n",
              "3  I got tired of using the old style staple remo...      Office Products\n",
              "4  I've been using Ableton for 4 years and it nev...  Musical Instruments"
            ]
          },
          "metadata": {
            "tags": []
          },
          "execution_count": 22
        }
      ]
    },
    {
      "cell_type": "code",
      "metadata": {
        "colab_type": "code",
        "id": "Cm6KWbuh95tX",
        "colab": {}
      },
      "source": [
        "LASER = os.environ['LASER']\n",
        "FASTBPE = LASER + '/tools-external/fastBPE/fast'\n",
        "MOSES_BDIR = LASER + '/tools-external/moses-tokenizer/tokenizer/'\n",
        "MOSES_TOKENIZER = MOSES_BDIR + 'tokenizer.perl -q -no-escape -threads 20 -l '\n",
        "MOSES_LC = MOSES_BDIR + 'lowercase.perl'\n",
        "NORM_PUNC = MOSES_BDIR + 'normalize-punctuation.perl -l '\n",
        "DESCAPE = MOSES_BDIR + 'deescape-special-chars.perl'\n",
        "REM_NON_PRINT_CHAR = MOSES_BDIR + 'remove-non-printing-char.perl'\n",
        "MECAB = LASER + '/tools-external/mecab'"
      ],
      "execution_count": 0,
      "outputs": []
    },
    {
      "cell_type": "code",
      "metadata": {
        "colab_type": "code",
        "id": "h9sXKsW1M9Xt",
        "colab": {}
      },
      "source": [
        "from subprocess import check_output\n",
        "def sample_token(string_val, lang='en'):\n",
        "    tok = check_output(\n",
        "                REM_NON_PRINT_CHAR\n",
        "                + '|' + NORM_PUNC + lang\n",
        "                + '|' + DESCAPE\n",
        "                + '|' + MOSES_TOKENIZER + lang\n",
        "                + ('| python3 -m jieba -d ' if lang == 'zh' else '')\n",
        "                + ('|' + MECAB + '/bin/mecab -O wakati -b 50000 ' if lang == 'ja' else ''),\n",
        "                input=string_val,\n",
        "                encoding='UTF-8',\n",
        "                shell=True)\n",
        "    return tok.strip()"
      ],
      "execution_count": 0,
      "outputs": []
    },
    {
      "cell_type": "code",
      "metadata": {
        "colab_type": "code",
        "id": "faPNpMFclPpq",
        "colab": {}
      },
      "source": [
        "index = input_data.reviewText.isnull()==True\n",
        "samp = index[index==True]\n",
        "input_data = input_data.drop(samp.index)"
      ],
      "execution_count": 0,
      "outputs": []
    },
    {
      "cell_type": "code",
      "metadata": {
        "colab_type": "code",
        "id": "KID-p2ZpvZP9",
        "outputId": "ce71eb12-5ef0-400e-8f32-344a2c2c6745",
        "colab": {
          "base_uri": "https://localhost:8080/",
          "height": 34
        }
      },
      "source": [
        "input_data.reviewText.isnull().sum() #Value should be always zero"
      ],
      "execution_count": 0,
      "outputs": [
        {
          "output_type": "execute_result",
          "data": {
            "text/plain": [
              "0"
            ]
          },
          "metadata": {
            "tags": []
          },
          "execution_count": 26
        }
      ]
    },
    {
      "cell_type": "code",
      "metadata": {
        "colab_type": "code",
        "id": "zmGwWzJZNkwZ",
        "colab": {}
      },
      "source": [
        "input_data['tokenized_review'] = input_data.reviewText.apply(sample_token)"
      ],
      "execution_count": 0,
      "outputs": []
    },
    {
      "cell_type": "code",
      "metadata": {
        "id": "jyGL40Qeizzi",
        "colab_type": "code",
        "outputId": "1fd5d7ef-ba9b-4656-efdd-64bfcbc4402e",
        "colab": {
          "base_uri": "https://localhost:8080/",
          "height": 195
        }
      },
      "source": [
        "input_data.head()"
      ],
      "execution_count": 0,
      "outputs": [
        {
          "output_type": "execute_result",
          "data": {
            "text/html": [
              "<div>\n",
              "<style scoped>\n",
              "    .dataframe tbody tr th:only-of-type {\n",
              "        vertical-align: middle;\n",
              "    }\n",
              "\n",
              "    .dataframe tbody tr th {\n",
              "        vertical-align: top;\n",
              "    }\n",
              "\n",
              "    .dataframe thead th {\n",
              "        text-align: right;\n",
              "    }\n",
              "</style>\n",
              "<table border=\"1\" class=\"dataframe\">\n",
              "  <thead>\n",
              "    <tr style=\"text-align: right;\">\n",
              "      <th></th>\n",
              "      <th>reviewText</th>\n",
              "      <th>label</th>\n",
              "      <th>tokenized_review</th>\n",
              "    </tr>\n",
              "  </thead>\n",
              "  <tbody>\n",
              "    <tr>\n",
              "      <th>0</th>\n",
              "      <td>A great cd, all gang-smoke songs the best of t...</td>\n",
              "      <td>Digital Music</td>\n",
              "      <td>A great cd , all gang-smoke songs the best of ...</td>\n",
              "    </tr>\n",
              "    <tr>\n",
              "      <th>1</th>\n",
              "      <td>It would be awesome if they would release this...</td>\n",
              "      <td>CDs and Vinyl</td>\n",
              "      <td>It would be awesome if they would release this...</td>\n",
              "    </tr>\n",
              "    <tr>\n",
              "      <th>2</th>\n",
              "      <td>Got one of these mounted in my vehicle. Seems ...</td>\n",
              "      <td>Automotive</td>\n",
              "      <td>Got one of these mounted in my vehicle . Seems...</td>\n",
              "    </tr>\n",
              "    <tr>\n",
              "      <th>3</th>\n",
              "      <td>I got tired of using the old style staple remo...</td>\n",
              "      <td>Office Products</td>\n",
              "      <td>I got tired of using the old style staple remo...</td>\n",
              "    </tr>\n",
              "    <tr>\n",
              "      <th>4</th>\n",
              "      <td>I've been using Ableton for 4 years and it nev...</td>\n",
              "      <td>Musical Instruments</td>\n",
              "      <td>I 've been using Ableton for 4 years and it ne...</td>\n",
              "    </tr>\n",
              "  </tbody>\n",
              "</table>\n",
              "</div>"
            ],
            "text/plain": [
              "                                          reviewText  ...                                   tokenized_review\n",
              "0  A great cd, all gang-smoke songs the best of t...  ...  A great cd , all gang-smoke songs the best of ...\n",
              "1  It would be awesome if they would release this...  ...  It would be awesome if they would release this...\n",
              "2  Got one of these mounted in my vehicle. Seems ...  ...  Got one of these mounted in my vehicle . Seems...\n",
              "3  I got tired of using the old style staple remo...  ...  I got tired of using the old style staple remo...\n",
              "4  I've been using Ableton for 4 years and it nev...  ...  I 've been using Ableton for 4 years and it ne...\n",
              "\n",
              "[5 rows x 3 columns]"
            ]
          },
          "metadata": {
            "tags": []
          },
          "execution_count": 28
        }
      ]
    },
    {
      "cell_type": "code",
      "metadata": {
        "colab_type": "code",
        "id": "sPBpVwpGROPc",
        "colab": {}
      },
      "source": [
        "bpe_codes = './LASER/models/93langs.fcodes'\n",
        "bpe_vocab = bpe_codes.replace('fcodes', 'fvocab')\n",
        "\n",
        "\n",
        "def apply_bpe(sentence):\n",
        "  sentence = sentence.replace('\\\\',\"\")\n",
        "  sentence = sentence.replace('\"','\\\\\"')\n",
        "  # Get hold of multiple sentences that we are expected to have\n",
        "  multiple_sentences = [sentences for sentences in sentence.split(\".\") if sentences] #ie length >0\n",
        "  final_bpe = []\n",
        "  for review_sentence in multiple_sentences:\n",
        "      bpe = check_output(\n",
        "      'echo -n \"'+review_sentence +'\" | '+ FASTBPE + ' applybpe_stream '+  bpe_codes +' '+bpe_vocab,\n",
        "      encoding='UTF-8',\n",
        "      shell=True)\n",
        "      \n",
        "      final_bpe.append(bpe.strip())\n",
        "  \n",
        "  return final_bpe"
      ],
      "execution_count": 0,
      "outputs": []
    },
    {
      "cell_type": "code",
      "metadata": {
        "id": "Tj-QHIFbVSxd",
        "colab_type": "code",
        "colab": {}
      },
      "source": [
        "bpe_codes = './LASER/models/93langs.fcodes'\n",
        "bpe_vocab = bpe_codes.replace('fcodes', 'fvocab')\n",
        "\n",
        "\n",
        "def apply_bpe_legacy(sentence):\n",
        "  sentence = sentence.replace('\\\\',\"\")\n",
        "  sentence = sentence.replace('\"','\\\\\"')\n",
        "  # Get hold of multiple sentences that we are expected to have\n",
        "  bpe = check_output(\n",
        "          'echo -n \"'+sentence +'\" | '+ FASTBPE + ' applybpe_stream '+  bpe_codes +' '+bpe_vocab,\n",
        "           encoding='UTF-8',\n",
        "           shell=True)\n",
        "      \n",
        "  return bpe.strip()\n",
        "  "
      ],
      "execution_count": 0,
      "outputs": []
    },
    {
      "cell_type": "code",
      "metadata": {
        "id": "N1Raq48oDvz0",
        "colab_type": "code",
        "outputId": "3843066a-526b-4a1c-8bf1-dc609e703888",
        "colab": {
          "base_uri": "https://localhost:8080/",
          "height": 34
        }
      },
      "source": [
        "%pwd"
      ],
      "execution_count": 0,
      "outputs": [
        {
          "output_type": "execute_result",
          "data": {
            "text/plain": [
              "'/content/LASER/tasks/similarity'"
            ]
          },
          "metadata": {
            "tags": []
          },
          "execution_count": 30
        }
      ]
    },
    {
      "cell_type": "code",
      "metadata": {
        "id": "Oq41BnItrj-7",
        "colab_type": "code",
        "outputId": "181b52b2-274c-4766-9298-9e300f562ad2",
        "colab": {
          "base_uri": "https://localhost:8080/",
          "height": 195
        }
      },
      "source": [
        "input_data.head()"
      ],
      "execution_count": 0,
      "outputs": [
        {
          "output_type": "execute_result",
          "data": {
            "text/html": [
              "<div>\n",
              "<style scoped>\n",
              "    .dataframe tbody tr th:only-of-type {\n",
              "        vertical-align: middle;\n",
              "    }\n",
              "\n",
              "    .dataframe tbody tr th {\n",
              "        vertical-align: top;\n",
              "    }\n",
              "\n",
              "    .dataframe thead th {\n",
              "        text-align: right;\n",
              "    }\n",
              "</style>\n",
              "<table border=\"1\" class=\"dataframe\">\n",
              "  <thead>\n",
              "    <tr style=\"text-align: right;\">\n",
              "      <th></th>\n",
              "      <th>reviewText</th>\n",
              "      <th>label</th>\n",
              "      <th>tokenized_review</th>\n",
              "    </tr>\n",
              "  </thead>\n",
              "  <tbody>\n",
              "    <tr>\n",
              "      <th>0</th>\n",
              "      <td>A great cd, all gang-smoke songs the best of t...</td>\n",
              "      <td>Digital Music</td>\n",
              "      <td>A great cd , all gang-smoke songs the best of ...</td>\n",
              "    </tr>\n",
              "    <tr>\n",
              "      <th>1</th>\n",
              "      <td>It would be awesome if they would release this...</td>\n",
              "      <td>CDs and Vinyl</td>\n",
              "      <td>It would be awesome if they would release this...</td>\n",
              "    </tr>\n",
              "    <tr>\n",
              "      <th>2</th>\n",
              "      <td>Got one of these mounted in my vehicle. Seems ...</td>\n",
              "      <td>Automotive</td>\n",
              "      <td>Got one of these mounted in my vehicle . Seems...</td>\n",
              "    </tr>\n",
              "    <tr>\n",
              "      <th>3</th>\n",
              "      <td>I got tired of using the old style staple remo...</td>\n",
              "      <td>Office Products</td>\n",
              "      <td>I got tired of using the old style staple remo...</td>\n",
              "    </tr>\n",
              "    <tr>\n",
              "      <th>4</th>\n",
              "      <td>I've been using Ableton for 4 years and it nev...</td>\n",
              "      <td>Musical Instruments</td>\n",
              "      <td>I 've been using Ableton for 4 years and it ne...</td>\n",
              "    </tr>\n",
              "  </tbody>\n",
              "</table>\n",
              "</div>"
            ],
            "text/plain": [
              "                                          reviewText  ...                                   tokenized_review\n",
              "0  A great cd, all gang-smoke songs the best of t...  ...  A great cd , all gang-smoke songs the best of ...\n",
              "1  It would be awesome if they would release this...  ...  It would be awesome if they would release this...\n",
              "2  Got one of these mounted in my vehicle. Seems ...  ...  Got one of these mounted in my vehicle . Seems...\n",
              "3  I got tired of using the old style staple remo...  ...  I got tired of using the old style staple remo...\n",
              "4  I've been using Ableton for 4 years and it nev...  ...  I 've been using Ableton for 4 years and it ne...\n",
              "\n",
              "[5 rows x 3 columns]"
            ]
          },
          "metadata": {
            "tags": []
          },
          "execution_count": 33
        }
      ]
    },
    {
      "cell_type": "code",
      "metadata": {
        "colab_type": "code",
        "id": "qHVv21bCcIXf",
        "colab": {}
      },
      "source": [
        "input_data['tokenized_review_bpe'] = input_data.tokenized_review.apply(apply_bpe)"
      ],
      "execution_count": 0,
      "outputs": []
    },
    {
      "cell_type": "markdown",
      "metadata": {
        "id": "337IN5j-5PHL",
        "colab_type": "text"
      },
      "source": [
        "# Change the file name below"
      ]
    },
    {
      "cell_type": "code",
      "metadata": {
        "id": "fMwG_6gQvfvu",
        "colab_type": "code",
        "colab": {}
      },
      "source": [
        "input_data.to_csv('/gdrive/My Drive/data_46000_to_69000_tokenized.csv')"
      ],
      "execution_count": 0,
      "outputs": []
    },
    {
      "cell_type": "markdown",
      "metadata": {
        "id": "oxeYBZPLksbH",
        "colab_type": "text"
      },
      "source": [
        "# These are the changes just to see the saving properly"
      ]
    },
    {
      "cell_type": "code",
      "metadata": {
        "colab_type": "code",
        "id": "zg4kEhpSJ8Re",
        "outputId": "7f2b2b5a-f8be-4d63-8376-9e37718cf1db",
        "colab": {
          "base_uri": "https://localhost:8080/",
          "height": 34
        }
      },
      "source": [
        "import pandas as pd\n",
        "% cd /content/\n",
        "input_data = pd.read_csv('./preprocessed_output.csv', index_col=0)"
      ],
      "execution_count": 0,
      "outputs": [
        {
          "output_type": "stream",
          "text": [
            "/content\n"
          ],
          "name": "stdout"
        }
      ]
    },
    {
      "cell_type": "code",
      "metadata": {
        "id": "mp1ji-J0lRLH",
        "colab_type": "code",
        "outputId": "f73f762a-5c65-4a33-cd3d-9640fa8680cc",
        "colab": {
          "base_uri": "https://localhost:8080/",
          "height": 551
        }
      },
      "source": [
        "input_data.head()"
      ],
      "execution_count": 0,
      "outputs": [
        {
          "output_type": "execute_result",
          "data": {
            "text/html": [
              "<div>\n",
              "<style scoped>\n",
              "    .dataframe tbody tr th:only-of-type {\n",
              "        vertical-align: middle;\n",
              "    }\n",
              "\n",
              "    .dataframe tbody tr th {\n",
              "        vertical-align: top;\n",
              "    }\n",
              "\n",
              "    .dataframe thead th {\n",
              "        text-align: right;\n",
              "    }\n",
              "</style>\n",
              "<table border=\"1\" class=\"dataframe\">\n",
              "  <thead>\n",
              "    <tr style=\"text-align: right;\">\n",
              "      <th></th>\n",
              "      <th>reviewerID</th>\n",
              "      <th>asin</th>\n",
              "      <th>reviewerName</th>\n",
              "      <th>helpful</th>\n",
              "      <th>reviewText</th>\n",
              "      <th>overall</th>\n",
              "      <th>summary</th>\n",
              "      <th>unixReviewTime</th>\n",
              "      <th>reviewTime</th>\n",
              "      <th>label</th>\n",
              "      <th>tokenized_review</th>\n",
              "      <th>tokenized_review_bpe</th>\n",
              "      <th>labels_encoded</th>\n",
              "    </tr>\n",
              "  </thead>\n",
              "  <tbody>\n",
              "    <tr>\n",
              "      <th>0</th>\n",
              "      <td>A1VXOAVRGKGEAK</td>\n",
              "      <td>439893577</td>\n",
              "      <td>Angie</td>\n",
              "      <td>[0, 0]</td>\n",
              "      <td>I like the item pricing. My granddaughter want...</td>\n",
              "      <td>5</td>\n",
              "      <td>Magnetic board</td>\n",
              "      <td>1390953600</td>\n",
              "      <td>01 29, 2014</td>\n",
              "      <td>Toys_and_Games</td>\n",
              "      <td>I like the item pricing . My granddaughter wan...</td>\n",
              "      <td>I like the item pri@@ cing . M@@ y grand@@ dau...</td>\n",
              "      <td>21</td>\n",
              "    </tr>\n",
              "    <tr>\n",
              "      <th>1</th>\n",
              "      <td>A8R62G708TSCM</td>\n",
              "      <td>439893577</td>\n",
              "      <td>Candace</td>\n",
              "      <td>[1, 1]</td>\n",
              "      <td>Love the magnet easel... great for moving to d...</td>\n",
              "      <td>4</td>\n",
              "      <td>it works pretty good for moving to different a...</td>\n",
              "      <td>1395964800</td>\n",
              "      <td>03 28, 2014</td>\n",
              "      <td>Toys_and_Games</td>\n",
              "      <td>Love the magnet easel ... great for moving to ...</td>\n",
              "      <td>L@@ ove the magn@@ et ea@@ sel ... great for m...</td>\n",
              "      <td>21</td>\n",
              "    </tr>\n",
              "    <tr>\n",
              "      <th>2</th>\n",
              "      <td>A21KH420DK0ICA</td>\n",
              "      <td>439893577</td>\n",
              "      <td>capemaychristy</td>\n",
              "      <td>[1, 1]</td>\n",
              "      <td>Both sides are magnetic.  A real plus when you...</td>\n",
              "      <td>5</td>\n",
              "      <td>love this!</td>\n",
              "      <td>1359331200</td>\n",
              "      <td>01 28, 2013</td>\n",
              "      <td>Toys_and_Games</td>\n",
              "      <td>Both sides are magnetic . A real plus when you...</td>\n",
              "      <td>B@@ ot@@ h sides are mag@@ ne@@ tic . A real p...</td>\n",
              "      <td>21</td>\n",
              "    </tr>\n",
              "    <tr>\n",
              "      <th>3</th>\n",
              "      <td>AR29QK6HPFYZ4</td>\n",
              "      <td>439893577</td>\n",
              "      <td>dcrm</td>\n",
              "      <td>[0, 0]</td>\n",
              "      <td>Bought one a few years ago for my daughter and...</td>\n",
              "      <td>5</td>\n",
              "      <td>Daughters love it</td>\n",
              "      <td>1391817600</td>\n",
              "      <td>02 8, 2014</td>\n",
              "      <td>Toys_and_Games</td>\n",
              "      <td>Bought one a few years ago for my daughter and...</td>\n",
              "      <td>B@@ ought one a few years ago for my dau@@ ght...</td>\n",
              "      <td>21</td>\n",
              "    </tr>\n",
              "    <tr>\n",
              "      <th>4</th>\n",
              "      <td>ACCH8EOML6FN5</td>\n",
              "      <td>439893577</td>\n",
              "      <td>DoyZ</td>\n",
              "      <td>[1, 1]</td>\n",
              "      <td>I have a stainless steel refrigerator therefor...</td>\n",
              "      <td>4</td>\n",
              "      <td>Great to have so he can play with his alphabet...</td>\n",
              "      <td>1399248000</td>\n",
              "      <td>05 5, 2014</td>\n",
              "      <td>Toys_and_Games</td>\n",
              "      <td>I have a stainless steel refrigerator therefor...</td>\n",
              "      <td>I have a sta@@ in@@ less ste@@ el re@@ fri@@ g...</td>\n",
              "      <td>21</td>\n",
              "    </tr>\n",
              "  </tbody>\n",
              "</table>\n",
              "</div>"
            ],
            "text/plain": [
              "       reviewerID  ... labels_encoded\n",
              "0  A1VXOAVRGKGEAK  ...             21\n",
              "1   A8R62G708TSCM  ...             21\n",
              "2  A21KH420DK0ICA  ...             21\n",
              "3   AR29QK6HPFYZ4  ...             21\n",
              "4   ACCH8EOML6FN5  ...             21\n",
              "\n",
              "[5 rows x 13 columns]"
            ]
          },
          "metadata": {
            "tags": []
          },
          "execution_count": 19
        }
      ]
    },
    {
      "cell_type": "code",
      "metadata": {
        "id": "I0KRZKu2lk3b",
        "colab_type": "code",
        "colab": {}
      },
      "source": [
        ""
      ],
      "execution_count": 0,
      "outputs": []
    },
    {
      "cell_type": "code",
      "metadata": {
        "colab_type": "code",
        "id": "uDG6vLzdS5ho",
        "colab": {}
      },
      "source": [
        "# Because of the nature in which LASER tends to perform encoding we have to do this extra tweek\n",
        "def to_list(element):\n",
        "  return [element]"
      ],
      "execution_count": 0,
      "outputs": []
    },
    {
      "cell_type": "code",
      "metadata": {
        "colab_type": "code",
        "id": "3UmjrdiMS5h-",
        "colab": {}
      },
      "source": [
        "input_data['tokenized_review_bpe_list'] = input_data.tokenized_review_bpe.apply(to_list)\n"
      ],
      "execution_count": 0,
      "outputs": []
    },
    {
      "cell_type": "code",
      "metadata": {
        "colab_type": "code",
        "outputId": "ecdbedc5-5903-4edf-ab30-ca41dc4e68c0",
        "id": "YAN8XLWwS5iC",
        "colab": {
          "base_uri": "https://localhost:8080/",
          "height": 185
        }
      },
      "source": [
        "from pandas import Series\n",
        "\n",
        "def progress_coroutine(print_on = 10):\n",
        "    print (\"Starting progress monitor\")\n",
        "\n",
        "    iterations = 0\n",
        "    while True:\n",
        "        yield\n",
        "        iterations += 1\n",
        "        if (iterations % print_on == 0):\n",
        "            print (\"{} iterations done\".format(iterations))\n",
        "\n",
        "def percentage_coroutine(to_process, print_on_percent = 0.10):\n",
        "    print (\"Starting progress percentage monitor\")\n",
        "\n",
        "    processed = 0\n",
        "    count = 0\n",
        "    print_count = to_process*print_on_percent\n",
        "    while True:\n",
        "        yield\n",
        "        processed += 1\n",
        "        count += 1\n",
        "        if (count >= print_count):\n",
        "            count = 0\n",
        "            pct = (float(processed)/float(to_process))*100\n",
        "\n",
        "            print (\"{}% finished\".format(pct))\n",
        "\n",
        "def trace_progress(func, progress = None):\n",
        "    def callf(*args, **kwargs):\n",
        "        if (progress is not None):\n",
        "            progress.send(None)\n",
        "\n",
        "        return func(*args, **kwargs)\n",
        "\n",
        "    return callf\n",
        "\n",
        "def my_func(i):\n",
        "    return i ** 2\n",
        "\n",
        "data_series = input_data.tokenized_review_bpe_list\n",
        "co1 = progress_coroutine()\n",
        "co2 = percentage_coroutine(len(data_series))\n",
        "input_data['sentence_embedding'] = data_series.apply(trace_progress(sentence_encoder.encode_sentences, progress = co2))"
      ],
      "execution_count": 0,
      "outputs": [
        {
          "output_type": "stream",
          "text": [
            "Starting progress percentage monitor\n",
            "10.004349717268378% finished\n",
            "20.008699434536755% finished\n",
            "30.01304915180513% finished\n",
            "40.01739886907351% finished\n",
            "50.021748586341886% finished\n",
            "60.02609830361026% finished\n",
            "70.03044802087864% finished\n",
            "80.03479773814702% finished\n",
            "90.0391474554154% finished\n"
          ],
          "name": "stdout"
        }
      ]
    },
    {
      "cell_type": "code",
      "metadata": {
        "colab_type": "code",
        "outputId": "c7fbfb4f-5308-4022-db43-9f0267aa9b27",
        "id": "FW6_Ssr3S5iM",
        "colab": {
          "base_uri": "https://localhost:8080/",
          "height": 34
        }
      },
      "source": [
        "# The value should be True\n",
        "len(input_data.sentence_embedding.iloc[0]) == 1 "
      ],
      "execution_count": 0,
      "outputs": [
        {
          "output_type": "execute_result",
          "data": {
            "text/plain": [
              "True"
            ]
          },
          "metadata": {
            "tags": []
          },
          "execution_count": 24
        }
      ]
    },
    {
      "cell_type": "code",
      "metadata": {
        "id": "VhwuPaxRlkyw",
        "colab_type": "code",
        "outputId": "13bd877e-f063-4e34-8d23-a1502e32f09b",
        "colab": {
          "base_uri": "https://localhost:8080/",
          "height": 195
        }
      },
      "source": [
        "# We used this here: https://stackoverflow.com/questions/45846189/how-to-delete-all-columns-in-dataframe-except-certain-ones\n",
        "input_data = input_data[['sentence_embedding','labels_encoded']]\n",
        "input_data.head()"
      ],
      "execution_count": 0,
      "outputs": [
        {
          "output_type": "execute_result",
          "data": {
            "text/html": [
              "<div>\n",
              "<style scoped>\n",
              "    .dataframe tbody tr th:only-of-type {\n",
              "        vertical-align: middle;\n",
              "    }\n",
              "\n",
              "    .dataframe tbody tr th {\n",
              "        vertical-align: top;\n",
              "    }\n",
              "\n",
              "    .dataframe thead th {\n",
              "        text-align: right;\n",
              "    }\n",
              "</style>\n",
              "<table border=\"1\" class=\"dataframe\">\n",
              "  <thead>\n",
              "    <tr style=\"text-align: right;\">\n",
              "      <th></th>\n",
              "      <th>sentence_embedding</th>\n",
              "      <th>labels_encoded</th>\n",
              "    </tr>\n",
              "  </thead>\n",
              "  <tbody>\n",
              "    <tr>\n",
              "      <th>0</th>\n",
              "      <td>[[0.009863429, -4.1575836e-06, 0.008913217, 0....</td>\n",
              "      <td>21</td>\n",
              "    </tr>\n",
              "    <tr>\n",
              "      <th>1</th>\n",
              "      <td>[[0.039715618, -1.4197368e-05, 0.017486058, 0....</td>\n",
              "      <td>21</td>\n",
              "    </tr>\n",
              "    <tr>\n",
              "      <th>2</th>\n",
              "      <td>[[0.012652903, -2.9125708e-06, 0.0009350272, 0...</td>\n",
              "      <td>21</td>\n",
              "    </tr>\n",
              "    <tr>\n",
              "      <th>3</th>\n",
              "      <td>[[0.014141707, -1.0407556e-05, 0.00032491196, ...</td>\n",
              "      <td>21</td>\n",
              "    </tr>\n",
              "    <tr>\n",
              "      <th>4</th>\n",
              "      <td>[[0.0115525685, 0.0019211376, 0.008262169, 0.0...</td>\n",
              "      <td>21</td>\n",
              "    </tr>\n",
              "  </tbody>\n",
              "</table>\n",
              "</div>"
            ],
            "text/plain": [
              "                                  sentence_embedding  labels_encoded\n",
              "0  [[0.009863429, -4.1575836e-06, 0.008913217, 0....              21\n",
              "1  [[0.039715618, -1.4197368e-05, 0.017486058, 0....              21\n",
              "2  [[0.012652903, -2.9125708e-06, 0.0009350272, 0...              21\n",
              "3  [[0.014141707, -1.0407556e-05, 0.00032491196, ...              21\n",
              "4  [[0.0115525685, 0.0019211376, 0.008262169, 0.0...              21"
            ]
          },
          "metadata": {
            "tags": []
          },
          "execution_count": 25
        }
      ]
    },
    {
      "cell_type": "code",
      "metadata": {
        "id": "aVay-66slkv8",
        "colab_type": "code",
        "colab": {}
      },
      "source": [
        "input_data.to_pickle('./pickle_data')"
      ],
      "execution_count": 0,
      "outputs": []
    },
    {
      "cell_type": "code",
      "metadata": {
        "id": "o9DFx5mUnkDe",
        "colab_type": "code",
        "colab": {}
      },
      "source": [
        "# Now hopefuly reading looks good as well\n",
        "input_new = pd.read_pickle('./pickle_data')"
      ],
      "execution_count": 0,
      "outputs": []
    },
    {
      "cell_type": "code",
      "metadata": {
        "id": "Ajg7FXMlqbTw",
        "colab_type": "code",
        "outputId": "b3d63e87-981f-4b7b-a3e0-d84ccea0dc62",
        "colab": {
          "base_uri": "https://localhost:8080/",
          "height": 195
        }
      },
      "source": [
        "input_new.head()"
      ],
      "execution_count": 0,
      "outputs": [
        {
          "output_type": "execute_result",
          "data": {
            "text/html": [
              "<div>\n",
              "<style scoped>\n",
              "    .dataframe tbody tr th:only-of-type {\n",
              "        vertical-align: middle;\n",
              "    }\n",
              "\n",
              "    .dataframe tbody tr th {\n",
              "        vertical-align: top;\n",
              "    }\n",
              "\n",
              "    .dataframe thead th {\n",
              "        text-align: right;\n",
              "    }\n",
              "</style>\n",
              "<table border=\"1\" class=\"dataframe\">\n",
              "  <thead>\n",
              "    <tr style=\"text-align: right;\">\n",
              "      <th></th>\n",
              "      <th>sentence_embedding</th>\n",
              "      <th>labels_encoded</th>\n",
              "    </tr>\n",
              "  </thead>\n",
              "  <tbody>\n",
              "    <tr>\n",
              "      <th>0</th>\n",
              "      <td>[[0.009863429, -4.1575836e-06, 0.008913217, 0....</td>\n",
              "      <td>21</td>\n",
              "    </tr>\n",
              "    <tr>\n",
              "      <th>1</th>\n",
              "      <td>[[0.039715618, -1.4197368e-05, 0.017486058, 0....</td>\n",
              "      <td>21</td>\n",
              "    </tr>\n",
              "    <tr>\n",
              "      <th>2</th>\n",
              "      <td>[[0.012652903, -2.9125708e-06, 0.0009350272, 0...</td>\n",
              "      <td>21</td>\n",
              "    </tr>\n",
              "    <tr>\n",
              "      <th>3</th>\n",
              "      <td>[[0.014141707, -1.0407556e-05, 0.00032491196, ...</td>\n",
              "      <td>21</td>\n",
              "    </tr>\n",
              "    <tr>\n",
              "      <th>4</th>\n",
              "      <td>[[0.0115525685, 0.0019211376, 0.008262169, 0.0...</td>\n",
              "      <td>21</td>\n",
              "    </tr>\n",
              "  </tbody>\n",
              "</table>\n",
              "</div>"
            ],
            "text/plain": [
              "                                  sentence_embedding  labels_encoded\n",
              "0  [[0.009863429, -4.1575836e-06, 0.008913217, 0....              21\n",
              "1  [[0.039715618, -1.4197368e-05, 0.017486058, 0....              21\n",
              "2  [[0.012652903, -2.9125708e-06, 0.0009350272, 0...              21\n",
              "3  [[0.014141707, -1.0407556e-05, 0.00032491196, ...              21\n",
              "4  [[0.0115525685, 0.0019211376, 0.008262169, 0.0...              21"
            ]
          },
          "metadata": {
            "tags": []
          },
          "execution_count": 37
        }
      ]
    },
    {
      "cell_type": "code",
      "metadata": {
        "id": "qembKcmXnxzH",
        "colab_type": "code",
        "outputId": "f6bd9020-e7dc-42f5-9899-7f0c6558674b",
        "colab": {
          "base_uri": "https://localhost:8080/",
          "height": 34
        }
      },
      "source": [
        "(input_new.labels_encoded != input_data.labels_encoded).sum()"
      ],
      "execution_count": 0,
      "outputs": [
        {
          "output_type": "execute_result",
          "data": {
            "text/plain": [
              "0"
            ]
          },
          "metadata": {
            "tags": []
          },
          "execution_count": 31
        }
      ]
    },
    {
      "cell_type": "code",
      "metadata": {
        "id": "3OpSomecoe3M",
        "colab_type": "code",
        "outputId": "ef674d3e-6613-4ee0-8048-9bcaf6988395",
        "colab": {
          "base_uri": "https://localhost:8080/",
          "height": 34
        }
      },
      "source": [
        "import numpy as np\n",
        "def check_equality(np_array1, np_array2):\n",
        "  return np.array_equal(np_array1, np_array2)\n",
        "\n",
        "def check_similarity(series1, series2):\n",
        "  \"\"\"\n",
        "    This is really really shitty way of doing the process but let us do it anyways\n",
        "  \"\"\"\n",
        "  if len(series1) != len(series2):\n",
        "    return False\n",
        "  for idx in range(len(series1)):\n",
        "    if not check_equality(series1.iloc[idx], series2.iloc[idx]):\n",
        "      return false\n",
        "  return True\n",
        "    \n",
        "print(check_similarity(input_data.sentence_embedding,input_new.sentence_embedding ))"
      ],
      "execution_count": 0,
      "outputs": [
        {
          "output_type": "stream",
          "text": [
            "True\n"
          ],
          "name": "stdout"
        }
      ]
    },
    {
      "cell_type": "markdown",
      "metadata": {
        "id": "WcIWGhu7dts-",
        "colab_type": "text"
      },
      "source": [
        "# Test Section to be used later"
      ]
    },
    {
      "cell_type": "code",
      "metadata": {
        "id": "MYIrbJdcd1Hz",
        "colab_type": "code",
        "colab": {}
      },
      "source": [
        "from subprocess import check_output\n",
        "def sample_token_de(string_val, lang='de'):\n",
        "    tok = check_output(\n",
        "                REM_NON_PRINT_CHAR\n",
        "                + '|' + NORM_PUNC + lang\n",
        "                + '|' + DESCAPE\n",
        "                + '|' + MOSES_TOKENIZER + lang\n",
        "                + ('| python3 -m jieba -d ' if lang == 'zh' else '')\n",
        "                + ('|' + MECAB + '/bin/mecab -O wakati -b 50000 ' if lang == 'ja' else ''),\n",
        "                input=string_val,\n",
        "                encoding='UTF-8',\n",
        "                shell=True)\n",
        "    return tok.strip()"
      ],
      "execution_count": 0,
      "outputs": []
    },
    {
      "cell_type": "code",
      "metadata": {
        "id": "0Vadn4-oeIbP",
        "colab_type": "code",
        "colab": {}
      },
      "source": [
        "sample_sentence_en = \"If you are reading this review it probably means you are a poor, unfortunate sole that was smart enough to get into to law school but not smart enough to get out. Now it is mere weeks before your Property final and you are freaking out about the Rule Against Perpetuities. Just buy this. Do it. It's worth wasting another 50 bucks on yet another book. It really is. The examples are actually really helpful, unlike most casebooks.\"\n",
        "sample_sentence_de = \"Wenn Sie diese Rezension lesen, bedeutet dies wahrscheinlich, dass Sie eine arme, unglückliche Sohle sind, die klug genug war, um an die juristische Fakultät zu kommen, aber nicht klug genug, um herauszukommen. Jetzt ist es nur noch wenige Wochen, bis Ihr Eigentum endgültig ist und Sie über die Regel gegen Ewigkeiten ausflippen. Kaufen Sie einfach das. TU es. Es lohnt sich, weitere 50 Dollar für ein weiteres Buch zu verschwenden. Ist es wirklich. Die Beispiele sind im Gegensatz zu den meisten Casebooks wirklich hilfreich.\""
      ],
      "execution_count": 0,
      "outputs": []
    },
    {
      "cell_type": "code",
      "metadata": {
        "id": "AuAxnUzLfGMi",
        "colab_type": "code",
        "colab": {}
      },
      "source": [
        "tok_sentence_en = sample_token(sample_sentence_en)\n",
        "tok_sentence_de = sample_token(sample_sentence_de)"
      ],
      "execution_count": 0,
      "outputs": []
    },
    {
      "cell_type": "code",
      "metadata": {
        "colab_type": "code",
        "id": "sEgQx2HgZml4",
        "outputId": "86b0c41b-8db3-493e-bc32-be7012ca54a4",
        "colab": {
          "base_uri": "https://localhost:8080/",
          "height": 72
        }
      },
      "source": [
        "%cd /content\n",
        "# tok_sentence = '\"love the magnet easel ... \" slow motion me \"great for moving to different areas ... wish it had some sort of non skid pad on bottom though ...'\n",
        "sampl_sentence_tokenized_en = apply_bpe_legacy(tok_sentence_en)\n",
        "sampl_sentence_tokenized_en"
      ],
      "execution_count": 114,
      "outputs": [
        {
          "output_type": "stream",
          "text": [
            "/content\n"
          ],
          "name": "stdout"
        },
        {
          "output_type": "execute_result",
          "data": {
            "text/plain": [
              "\"I@@ f you are reading this review it probably means you are a poor , unfortun@@ ate sole that was smart enough to get into to law school but not smart enough to get out . N@@ o@@ w it is mere weeks before your P@@ ro@@ per@@ ty final and you are fre@@ ak@@ ing out about the R@@ ule A@@ ga@@ inst P@@ er@@ pet@@ ui@@ ties . J@@ ust buy this . D@@ o it . I@@ t 's worth wa@@ sting another 50 bu@@ cks on yet another book . I@@ t really is . T@@ he exam@@ ples are actually really hel@@ p@@ ful , un@@ like most ca@@ se@@ bo@@ oks .\""
            ]
          },
          "metadata": {
            "tags": []
          },
          "execution_count": 114
        }
      ]
    },
    {
      "cell_type": "code",
      "metadata": {
        "id": "LKxyI3WVfd4P",
        "colab_type": "code",
        "colab": {
          "base_uri": "https://localhost:8080/",
          "height": 55
        },
        "outputId": "62f1cd10-1be4-4dea-8c34-7c080ea2b456"
      },
      "source": [
        "sampl_sentence_tokenized_de = apply_bpe_legacy(tok_sentence_en)\n",
        "sampl_sentence_tokenized_de"
      ],
      "execution_count": 115,
      "outputs": [
        {
          "output_type": "execute_result",
          "data": {
            "text/plain": [
              "\"I@@ f you are reading this review it probably means you are a poor , unfortun@@ ate sole that was smart enough to get into to law school but not smart enough to get out . N@@ o@@ w it is mere weeks before your P@@ ro@@ per@@ ty final and you are fre@@ ak@@ ing out about the R@@ ule A@@ ga@@ inst P@@ er@@ pet@@ ui@@ ties . J@@ ust buy this . D@@ o it . I@@ t 's worth wa@@ sting another 50 bu@@ cks on yet another book . I@@ t really is . T@@ he exam@@ ples are actually really hel@@ p@@ ful , un@@ like most ca@@ se@@ bo@@ oks .\""
            ]
          },
          "metadata": {
            "tags": []
          },
          "execution_count": 115
        }
      ]
    },
    {
      "cell_type": "code",
      "metadata": {
        "colab_type": "code",
        "outputId": "4c7b77b5-a3ba-4f6a-adae-6e0ee328e9d1",
        "id": "6QJo7i3nhJxD",
        "colab": {
          "base_uri": "https://localhost:8080/",
          "height": 52
        }
      },
      "source": [
        "output_eng = sentence_encoder.encode_sentences([sampl_sentence_tokenized_en]).squeeze()\n",
        "output_de = sentence_encoder.encode_sentences([sampl_sentence_tokenized_de]).squeeze()\n",
        "# type(samp_df['embed'].values)\n",
        "print(output_eng.shape)\n",
        "print(output_de.shape)"
      ],
      "execution_count": 116,
      "outputs": [
        {
          "output_type": "stream",
          "text": [
            "(1024,)\n",
            "(1024,)\n"
          ],
          "name": "stdout"
        }
      ]
    },
    {
      "cell_type": "code",
      "metadata": {
        "id": "q93d63XWV41I",
        "colab_type": "code",
        "colab": {}
      },
      "source": [
        "from numpy import dot\n",
        "from numpy.linalg import norm\n",
        "\n",
        "def cosine_sim(vector1, vector2):\n",
        "  return dot(vector1, vector2)/(norm(vector1) * norm(vector2))"
      ],
      "execution_count": 0,
      "outputs": []
    },
    {
      "cell_type": "code",
      "metadata": {
        "id": "Vk28FIi9WLS_",
        "colab_type": "code",
        "outputId": "efaf2c36-0bb0-406d-bac1-206940718206",
        "colab": {
          "base_uri": "https://localhost:8080/",
          "height": 35
        }
      },
      "source": [
        "cosine_sim(output_eng, output_de)"
      ],
      "execution_count": 118,
      "outputs": [
        {
          "output_type": "execute_result",
          "data": {
            "text/plain": [
              "1.0000001"
            ]
          },
          "metadata": {
            "tags": []
          },
          "execution_count": 118
        }
      ]
    },
    {
      "cell_type": "code",
      "metadata": {
        "id": "St-FsAfnjo4B",
        "colab_type": "code",
        "colab": {
          "base_uri": "https://localhost:8080/",
          "height": 35
        },
        "outputId": "058b3ce6-b01f-4176-8d70-8aa8aae88c36"
      },
      "source": [
        "from scipy.spatial import distance\n",
        "print(distance.cosine(output_eng,output_de))"
      ],
      "execution_count": 119,
      "outputs": [
        {
          "output_type": "stream",
          "text": [
            "0.0\n"
          ],
          "name": "stdout"
        }
      ]
    },
    {
      "cell_type": "code",
      "metadata": {
        "id": "yBhKxE_RhutZ",
        "colab_type": "code",
        "colab": {
          "base_uri": "https://localhost:8080/",
          "height": 159
        },
        "outputId": "15bb39e7-c531-42a6-b20c-78a4c323bf35"
      },
      "source": [
        "sampl_sentence_tokenized_en = apply_bpe(tok_sentence_en)\n",
        "sampl_sentence_tokenized_en"
      ],
      "execution_count": 120,
      "outputs": [
        {
          "output_type": "execute_result",
          "data": {
            "text/plain": [
              "['I@@ f you are reading this review it probably means you are a poor , unfortun@@ ate sole that was smart enough to get into to law school but not smart enough to get out',\n",
              " 'N@@ o@@ w it is mere weeks before your P@@ ro@@ per@@ ty final and you are fre@@ ak@@ ing out about the R@@ ule A@@ ga@@ inst P@@ er@@ pet@@ ui@@ ties',\n",
              " 'J@@ ust buy this',\n",
              " 'D@@ o it',\n",
              " \"I@@ t 's worth wa@@ sting another 50 bu@@ cks on yet another book\",\n",
              " 'I@@ t really is',\n",
              " 'T@@ he exam@@ ples are actually really hel@@ p@@ ful , un@@ like most ca@@ se@@ bo@@ oks']"
            ]
          },
          "metadata": {
            "tags": []
          },
          "execution_count": 120
        }
      ]
    },
    {
      "cell_type": "code",
      "metadata": {
        "id": "hF8x7gOshuwp",
        "colab_type": "code",
        "colab": {
          "base_uri": "https://localhost:8080/",
          "height": 159
        },
        "outputId": "6440533a-70cd-4e60-e153-3c896b6a9b4d"
      },
      "source": [
        "sampl_sentence_tokenized_de = apply_bpe(tok_sentence_en)\n",
        "sampl_sentence_tokenized_de"
      ],
      "execution_count": 121,
      "outputs": [
        {
          "output_type": "execute_result",
          "data": {
            "text/plain": [
              "['I@@ f you are reading this review it probably means you are a poor , unfortun@@ ate sole that was smart enough to get into to law school but not smart enough to get out',\n",
              " 'N@@ o@@ w it is mere weeks before your P@@ ro@@ per@@ ty final and you are fre@@ ak@@ ing out about the R@@ ule A@@ ga@@ inst P@@ er@@ pet@@ ui@@ ties',\n",
              " 'J@@ ust buy this',\n",
              " 'D@@ o it',\n",
              " \"I@@ t 's worth wa@@ sting another 50 bu@@ cks on yet another book\",\n",
              " 'I@@ t really is',\n",
              " 'T@@ he exam@@ ples are actually really hel@@ p@@ ful , un@@ like most ca@@ se@@ bo@@ oks']"
            ]
          },
          "metadata": {
            "tags": []
          },
          "execution_count": 121
        }
      ]
    },
    {
      "cell_type": "code",
      "metadata": {
        "id": "luoFat8cR__c",
        "colab_type": "code",
        "colab": {}
      },
      "source": [
        "def avergae_embedding_function(sentences):\n",
        "  average_encode = []\n",
        "  for sentence in sentences:\n",
        "      average_encode.append(sentence_encoder.encode_sentences([sentence]))\n",
        "  average_encode_numpy = np.asarray(average_encode).squeeze()\n",
        "#   print(average_encode_numpy.shape)\n",
        "  result = np.mean(average_encode_numpy,axis=0)\n",
        "#   print(result.shape)\n",
        "  return result"
      ],
      "execution_count": 0,
      "outputs": []
    },
    {
      "cell_type": "code",
      "metadata": {
        "id": "Aug73IEFiGtq",
        "colab_type": "code",
        "colab": {
          "base_uri": "https://localhost:8080/",
          "height": 52
        },
        "outputId": "5a0e64fe-7336-4c87-c38b-b8c028dbef01"
      },
      "source": [
        "output_eng_modified = avergae_embedding_function(sampl_sentence_tokenized_en).squeeze()\n",
        "output_de_modified = avergae_embedding_function(sampl_sentence_tokenized_de).squeeze()\n",
        "# type(samp_df['embed'].values)\n",
        "print(output_eng_modified.shape)\n",
        "print(output_de_modified.shape)"
      ],
      "execution_count": 123,
      "outputs": [
        {
          "output_type": "stream",
          "text": [
            "(1024,)\n",
            "(1024,)\n"
          ],
          "name": "stdout"
        }
      ]
    },
    {
      "cell_type": "code",
      "metadata": {
        "id": "WCl6A97LiruB",
        "colab_type": "code",
        "colab": {
          "base_uri": "https://localhost:8080/",
          "height": 35
        },
        "outputId": "c254b054-c0cd-48a1-eeb6-609d4efa9115"
      },
      "source": [
        "cosine_sim(output_eng_modified, output_de_modified)"
      ],
      "execution_count": 124,
      "outputs": [
        {
          "output_type": "execute_result",
          "data": {
            "text/plain": [
              "1.0"
            ]
          },
          "metadata": {
            "tags": []
          },
          "execution_count": 124
        }
      ]
    },
    {
      "cell_type": "code",
      "metadata": {
        "colab_type": "code",
        "outputId": "7b7d927b-4ce7-44a7-ce41-6060564ad7f6",
        "id": "SlTZ8NT5j-8L",
        "colab": {
          "base_uri": "https://localhost:8080/",
          "height": 35
        }
      },
      "source": [
        "from scipy.spatial import distance\n",
        "print(distance.cosine(output_eng_modified, output_de_modified))"
      ],
      "execution_count": 125,
      "outputs": [
        {
          "output_type": "stream",
          "text": [
            "0.0\n"
          ],
          "name": "stdout"
        }
      ]
    },
    {
      "cell_type": "code",
      "metadata": {
        "colab_type": "code",
        "id": "AybYdoghkY0R",
        "colab": {}
      },
      "source": [
        "# import pandas as pd\n",
        "# import numpy as np\n",
        "# #samp_df = pd.DataFrame()\n",
        "# z = dict()\n",
        "# z['input'] = sampl_sentence_tokenized\n",
        "# samp_df = pd.DataFrame.from_dict([z])\n",
        "# # type(z['input'])"
      ],
      "execution_count": 0,
      "outputs": []
    },
    {
      "cell_type": "code",
      "metadata": {
        "id": "BrPVcvT7TjX_",
        "colab_type": "code",
        "colab": {}
      },
      "source": [
        "# samp_df.head() "
      ],
      "execution_count": 0,
      "outputs": []
    },
    {
      "cell_type": "code",
      "metadata": {
        "id": "pFWbiT4mRpZw",
        "colab_type": "code",
        "colab": {}
      },
      "source": [
        "# samp_df['embed'] = samp_df.input.apply(avergae_embedding_function)\n",
        "# output_2 = sentence_encoder.encode_sentences([sampl_sentence_tokenized_legacy])\n",
        "# # type(samp_df['embed'].values)\n",
        "# output_1 = samp_df['embed'].iloc[0]\n",
        "# output_1.shape"
      ],
      "execution_count": 0,
      "outputs": []
    },
    {
      "cell_type": "code",
      "metadata": {
        "id": "qpEojdbGVkkC",
        "colab_type": "code",
        "colab": {}
      },
      "source": [
        "# tok_sentence = '\"love the magnet easel ... \" slow motion me \"great for moving to different areas ... wish it had some sort of non skid pad on bottom though ...'\n",
        "# sampl_sentence_tokenized_legacy = apply_bpe_legacy(tok_sentence)\n",
        "# sampl_sentence_tokenized_legacy"
      ],
      "execution_count": 0,
      "outputs": []
    },
    {
      "cell_type": "code",
      "metadata": {
        "id": "T8AGjEHZbh1P",
        "colab_type": "code",
        "colab": {}
      },
      "source": [
        "# output_2 = output_2.squeeze()\n",
        "# output_2.shape"
      ],
      "execution_count": 0,
      "outputs": []
    },
    {
      "cell_type": "markdown",
      "metadata": {
        "id": "ma4kgjDihu1E",
        "colab_type": "text"
      },
      "source": [
        "# Testing few things on the Network that we trained"
      ]
    },
    {
      "cell_type": "code",
      "metadata": {
        "id": "vbJFhGMaM-A3",
        "colab_type": "code",
        "colab": {}
      },
      "source": [
        "import torch.nn as nn\n",
        "import torch\n",
        "class TripletNetwork(nn.Module):\n",
        "    \n",
        "    def __init__(self):\n",
        "        super(TripletNetwork, self).__init__()\n",
        "\n",
        "        self.input_dim=1024\n",
        "        self.fc = nn.Sequential(nn.Linear(1024, 512),\n",
        "                                  nn.BatchNorm1d(num_features=512),\n",
        "                                  nn.ReLU(),\n",
        "                                  #nn.Dropout(),\n",
        "                                  nn.Linear(512,256),\n",
        "                                  nn.BatchNorm1d(num_features=256),\n",
        "                                  nn.ReLU(),\n",
        "                                  #nn.Dropout(p=0.6),\n",
        "                                  nn.Linear(256,64) #earlier 64\n",
        "                               )\n",
        "       \n",
        "    def forward(self, x1, x2, x3):\n",
        "       \n",
        "        \"\"\"\n",
        "          We updated the network now and are directly getting the sentence embeddings\n",
        "        \"\"\"\n",
        "        # These are the embeddings and what we want to achieve is to make\n",
        "        # these embeddings which should be in the same region denoting their language to\n",
        "        # fall a bit away based on the task at hand\n",
        "        output1 = self.fc(x1.cuda())\n",
        "        output2 = self.fc(x2.cuda())\n",
        "        output3 = self.fc(x3.cuda())\n",
        "        \n",
        "        return (output1, output2, output3)\n",
        "\n",
        "    def get_embedding(self, x):\n",
        "        return self.encoder.encode_sentences(sentences = x)"
      ],
      "execution_count": 0,
      "outputs": []
    },
    {
      "cell_type": "code",
      "metadata": {
        "colab_type": "code",
        "id": "MjSwcL7J0zZm",
        "outputId": "83766692-ac27-4a7c-ad41-126511bc49a4",
        "colab": {
          "base_uri": "https://localhost:8080/",
          "height": 208
        }
      },
      "source": [
        "# Load a pre-existing model \n",
        "PATH = '/content/11-model-GOOD.pth'\n",
        "model = TripletNetwork()\n",
        "model.load_state_dict(torch.load(PATH))\n",
        "model.cuda()\n",
        "model.eval()"
      ],
      "execution_count": 60,
      "outputs": [
        {
          "output_type": "execute_result",
          "data": {
            "text/plain": [
              "TripletNetwork(\n",
              "  (fc): Sequential(\n",
              "    (0): Linear(in_features=1024, out_features=512, bias=True)\n",
              "    (1): BatchNorm1d(512, eps=1e-05, momentum=0.1, affine=True, track_running_stats=True)\n",
              "    (2): ReLU()\n",
              "    (3): Linear(in_features=512, out_features=256, bias=True)\n",
              "    (4): BatchNorm1d(256, eps=1e-05, momentum=0.1, affine=True, track_running_stats=True)\n",
              "    (5): ReLU()\n",
              "    (6): Linear(in_features=256, out_features=64, bias=True)\n",
              "  )\n",
              ")"
            ]
          },
          "metadata": {
            "tags": []
          },
          "execution_count": 60
        }
      ]
    },
    {
      "cell_type": "code",
      "metadata": {
        "id": "7gsGUF3Wkz8V",
        "colab_type": "code",
        "colab": {}
      },
      "source": [
        "embed_triplet_1 = model.fc(torch.from_numpy(output_eng_modified).unsqueeze(0).cuda())\n",
        "embed_triplet_2 = model.fc(torch.from_numpy(output_de_modified).unsqueeze(0).cuda())"
      ],
      "execution_count": 0,
      "outputs": []
    },
    {
      "cell_type": "code",
      "metadata": {
        "id": "ZQ-KdkL4lQC4",
        "colab_type": "code",
        "colab": {
          "base_uri": "https://localhost:8080/",
          "height": 35
        },
        "outputId": "c1737b1f-353d-40f0-aa93-1a9690579aa3"
      },
      "source": [
        "cosine_sim(embed_triplet_1.detach().cpu().numpy().reshape(-1), embed_triplet_2.detach().cpu().numpy().reshape(-1))"
      ],
      "execution_count": 127,
      "outputs": [
        {
          "output_type": "execute_result",
          "data": {
            "text/plain": [
              "1.0"
            ]
          },
          "metadata": {
            "tags": []
          },
          "execution_count": 127
        }
      ]
    },
    {
      "cell_type": "code",
      "metadata": {
        "id": "FRufB-EeqOO3",
        "colab_type": "code",
        "colab": {}
      },
      "source": [
        "embed_triplet_1 = model.fc(torch.from_numpy(output_eng).unsqueeze(0).cuda())\n",
        "embed_triplet_2 = model.fc(torch.from_numpy(output_de).unsqueeze(0).cuda())"
      ],
      "execution_count": 0,
      "outputs": []
    },
    {
      "cell_type": "code",
      "metadata": {
        "id": "riTj5xJVpO0D",
        "colab_type": "code",
        "colab": {
          "base_uri": "https://localhost:8080/",
          "height": 35
        },
        "outputId": "e9e92452-8835-44c3-db72-3173a9d66383"
      },
      "source": [
        "cosine_sim(embed_triplet_1.detach().cpu().numpy().reshape(-1), embed_triplet_2.detach().cpu().numpy().reshape(-1))"
      ],
      "execution_count": 129,
      "outputs": [
        {
          "output_type": "execute_result",
          "data": {
            "text/plain": [
              "1.0000001"
            ]
          },
          "metadata": {
            "tags": []
          },
          "execution_count": 129
        }
      ]
    },
    {
      "cell_type": "code",
      "metadata": {
        "id": "YmQn46MsqWLR",
        "colab_type": "code",
        "colab": {}
      },
      "source": [
        ""
      ],
      "execution_count": 0,
      "outputs": []
    }
  ]
}