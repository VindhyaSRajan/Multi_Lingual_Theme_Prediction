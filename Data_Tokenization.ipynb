{
  "nbformat": 4,
  "nbformat_minor": 0,
  "metadata": {
    "colab": {
      "name": "Data_Tokenization.ipynb",
      "version": "0.3.2",
      "provenance": [],
      "collapsed_sections": [],
      "toc_visible": true,
      "include_colab_link": true
    },
    "language_info": {
      "codemirror_mode": {
        "name": "ipython",
        "version": 3
      },
      "file_extension": ".py",
      "mimetype": "text/x-python",
      "name": "python",
      "nbconvert_exporter": "python",
      "pygments_lexer": "ipython3",
      "version": "3.7.3"
    },
    "kernelspec": {
      "display_name": "Python 3",
      "language": "python",
      "name": "python3"
    },
    "accelerator": "GPU"
  },
  "cells": [
    {
      "cell_type": "markdown",
      "metadata": {
        "id": "view-in-github",
        "colab_type": "text"
      },
      "source": [
        "<a href=\"https://colab.research.google.com/github/chinmay5/NLP-Praktikum/blob/sentence_embedding/Data_Tokenization.ipynb\" target=\"_parent\"><img src=\"https://colab.research.google.com/assets/colab-badge.svg\" alt=\"Open In Colab\"/></a>"
      ]
    },
    {
      "cell_type": "markdown",
      "metadata": {
        "colab_type": "text",
        "id": "_wUDuuzC3knQ"
      },
      "source": [
        "# This is an attempt to include the LASER multi lingual embedding\n"
      ]
    },
    {
      "cell_type": "code",
      "metadata": {
        "colab_type": "code",
        "id": "mngRKDEg3x2h",
        "outputId": "d398a6e0-fe74-4f50-9a60-46fcac8935d0",
        "colab": {
          "base_uri": "https://localhost:8080/",
          "height": 34
        }
      },
      "source": [
        "!git clone https://github.com/ceshine/LASER.git"
      ],
      "execution_count": 1,
      "outputs": [
        {
          "output_type": "stream",
          "text": [
            "fatal: destination path 'LASER' already exists and is not an empty directory.\n"
          ],
          "name": "stdout"
        }
      ]
    },
    {
      "cell_type": "code",
      "metadata": {
        "colab_type": "code",
        "id": "1Akm1QeP4lea",
        "outputId": "edb9d52b-0e98-4317-ac1e-b85ab47f39b1",
        "colab": {
          "base_uri": "https://localhost:8080/",
          "height": 50
        }
      },
      "source": [
        "%env LASER=/content/LASER\n",
        "!echo $LASER"
      ],
      "execution_count": 2,
      "outputs": [
        {
          "output_type": "stream",
          "text": [
            "env: LASER=/content/LASER\n",
            "/content/LASER\n"
          ],
          "name": "stdout"
        }
      ]
    },
    {
      "cell_type": "code",
      "metadata": {
        "colab_type": "code",
        "id": "3KxeDCC74lhZ",
        "outputId": "60e0aabe-7144-4f90-9a17-01266399655a",
        "colab": {
          "base_uri": "https://localhost:8080/",
          "height": 34
        }
      },
      "source": [
        "%cd LASER"
      ],
      "execution_count": 3,
      "outputs": [
        {
          "output_type": "stream",
          "text": [
            "/content/LASER\n"
          ],
          "name": "stdout"
        }
      ]
    },
    {
      "cell_type": "code",
      "metadata": {
        "colab_type": "code",
        "id": "D7ADRwFZ4lp8",
        "outputId": "6cf645ee-4369-4419-bd54-734f21aa80d9",
        "colab": {
          "base_uri": "https://localhost:8080/",
          "height": 84
        }
      },
      "source": [
        "!bash install_models.sh"
      ],
      "execution_count": 4,
      "outputs": [
        {
          "output_type": "stream",
          "text": [
            "Downloading networks\n",
            " - /content/LASER/models/bilstm.93langs.2018-12-26.pt already downloaded\n",
            " - /content/LASER/models/93langs.fcodes already downloaded\n",
            " - /content/LASER/models/93langs.fvocab already downloaded\n"
          ],
          "name": "stdout"
        }
      ]
    },
    {
      "cell_type": "code",
      "metadata": {
        "colab_type": "code",
        "id": "U5F_sNpe4lkm",
        "outputId": "a9cf34a0-8d36-4c10-b007-93987c860a7d",
        "colab": {
          "base_uri": "https://localhost:8080/",
          "height": 134
        }
      },
      "source": [
        "!bash install_external_tools.sh"
      ],
      "execution_count": 5,
      "outputs": [
        {
          "output_type": "stream",
          "text": [
            "Installing external tools\n",
            "\n",
            "automatic installation of the Japanese tokenizer mecab may be tricky\n",
            "Please install it manually from https://github.com/taku910/mecab\n",
            "\n",
            "The installation directory should be /content/LASER/tools-external/mecab\n",
            "\n"
          ],
          "name": "stdout"
        }
      ]
    },
    {
      "cell_type": "code",
      "metadata": {
        "colab_type": "code",
        "id": "Wq9RVwqi8pyM",
        "outputId": "b121cf38-2b4f-4892-9afb-c03cbae487d0",
        "colab": {
          "base_uri": "https://localhost:8080/",
          "height": 34
        }
      },
      "source": [
        "%cd tools-external/fastBPE/\n",
        "! g++ -std=c++11 -pthread -O3 fastBPE/main.cc -IfastBPE -o fast"
      ],
      "execution_count": 6,
      "outputs": [
        {
          "output_type": "stream",
          "text": [
            "/content/LASER/tools-external/fastBPE\n"
          ],
          "name": "stdout"
        }
      ]
    },
    {
      "cell_type": "code",
      "metadata": {
        "id": "xahYxLS667yF",
        "colab_type": "code",
        "colab": {}
      },
      "source": [
        "import fastBPE"
      ],
      "execution_count": 0,
      "outputs": []
    },
    {
      "cell_type": "code",
      "metadata": {
        "colab_type": "code",
        "id": "KpraUBs38jZO",
        "outputId": "db05c1c8-75b6-4196-f125-e75be89f8600",
        "colab": {
          "base_uri": "https://localhost:8080/",
          "height": 50
        }
      },
      "source": [
        "%cd ../../tasks/similarity/\n",
        "! ls"
      ],
      "execution_count": 8,
      "outputs": [
        {
          "output_type": "stream",
          "text": [
            "/content/LASER/tasks/similarity\n",
            "dev  embed  README.md  wmt.sh\n"
          ],
          "name": "stdout"
        }
      ]
    },
    {
      "cell_type": "code",
      "metadata": {
        "colab_type": "code",
        "id": "uVjP99krE02v",
        "outputId": "2aeb78f7-259c-4bea-d3a3-d5c0fd3fef5c",
        "colab": {
          "base_uri": "https://localhost:8080/",
          "height": 487
        }
      },
      "source": [
        "! apt install libopenblas-base libomp-dev"
      ],
      "execution_count": 0,
      "outputs": [
        {
          "output_type": "stream",
          "text": [
            "Reading package lists... Done\n",
            "Building dependency tree       \n",
            "Reading state information... Done\n",
            "libopenblas-base is already the newest version (0.2.20+ds-4).\n",
            "libopenblas-base set to manually installed.\n",
            "The following package was automatically installed and is no longer required:\n",
            "  libnvidia-common-410\n",
            "Use 'apt autoremove' to remove it.\n",
            "Suggested packages:\n",
            "  libomp-doc\n",
            "The following NEW packages will be installed:\n",
            "  libomp-dev libomp5\n",
            "0 upgraded, 2 newly installed, 0 to remove and 8 not upgraded.\n",
            "Need to get 239 kB of archives.\n",
            "After this operation, 804 kB of additional disk space will be used.\n",
            "Get:1 http://archive.ubuntu.com/ubuntu bionic/universe amd64 libomp5 amd64 5.0.1-1 [234 kB]\n",
            "Get:2 http://archive.ubuntu.com/ubuntu bionic/universe amd64 libomp-dev amd64 5.0.1-1 [5,088 B]\n",
            "Fetched 239 kB in 0s (712 kB/s)\n",
            "Selecting previously unselected package libomp5:amd64.\n",
            "(Reading database ... 130912 files and directories currently installed.)\n",
            "Preparing to unpack .../libomp5_5.0.1-1_amd64.deb ...\n",
            "Unpacking libomp5:amd64 (5.0.1-1) ...\n",
            "Selecting previously unselected package libomp-dev.\n",
            "Preparing to unpack .../libomp-dev_5.0.1-1_amd64.deb ...\n",
            "Unpacking libomp-dev (5.0.1-1) ...\n",
            "Setting up libomp5:amd64 (5.0.1-1) ...\n",
            "Processing triggers for libc-bin (2.27-3ubuntu1) ...\n",
            "Setting up libomp-dev (5.0.1-1) ...\n"
          ],
          "name": "stdout"
        }
      ]
    },
    {
      "cell_type": "code",
      "metadata": {
        "colab_type": "code",
        "id": "zdgEtRK5AN9g",
        "outputId": "f9d2e685-6e13-4418-8762-4339b149e899",
        "colab": {
          "base_uri": "https://localhost:8080/",
          "height": 50
        }
      },
      "source": [
        "! pip install faiss"
      ],
      "execution_count": 9,
      "outputs": [
        {
          "output_type": "stream",
          "text": [
            "Requirement already satisfied: faiss in /usr/local/lib/python3.6/dist-packages (1.5.3)\n",
            "Requirement already satisfied: numpy in /usr/local/lib/python3.6/dist-packages (from faiss) (1.16.4)\n"
          ],
          "name": "stdout"
        }
      ]
    },
    {
      "cell_type": "code",
      "metadata": {
        "colab_type": "code",
        "id": "lBPIo9wj9GSg",
        "outputId": "886ef391-f22c-4921-8008-01aa89139440",
        "colab": {
          "base_uri": "https://localhost:8080/",
          "height": 689
        }
      },
      "source": [
        " % cd ./tasks/similarity\n",
        "! bash wmt.sh"
      ],
      "execution_count": 10,
      "outputs": [
        {
          "output_type": "stream",
          "text": [
            "[Errno 2] No such file or directory: './tasks/similarity'\n",
            "/content/LASER/tasks/similarity\n",
            "LASER: similarity search\n",
            "\n",
            "Processing:\n",
            " - loading encoder /content/LASER/models/bilstm.93langs.2018-12-26.pt\n",
            " - transfer encoder to GPU\n",
            " - Tokenizer: newstest2012.tok.cs exists already\n",
            " - fast BPE: newstest2012.bpe.cs exists already\n",
            " - Encoder: newstest2012.enc.cs exists already\n",
            " - embedding: ./embed/newstest2012.enc.cs 3003 examples of dim 1024\n",
            " - creating FAISS index\n",
            " - Tokenizer: newstest2012.tok.de exists already\n",
            " - fast BPE: newstest2012.bpe.de exists already\n",
            " - Encoder: newstest2012.enc.de exists already\n",
            " - embedding: ./embed/newstest2012.enc.de 3003 examples of dim 1024\n",
            " - creating FAISS index\n",
            " - Tokenizer: newstest2012.tok.en exists already\n",
            " - fast BPE: newstest2012.bpe.en exists already\n",
            " - Encoder: newstest2012.enc.en exists already\n",
            " - embedding: ./embed/newstest2012.enc.en 3003 examples of dim 1024\n",
            " - creating FAISS index\n",
            " - Tokenizer: newstest2012.tok.es exists already\n",
            " - fast BPE: newstest2012.bpe.es exists already\n",
            " - Encoder: newstest2012.enc.es exists already\n",
            " - embedding: ./embed/newstest2012.enc.es 3003 examples of dim 1024\n",
            " - creating FAISS index\n",
            " - Tokenizer: newstest2012.tok.fr exists already\n",
            " - fast BPE: newstest2012.bpe.fr exists already\n",
            " - Encoder: newstest2012.enc.fr exists already\n",
            " - embedding: ./embed/newstest2012.enc.fr 3003 examples of dim 1024\n",
            " - creating FAISS index\n",
            "Confusion matrix:\n",
            "langs   cs       de       en       es       fr       avg     \n",
            "cs     0.00%    0.70%    0.90%    0.67%    0.77%    0.76%\n",
            "de     0.83%    0.00%    1.17%    0.93%    1.03%    0.99%\n",
            "en     0.93%    1.27%    0.00%    0.83%    1.07%    1.02%\n",
            "es     0.53%    0.77%    0.97%    0.00%    0.57%    0.71%\n",
            "fr     0.50%    0.90%    1.13%    0.60%    0.00%    0.78%\n",
            "avg    0.70%    0.91%    1.04%    0.76%    0.86%    0.85%\n"
          ],
          "name": "stdout"
        }
      ]
    },
    {
      "cell_type": "code",
      "metadata": {
        "colab_type": "code",
        "id": "9sS0FP2kG-cd",
        "colab": {}
      },
      "source": [
        "import os\n",
        "import sys\n",
        "LASER = os.environ['LASER']\n",
        "# now include the extra files in the source\n",
        "sys.path.append(LASER + '/source')\n",
        "sys.path.append(LASER + '/source/lib')"
      ],
      "execution_count": 0,
      "outputs": []
    },
    {
      "cell_type": "code",
      "metadata": {
        "colab_type": "code",
        "id": "39VFH-l3G-l4",
        "colab": {}
      },
      "source": [
        "from embed import SentenceEncoder, EncodeLoad, EncodeFile\n",
        "from text_processing import Token, BPEfastApply\n",
        "from indexing import IndexCreate, IndexSearchMultiple, IndexPrintConfusionMatrix"
      ],
      "execution_count": 0,
      "outputs": []
    },
    {
      "cell_type": "code",
      "metadata": {
        "colab_type": "code",
        "id": "c3ZY3F5ZbCwJ",
        "colab": {}
      },
      "source": [
        "MODEL_PATH = '/content/LASER/models/'\n",
        "sentence_encoder = SentenceEncoder(\n",
        "    str(MODEL_PATH + \"bilstm.93langs.2018-12-26.pt\"),\n",
        "    max_sentences=None,\n",
        "    max_tokens=10000,\n",
        "    cpu=False)"
      ],
      "execution_count": 0,
      "outputs": []
    },
    {
      "cell_type": "markdown",
      "metadata": {
        "id": "YSq0IMO78Rnk",
        "colab_type": "text"
      },
      "source": [
        "# Copy and paste the code by clicking on the generated link and press Enter"
      ]
    },
    {
      "cell_type": "code",
      "metadata": {
        "id": "k30PCfcugynk",
        "colab_type": "code",
        "outputId": "b63a2a39-22b2-41bc-92a1-ff9c0432c415",
        "colab": {
          "base_uri": "https://localhost:8080/",
          "height": 121
        }
      },
      "source": [
        "from google.colab import drive\n",
        "drive.mount(\"/gdrive\", force_remount=True)"
      ],
      "execution_count": 0,
      "outputs": [
        {
          "output_type": "stream",
          "text": [
            "Go to this URL in a browser: https://accounts.google.com/o/oauth2/auth?client_id=947318989803-6bn6qk8qdgf4n4g3pfee6491hc0brc4i.apps.googleusercontent.com&redirect_uri=urn%3Aietf%3Awg%3Aoauth%3A2.0%3Aoob&scope=email%20https%3A%2F%2Fwww.googleapis.com%2Fauth%2Fdocs.test%20https%3A%2F%2Fwww.googleapis.com%2Fauth%2Fdrive%20https%3A%2F%2Fwww.googleapis.com%2Fauth%2Fdrive.photos.readonly%20https%3A%2F%2Fwww.googleapis.com%2Fauth%2Fpeopleapi.readonly&response_type=code\n",
            "\n",
            "Enter your authorization code:\n",
            "··········\n",
            "Mounted at /gdrive\n"
          ],
          "name": "stdout"
        }
      ]
    },
    {
      "cell_type": "markdown",
      "metadata": {
        "id": "IowSOIlt3gt9",
        "colab_type": "text"
      },
      "source": [
        "# Change the file name below"
      ]
    },
    {
      "cell_type": "code",
      "metadata": {
        "colab_type": "code",
        "id": "MzVaHR7VcQlH",
        "colab": {}
      },
      "source": [
        "# Replace filename at the end\n",
        "import pandas as pd\n",
        "input_data = pd.read_csv('/gdrive/My Drive/data_46000_to_69000.csv')"
      ],
      "execution_count": 0,
      "outputs": []
    },
    {
      "cell_type": "code",
      "metadata": {
        "colab_type": "code",
        "id": "sJ9OuN6fnEjE",
        "outputId": "15bff6ee-b52f-40b5-d777-3730a7014622",
        "colab": {
          "base_uri": "https://localhost:8080/",
          "height": 34
        }
      },
      "source": [
        "input_data.columns"
      ],
      "execution_count": 0,
      "outputs": [
        {
          "output_type": "execute_result",
          "data": {
            "text/plain": [
              "Index(['reviewText', 'Product_Category'], dtype='object')"
            ]
          },
          "metadata": {
            "tags": []
          },
          "execution_count": 19
        }
      ]
    },
    {
      "cell_type": "code",
      "metadata": {
        "colab_type": "code",
        "id": "ImQg2ouIupGA",
        "outputId": "3ed7769a-872b-4a2d-aa80-555b5e06ea19",
        "colab": {
          "base_uri": "https://localhost:8080/",
          "height": 195
        }
      },
      "source": [
        "input_data.head()"
      ],
      "execution_count": 0,
      "outputs": [
        {
          "output_type": "execute_result",
          "data": {
            "text/html": [
              "<div>\n",
              "<style scoped>\n",
              "    .dataframe tbody tr th:only-of-type {\n",
              "        vertical-align: middle;\n",
              "    }\n",
              "\n",
              "    .dataframe tbody tr th {\n",
              "        vertical-align: top;\n",
              "    }\n",
              "\n",
              "    .dataframe thead th {\n",
              "        text-align: right;\n",
              "    }\n",
              "</style>\n",
              "<table border=\"1\" class=\"dataframe\">\n",
              "  <thead>\n",
              "    <tr style=\"text-align: right;\">\n",
              "      <th></th>\n",
              "      <th>reviewText</th>\n",
              "      <th>Product_Category</th>\n",
              "    </tr>\n",
              "  </thead>\n",
              "  <tbody>\n",
              "    <tr>\n",
              "      <th>0</th>\n",
              "      <td>A great cd, all gang-smoke songs the best of t...</td>\n",
              "      <td>Digital Music</td>\n",
              "    </tr>\n",
              "    <tr>\n",
              "      <th>1</th>\n",
              "      <td>It would be awesome if they would release this...</td>\n",
              "      <td>CDs and Vinyl</td>\n",
              "    </tr>\n",
              "    <tr>\n",
              "      <th>2</th>\n",
              "      <td>Got one of these mounted in my vehicle. Seems ...</td>\n",
              "      <td>Automotive</td>\n",
              "    </tr>\n",
              "    <tr>\n",
              "      <th>3</th>\n",
              "      <td>I got tired of using the old style staple remo...</td>\n",
              "      <td>Office Products</td>\n",
              "    </tr>\n",
              "    <tr>\n",
              "      <th>4</th>\n",
              "      <td>I've been using Ableton for 4 years and it nev...</td>\n",
              "      <td>Musical Instruments</td>\n",
              "    </tr>\n",
              "  </tbody>\n",
              "</table>\n",
              "</div>"
            ],
            "text/plain": [
              "                                          reviewText     Product_Category\n",
              "0  A great cd, all gang-smoke songs the best of t...        Digital Music\n",
              "1  It would be awesome if they would release this...        CDs and Vinyl\n",
              "2  Got one of these mounted in my vehicle. Seems ...           Automotive\n",
              "3  I got tired of using the old style staple remo...      Office Products\n",
              "4  I've been using Ableton for 4 years and it nev...  Musical Instruments"
            ]
          },
          "metadata": {
            "tags": []
          },
          "execution_count": 20
        }
      ]
    },
    {
      "cell_type": "code",
      "metadata": {
        "colab_type": "code",
        "id": "cfzKSTw5vMvP",
        "outputId": "5df74784-b0e9-4bba-c7b7-f5d6786731bb",
        "colab": {
          "base_uri": "https://localhost:8080/",
          "height": 101
        }
      },
      "source": [
        "input_data.Product_Category.describe()"
      ],
      "execution_count": 0,
      "outputs": [
        {
          "output_type": "execute_result",
          "data": {
            "text/plain": [
              "count               23000\n",
              "unique                 22\n",
              "top       Office Products\n",
              "freq                 1886\n",
              "Name: Product_Category, dtype: object"
            ]
          },
          "metadata": {
            "tags": []
          },
          "execution_count": 21
        }
      ]
    },
    {
      "cell_type": "code",
      "metadata": {
        "colab_type": "code",
        "id": "HbUHtUzLl-T1",
        "outputId": "dc796666-245d-45fc-cee9-bcbb276ca926",
        "colab": {
          "base_uri": "https://localhost:8080/",
          "height": 195
        }
      },
      "source": [
        "input_data = input_data.rename(columns={'Product_Category':'label'})\n",
        "input_data.head()"
      ],
      "execution_count": 0,
      "outputs": [
        {
          "output_type": "execute_result",
          "data": {
            "text/html": [
              "<div>\n",
              "<style scoped>\n",
              "    .dataframe tbody tr th:only-of-type {\n",
              "        vertical-align: middle;\n",
              "    }\n",
              "\n",
              "    .dataframe tbody tr th {\n",
              "        vertical-align: top;\n",
              "    }\n",
              "\n",
              "    .dataframe thead th {\n",
              "        text-align: right;\n",
              "    }\n",
              "</style>\n",
              "<table border=\"1\" class=\"dataframe\">\n",
              "  <thead>\n",
              "    <tr style=\"text-align: right;\">\n",
              "      <th></th>\n",
              "      <th>reviewText</th>\n",
              "      <th>label</th>\n",
              "    </tr>\n",
              "  </thead>\n",
              "  <tbody>\n",
              "    <tr>\n",
              "      <th>0</th>\n",
              "      <td>A great cd, all gang-smoke songs the best of t...</td>\n",
              "      <td>Digital Music</td>\n",
              "    </tr>\n",
              "    <tr>\n",
              "      <th>1</th>\n",
              "      <td>It would be awesome if they would release this...</td>\n",
              "      <td>CDs and Vinyl</td>\n",
              "    </tr>\n",
              "    <tr>\n",
              "      <th>2</th>\n",
              "      <td>Got one of these mounted in my vehicle. Seems ...</td>\n",
              "      <td>Automotive</td>\n",
              "    </tr>\n",
              "    <tr>\n",
              "      <th>3</th>\n",
              "      <td>I got tired of using the old style staple remo...</td>\n",
              "      <td>Office Products</td>\n",
              "    </tr>\n",
              "    <tr>\n",
              "      <th>4</th>\n",
              "      <td>I've been using Ableton for 4 years and it nev...</td>\n",
              "      <td>Musical Instruments</td>\n",
              "    </tr>\n",
              "  </tbody>\n",
              "</table>\n",
              "</div>"
            ],
            "text/plain": [
              "                                          reviewText                label\n",
              "0  A great cd, all gang-smoke songs the best of t...        Digital Music\n",
              "1  It would be awesome if they would release this...        CDs and Vinyl\n",
              "2  Got one of these mounted in my vehicle. Seems ...           Automotive\n",
              "3  I got tired of using the old style staple remo...      Office Products\n",
              "4  I've been using Ableton for 4 years and it nev...  Musical Instruments"
            ]
          },
          "metadata": {
            "tags": []
          },
          "execution_count": 22
        }
      ]
    },
    {
      "cell_type": "code",
      "metadata": {
        "colab_type": "code",
        "id": "Cm6KWbuh95tX",
        "colab": {}
      },
      "source": [
        "LASER = os.environ['LASER']\n",
        "FASTBPE = LASER + '/tools-external/fastBPE/fast'\n",
        "MOSES_BDIR = LASER + '/tools-external/moses-tokenizer/tokenizer/'\n",
        "MOSES_TOKENIZER = MOSES_BDIR + 'tokenizer.perl -q -no-escape -threads 20 -l '\n",
        "MOSES_LC = MOSES_BDIR + 'lowercase.perl'\n",
        "NORM_PUNC = MOSES_BDIR + 'normalize-punctuation.perl -l '\n",
        "DESCAPE = MOSES_BDIR + 'deescape-special-chars.perl'\n",
        "REM_NON_PRINT_CHAR = MOSES_BDIR + 'remove-non-printing-char.perl'\n",
        "MECAB = LASER + '/tools-external/mecab'"
      ],
      "execution_count": 0,
      "outputs": []
    },
    {
      "cell_type": "code",
      "metadata": {
        "colab_type": "code",
        "id": "h9sXKsW1M9Xt",
        "colab": {}
      },
      "source": [
        "from subprocess import check_output\n",
        "def sample_token(string_val, lang='en'):\n",
        "    tok = check_output(\n",
        "                REM_NON_PRINT_CHAR\n",
        "                + '|' + NORM_PUNC + lang\n",
        "                + '|' + DESCAPE\n",
        "                + '|' + MOSES_TOKENIZER + lang\n",
        "                + ('| python3 -m jieba -d ' if lang == 'zh' else '')\n",
        "                + ('|' + MECAB + '/bin/mecab -O wakati -b 50000 ' if lang == 'ja' else ''),\n",
        "                input=string_val,\n",
        "                encoding='UTF-8',\n",
        "                shell=True)\n",
        "    return tok.strip()"
      ],
      "execution_count": 0,
      "outputs": []
    },
    {
      "cell_type": "code",
      "metadata": {
        "colab_type": "code",
        "id": "faPNpMFclPpq",
        "colab": {}
      },
      "source": [
        "index = input_data.reviewText.isnull()==True\n",
        "samp = index[index==True]\n",
        "input_data = input_data.drop(samp.index)"
      ],
      "execution_count": 0,
      "outputs": []
    },
    {
      "cell_type": "code",
      "metadata": {
        "colab_type": "code",
        "id": "KID-p2ZpvZP9",
        "outputId": "ce71eb12-5ef0-400e-8f32-344a2c2c6745",
        "colab": {
          "base_uri": "https://localhost:8080/",
          "height": 34
        }
      },
      "source": [
        "input_data.reviewText.isnull().sum() #Value should be always zero"
      ],
      "execution_count": 0,
      "outputs": [
        {
          "output_type": "execute_result",
          "data": {
            "text/plain": [
              "0"
            ]
          },
          "metadata": {
            "tags": []
          },
          "execution_count": 26
        }
      ]
    },
    {
      "cell_type": "code",
      "metadata": {
        "colab_type": "code",
        "id": "zmGwWzJZNkwZ",
        "colab": {}
      },
      "source": [
        "input_data['tokenized_review'] = input_data.reviewText.apply(sample_token)"
      ],
      "execution_count": 0,
      "outputs": []
    },
    {
      "cell_type": "code",
      "metadata": {
        "id": "jyGL40Qeizzi",
        "colab_type": "code",
        "outputId": "1fd5d7ef-ba9b-4656-efdd-64bfcbc4402e",
        "colab": {
          "base_uri": "https://localhost:8080/",
          "height": 195
        }
      },
      "source": [
        "input_data.head()"
      ],
      "execution_count": 0,
      "outputs": [
        {
          "output_type": "execute_result",
          "data": {
            "text/html": [
              "<div>\n",
              "<style scoped>\n",
              "    .dataframe tbody tr th:only-of-type {\n",
              "        vertical-align: middle;\n",
              "    }\n",
              "\n",
              "    .dataframe tbody tr th {\n",
              "        vertical-align: top;\n",
              "    }\n",
              "\n",
              "    .dataframe thead th {\n",
              "        text-align: right;\n",
              "    }\n",
              "</style>\n",
              "<table border=\"1\" class=\"dataframe\">\n",
              "  <thead>\n",
              "    <tr style=\"text-align: right;\">\n",
              "      <th></th>\n",
              "      <th>reviewText</th>\n",
              "      <th>label</th>\n",
              "      <th>tokenized_review</th>\n",
              "    </tr>\n",
              "  </thead>\n",
              "  <tbody>\n",
              "    <tr>\n",
              "      <th>0</th>\n",
              "      <td>A great cd, all gang-smoke songs the best of t...</td>\n",
              "      <td>Digital Music</td>\n",
              "      <td>A great cd , all gang-smoke songs the best of ...</td>\n",
              "    </tr>\n",
              "    <tr>\n",
              "      <th>1</th>\n",
              "      <td>It would be awesome if they would release this...</td>\n",
              "      <td>CDs and Vinyl</td>\n",
              "      <td>It would be awesome if they would release this...</td>\n",
              "    </tr>\n",
              "    <tr>\n",
              "      <th>2</th>\n",
              "      <td>Got one of these mounted in my vehicle. Seems ...</td>\n",
              "      <td>Automotive</td>\n",
              "      <td>Got one of these mounted in my vehicle . Seems...</td>\n",
              "    </tr>\n",
              "    <tr>\n",
              "      <th>3</th>\n",
              "      <td>I got tired of using the old style staple remo...</td>\n",
              "      <td>Office Products</td>\n",
              "      <td>I got tired of using the old style staple remo...</td>\n",
              "    </tr>\n",
              "    <tr>\n",
              "      <th>4</th>\n",
              "      <td>I've been using Ableton for 4 years and it nev...</td>\n",
              "      <td>Musical Instruments</td>\n",
              "      <td>I 've been using Ableton for 4 years and it ne...</td>\n",
              "    </tr>\n",
              "  </tbody>\n",
              "</table>\n",
              "</div>"
            ],
            "text/plain": [
              "                                          reviewText  ...                                   tokenized_review\n",
              "0  A great cd, all gang-smoke songs the best of t...  ...  A great cd , all gang-smoke songs the best of ...\n",
              "1  It would be awesome if they would release this...  ...  It would be awesome if they would release this...\n",
              "2  Got one of these mounted in my vehicle. Seems ...  ...  Got one of these mounted in my vehicle . Seems...\n",
              "3  I got tired of using the old style staple remo...  ...  I got tired of using the old style staple remo...\n",
              "4  I've been using Ableton for 4 years and it nev...  ...  I 've been using Ableton for 4 years and it ne...\n",
              "\n",
              "[5 rows x 3 columns]"
            ]
          },
          "metadata": {
            "tags": []
          },
          "execution_count": 28
        }
      ]
    },
    {
      "cell_type": "code",
      "metadata": {
        "colab_type": "code",
        "id": "sPBpVwpGROPc",
        "colab": {}
      },
      "source": [
        "bpe_codes = './LASER/models/93langs.fcodes'\n",
        "bpe_vocab = bpe_codes.replace('fcodes', 'fvocab')\n",
        "\n",
        "\n",
        "def apply_bpe(sentence):\n",
        "  sentence = sentence.replace('\\\\',\"\")\n",
        "  sentence = sentence.replace('\"','\\\\\"')\n",
        "  bpe = check_output(\n",
        "      'echo -n \"'+sentence +'\" | '+ FASTBPE + ' applybpe_stream '+  bpe_codes +' '+bpe_vocab,\n",
        "      encoding='UTF-8',\n",
        "      shell=True)\n",
        "  return bpe.strip()"
      ],
      "execution_count": 0,
      "outputs": []
    },
    {
      "cell_type": "code",
      "metadata": {
        "id": "N1Raq48oDvz0",
        "colab_type": "code",
        "outputId": "3843066a-526b-4a1c-8bf1-dc609e703888",
        "colab": {
          "base_uri": "https://localhost:8080/",
          "height": 34
        }
      },
      "source": [
        "%pwd"
      ],
      "execution_count": 0,
      "outputs": [
        {
          "output_type": "execute_result",
          "data": {
            "text/plain": [
              "'/content/LASER/tasks/similarity'"
            ]
          },
          "metadata": {
            "tags": []
          },
          "execution_count": 30
        }
      ]
    },
    {
      "cell_type": "code",
      "metadata": {
        "colab_type": "code",
        "id": "sEgQx2HgZml4",
        "outputId": "445ed91f-0416-4bf8-f307-7d4178821593",
        "colab": {
          "base_uri": "https://localhost:8080/",
          "height": 70
        }
      },
      "source": [
        "%cd /content\n",
        "tok_sentence = '\"love the magnet easel ... \" slow motion me \"great for moving to different areas ... wish it had some sort of non skid pad on bottom though ...'\n",
        "apply_bpe(tok_sentence)"
      ],
      "execution_count": 0,
      "outputs": [
        {
          "output_type": "stream",
          "text": [
            "/content\n"
          ],
          "name": "stdout"
        },
        {
          "output_type": "execute_result",
          "data": {
            "text/plain": [
              "'\"@@ love the magn@@ et ea@@ sel ... \" slo@@ w motion me \"@@ great for mo@@ ving to different areas ... wish it had some sort of non sk@@ id pad on bot@@ tom though ...'"
            ]
          },
          "metadata": {
            "tags": []
          },
          "execution_count": 32
        }
      ]
    },
    {
      "cell_type": "code",
      "metadata": {
        "id": "Oq41BnItrj-7",
        "colab_type": "code",
        "outputId": "181b52b2-274c-4766-9298-9e300f562ad2",
        "colab": {
          "base_uri": "https://localhost:8080/",
          "height": 195
        }
      },
      "source": [
        "input_data.head()"
      ],
      "execution_count": 0,
      "outputs": [
        {
          "output_type": "execute_result",
          "data": {
            "text/html": [
              "<div>\n",
              "<style scoped>\n",
              "    .dataframe tbody tr th:only-of-type {\n",
              "        vertical-align: middle;\n",
              "    }\n",
              "\n",
              "    .dataframe tbody tr th {\n",
              "        vertical-align: top;\n",
              "    }\n",
              "\n",
              "    .dataframe thead th {\n",
              "        text-align: right;\n",
              "    }\n",
              "</style>\n",
              "<table border=\"1\" class=\"dataframe\">\n",
              "  <thead>\n",
              "    <tr style=\"text-align: right;\">\n",
              "      <th></th>\n",
              "      <th>reviewText</th>\n",
              "      <th>label</th>\n",
              "      <th>tokenized_review</th>\n",
              "    </tr>\n",
              "  </thead>\n",
              "  <tbody>\n",
              "    <tr>\n",
              "      <th>0</th>\n",
              "      <td>A great cd, all gang-smoke songs the best of t...</td>\n",
              "      <td>Digital Music</td>\n",
              "      <td>A great cd , all gang-smoke songs the best of ...</td>\n",
              "    </tr>\n",
              "    <tr>\n",
              "      <th>1</th>\n",
              "      <td>It would be awesome if they would release this...</td>\n",
              "      <td>CDs and Vinyl</td>\n",
              "      <td>It would be awesome if they would release this...</td>\n",
              "    </tr>\n",
              "    <tr>\n",
              "      <th>2</th>\n",
              "      <td>Got one of these mounted in my vehicle. Seems ...</td>\n",
              "      <td>Automotive</td>\n",
              "      <td>Got one of these mounted in my vehicle . Seems...</td>\n",
              "    </tr>\n",
              "    <tr>\n",
              "      <th>3</th>\n",
              "      <td>I got tired of using the old style staple remo...</td>\n",
              "      <td>Office Products</td>\n",
              "      <td>I got tired of using the old style staple remo...</td>\n",
              "    </tr>\n",
              "    <tr>\n",
              "      <th>4</th>\n",
              "      <td>I've been using Ableton for 4 years and it nev...</td>\n",
              "      <td>Musical Instruments</td>\n",
              "      <td>I 've been using Ableton for 4 years and it ne...</td>\n",
              "    </tr>\n",
              "  </tbody>\n",
              "</table>\n",
              "</div>"
            ],
            "text/plain": [
              "                                          reviewText  ...                                   tokenized_review\n",
              "0  A great cd, all gang-smoke songs the best of t...  ...  A great cd , all gang-smoke songs the best of ...\n",
              "1  It would be awesome if they would release this...  ...  It would be awesome if they would release this...\n",
              "2  Got one of these mounted in my vehicle. Seems ...  ...  Got one of these mounted in my vehicle . Seems...\n",
              "3  I got tired of using the old style staple remo...  ...  I got tired of using the old style staple remo...\n",
              "4  I've been using Ableton for 4 years and it nev...  ...  I 've been using Ableton for 4 years and it ne...\n",
              "\n",
              "[5 rows x 3 columns]"
            ]
          },
          "metadata": {
            "tags": []
          },
          "execution_count": 33
        }
      ]
    },
    {
      "cell_type": "code",
      "metadata": {
        "colab_type": "code",
        "id": "qHVv21bCcIXf",
        "colab": {}
      },
      "source": [
        "input_data['tokenized_review_bpe'] = input_data.tokenized_review.apply(apply_bpe)"
      ],
      "execution_count": 0,
      "outputs": []
    },
    {
      "cell_type": "markdown",
      "metadata": {
        "id": "337IN5j-5PHL",
        "colab_type": "text"
      },
      "source": [
        "# Change the file name below"
      ]
    },
    {
      "cell_type": "code",
      "metadata": {
        "id": "fMwG_6gQvfvu",
        "colab_type": "code",
        "colab": {}
      },
      "source": [
        "input_data.to_csv('/gdrive/My Drive/data_46000_to_69000_tokenized.csv')"
      ],
      "execution_count": 0,
      "outputs": []
    },
    {
      "cell_type": "markdown",
      "metadata": {
        "id": "oxeYBZPLksbH",
        "colab_type": "text"
      },
      "source": [
        "# These are the changes just to see the saving properly"
      ]
    },
    {
      "cell_type": "code",
      "metadata": {
        "colab_type": "code",
        "id": "zg4kEhpSJ8Re",
        "colab": {
          "base_uri": "https://localhost:8080/",
          "height": 34
        },
        "outputId": "7f2b2b5a-f8be-4d63-8376-9e37718cf1db"
      },
      "source": [
        "import pandas as pd\n",
        "% cd /content/\n",
        "input_data = pd.read_csv('./preprocessed_output.csv', index_col=0)"
      ],
      "execution_count": 18,
      "outputs": [
        {
          "output_type": "stream",
          "text": [
            "/content\n"
          ],
          "name": "stdout"
        }
      ]
    },
    {
      "cell_type": "code",
      "metadata": {
        "id": "mp1ji-J0lRLH",
        "colab_type": "code",
        "colab": {
          "base_uri": "https://localhost:8080/",
          "height": 551
        },
        "outputId": "f73f762a-5c65-4a33-cd3d-9640fa8680cc"
      },
      "source": [
        "input_data.head()"
      ],
      "execution_count": 19,
      "outputs": [
        {
          "output_type": "execute_result",
          "data": {
            "text/html": [
              "<div>\n",
              "<style scoped>\n",
              "    .dataframe tbody tr th:only-of-type {\n",
              "        vertical-align: middle;\n",
              "    }\n",
              "\n",
              "    .dataframe tbody tr th {\n",
              "        vertical-align: top;\n",
              "    }\n",
              "\n",
              "    .dataframe thead th {\n",
              "        text-align: right;\n",
              "    }\n",
              "</style>\n",
              "<table border=\"1\" class=\"dataframe\">\n",
              "  <thead>\n",
              "    <tr style=\"text-align: right;\">\n",
              "      <th></th>\n",
              "      <th>reviewerID</th>\n",
              "      <th>asin</th>\n",
              "      <th>reviewerName</th>\n",
              "      <th>helpful</th>\n",
              "      <th>reviewText</th>\n",
              "      <th>overall</th>\n",
              "      <th>summary</th>\n",
              "      <th>unixReviewTime</th>\n",
              "      <th>reviewTime</th>\n",
              "      <th>label</th>\n",
              "      <th>tokenized_review</th>\n",
              "      <th>tokenized_review_bpe</th>\n",
              "      <th>labels_encoded</th>\n",
              "    </tr>\n",
              "  </thead>\n",
              "  <tbody>\n",
              "    <tr>\n",
              "      <th>0</th>\n",
              "      <td>A1VXOAVRGKGEAK</td>\n",
              "      <td>439893577</td>\n",
              "      <td>Angie</td>\n",
              "      <td>[0, 0]</td>\n",
              "      <td>I like the item pricing. My granddaughter want...</td>\n",
              "      <td>5</td>\n",
              "      <td>Magnetic board</td>\n",
              "      <td>1390953600</td>\n",
              "      <td>01 29, 2014</td>\n",
              "      <td>Toys_and_Games</td>\n",
              "      <td>I like the item pricing . My granddaughter wan...</td>\n",
              "      <td>I like the item pri@@ cing . M@@ y grand@@ dau...</td>\n",
              "      <td>21</td>\n",
              "    </tr>\n",
              "    <tr>\n",
              "      <th>1</th>\n",
              "      <td>A8R62G708TSCM</td>\n",
              "      <td>439893577</td>\n",
              "      <td>Candace</td>\n",
              "      <td>[1, 1]</td>\n",
              "      <td>Love the magnet easel... great for moving to d...</td>\n",
              "      <td>4</td>\n",
              "      <td>it works pretty good for moving to different a...</td>\n",
              "      <td>1395964800</td>\n",
              "      <td>03 28, 2014</td>\n",
              "      <td>Toys_and_Games</td>\n",
              "      <td>Love the magnet easel ... great for moving to ...</td>\n",
              "      <td>L@@ ove the magn@@ et ea@@ sel ... great for m...</td>\n",
              "      <td>21</td>\n",
              "    </tr>\n",
              "    <tr>\n",
              "      <th>2</th>\n",
              "      <td>A21KH420DK0ICA</td>\n",
              "      <td>439893577</td>\n",
              "      <td>capemaychristy</td>\n",
              "      <td>[1, 1]</td>\n",
              "      <td>Both sides are magnetic.  A real plus when you...</td>\n",
              "      <td>5</td>\n",
              "      <td>love this!</td>\n",
              "      <td>1359331200</td>\n",
              "      <td>01 28, 2013</td>\n",
              "      <td>Toys_and_Games</td>\n",
              "      <td>Both sides are magnetic . A real plus when you...</td>\n",
              "      <td>B@@ ot@@ h sides are mag@@ ne@@ tic . A real p...</td>\n",
              "      <td>21</td>\n",
              "    </tr>\n",
              "    <tr>\n",
              "      <th>3</th>\n",
              "      <td>AR29QK6HPFYZ4</td>\n",
              "      <td>439893577</td>\n",
              "      <td>dcrm</td>\n",
              "      <td>[0, 0]</td>\n",
              "      <td>Bought one a few years ago for my daughter and...</td>\n",
              "      <td>5</td>\n",
              "      <td>Daughters love it</td>\n",
              "      <td>1391817600</td>\n",
              "      <td>02 8, 2014</td>\n",
              "      <td>Toys_and_Games</td>\n",
              "      <td>Bought one a few years ago for my daughter and...</td>\n",
              "      <td>B@@ ought one a few years ago for my dau@@ ght...</td>\n",
              "      <td>21</td>\n",
              "    </tr>\n",
              "    <tr>\n",
              "      <th>4</th>\n",
              "      <td>ACCH8EOML6FN5</td>\n",
              "      <td>439893577</td>\n",
              "      <td>DoyZ</td>\n",
              "      <td>[1, 1]</td>\n",
              "      <td>I have a stainless steel refrigerator therefor...</td>\n",
              "      <td>4</td>\n",
              "      <td>Great to have so he can play with his alphabet...</td>\n",
              "      <td>1399248000</td>\n",
              "      <td>05 5, 2014</td>\n",
              "      <td>Toys_and_Games</td>\n",
              "      <td>I have a stainless steel refrigerator therefor...</td>\n",
              "      <td>I have a sta@@ in@@ less ste@@ el re@@ fri@@ g...</td>\n",
              "      <td>21</td>\n",
              "    </tr>\n",
              "  </tbody>\n",
              "</table>\n",
              "</div>"
            ],
            "text/plain": [
              "       reviewerID  ... labels_encoded\n",
              "0  A1VXOAVRGKGEAK  ...             21\n",
              "1   A8R62G708TSCM  ...             21\n",
              "2  A21KH420DK0ICA  ...             21\n",
              "3   AR29QK6HPFYZ4  ...             21\n",
              "4   ACCH8EOML6FN5  ...             21\n",
              "\n",
              "[5 rows x 13 columns]"
            ]
          },
          "metadata": {
            "tags": []
          },
          "execution_count": 19
        }
      ]
    },
    {
      "cell_type": "code",
      "metadata": {
        "id": "X25r2YbYlk0-",
        "colab_type": "code",
        "colab": {}
      },
      "source": [
        ""
      ],
      "execution_count": 0,
      "outputs": []
    },
    {
      "cell_type": "code",
      "metadata": {
        "id": "I0KRZKu2lk3b",
        "colab_type": "code",
        "colab": {}
      },
      "source": [
        ""
      ],
      "execution_count": 0,
      "outputs": []
    },
    {
      "cell_type": "code",
      "metadata": {
        "colab_type": "code",
        "id": "uDG6vLzdS5ho",
        "colab": {}
      },
      "source": [
        "# Because of the nature in which LASER tends to perform encoding we have to do this extra tweek\n",
        "def to_list(element):\n",
        "  return [element]"
      ],
      "execution_count": 0,
      "outputs": []
    },
    {
      "cell_type": "code",
      "metadata": {
        "colab_type": "code",
        "id": "3UmjrdiMS5h-",
        "colab": {}
      },
      "source": [
        "input_data['tokenized_review_bpe_list'] = input_data.tokenized_review_bpe.apply(to_list)\n"
      ],
      "execution_count": 0,
      "outputs": []
    },
    {
      "cell_type": "code",
      "metadata": {
        "colab_type": "code",
        "outputId": "ecdbedc5-5903-4edf-ab30-ca41dc4e68c0",
        "id": "YAN8XLWwS5iC",
        "colab": {
          "base_uri": "https://localhost:8080/",
          "height": 185
        }
      },
      "source": [
        "from pandas import Series\n",
        "\n",
        "def progress_coroutine(print_on = 10):\n",
        "    print (\"Starting progress monitor\")\n",
        "\n",
        "    iterations = 0\n",
        "    while True:\n",
        "        yield\n",
        "        iterations += 1\n",
        "        if (iterations % print_on == 0):\n",
        "            print (\"{} iterations done\".format(iterations))\n",
        "\n",
        "def percentage_coroutine(to_process, print_on_percent = 0.10):\n",
        "    print (\"Starting progress percentage monitor\")\n",
        "\n",
        "    processed = 0\n",
        "    count = 0\n",
        "    print_count = to_process*print_on_percent\n",
        "    while True:\n",
        "        yield\n",
        "        processed += 1\n",
        "        count += 1\n",
        "        if (count >= print_count):\n",
        "            count = 0\n",
        "            pct = (float(processed)/float(to_process))*100\n",
        "\n",
        "            print (\"{}% finished\".format(pct))\n",
        "\n",
        "def trace_progress(func, progress = None):\n",
        "    def callf(*args, **kwargs):\n",
        "        if (progress is not None):\n",
        "            progress.send(None)\n",
        "\n",
        "        return func(*args, **kwargs)\n",
        "\n",
        "    return callf\n",
        "\n",
        "def my_func(i):\n",
        "    return i ** 2\n",
        "\n",
        "data_series = input_data.tokenized_review_bpe_list\n",
        "co1 = progress_coroutine()\n",
        "co2 = percentage_coroutine(len(data_series))\n",
        "input_data['sentence_embedding'] = data_series.apply(trace_progress(sentence_encoder.encode_sentences, progress = co2))"
      ],
      "execution_count": 23,
      "outputs": [
        {
          "output_type": "stream",
          "text": [
            "Starting progress percentage monitor\n",
            "10.004349717268378% finished\n",
            "20.008699434536755% finished\n",
            "30.01304915180513% finished\n",
            "40.01739886907351% finished\n",
            "50.021748586341886% finished\n",
            "60.02609830361026% finished\n",
            "70.03044802087864% finished\n",
            "80.03479773814702% finished\n",
            "90.0391474554154% finished\n"
          ],
          "name": "stdout"
        }
      ]
    },
    {
      "cell_type": "code",
      "metadata": {
        "colab_type": "code",
        "outputId": "c7fbfb4f-5308-4022-db43-9f0267aa9b27",
        "id": "FW6_Ssr3S5iM",
        "colab": {
          "base_uri": "https://localhost:8080/",
          "height": 34
        }
      },
      "source": [
        "# The value should be True\n",
        "len(input_data.sentence_embedding.iloc[0]) == 1 "
      ],
      "execution_count": 24,
      "outputs": [
        {
          "output_type": "execute_result",
          "data": {
            "text/plain": [
              "True"
            ]
          },
          "metadata": {
            "tags": []
          },
          "execution_count": 24
        }
      ]
    },
    {
      "cell_type": "code",
      "metadata": {
        "id": "VhwuPaxRlkyw",
        "colab_type": "code",
        "colab": {
          "base_uri": "https://localhost:8080/",
          "height": 195
        },
        "outputId": "13bd877e-f063-4e34-8d23-a1502e32f09b"
      },
      "source": [
        "# We used this here: https://stackoverflow.com/questions/45846189/how-to-delete-all-columns-in-dataframe-except-certain-ones\n",
        "input_data = input_data[['sentence_embedding','labels_encoded']]\n",
        "input_data.head()"
      ],
      "execution_count": 25,
      "outputs": [
        {
          "output_type": "execute_result",
          "data": {
            "text/html": [
              "<div>\n",
              "<style scoped>\n",
              "    .dataframe tbody tr th:only-of-type {\n",
              "        vertical-align: middle;\n",
              "    }\n",
              "\n",
              "    .dataframe tbody tr th {\n",
              "        vertical-align: top;\n",
              "    }\n",
              "\n",
              "    .dataframe thead th {\n",
              "        text-align: right;\n",
              "    }\n",
              "</style>\n",
              "<table border=\"1\" class=\"dataframe\">\n",
              "  <thead>\n",
              "    <tr style=\"text-align: right;\">\n",
              "      <th></th>\n",
              "      <th>sentence_embedding</th>\n",
              "      <th>labels_encoded</th>\n",
              "    </tr>\n",
              "  </thead>\n",
              "  <tbody>\n",
              "    <tr>\n",
              "      <th>0</th>\n",
              "      <td>[[0.009863429, -4.1575836e-06, 0.008913217, 0....</td>\n",
              "      <td>21</td>\n",
              "    </tr>\n",
              "    <tr>\n",
              "      <th>1</th>\n",
              "      <td>[[0.039715618, -1.4197368e-05, 0.017486058, 0....</td>\n",
              "      <td>21</td>\n",
              "    </tr>\n",
              "    <tr>\n",
              "      <th>2</th>\n",
              "      <td>[[0.012652903, -2.9125708e-06, 0.0009350272, 0...</td>\n",
              "      <td>21</td>\n",
              "    </tr>\n",
              "    <tr>\n",
              "      <th>3</th>\n",
              "      <td>[[0.014141707, -1.0407556e-05, 0.00032491196, ...</td>\n",
              "      <td>21</td>\n",
              "    </tr>\n",
              "    <tr>\n",
              "      <th>4</th>\n",
              "      <td>[[0.0115525685, 0.0019211376, 0.008262169, 0.0...</td>\n",
              "      <td>21</td>\n",
              "    </tr>\n",
              "  </tbody>\n",
              "</table>\n",
              "</div>"
            ],
            "text/plain": [
              "                                  sentence_embedding  labels_encoded\n",
              "0  [[0.009863429, -4.1575836e-06, 0.008913217, 0....              21\n",
              "1  [[0.039715618, -1.4197368e-05, 0.017486058, 0....              21\n",
              "2  [[0.012652903, -2.9125708e-06, 0.0009350272, 0...              21\n",
              "3  [[0.014141707, -1.0407556e-05, 0.00032491196, ...              21\n",
              "4  [[0.0115525685, 0.0019211376, 0.008262169, 0.0...              21"
            ]
          },
          "metadata": {
            "tags": []
          },
          "execution_count": 25
        }
      ]
    },
    {
      "cell_type": "code",
      "metadata": {
        "id": "aVay-66slkv8",
        "colab_type": "code",
        "colab": {}
      },
      "source": [
        "input_data.to_pickle('./pickle_data')"
      ],
      "execution_count": 0,
      "outputs": []
    },
    {
      "cell_type": "code",
      "metadata": {
        "id": "o9DFx5mUnkDe",
        "colab_type": "code",
        "colab": {}
      },
      "source": [
        "# Now hopefuly reading looks good as well\n",
        "input_new = pd.read_pickle('./pickle_data')"
      ],
      "execution_count": 0,
      "outputs": []
    },
    {
      "cell_type": "code",
      "metadata": {
        "id": "Ajg7FXMlqbTw",
        "colab_type": "code",
        "colab": {
          "base_uri": "https://localhost:8080/",
          "height": 195
        },
        "outputId": "b3d63e87-981f-4b7b-a3e0-d84ccea0dc62"
      },
      "source": [
        "input_new.head()"
      ],
      "execution_count": 37,
      "outputs": [
        {
          "output_type": "execute_result",
          "data": {
            "text/html": [
              "<div>\n",
              "<style scoped>\n",
              "    .dataframe tbody tr th:only-of-type {\n",
              "        vertical-align: middle;\n",
              "    }\n",
              "\n",
              "    .dataframe tbody tr th {\n",
              "        vertical-align: top;\n",
              "    }\n",
              "\n",
              "    .dataframe thead th {\n",
              "        text-align: right;\n",
              "    }\n",
              "</style>\n",
              "<table border=\"1\" class=\"dataframe\">\n",
              "  <thead>\n",
              "    <tr style=\"text-align: right;\">\n",
              "      <th></th>\n",
              "      <th>sentence_embedding</th>\n",
              "      <th>labels_encoded</th>\n",
              "    </tr>\n",
              "  </thead>\n",
              "  <tbody>\n",
              "    <tr>\n",
              "      <th>0</th>\n",
              "      <td>[[0.009863429, -4.1575836e-06, 0.008913217, 0....</td>\n",
              "      <td>21</td>\n",
              "    </tr>\n",
              "    <tr>\n",
              "      <th>1</th>\n",
              "      <td>[[0.039715618, -1.4197368e-05, 0.017486058, 0....</td>\n",
              "      <td>21</td>\n",
              "    </tr>\n",
              "    <tr>\n",
              "      <th>2</th>\n",
              "      <td>[[0.012652903, -2.9125708e-06, 0.0009350272, 0...</td>\n",
              "      <td>21</td>\n",
              "    </tr>\n",
              "    <tr>\n",
              "      <th>3</th>\n",
              "      <td>[[0.014141707, -1.0407556e-05, 0.00032491196, ...</td>\n",
              "      <td>21</td>\n",
              "    </tr>\n",
              "    <tr>\n",
              "      <th>4</th>\n",
              "      <td>[[0.0115525685, 0.0019211376, 0.008262169, 0.0...</td>\n",
              "      <td>21</td>\n",
              "    </tr>\n",
              "  </tbody>\n",
              "</table>\n",
              "</div>"
            ],
            "text/plain": [
              "                                  sentence_embedding  labels_encoded\n",
              "0  [[0.009863429, -4.1575836e-06, 0.008913217, 0....              21\n",
              "1  [[0.039715618, -1.4197368e-05, 0.017486058, 0....              21\n",
              "2  [[0.012652903, -2.9125708e-06, 0.0009350272, 0...              21\n",
              "3  [[0.014141707, -1.0407556e-05, 0.00032491196, ...              21\n",
              "4  [[0.0115525685, 0.0019211376, 0.008262169, 0.0...              21"
            ]
          },
          "metadata": {
            "tags": []
          },
          "execution_count": 37
        }
      ]
    },
    {
      "cell_type": "code",
      "metadata": {
        "id": "qembKcmXnxzH",
        "colab_type": "code",
        "colab": {
          "base_uri": "https://localhost:8080/",
          "height": 34
        },
        "outputId": "f6bd9020-e7dc-42f5-9899-7f0c6558674b"
      },
      "source": [
        "(input_new.labels_encoded != input_data.labels_encoded).sum()"
      ],
      "execution_count": 31,
      "outputs": [
        {
          "output_type": "execute_result",
          "data": {
            "text/plain": [
              "0"
            ]
          },
          "metadata": {
            "tags": []
          },
          "execution_count": 31
        }
      ]
    },
    {
      "cell_type": "code",
      "metadata": {
        "id": "3OpSomecoe3M",
        "colab_type": "code",
        "colab": {
          "base_uri": "https://localhost:8080/",
          "height": 34
        },
        "outputId": "ef674d3e-6613-4ee0-8048-9bcaf6988395"
      },
      "source": [
        "import numpy as np\n",
        "def check_equality(np_array1, np_array2):\n",
        "  return np.array_equal(np_array1, np_array2)\n",
        "\n",
        "def check_similarity(series1, series2):\n",
        "  \"\"\"\n",
        "    This is really really shitty way of doing the process but let us do it anyways\n",
        "  \"\"\"\n",
        "  if len(series1) != len(series2):\n",
        "    return False\n",
        "  for idx in range(len(series1)):\n",
        "    if not check_equality(series1.iloc[idx], series2.iloc[idx]):\n",
        "      return false\n",
        "  return True\n",
        "    \n",
        "print(check_similarity(input_data.sentence_embedding,input_new.sentence_embedding ))"
      ],
      "execution_count": 48,
      "outputs": [
        {
          "output_type": "stream",
          "text": [
            "True\n"
          ],
          "name": "stdout"
        }
      ]
    }
  ]
}