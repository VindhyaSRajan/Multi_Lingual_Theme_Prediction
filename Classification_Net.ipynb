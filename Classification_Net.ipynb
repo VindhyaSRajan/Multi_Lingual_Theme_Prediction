{
  "nbformat": 4,
  "nbformat_minor": 0,
  "metadata": {
    "colab": {
      "name": "Classification-Net",
      "version": "0.3.2",
      "provenance": [],
      "collapsed_sections": [
        "3kLxjnxIfa6U"
      ],
      "toc_visible": true,
      "include_colab_link": true
    },
    "kernelspec": {
      "name": "python3",
      "display_name": "Python 3"
    },
    "accelerator": "GPU"
  },
  "cells": [
    {
      "cell_type": "markdown",
      "metadata": {
        "id": "view-in-github",
        "colab_type": "text"
      },
      "source": [
        "<a href=\"https://colab.research.google.com/github/chinmay5/NLP-Praktikum/blob/sentence_embedding/Classification_Net.ipynb\" target=\"_parent\"><img src=\"https://colab.research.google.com/assets/colab-badge.svg\" alt=\"Open In Colab\"/></a>"
      ]
    },
    {
      "cell_type": "code",
      "metadata": {
        "id": "daymP20xX_7T",
        "colab_type": "code",
        "colab": {}
      },
      "source": [
        "import seaborn as sns\n",
        "import matplotlib.pyplot as plt \n",
        "from torch.utils.data import Dataset\n",
        "import numpy as np\n",
        "import pandas as pd\n",
        "from sklearn.preprocessing import LabelEncoder\n",
        "from pandas import Series\n",
        "from google.colab import drive\n",
        "from torch.utils.data import DataLoader\n",
        "import torch.nn as nn\n",
        "import torch.nn.functional as F\n",
        "import torch\n",
        "import torch.optim as optim\n",
        "from torch.optim import lr_scheduler\n",
        "from tensorflow import summary\n",
        "from torch.utils.data import BatchSampler\n",
        "from collections import Counter\n",
        "from sklearn.metrics import f1_score,accuracy_score, confusion_matrix, classification_report\n",
        "from torch.utils.tensorboard import SummaryWriter\n",
        "import sklearn.metrics as metrics\n",
        "from sklearn.metrics import roc_curve, auc\n",
        "from sklearn.preprocessing import label_binarize"
      ],
      "execution_count": 0,
      "outputs": []
    },
    {
      "cell_type": "code",
      "metadata": {
        "id": "e-J64A0YqMvJ",
        "colab_type": "code",
        "colab": {}
      },
      "source": [
        "# Dictionary for label to index, this has been pre-generated\n",
        "encoding_to_labels = {\n",
        "   0:\t\"Amazon Instant Videos\",\n",
        "   1 :\"Android Apps\",\n",
        "   2 : \"Automotive\",\n",
        "   3 :\"Baby\",\n",
        "   4 :\"Beauty\",\n",
        "   5 :\"CDs and Vinyl\",\n",
        "   6 :\"Cell Phones and Accessories\",\n",
        "   7 :\"Clothing, Shoes, Jewelry\",\n",
        "   8 :\"Digital Music\",\n",
        "   9 :\"Electronics\",\n",
        "  10 :\"Grocery and Gourmet\",\n",
        "  11 :\"Health and Personal Care\",\n",
        "  12 :\"Home and Kitchen\",\n",
        "  13 :\"Kindle\",\n",
        "  14 :\"Movies and TV\",\n",
        "  15 :\"Musical Instruments\",\n",
        "  16 :\"Office Products\",\n",
        "  17 :\"Patio Garden\",\n",
        "  18 :\"Pet Supplies\",\n",
        "  19 :\"Sports, Outdoors\",\n",
        "  20 :\"Tool and Home Improvement\",\n",
        "  21 :\"Toys_and_Games\",\n",
        "  22 :\"Video Games\"\n",
        "}"
      ],
      "execution_count": 0,
      "outputs": []
    },
    {
      "cell_type": "code",
      "metadata": {
        "id": "E-JUCiTYsRWV",
        "colab_type": "code",
        "colab": {}
      },
      "source": [
        "def get_lebel_from_code(code):\n",
        "  if code not in encoding_to_labels.keys():\n",
        "    raise KeyError(\"Invalid Code\")\n",
        "  return encoding_to_labels[code]\n",
        "\n",
        "def get_all_labels():\n",
        "  return list(encoding_to_labels.values())"
      ],
      "execution_count": 0,
      "outputs": []
    },
    {
      "cell_type": "code",
      "metadata": {
        "id": "ERTjB0zztxnN",
        "colab_type": "code",
        "outputId": "488b157f-9027-4ff9-e70f-0db859285682",
        "colab": {
          "base_uri": "https://localhost:8080/",
          "height": 124
        }
      },
      "source": [
        "# Run this cell to mount your Google Drive.\n",
        "drive.mount('/content/drive')"
      ],
      "execution_count": 15,
      "outputs": [
        {
          "output_type": "stream",
          "text": [
            "Go to this URL in a browser: https://accounts.google.com/o/oauth2/auth?client_id=947318989803-6bn6qk8qdgf4n4g3pfee6491hc0brc4i.apps.googleusercontent.com&redirect_uri=urn%3Aietf%3Awg%3Aoauth%3A2.0%3Aoob&scope=email%20https%3A%2F%2Fwww.googleapis.com%2Fauth%2Fdocs.test%20https%3A%2F%2Fwww.googleapis.com%2Fauth%2Fdrive%20https%3A%2F%2Fwww.googleapis.com%2Fauth%2Fdrive.photos.readonly%20https%3A%2F%2Fwww.googleapis.com%2Fauth%2Fpeopleapi.readonly&response_type=code\n",
            "\n",
            "Enter your authorization code:\n",
            "··········\n",
            "Mounted at /content/drive\n"
          ],
          "name": "stdout"
        }
      ]
    },
    {
      "cell_type": "code",
      "metadata": {
        "colab_type": "code",
        "id": "6Vo2FWUWwnbv",
        "outputId": "cedb29da-0f85-452c-ec43-8c2343d67d4c",
        "colab": {
          "base_uri": "https://localhost:8080/",
          "height": 35
        }
      },
      "source": [
        "%cd /content/\n",
        "test_data = pd.read_pickle('/content/drive/My Drive/dtest_20k_accuracytest_encoded_labelsmappedandreduced.pkl')"
      ],
      "execution_count": 16,
      "outputs": [
        {
          "output_type": "stream",
          "text": [
            "/content\n"
          ],
          "name": "stdout"
        }
      ]
    },
    {
      "cell_type": "code",
      "metadata": {
        "id": "lptdySB3giiT",
        "colab_type": "code",
        "outputId": "128fedd1-604c-4b3c-db04-9fca3d313bff",
        "colab": {
          "base_uri": "https://localhost:8080/",
          "height": 202
        }
      },
      "source": [
        "test_data.head()"
      ],
      "execution_count": 17,
      "outputs": [
        {
          "output_type": "execute_result",
          "data": {
            "text/html": [
              "<div>\n",
              "<style scoped>\n",
              "    .dataframe tbody tr th:only-of-type {\n",
              "        vertical-align: middle;\n",
              "    }\n",
              "\n",
              "    .dataframe tbody tr th {\n",
              "        vertical-align: top;\n",
              "    }\n",
              "\n",
              "    .dataframe thead th {\n",
              "        text-align: right;\n",
              "    }\n",
              "</style>\n",
              "<table border=\"1\" class=\"dataframe\">\n",
              "  <thead>\n",
              "    <tr style=\"text-align: right;\">\n",
              "      <th></th>\n",
              "      <th>sentence_embedding</th>\n",
              "      <th>labels_encoded</th>\n",
              "    </tr>\n",
              "  </thead>\n",
              "  <tbody>\n",
              "    <tr>\n",
              "      <th>0</th>\n",
              "      <td>[[0.020630155, -5.427392e-05, -0.0005429585, 0...</td>\n",
              "      <td>2</td>\n",
              "    </tr>\n",
              "    <tr>\n",
              "      <th>1</th>\n",
              "      <td>[[0.009404534, -0.00013506821, 0.0029931439, 0...</td>\n",
              "      <td>2</td>\n",
              "    </tr>\n",
              "    <tr>\n",
              "      <th>2</th>\n",
              "      <td>[[0.0118809715, -1.7096989e-05, 0.017329859, 0...</td>\n",
              "      <td>2</td>\n",
              "    </tr>\n",
              "    <tr>\n",
              "      <th>3</th>\n",
              "      <td>[[0.013619319, -0.000120394856, -0.00017446173...</td>\n",
              "      <td>2</td>\n",
              "    </tr>\n",
              "    <tr>\n",
              "      <th>4</th>\n",
              "      <td>[[0.013776152, 0.0014088053, 0.0023799718, 0.0...</td>\n",
              "      <td>2</td>\n",
              "    </tr>\n",
              "  </tbody>\n",
              "</table>\n",
              "</div>"
            ],
            "text/plain": [
              "                                  sentence_embedding  labels_encoded\n",
              "0  [[0.020630155, -5.427392e-05, -0.0005429585, 0...               2\n",
              "1  [[0.009404534, -0.00013506821, 0.0029931439, 0...               2\n",
              "2  [[0.0118809715, -1.7096989e-05, 0.017329859, 0...               2\n",
              "3  [[0.013619319, -0.000120394856, -0.00017446173...               2\n",
              "4  [[0.013776152, 0.0014088053, 0.0023799718, 0.0...               2"
            ]
          },
          "metadata": {
            "tags": []
          },
          "execution_count": 17
        }
      ]
    },
    {
      "cell_type": "code",
      "metadata": {
        "colab_type": "code",
        "id": "5XVwbe1mwnb2",
        "outputId": "24bd42bb-94bb-4bc6-f584-f8297ec9e9ab",
        "colab": {
          "base_uri": "https://localhost:8080/",
          "height": 35
        }
      },
      "source": [
        "len(test_data)\n",
        "# test_data.columns"
      ],
      "execution_count": 18,
      "outputs": [
        {
          "output_type": "execute_result",
          "data": {
            "text/plain": [
              "13184"
            ]
          },
          "metadata": {
            "tags": []
          },
          "execution_count": 18
        }
      ]
    },
    {
      "cell_type": "code",
      "metadata": {
        "id": "kLsdLnjKiAr-",
        "colab_type": "code",
        "colab": {}
      },
      "source": [
        "def random_selection(data_frame, num_samples):\n",
        "  sampled_df = data_frame.sample(n=num_samples)\n",
        "  return sampled_df"
      ],
      "execution_count": 0,
      "outputs": []
    },
    {
      "cell_type": "code",
      "metadata": {
        "id": "IuGOnw02iwOb",
        "colab_type": "code",
        "colab": {
          "base_uri": "https://localhost:8080/",
          "height": 35
        },
        "outputId": "63b778e9-b149-401d-c98a-2c533c77d35a"
      },
      "source": [
        "class_list = set(test_data.labels_encoded)\n",
        "class_list"
      ],
      "execution_count": 20,
      "outputs": [
        {
          "output_type": "execute_result",
          "data": {
            "text/plain": [
              "{0, 1, 2, 3, 5, 7, 8, 9, 13, 14, 15, 19, 21, 22}"
            ]
          },
          "metadata": {
            "tags": []
          },
          "execution_count": 20
        }
      ]
    },
    {
      "cell_type": "code",
      "metadata": {
        "id": "BaHi2dZ9hInA",
        "colab_type": "code",
        "colab": {
          "base_uri": "https://localhost:8080/",
          "height": 35
        },
        "outputId": "2bc83c1b-4ec7-4190-87ef-f3e2344deec8"
      },
      "source": [
        "df_per_class_dict = dict()\n",
        "for label_type in class_list:\n",
        "    df_per_class_dict[label_type] = test_data[test_data.labels_encoded == label_type]\n",
        "    \n",
        "df_per_class_dict.keys() "
      ],
      "execution_count": 21,
      "outputs": [
        {
          "output_type": "execute_result",
          "data": {
            "text/plain": [
              "dict_keys([0, 1, 2, 3, 5, 7, 8, 9, 13, 14, 15, 19, 21, 22])"
            ]
          },
          "metadata": {
            "tags": []
          },
          "execution_count": 21
        }
      ]
    },
    {
      "cell_type": "code",
      "metadata": {
        "id": "rwbsYlEZoyuV",
        "colab_type": "code",
        "colab": {
          "base_uri": "https://localhost:8080/",
          "height": 260
        },
        "outputId": "83408df6-132e-48ce-9e7f-3d4acf248cb3"
      },
      "source": [
        "for key, val in df_per_class_dict.items():\n",
        "  print(\"Key has {} and length of list is {}\".format(key, len(val)))"
      ],
      "execution_count": 22,
      "outputs": [
        {
          "output_type": "stream",
          "text": [
            "Key has 0 and length of list is 999\n",
            "Key has 1 and length of list is 999\n",
            "Key has 2 and length of list is 402\n",
            "Key has 3 and length of list is 794\n",
            "Key has 5 and length of list is 999\n",
            "Key has 7 and length of list is 999\n",
            "Key has 8 and length of list is 999\n",
            "Key has 9 and length of list is 999\n",
            "Key has 13 and length of list is 999\n",
            "Key has 14 and length of list is 999\n",
            "Key has 15 and length of list is 999\n",
            "Key has 19 and length of list is 999\n",
            "Key has 21 and length of list is 999\n",
            "Key has 22 and length of list is 999\n"
          ],
          "name": "stdout"
        }
      ]
    },
    {
      "cell_type": "code",
      "metadata": {
        "id": "1cyvqVc_n2K_",
        "colab_type": "code",
        "colab": {}
      },
      "source": [
        "num_samples_per_class = 10"
      ],
      "execution_count": 0,
      "outputs": []
    },
    {
      "cell_type": "code",
      "metadata": {
        "id": "4ctQNJu9kBh2",
        "colab_type": "code",
        "colab": {}
      },
      "source": [
        "# https://pandas.pydata.org/pandas-docs/version/0.18/merging.html\n",
        "def create_random_frame(df_per_class, num_samples):\n",
        "    list_of_seed_df = []\n",
        "    list_of_test_df = []\n",
        "    for cat,data_frame_of_class in df_per_class.items():\n",
        "        random_df = random_selection(data_frame_of_class, num_samples)\n",
        "        # https://stackoverflow.com/questions/42363706/how-to-extract-rows-in-a-pandas-dataframe-not-in-a-subset-dataframe\n",
        "        extract_idx = list(set(data_frame_of_class.index) - set(random_df.index))\n",
        "        remaining_terms = data_frame_of_class.loc[extract_idx]\n",
        "        list_of_seed_df.append(random_df)\n",
        "        list_of_test_df.append(remaining_terms)\n",
        "    train_set_df = pd.concat(list_of_seed_df)\n",
        "    test_set_df = pd.concat(list_of_test_df)\n",
        "    return train_set_df, test_set_df"
      ],
      "execution_count": 0,
      "outputs": []
    },
    {
      "cell_type": "code",
      "metadata": {
        "id": "FE3ECzPNoECf",
        "colab_type": "code",
        "colab": {}
      },
      "source": [
        "train_df, test_df = create_random_frame(df_per_class_dict, num_samples_per_class)"
      ],
      "execution_count": 0,
      "outputs": []
    },
    {
      "cell_type": "code",
      "metadata": {
        "id": "yx7WPaTzn8mo",
        "colab_type": "code",
        "colab": {
          "base_uri": "https://localhost:8080/",
          "height": 509
        },
        "outputId": "ea9892ba-a69b-4218-afe6-3823a2ffa127"
      },
      "source": [
        "train_df.groupby(train_df.labels_encoded).count()"
      ],
      "execution_count": 45,
      "outputs": [
        {
          "output_type": "execute_result",
          "data": {
            "text/html": [
              "<div>\n",
              "<style scoped>\n",
              "    .dataframe tbody tr th:only-of-type {\n",
              "        vertical-align: middle;\n",
              "    }\n",
              "\n",
              "    .dataframe tbody tr th {\n",
              "        vertical-align: top;\n",
              "    }\n",
              "\n",
              "    .dataframe thead th {\n",
              "        text-align: right;\n",
              "    }\n",
              "</style>\n",
              "<table border=\"1\" class=\"dataframe\">\n",
              "  <thead>\n",
              "    <tr style=\"text-align: right;\">\n",
              "      <th></th>\n",
              "      <th>sentence_embedding</th>\n",
              "    </tr>\n",
              "    <tr>\n",
              "      <th>labels_encoded</th>\n",
              "      <th></th>\n",
              "    </tr>\n",
              "  </thead>\n",
              "  <tbody>\n",
              "    <tr>\n",
              "      <th>0</th>\n",
              "      <td>10</td>\n",
              "    </tr>\n",
              "    <tr>\n",
              "      <th>1</th>\n",
              "      <td>10</td>\n",
              "    </tr>\n",
              "    <tr>\n",
              "      <th>2</th>\n",
              "      <td>10</td>\n",
              "    </tr>\n",
              "    <tr>\n",
              "      <th>3</th>\n",
              "      <td>10</td>\n",
              "    </tr>\n",
              "    <tr>\n",
              "      <th>5</th>\n",
              "      <td>10</td>\n",
              "    </tr>\n",
              "    <tr>\n",
              "      <th>7</th>\n",
              "      <td>10</td>\n",
              "    </tr>\n",
              "    <tr>\n",
              "      <th>8</th>\n",
              "      <td>10</td>\n",
              "    </tr>\n",
              "    <tr>\n",
              "      <th>9</th>\n",
              "      <td>10</td>\n",
              "    </tr>\n",
              "    <tr>\n",
              "      <th>13</th>\n",
              "      <td>10</td>\n",
              "    </tr>\n",
              "    <tr>\n",
              "      <th>14</th>\n",
              "      <td>10</td>\n",
              "    </tr>\n",
              "    <tr>\n",
              "      <th>15</th>\n",
              "      <td>10</td>\n",
              "    </tr>\n",
              "    <tr>\n",
              "      <th>19</th>\n",
              "      <td>10</td>\n",
              "    </tr>\n",
              "    <tr>\n",
              "      <th>21</th>\n",
              "      <td>10</td>\n",
              "    </tr>\n",
              "    <tr>\n",
              "      <th>22</th>\n",
              "      <td>10</td>\n",
              "    </tr>\n",
              "  </tbody>\n",
              "</table>\n",
              "</div>"
            ],
            "text/plain": [
              "                sentence_embedding\n",
              "labels_encoded                    \n",
              "0                               10\n",
              "1                               10\n",
              "2                               10\n",
              "3                               10\n",
              "5                               10\n",
              "7                               10\n",
              "8                               10\n",
              "9                               10\n",
              "13                              10\n",
              "14                              10\n",
              "15                              10\n",
              "19                              10\n",
              "21                              10\n",
              "22                              10"
            ]
          },
          "metadata": {
            "tags": []
          },
          "execution_count": 45
        }
      ]
    },
    {
      "cell_type": "code",
      "metadata": {
        "id": "ev0UhPKLrq__",
        "colab_type": "code",
        "colab": {
          "base_uri": "https://localhost:8080/",
          "height": 509
        },
        "outputId": "f3a5bcfe-c19d-48e5-abd8-86813448eef5"
      },
      "source": [
        "test_df.groupby(test_df.labels_encoded).count()"
      ],
      "execution_count": 46,
      "outputs": [
        {
          "output_type": "execute_result",
          "data": {
            "text/html": [
              "<div>\n",
              "<style scoped>\n",
              "    .dataframe tbody tr th:only-of-type {\n",
              "        vertical-align: middle;\n",
              "    }\n",
              "\n",
              "    .dataframe tbody tr th {\n",
              "        vertical-align: top;\n",
              "    }\n",
              "\n",
              "    .dataframe thead th {\n",
              "        text-align: right;\n",
              "    }\n",
              "</style>\n",
              "<table border=\"1\" class=\"dataframe\">\n",
              "  <thead>\n",
              "    <tr style=\"text-align: right;\">\n",
              "      <th></th>\n",
              "      <th>sentence_embedding</th>\n",
              "    </tr>\n",
              "    <tr>\n",
              "      <th>labels_encoded</th>\n",
              "      <th></th>\n",
              "    </tr>\n",
              "  </thead>\n",
              "  <tbody>\n",
              "    <tr>\n",
              "      <th>0</th>\n",
              "      <td>989</td>\n",
              "    </tr>\n",
              "    <tr>\n",
              "      <th>1</th>\n",
              "      <td>989</td>\n",
              "    </tr>\n",
              "    <tr>\n",
              "      <th>2</th>\n",
              "      <td>392</td>\n",
              "    </tr>\n",
              "    <tr>\n",
              "      <th>3</th>\n",
              "      <td>784</td>\n",
              "    </tr>\n",
              "    <tr>\n",
              "      <th>5</th>\n",
              "      <td>989</td>\n",
              "    </tr>\n",
              "    <tr>\n",
              "      <th>7</th>\n",
              "      <td>989</td>\n",
              "    </tr>\n",
              "    <tr>\n",
              "      <th>8</th>\n",
              "      <td>989</td>\n",
              "    </tr>\n",
              "    <tr>\n",
              "      <th>9</th>\n",
              "      <td>989</td>\n",
              "    </tr>\n",
              "    <tr>\n",
              "      <th>13</th>\n",
              "      <td>989</td>\n",
              "    </tr>\n",
              "    <tr>\n",
              "      <th>14</th>\n",
              "      <td>989</td>\n",
              "    </tr>\n",
              "    <tr>\n",
              "      <th>15</th>\n",
              "      <td>989</td>\n",
              "    </tr>\n",
              "    <tr>\n",
              "      <th>19</th>\n",
              "      <td>989</td>\n",
              "    </tr>\n",
              "    <tr>\n",
              "      <th>21</th>\n",
              "      <td>989</td>\n",
              "    </tr>\n",
              "    <tr>\n",
              "      <th>22</th>\n",
              "      <td>989</td>\n",
              "    </tr>\n",
              "  </tbody>\n",
              "</table>\n",
              "</div>"
            ],
            "text/plain": [
              "                sentence_embedding\n",
              "labels_encoded                    \n",
              "0                              989\n",
              "1                              989\n",
              "2                              392\n",
              "3                              784\n",
              "5                              989\n",
              "7                              989\n",
              "8                              989\n",
              "9                              989\n",
              "13                             989\n",
              "14                             989\n",
              "15                             989\n",
              "19                             989\n",
              "21                             989\n",
              "22                             989"
            ]
          },
          "metadata": {
            "tags": []
          },
          "execution_count": 46
        }
      ]
    },
    {
      "cell_type": "code",
      "metadata": {
        "id": "rE9hfpyts0Pr",
        "colab_type": "code",
        "colab": {
          "base_uri": "https://localhost:8080/",
          "height": 35
        },
        "outputId": "9f246c6b-d335-40fe-fa72-a58ac6a83371"
      },
      "source": [
        "(train_df.sentence_embedding.isin(test_df.sentence_embedding)).sum() == 0"
      ],
      "execution_count": 47,
      "outputs": [
        {
          "output_type": "execute_result",
          "data": {
            "text/plain": [
              "True"
            ]
          },
          "metadata": {
            "tags": []
          },
          "execution_count": 47
        }
      ]
    },
    {
      "cell_type": "markdown",
      "metadata": {
        "id": "SHPAPG1ogqiO",
        "colab_type": "text"
      },
      "source": [
        "# The three networks that need to be loaded"
      ]
    },
    {
      "cell_type": "code",
      "metadata": {
        "id": "vbJFhGMaM-A3",
        "colab_type": "code",
        "colab": {}
      },
      "source": [
        "class TripletNetwork(nn.Module):\n",
        "    \n",
        "    def __init__(self):\n",
        "        super(TripletNetwork, self).__init__()\n",
        "\n",
        "        self.input_dim=1024\n",
        "        self.fc = nn.Sequential(nn.Linear(1024, 512),\n",
        "                                  nn.BatchNorm1d(num_features=512),\n",
        "                                  nn.ReLU(),\n",
        "                                  #nn.Dropout(),\n",
        "                                  nn.Linear(512,256),\n",
        "                                  nn.BatchNorm1d(num_features=256),\n",
        "                                  nn.ReLU(),\n",
        "                                  #nn.Dropout(p=0.6),\n",
        "                                  nn.Linear(256,64) #earlier 64\n",
        "                               )\n",
        "       \n",
        "    def forward(self, x1, x2, x3):\n",
        "       \n",
        "        \"\"\"\n",
        "          We updated the network now and are directly getting the sentence embeddings\n",
        "        \"\"\"\n",
        "        # These are the embeddings and what we want to achieve is to make\n",
        "        # these embeddings which should be in the same region denoting their language to\n",
        "        # fall a bit away based on the task at hand\n",
        "        output1 = self.fc(x1.cuda())\n",
        "        output2 = self.fc(x2.cuda())\n",
        "        output3 = self.fc(x3.cuda())\n",
        "        \n",
        "        return (output1, output2, output3)\n",
        "\n",
        "    def get_embedding(self, x):\n",
        "        return self.encoder.encode_sentences(sentences = x)"
      ],
      "execution_count": 0,
      "outputs": []
    },
    {
      "cell_type": "code",
      "metadata": {
        "id": "mVI_Mn79OkcA",
        "colab_type": "code",
        "colab": {}
      },
      "source": [
        "class ClassificationNet(nn.Module):\n",
        "  \n",
        "\n",
        "  def __init__(self, embedding_network, num_classes):\n",
        "    super(ClassificationNet, self).__init__()\n",
        "    self.embedding_network = embedding_network #We would like to freeze these embeddings\n",
        "    self.num_classes = num_classes\n",
        "    self.nonlinear = nn.ReLU()\n",
        "    self.fc1 = nn.Linear(64, 64)\n",
        "    self.fc2 = nn.Linear(64, 32)\n",
        "    self.fc3 = nn.Linear(32, self.num_classes)\n",
        "    # Freeze the weights of this network\n",
        "    \"\"\" This attempt is to first allow classification network to train\"\"\"\n",
        "    for param in self.embedding_network.fc.parameters():\n",
        "           param.requires_grad = False\n",
        "    \n",
        "  \n",
        "\n",
        "  def forward(self,x):\n",
        "    x = self.embedding_network.fc(x)\n",
        "    x = self.fc1(self.nonlinear(x))\n",
        "    x = self.fc2(self.nonlinear(x))\n",
        "    x = self.fc3(self.nonlinear(x))\n",
        "    return x"
      ],
      "execution_count": 0,
      "outputs": []
    },
    {
      "cell_type": "code",
      "metadata": {
        "id": "dX8B_3GoT9c7",
        "colab_type": "code",
        "colab": {}
      },
      "source": [
        "# We need to define a specific dataloader in this case, which shall be frankly, quite simple and dummy\n",
        "class SoftmaxDataset(Dataset):\n",
        "    \"\"\"\n",
        "    Train: For each sample (anchor) randomly chooses a positive and negative samples\n",
        "    Test: Creates fixed triplets for testing\n",
        "    \"\"\"\n",
        "\n",
        "    def __init__(self, dataset, select_column):\n",
        "         \n",
        "        \n",
        "        self.dataset = dataset\n",
        "        self.train_labels = self.dataset.labels_encoded\n",
        "            # Drop the labels column so that remaining features form part of the training set\n",
        "        self.dataset = self.dataset.drop('labels_encoded', axis=1)\n",
        "        self.train_data = self.dataset\n",
        "        self.select_column = select_column\n",
        "       \n",
        "    def __getitem__(self, index):\n",
        "        #print(type(self.train_data))\n",
        "        selected_frame, label = self.train_data.iloc[index], self.train_labels.iloc[index]\n",
        "        str_data = selected_frame[self.select_column]\n",
        "\n",
        "        return str_data, label\n",
        "\n",
        "    def __len__(self):\n",
        "        return len(self.dataset)"
      ],
      "execution_count": 0,
      "outputs": []
    },
    {
      "cell_type": "markdown",
      "metadata": {
        "id": "UQ1lLYsyvIzg",
        "colab_type": "text"
      },
      "source": [
        "# Classification Network"
      ]
    },
    {
      "cell_type": "code",
      "metadata": {
        "id": "ZC0nL-sYSOcf",
        "colab_type": "code",
        "colab": {}
      },
      "source": [
        "# Global declarations\n",
        "num_classes=23\n",
        "num_epochs = 20\n",
        "batch_size = 100"
      ],
      "execution_count": 0,
      "outputs": []
    },
    {
      "cell_type": "code",
      "metadata": {
        "colab_type": "code",
        "id": "MjSwcL7J0zZm",
        "outputId": "25c064ab-9bf3-4cc3-b5b1-2190eb6f5478",
        "colab": {
          "base_uri": "https://localhost:8080/",
          "height": 208
        }
      },
      "source": [
        "# Load a pre-existing model \n",
        "PATH = '/content/11-model-GOOD.pth'\n",
        "model = TripletNetwork()\n",
        "model.load_state_dict(torch.load(PATH))\n",
        "model.cuda()"
      ],
      "execution_count": 0,
      "outputs": [
        {
          "output_type": "execute_result",
          "data": {
            "text/plain": [
              "TripletNetwork(\n",
              "  (fc): Sequential(\n",
              "    (0): Linear(in_features=1024, out_features=512, bias=True)\n",
              "    (1): BatchNorm1d(512, eps=1e-05, momentum=0.1, affine=True, track_running_stats=True)\n",
              "    (2): ReLU()\n",
              "    (3): Linear(in_features=512, out_features=256, bias=True)\n",
              "    (4): BatchNorm1d(256, eps=1e-05, momentum=0.1, affine=True, track_running_stats=True)\n",
              "    (5): ReLU()\n",
              "    (6): Linear(in_features=256, out_features=64, bias=True)\n",
              "  )\n",
              ")"
            ]
          },
          "metadata": {
            "tags": []
          },
          "execution_count": 17
        }
      ]
    },
    {
      "cell_type": "code",
      "metadata": {
        "id": "TzXYFUDYRZtZ",
        "colab_type": "code",
        "colab": {}
      },
      "source": [
        "num_classes = 23\n",
        "net = ClassificationNet(embedding_network=model, num_classes=num_classes)\n",
        "net.cuda()"
      ],
      "execution_count": 0,
      "outputs": []
    },
    {
      "cell_type": "code",
      "metadata": {
        "id": "m4kYkHpsRaoR",
        "colab_type": "code",
        "colab": {}
      },
      "source": [
        "criterion = nn.CrossEntropyLoss()\n",
        "optimizer = optim.Adam(net.parameters(), lr=1e-3)"
      ],
      "execution_count": 0,
      "outputs": []
    },
    {
      "cell_type": "code",
      "metadata": {
        "id": "ptV1nJq2YM4-",
        "colab_type": "code",
        "colab": {}
      },
      "source": [
        "softmax_train_dataset = SoftmaxDataset(dataset=data_train,select_column='sentence_embedding')\n",
        "softmax_test_dataset = SoftmaxDataset(dataset=data_test,select_column='sentence_embedding')\n",
        "# Now the dataloaders need to be defined as well\n",
        "classification_train_loader = DataLoader(softmax_train_dataset, batch_size=batch_size,shuffle=True)\n",
        "classification_test_loader = DataLoader(softmax_test_dataset, batch_size=batch_size,shuffle=True)"
      ],
      "execution_count": 0,
      "outputs": []
    },
    {
      "cell_type": "code",
      "metadata": {
        "colab_type": "code",
        "id": "WfPWuYg3GkKg",
        "colab": {}
      },
      "source": [
        "train_writer = SummaryWriter('/content/logs/tensorboard/train/')\n",
        "val_writer = SummaryWriter('/content/logs/tensorboard/val/')"
      ],
      "execution_count": 0,
      "outputs": []
    },
    {
      "cell_type": "code",
      "metadata": {
        "id": "OXkjJP4dQ0m1",
        "colab_type": "code",
        "colab": {}
      },
      "source": [
        "# Next we need to train this network in order to learn the weights of the fc layer and cross entropy weights\n",
        "for epoch in range(num_epochs):  # loop over the dataset multiple times\n",
        "    correct = 0\n",
        "    total = 0\n",
        "    running_loss = 0.0\n",
        "    for i, data in enumerate(classification_train_loader, 0):\n",
        "        # get the inputs; data is a list of [inputs, labels]\n",
        "        inputs, labels = data\n",
        "        inputs = inputs.cuda()\n",
        "        labels = labels.cuda()\n",
        "        #reshape the input to align\n",
        "        batch_size = inputs.shape[0]\n",
        "        inputs = inputs.reshape(batch_size,-1)\n",
        "        # zero the parameter gradients\n",
        "        optimizer.zero_grad()\n",
        "        # forward + backward + optimize\n",
        "        outputs = net(inputs)\n",
        "        loss = criterion(outputs, labels)\n",
        "        loss.backward()\n",
        "        optimizer.step()\n",
        "        # Write the scalars\n",
        "        running_loss += loss.item()\n",
        "        _, predicted = torch.max(outputs.data, 1)\n",
        "        total += labels.size(0)\n",
        "        correct += (predicted == labels).cpu().sum().item()\n",
        "    print(\"loss is {}\".format(running_loss/total))   \n",
        "    print('Accuracy of the network on the train samples: {} '.format((100 * correct / total)))\n",
        "    train_writer.add_scalar('Loss', running_loss/total,epoch)\n",
        "    train_writer.add_scalar('Accuracy', 100*correct/total,epoch)\n",
        "    # Now this is the section for testing the model in the same epoch\n",
        "    correct = 0\n",
        "    total = 0\n",
        "    loss_val = 0\n",
        "    with torch.no_grad():\n",
        "        for data in classification_test_loader:\n",
        "            inputs, labels = data\n",
        "            inputs = inputs.cuda()\n",
        "            batch_size = inputs.shape[0]\n",
        "            inputs = inputs.reshape(batch_size,-1)\n",
        "            # Next the evaluation\n",
        "            outputs = net(inputs)\n",
        "            labels = labels.cuda()\n",
        "            loss = criterion(outputs, labels)\n",
        "            loss_val = loss_val + loss.item()\n",
        "            _, predicted = torch.max(outputs.data, 1)\n",
        "            total += labels.size(0)\n",
        "            correct += (predicted == labels).cpu().sum().item()\n",
        "            \n",
        "    print('Accuracy of the network on the test samples:{}'.format(\n",
        "        (100 * correct / total)))\n",
        "    print(\"epoch is {} loss validation set is {}\".format(epoch, loss_val/total)) \n",
        "    torch.save(net.state_dict(), '/content/{}-classifier.pth'.format(epoch))\n",
        "    val_writer.add_scalar('Loss', loss_val/total,epoch)\n",
        "    val_writer.add_scalar('Accuracy', 100*correct/total,epoch)\n",
        "print('Finished Training')"
      ],
      "execution_count": 0,
      "outputs": []
    },
    {
      "cell_type": "code",
      "metadata": {
        "colab_type": "code",
        "id": "rct7EmUMGzHI",
        "colab": {}
      },
      "source": [
        "%tensorboard --logdir /content/logs/tensorboard"
      ],
      "execution_count": 0,
      "outputs": []
    },
    {
      "cell_type": "markdown",
      "metadata": {
        "id": "0OlV5dgdfHKz",
        "colab_type": "text"
      },
      "source": [
        "# The Classification Dataset Evaluation"
      ]
    },
    {
      "cell_type": "code",
      "metadata": {
        "id": "uCnOhz2Yg3T6",
        "colab_type": "code",
        "colab": {}
      },
      "source": [
        "# First load the best model based on the classification scenario above\n",
        "net = ClassificationNet(embedding_network=model, num_classes=num_classes)\n",
        "PATH = '/content/4-classifier.pth'\n",
        "net.load_state_dict(torch.load(PATH))\n",
        "net.cuda()"
      ],
      "execution_count": 0,
      "outputs": []
    },
    {
      "cell_type": "code",
      "metadata": {
        "id": "zsGspogEg3dW",
        "colab_type": "code",
        "colab": {}
      },
      "source": [
        "# TODO: Still not ready. Please refer to the KNN part for now\n",
        "all_labels = []\n",
        "all_predictions=[]\n",
        "with torch.no_grad():\n",
        "    for data in classification_test_loader:\n",
        "        inputs, labels = data\n",
        "        inputs = inputs.cuda()\n",
        "        batch_size = inputs.shape[0]\n",
        "        inputs = inputs.reshape(batch_size,-1)\n",
        "        # Next the evaluation\n",
        "        outputs = net(inputs)\n",
        "        labels = labels.cuda()\n",
        "        loss = criterion(outputs, labels)\n",
        "        loss_val = loss_val + loss.item()\n",
        "        _, predicted = torch.max(outputs.data, 1)\n",
        "        for idx in range(batch_size):\n",
        "            all_predictions.append(predicted[idx].item())\n",
        "            all_labels.append(labels[idx].item())\n"
      ],
      "execution_count": 0,
      "outputs": []
    },
    {
      "cell_type": "code",
      "metadata": {
        "colab_type": "code",
        "id": "7IOcTdmFInnH",
        "colab": {}
      },
      "source": [
        "labels = list(set(data_train.labels_encoded))\n",
        "cm = confusion_matrix(all_labels, all_predictions, labels)"
      ],
      "execution_count": 0,
      "outputs": []
    },
    {
      "cell_type": "code",
      "metadata": {
        "colab_type": "code",
        "id": "JClpBpSJK-sD",
        "colab": {}
      },
      "source": [
        "fig = plt.figure()\n",
        "ax = fig.add_subplot(111)\n",
        "cax = ax.matshow(cm)\n",
        "plt.title('Confusion matrix of the classifier')\n",
        "fig.colorbar(cax)\n",
        "ax.set_xticklabels([''] + get_all_labels())\n",
        "ax.set_yticklabels([''] + get_all_labels())\n",
        "plt.xlabel('Predicted')\n",
        "plt.ylabel('True')\n",
        "plt.show()"
      ],
      "execution_count": 0,
      "outputs": []
    },
    {
      "cell_type": "code",
      "metadata": {
        "colab_type": "code",
        "id": "83WzcFdcK-sJ",
        "colab": {}
      },
      "source": [
        "ax= plt.subplot()\n",
        "sns.heatmap(cm, annot=False, ax = ax, fmt='g', cmap='Greens'); #annot=True to annotate cells\n",
        "\n",
        "# labels, title and ticks\n",
        "ax.set_xlabel('Predicted labels');ax.set_ylabel('True labels'); \n",
        "ax.set_title('Confusion Matrix'); \n",
        "ax.xaxis.set_ticklabels([''] + get_all_labels());\n",
        "ax.yaxis.set_ticklabels([''] + get_all_labels());"
      ],
      "execution_count": 0,
      "outputs": []
    },
    {
      "cell_type": "code",
      "metadata": {
        "colab_type": "code",
        "id": "sTu_7QLyK-sN",
        "colab": {}
      },
      "source": [
        "print(classification_report(all_labels, all_predictions,labels=labels, target_names=get_all_labels()))"
      ],
      "execution_count": 0,
      "outputs": []
    },
    {
      "cell_type": "markdown",
      "metadata": {
        "id": "3kLxjnxIfa6U",
        "colab_type": "text"
      },
      "source": [
        "# Now the Nearest Neighbour Part"
      ]
    },
    {
      "cell_type": "code",
      "metadata": {
        "colab_type": "code",
        "id": "ykFCG_mlxVnE",
        "colab": {}
      },
      "source": [
        "# We need to define a specific dataloader in this case, which shall be frankly, quite simple and dummy\n",
        "class TestDataset(Dataset):\n",
        "    \"\"\"\n",
        "    Train: For each sample (anchor) randomly chooses a positive and negative samples\n",
        "    Test: Creates fixed triplets for testing\n",
        "    \"\"\"\n",
        "\n",
        "    def __init__(self, dataset, select_column):\n",
        "         \n",
        "        \n",
        "        self.dataset = dataset\n",
        "        self.train_labels = self.dataset.labels_encoded\n",
        "            # Drop the labels column so that remaining features form part of the training set\n",
        "        self.dataset = self.dataset.drop('labels_encoded', axis=1)\n",
        "        self.train_data = self.dataset\n",
        "        self.select_column = select_column\n",
        "       \n",
        "    def __getitem__(self, index):\n",
        "        #print(type(self.train_data))\n",
        "        selected_frame, label = self.train_data.iloc[index], self.train_labels.iloc[index]\n",
        "        str_data = selected_frame[self.select_column]\n",
        "\n",
        "        return str_data, label\n",
        "\n",
        "    def __len__(self):\n",
        "        return len(self.dataset)"
      ],
      "execution_count": 0,
      "outputs": []
    },
    {
      "cell_type": "code",
      "metadata": {
        "colab_type": "code",
        "id": "1bcxIkQnx40i",
        "colab": {}
      },
      "source": [
        "# Global declarations\n",
        "batch_size = 100"
      ],
      "execution_count": 0,
      "outputs": []
    },
    {
      "cell_type": "code",
      "metadata": {
        "colab_type": "code",
        "id": "5lRDgP4N7U4l",
        "colab": {}
      },
      "source": [
        "one_shot_train_dataset = SoftmaxDataset(dataset=train_df,select_column='sentence_embedding')\n",
        "one_shot_test_dataset = SoftmaxDataset(dataset=test_df,select_column='sentence_embedding')\n",
        "# Now the dataloaders need to be defined as well\n",
        "one_shot_train_loader = DataLoader(one_shot_train_dataset, batch_size=batch_size,shuffle=True)\n",
        "one_shot_test_loader = DataLoader(one_shot_test_dataset, batch_size=batch_size,shuffle=True)"
      ],
      "execution_count": 0,
      "outputs": []
    },
    {
      "cell_type": "code",
      "metadata": {
        "colab_type": "code",
        "outputId": "00178bc2-c3ae-4d13-e8a2-3fa107e29f81",
        "id": "ZTNsLHmDvmAP",
        "colab": {
          "base_uri": "https://localhost:8080/",
          "height": 208
        }
      },
      "source": [
        "# Load a pre-existing model \n",
        "PATH = '/content/11-model-GOOD.pth'\n",
        "model = TripletNetwork()\n",
        "model.load_state_dict(torch.load(PATH))\n",
        "model.cuda()"
      ],
      "execution_count": 53,
      "outputs": [
        {
          "output_type": "execute_result",
          "data": {
            "text/plain": [
              "TripletNetwork(\n",
              "  (fc): Sequential(\n",
              "    (0): Linear(in_features=1024, out_features=512, bias=True)\n",
              "    (1): BatchNorm1d(512, eps=1e-05, momentum=0.1, affine=True, track_running_stats=True)\n",
              "    (2): ReLU()\n",
              "    (3): Linear(in_features=512, out_features=256, bias=True)\n",
              "    (4): BatchNorm1d(256, eps=1e-05, momentum=0.1, affine=True, track_running_stats=True)\n",
              "    (5): ReLU()\n",
              "    (6): Linear(in_features=256, out_features=64, bias=True)\n",
              "  )\n",
              ")"
            ]
          },
          "metadata": {
            "tags": []
          },
          "execution_count": 53
        }
      ]
    },
    {
      "cell_type": "code",
      "metadata": {
        "colab_type": "code",
        "id": "ppZ_kSqnzkTK",
        "colab": {}
      },
      "source": [
        "embedding_model = model"
      ],
      "execution_count": 0,
      "outputs": []
    },
    {
      "cell_type": "code",
      "metadata": {
        "colab_type": "code",
        "id": "19dhXYv79Ndg",
        "colab": {}
      },
      "source": [
        "# Let us save the embedding of all elements in the train_data as well as their index\n",
        "# this can be used later for our purpose\n",
        "embedding_space_one_shot = []\n",
        "for i, data in enumerate(one_shot_train_loader, 0):\n",
        "        # get the inputs; data is a list of [inputs, labels]\n",
        "        inputs, labels = data\n",
        "        inputs = inputs.cuda()\n",
        "        batch_size = inputs.shape[0]\n",
        "        inputs = inputs.reshape(batch_size,-1)\n",
        "        labels = labels.cuda()\n",
        "        embeddings = embedding_model.fc(inputs)\n",
        "        for index,tensor in enumerate(embeddings):\n",
        "           embedding_space_one_shot.append((labels[index],tensor))"
      ],
      "execution_count": 0,
      "outputs": []
    },
    {
      "cell_type": "code",
      "metadata": {
        "colab_type": "code",
        "outputId": "f29ea698-5727-4137-c635-5dccbea52a1b",
        "id": "fI6UTX2w9Ndv",
        "colab": {
          "base_uri": "https://localhost:8080/",
          "height": 35
        }
      },
      "source": [
        "y_train = []\n",
        "dist = []\n",
        "for index,space in embedding_space_one_shot[:-1]:\n",
        "  dist.append(space)\n",
        "  y_train.append(index.item())\n",
        "# dist = [space for index,space in embedding_space_one_shot[:-1]]\n",
        "result = torch.stack(dist, dim=0)\n",
        "result.shape"
      ],
      "execution_count": 56,
      "outputs": [
        {
          "output_type": "execute_result",
          "data": {
            "text/plain": [
              "torch.Size([139, 64])"
            ]
          },
          "metadata": {
            "tags": []
          },
          "execution_count": 56
        }
      ]
    },
    {
      "cell_type": "code",
      "metadata": {
        "colab_type": "code",
        "id": "GlmGHMbl15lJ",
        "colab": {}
      },
      "source": [
        "#select the norm\n",
        "def select_norm(vector_x, power=2):\n",
        "  return torch.norm(vector_x,p=power,dim=1)"
      ],
      "execution_count": 0,
      "outputs": []
    },
    {
      "cell_type": "code",
      "metadata": {
        "colab_type": "code",
        "id": "SpFLKZlxyGEG",
        "colab": {}
      },
      "source": [
        "def k_nearest_neighbour(distance_embeddings, vector, k=3):  \n",
        "    updated_result = select_norm(vector_x=(distance_embeddings - vector), power=2)\n",
        "    values, indices = torch.topk(updated_result,k=k ,largest=False)\n",
        "    candidate_indexes = []\n",
        "    for index in indices:\n",
        "      candidate_indexes.append((embedding_space_one_shot[index][0]).item())\n",
        "    return Counter(candidate_indexes).most_common(1)[0][0]"
      ],
      "execution_count": 0,
      "outputs": []
    },
    {
      "cell_type": "code",
      "metadata": {
        "colab_type": "code",
        "id": "RvfnqzTiyGEK",
        "outputId": "7f959598-bd2c-4654-a737-70e9433f8a84",
        "colab": {
          "base_uri": "https://localhost:8080/",
          "height": 35
        }
      },
      "source": [
        "correct = 0\n",
        "total = 0\n",
        "all_labels = []\n",
        "all_predictions_one_shot=[]\n",
        "for data in one_shot_test_loader:\n",
        "    inputs, labels = data\n",
        "    inputs = inputs.cuda()\n",
        "    batch_size = inputs.shape[0]\n",
        "    inputs = inputs.reshape(batch_size,-1)\n",
        "    # Next the evaluation\n",
        "    \n",
        "    output = embedding_model.fc(inputs)\n",
        "    for idx,query in enumerate(output):\n",
        "        predicted = k_nearest_neighbour(result, query, 5)\n",
        "#         print(labels[idx])\n",
        "#         print(predicted)\n",
        "        all_predictions_one_shot.append(predicted)\n",
        "        correct += (predicted == labels[idx])\n",
        "        all_labels.append(labels[idx].item())\n",
        "    total += labels.size(0)\n",
        "    correct = correct.cpu().sum()\n",
        "print('Accuracy of the network on the test samples: %d %%' % (\n",
        "        100 * correct /total))"
      ],
      "execution_count": 59,
      "outputs": [
        {
          "output_type": "stream",
          "text": [
            "Accuracy of the network on the test samples: 16 %\n"
          ],
          "name": "stdout"
        }
      ]
    },
    {
      "cell_type": "code",
      "metadata": {
        "colab_type": "code",
        "id": "M77ure6NE0jp",
        "outputId": "29b352a6-ef93-4004-f1a8-4944521f2095",
        "colab": {
          "base_uri": "https://localhost:8080/",
          "height": 35
        }
      },
      "source": [
        "f1_score(all_labels, all_predictions_one_shot, average='micro') "
      ],
      "execution_count": 60,
      "outputs": [
        {
          "output_type": "execute_result",
          "data": {
            "text/plain": [
              "0.16781662066850658"
            ]
          },
          "metadata": {
            "tags": []
          },
          "execution_count": 60
        }
      ]
    },
    {
      "cell_type": "code",
      "metadata": {
        "colab_type": "code",
        "id": "aVu1tX0aE0j4",
        "outputId": "24ffb39a-fbf0-409e-8a08-0e249c26550c",
        "colab": {
          "base_uri": "https://localhost:8080/",
          "height": 35
        }
      },
      "source": [
        "f1_score(all_labels, all_predictions_one_shot, average='macro') "
      ],
      "execution_count": 61,
      "outputs": [
        {
          "output_type": "execute_result",
          "data": {
            "text/plain": [
              "0.15600969518466257"
            ]
          },
          "metadata": {
            "tags": []
          },
          "execution_count": 61
        }
      ]
    },
    {
      "cell_type": "code",
      "metadata": {
        "colab_type": "code",
        "id": "s53zB2QuE0j_",
        "colab": {}
      },
      "source": [
        "labels = list(set(train_df.labels_encoded))\n",
        "cm = confusion_matrix(all_labels, all_predictions_one_shot, labels)"
      ],
      "execution_count": 0,
      "outputs": []
    },
    {
      "cell_type": "code",
      "metadata": {
        "colab_type": "code",
        "id": "nrb57_FnE0kH",
        "outputId": "1b91ca13-ba71-4b17-bea0-e598791e65ec",
        "colab": {
          "base_uri": "https://localhost:8080/",
          "height": 289
        }
      },
      "source": [
        "fig = plt.figure()\n",
        "ax = fig.add_subplot(111)\n",
        "cax = ax.matshow(cm)\n",
        "plt.title('Confusion matrix of the classifier')\n",
        "fig.colorbar(cax)\n",
        "ax.set_xticklabels([''] + get_all_labels())\n",
        "ax.set_yticklabels([''] + get_all_labels())\n",
        "plt.xlabel('Predicted')\n",
        "plt.ylabel('True')\n",
        "plt.show()"
      ],
      "execution_count": 64,
      "outputs": [
        {
          "output_type": "display_data",
          "data": {
            "image/png": "[encoded data removed]",
            "text/plain": [
              "<Figure size 432x288 with 2 Axes>"
            ]
          },
          "metadata": {
            "tags": []
          }
        }
      ]
    },
    {
      "cell_type": "code",
      "metadata": {
        "colab_type": "code",
        "id": "SAKbybszE0kK",
        "outputId": "375e93db-ebdb-4820-e417-4b26e590af81",
        "colab": {
          "base_uri": "https://localhost:8080/",
          "height": 365
        }
      },
      "source": [
        "ax= plt.subplot()\n",
        "sns.heatmap(cm, annot=False, ax = ax, fmt='g', cmap='Greens'); #annot=True to annotate cells\n",
        "\n",
        "# labels, title and ticks\n",
        "ax.set_xlabel('Predicted labels');ax.set_ylabel('True labels'); \n",
        "ax.set_title('Confusion Matrix'); \n",
        "ax.xaxis.set_ticklabels([''] + get_all_labels());\n",
        "ax.yaxis.set_ticklabels([''] + get_all_labels());"
      ],
      "execution_count": 65,
      "outputs": [
        {
          "output_type": "display_data",
          "data": {
            "image/png": "[encoded data removed]",
            "text/plain": [
              "<Figure size 432x288 with 2 Axes>"
            ]
          },
          "metadata": {
            "tags": []
          }
        }
      ]
    },
    {
      "cell_type": "code",
      "metadata": {
        "colab_type": "code",
        "id": "h7wAVfL8E0kN",
        "outputId": "8fdfdb1b-436d-4e54-eaac-d452584d66d0",
        "colab": {
          "base_uri": "https://localhost:8080/",
          "height": 35
        }
      },
      "source": [
        "accuracy_score(all_labels, all_predictions_one_shot)"
      ],
      "execution_count": 66,
      "outputs": [
        {
          "output_type": "execute_result",
          "data": {
            "text/plain": [
              "0.16781662066850658"
            ]
          },
          "metadata": {
            "tags": []
          },
          "execution_count": 66
        }
      ]
    },
    {
      "cell_type": "code",
      "metadata": {
        "colab_type": "code",
        "id": "nQemngRdE0kT",
        "outputId": "1234cad5-22db-4bb3-cecf-41d982eda1cf",
        "colab": {
          "base_uri": "https://localhost:8080/",
          "height": 436
        }
      },
      "source": [
        "print(classification_report(all_labels, all_predictions_one_shot,labels=labels, target_names=get_all_labels()))"
      ],
      "execution_count": 67,
      "outputs": [
        {
          "output_type": "stream",
          "text": [
            "                             precision    recall  f1-score   support\n",
            "\n",
            "      Amazon Instant Videos       0.16      0.09      0.12       989\n",
            "               Android Apps       0.18      0.17      0.17       989\n",
            "                 Automotive       0.04      0.06      0.05       392\n",
            "                       Baby       0.17      0.20      0.18       784\n",
            "                     Beauty       0.18      0.16      0.17       989\n",
            "              CDs and Vinyl       0.16      0.26      0.20       989\n",
            "Cell Phones and Accessories       0.24      0.18      0.20       989\n",
            "   Clothing, Shoes, Jewelry       0.11      0.07      0.09       989\n",
            "              Digital Music       0.32      0.35      0.34       989\n",
            "                Electronics       0.25      0.41      0.31       989\n",
            "        Grocery and Gourmet       0.12      0.09      0.10       989\n",
            "   Health and Personal Care       0.10      0.07      0.08       989\n",
            "           Home and Kitchen       0.09      0.12      0.10       989\n",
            "                     Kindle       0.09      0.07      0.08       989\n",
            "\n",
            "                   accuracy                           0.17     13044\n",
            "                  macro avg       0.16      0.16      0.16     13044\n",
            "               weighted avg       0.16      0.17      0.16     13044\n",
            "\n"
          ],
          "name": "stdout"
        },
        {
          "output_type": "stream",
          "text": [
            "/usr/local/lib/python3.6/dist-packages/sklearn/metrics/classification.py:1870: UserWarning: labels size, 14, does not match size of target_names, 23\n",
            "  .format(len(labels), len(target_names))\n"
          ],
          "name": "stderr"
        }
      ]
    },
    {
      "cell_type": "code",
      "metadata": {
        "id": "clHglQjIyRPs",
        "colab_type": "code",
        "colab": {}
      },
      "source": [
        ""
      ],
      "execution_count": 0,
      "outputs": []
    }
  ]
}