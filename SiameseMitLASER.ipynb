{
  "nbformat": 4,
  "nbformat_minor": 0,
  "metadata": {
    "colab": {
      "name": "SiameseMitLASER",
      "version": "0.3.2",
      "provenance": [],
      "collapsed_sections": [
        "jTXpYPem32iM",
        "c3fiA2utZEjH",
        "Rd3drVZISrtq",
        "FVwr0z3eW_iT",
        "koat_Nz1Op49",
        "Yy6Nq9ZnlJPc"
      ],
      "toc_visible": true,
      "include_colab_link": true
    },
    "kernelspec": {
      "name": "python3",
      "display_name": "Python 3"
    },
    "accelerator": "GPU"
  },
  "cells": [
    {
      "cell_type": "markdown",
      "metadata": {
        "id": "view-in-github",
        "colab_type": "text"
      },
      "source": [
        "<a href=\"https://colab.research.google.com/github/chinmay5/NLP-Praktikum/blob/sentence_embedding/SiameseMitLASER.ipynb\" target=\"_parent\"><img src=\"https://colab.research.google.com/assets/colab-badge.svg\" alt=\"Open In Colab\"/></a>"
      ]
    },
    {
      "cell_type": "code",
      "metadata": {
        "id": "sScywYm8EJhe",
        "colab_type": "code",
        "outputId": "96a7fff6-3d4b-40a2-fe3b-ae7c422074e0",
        "colab": {
          "base_uri": "https://localhost:8080/",
          "height": 84
        }
      },
      "source": [
        "!/usr/local/cuda/bin/nvcc --version"
      ],
      "execution_count": 0,
      "outputs": [
        {
          "output_type": "stream",
          "text": [
            "nvcc: NVIDIA (R) Cuda compiler driver\n",
            "Copyright (c) 2005-2018 NVIDIA Corporation\n",
            "Built on Sat_Aug_25_21:08:01_CDT_2018\n",
            "Cuda compilation tools, release 10.0, V10.0.130\n"
          ],
          "name": "stdout"
        }
      ]
    },
    {
      "cell_type": "markdown",
      "metadata": {
        "id": "_wUDuuzC3knQ",
        "colab_type": "text"
      },
      "source": [
        "# This is an attempt to include the LASER multi lingual embedding\n"
      ]
    },
    {
      "cell_type": "code",
      "metadata": {
        "id": "mngRKDEg3x2h",
        "colab_type": "code",
        "outputId": "869301b3-4160-48d1-c6b0-1f86943ff6f0",
        "colab": {
          "base_uri": "https://localhost:8080/",
          "height": 134
        }
      },
      "source": [
        "!git clone https://github.com/ceshine/LASER.git"
      ],
      "execution_count": 1,
      "outputs": [
        {
          "output_type": "stream",
          "text": [
            "Cloning into 'LASER'...\n",
            "remote: Enumerating objects: 31, done.\u001b[K\n",
            "remote: Counting objects: 100% (31/31), done.\u001b[K\n",
            "remote: Compressing objects: 100% (19/19), done.\u001b[K\n",
            "remote: Total 591 (delta 11), reused 24 (delta 11), pack-reused 560\u001b[K\n",
            "Receiving objects: 100% (591/591), 2.60 MiB | 2.82 MiB/s, done.\n",
            "Resolving deltas: 100% (175/175), done.\n"
          ],
          "name": "stdout"
        }
      ]
    },
    {
      "cell_type": "code",
      "metadata": {
        "id": "J_8LAr8c6Wyv",
        "colab_type": "code",
        "colab": {}
      },
      "source": [
        "#!rm -rf \\\""
      ],
      "execution_count": 0,
      "outputs": []
    },
    {
      "cell_type": "code",
      "metadata": {
        "id": "1Akm1QeP4lea",
        "colab_type": "code",
        "outputId": "4b900132-38ea-42f1-c063-4149f7169a76",
        "colab": {
          "base_uri": "https://localhost:8080/",
          "height": 50
        }
      },
      "source": [
        "%env LASER=/content/LASER\n",
        "!echo $LASER\n"
      ],
      "execution_count": 3,
      "outputs": [
        {
          "output_type": "stream",
          "text": [
            "env: LASER=/content/LASER\n",
            "/content/LASER\n"
          ],
          "name": "stdout"
        }
      ]
    },
    {
      "cell_type": "code",
      "metadata": {
        "id": "uo67QGwc7m7F",
        "colab_type": "code",
        "outputId": "ea14d79a-da6f-4a4f-f28d-d6698d66d402",
        "colab": {
          "base_uri": "https://localhost:8080/",
          "height": 34
        }
      },
      "source": [
        "!pwd\n"
      ],
      "execution_count": 4,
      "outputs": [
        {
          "output_type": "stream",
          "text": [
            "/content\n"
          ],
          "name": "stdout"
        }
      ]
    },
    {
      "cell_type": "code",
      "metadata": {
        "id": "3KxeDCC74lhZ",
        "colab_type": "code",
        "outputId": "6daddc1c-76b4-4a3f-b968-693701fdcaad",
        "colab": {
          "base_uri": "https://localhost:8080/",
          "height": 34
        }
      },
      "source": [
        "%cd LASER"
      ],
      "execution_count": 5,
      "outputs": [
        {
          "output_type": "stream",
          "text": [
            "/content/LASER\n"
          ],
          "name": "stdout"
        }
      ]
    },
    {
      "cell_type": "code",
      "metadata": {
        "id": "jjFh5jFf4lmg",
        "colab_type": "code",
        "outputId": "68c7873b-8297-4bfd-df9d-45a334a31274",
        "colab": {
          "base_uri": "https://localhost:8080/",
          "height": 34
        }
      },
      "source": [
        "! pwd"
      ],
      "execution_count": 6,
      "outputs": [
        {
          "output_type": "stream",
          "text": [
            "/content/LASER\n"
          ],
          "name": "stdout"
        }
      ]
    },
    {
      "cell_type": "code",
      "metadata": {
        "id": "D7ADRwFZ4lp8",
        "colab_type": "code",
        "outputId": "650d41ae-7849-4624-ff7c-97e9d8c431c5",
        "colab": {
          "base_uri": "https://localhost:8080/",
          "height": 101
        }
      },
      "source": [
        "!bash install_models.sh"
      ],
      "execution_count": 7,
      "outputs": [
        {
          "output_type": "stream",
          "text": [
            "Downloading networks\n",
            " - creating directory /content/LASER/models\n",
            " - bilstm.93langs.2018-12-26.pt\n",
            " - 93langs.fcodes\n",
            " - 93langs.fvocab\n"
          ],
          "name": "stdout"
        }
      ]
    },
    {
      "cell_type": "code",
      "metadata": {
        "id": "U5F_sNpe4lkm",
        "colab_type": "code",
        "outputId": "e4981d58-8279-4a6a-f600-14f4c6dec09a",
        "colab": {
          "base_uri": "https://localhost:8080/",
          "height": 2221
        }
      },
      "source": [
        "!bash install_external_tools.sh"
      ],
      "execution_count": 8,
      "outputs": [
        {
          "output_type": "stream",
          "text": [
            "Installing external tools\n",
            " - creating directory /content/LASER/tools-external/moses-tokenizer/tokenizer\n",
            " - download tokenizer/tokenizer.perl\n",
            " - download tokenizer/detokenizer.perl\n",
            " - download tokenizer/normalize-punctuation.perl\n",
            " - download tokenizer/remove-non-printing-char.perl\n",
            " - download tokenizer/deescape-special-chars.perl\n",
            " - download tokenizer/lowercase.perl\n",
            " - download tokenizer/basic-protected-patterns\n",
            " - creating directory /content/LASER/tools-external/moses-tokenizer/share/nonbreaking_prefixes\n",
            " - download share/nonbreaking_prefixes/nonbreaking_prefix.ca\n",
            " - download share/nonbreaking_prefixes/nonbreaking_prefix.cs\n",
            " - download share/nonbreaking_prefixes/nonbreaking_prefix.de\n",
            " - download share/nonbreaking_prefixes/nonbreaking_prefix.el\n",
            " - download share/nonbreaking_prefixes/nonbreaking_prefix.en\n",
            " - download share/nonbreaking_prefixes/nonbreaking_prefix.es\n",
            " - download share/nonbreaking_prefixes/nonbreaking_prefix.fi\n",
            " - download share/nonbreaking_prefixes/nonbreaking_prefix.fr\n",
            " - download share/nonbreaking_prefixes/nonbreaking_prefix.ga\n",
            " - download share/nonbreaking_prefixes/nonbreaking_prefix.hu\n",
            " - download share/nonbreaking_prefixes/nonbreaking_prefix.is\n",
            " - download share/nonbreaking_prefixes/nonbreaking_prefix.it\n",
            " - download share/nonbreaking_prefixes/nonbreaking_prefix.lt\n",
            " - download share/nonbreaking_prefixes/nonbreaking_prefix.lv\n",
            " - download share/nonbreaking_prefixes/nonbreaking_prefix.nl\n",
            " - download share/nonbreaking_prefixes/nonbreaking_prefix.pl\n",
            " - download share/nonbreaking_prefixes/nonbreaking_prefix.pt\n",
            " - download share/nonbreaking_prefixes/nonbreaking_prefix.ro\n",
            " - download share/nonbreaking_prefixes/nonbreaking_prefix.ru\n",
            " - download share/nonbreaking_prefixes/nonbreaking_prefix.sk\n",
            " - download share/nonbreaking_prefixes/nonbreaking_prefix.sl\n",
            " - download share/nonbreaking_prefixes/nonbreaking_prefix.sv\n",
            " - download share/nonbreaking_prefixes/nonbreaking_prefix.ta\n",
            " - download share/nonbreaking_prefixes/nonbreaking_prefix.yue\n",
            " - download share/nonbreaking_prefixes/nonbreaking_prefix.zh\n",
            " - download fastBPE software from github\n",
            "--2019-06-21 08:01:54--  https://github.com/glample/fastBPE/archive/master.zip\n",
            "Resolving github.com (github.com)... 192.30.253.112\n",
            "Connecting to github.com (github.com)|192.30.253.112|:443... connected.\n",
            "HTTP request sent, awaiting response... 302 Found\n",
            "Location: https://codeload.github.com/glample/fastBPE/zip/master [following]\n",
            "--2019-06-21 08:01:55--  https://codeload.github.com/glample/fastBPE/zip/master\n",
            "Resolving codeload.github.com (codeload.github.com)... 192.30.253.120\n",
            "Connecting to codeload.github.com (codeload.github.com)|192.30.253.120|:443... connected.\n",
            "HTTP request sent, awaiting response... 200 OK\n",
            "Length: unspecified [application/zip]\n",
            "Saving to: ‘master.zip’\n",
            "\n",
            "master.zip              [ <=>                ]   8.88K  47.9KB/s    in 0.2s    \n",
            "\n",
            "2019-06-21 08:01:56 (47.9 KB/s) - ‘master.zip’ saved [9093]\n",
            "\n",
            "Archive:  master.zip\n",
            "874634b2676d091ced2aa5a2f5917c7106735fa8\n",
            "   creating: fastBPE-master/\n",
            "  inflating: fastBPE-master/LICENSE  \n",
            "  inflating: fastBPE-master/README.md  \n",
            "   creating: fastBPE-master/fastBPE/\n",
            "  inflating: fastBPE-master/fastBPE/fastBPE.hpp  \n",
            "  inflating: fastBPE-master/fastBPE/fastBPE.pyx  \n",
            "  inflating: fastBPE-master/fastBPE/main.cc  \n",
            "  inflating: fastBPE-master/setup.py  \n",
            " - compiling\n",
            "Warning: passing language='c++' to cythonize() is deprecated. Instead, put \"# distutils: language=c++\" in your .pyx or .pxd file(s)\n",
            "Compiling fastBPE/fastBPE.pyx because it changed.\n",
            "[1/1] Cythonizing fastBPE/fastBPE.pyx\n",
            "/usr/local/lib/python3.6/dist-packages/Cython/Compiler/Main.py:367: FutureWarning: Cython directive 'language_level' not set, using 2 for now (Py2). This will change in a later release! File: /content/LASER/tools-external/fastBPE/fastBPE/fastBPE.pyx\n",
            "  tree = Parsing.p_module(s, pxd, full_module_name)\n",
            "running install\n",
            "running bdist_egg\n",
            "running egg_info\n",
            "creating fastBPE.egg-info\n",
            "writing fastBPE.egg-info/PKG-INFO\n",
            "writing dependency_links to fastBPE.egg-info/dependency_links.txt\n",
            "writing requirements to fastBPE.egg-info/requires.txt\n",
            "writing top-level names to fastBPE.egg-info/top_level.txt\n",
            "writing manifest file 'fastBPE.egg-info/SOURCES.txt'\n",
            "package init file 'fastBPE/__init__.py' not found (or not a regular file)\n",
            "reading manifest file 'fastBPE.egg-info/SOURCES.txt'\n",
            "writing manifest file 'fastBPE.egg-info/SOURCES.txt'\n",
            "installing library code to build/bdist.linux-x86_64/egg\n",
            "running install_lib\n",
            "running build_py\n",
            "running build_ext\n",
            "building 'fastBPE' extension\n",
            "creating build\n",
            "creating build/temp.linux-x86_64-3.6\n",
            "creating build/temp.linux-x86_64-3.6/fastBPE\n",
            "x86_64-linux-gnu-gcc -pthread -DNDEBUG -g -fwrapv -O2 -Wall -g -fstack-protector-strong -Wformat -Werror=format-security -Wdate-time -D_FORTIFY_SOURCE=2 -fPIC -IfastBPE -I/usr/include/python3.6m -c fastBPE/fastBPE.cpp -o build/temp.linux-x86_64-3.6/fastBPE/fastBPE.o -std=c++11 -Ofast -pthread\n",
            "creating build/lib.linux-x86_64-3.6\n",
            "x86_64-linux-gnu-g++ -pthread -shared -Wl,-O1 -Wl,-Bsymbolic-functions -Wl,-Bsymbolic-functions -Wl,-z,relro -Wl,-Bsymbolic-functions -Wl,-z,relro -g -fstack-protector-strong -Wformat -Werror=format-security -Wdate-time -D_FORTIFY_SOURCE=2 build/temp.linux-x86_64-3.6/fastBPE/fastBPE.o -o build/lib.linux-x86_64-3.6/fastBPE.cpython-36m-x86_64-linux-gnu.so\n",
            "creating build/bdist.linux-x86_64\n",
            "creating build/bdist.linux-x86_64/egg\n",
            "copying build/lib.linux-x86_64-3.6/fastBPE.cpython-36m-x86_64-linux-gnu.so -> build/bdist.linux-x86_64/egg\n",
            "creating stub loader for fastBPE.cpython-36m-x86_64-linux-gnu.so\n",
            "byte-compiling build/bdist.linux-x86_64/egg/fastBPE.py to fastBPE.cpython-36.pyc\n",
            "creating build/bdist.linux-x86_64/egg/EGG-INFO\n",
            "copying fastBPE.egg-info/PKG-INFO -> build/bdist.linux-x86_64/egg/EGG-INFO\n",
            "copying fastBPE.egg-info/SOURCES.txt -> build/bdist.linux-x86_64/egg/EGG-INFO\n",
            "copying fastBPE.egg-info/dependency_links.txt -> build/bdist.linux-x86_64/egg/EGG-INFO\n",
            "copying fastBPE.egg-info/requires.txt -> build/bdist.linux-x86_64/egg/EGG-INFO\n",
            "copying fastBPE.egg-info/top_level.txt -> build/bdist.linux-x86_64/egg/EGG-INFO\n",
            "writing build/bdist.linux-x86_64/egg/EGG-INFO/native_libs.txt\n",
            "zip_safe flag not set; analyzing archive contents...\n",
            "__pycache__.fastBPE.cpython-36: module references __file__\n",
            "creating dist\n",
            "creating 'dist/fastBPE-0.0.0-py3.6-linux-x86_64.egg' and adding 'build/bdist.linux-x86_64/egg' to it\n",
            "removing 'build/bdist.linux-x86_64/egg' (and everything under it)\n",
            "Processing fastBPE-0.0.0-py3.6-linux-x86_64.egg\n",
            "creating /usr/local/lib/python3.6/dist-packages/fastBPE-0.0.0-py3.6-linux-x86_64.egg\n",
            "Extracting fastBPE-0.0.0-py3.6-linux-x86_64.egg to /usr/local/lib/python3.6/dist-packages\n",
            "Adding fastBPE 0.0.0 to easy-install.pth file\n",
            "\n",
            "Installed /usr/local/lib/python3.6/dist-packages/fastBPE-0.0.0-py3.6-linux-x86_64.egg\n",
            "Processing dependencies for fastBPE==0.0.0\n",
            "Searching for Cython==0.29.10\n",
            "Best match: Cython 0.29.10\n",
            "Adding Cython 0.29.10 to easy-install.pth file\n",
            "Installing cygdb script to /usr/local/bin\n",
            "Installing cython script to /usr/local/bin\n",
            "Installing cythonize script to /usr/local/bin\n",
            "\n",
            "Using /usr/local/lib/python3.6/dist-packages\n",
            "Finished processing dependencies for fastBPE==0.0.0\n",
            "\n",
            "automatic installation of the Japanese tokenizer mecab may be tricky\n",
            "Please install it manually from https://github.com/taku910/mecab\n",
            "\n",
            "The installation directory should be /content/LASER/tools-external/mecab\n",
            "\n"
          ],
          "name": "stdout"
        }
      ]
    },
    {
      "cell_type": "code",
      "metadata": {
        "id": "Wq9RVwqi8pyM",
        "colab_type": "code",
        "outputId": "887435c3-e98e-49d8-e3c9-62fccf282636",
        "colab": {
          "base_uri": "https://localhost:8080/",
          "height": 50
        }
      },
      "source": [
        "%cd /content/LASER\n",
        "%cd tools-external/fastBPE/\n",
        "! g++ -std=c++11 -pthread -O3 fastBPE/main.cc -IfastBPE -o fast"
      ],
      "execution_count": 16,
      "outputs": [
        {
          "output_type": "stream",
          "text": [
            "/content/LASER\n",
            "/content/LASER/tools-external/fastBPE\n"
          ],
          "name": "stdout"
        }
      ]
    },
    {
      "cell_type": "code",
      "metadata": {
        "id": "KpraUBs38jZO",
        "colab_type": "code",
        "outputId": "ed4decca-6850-4cb5-f85b-82a843906fc4",
        "colab": {
          "base_uri": "https://localhost:8080/",
          "height": 50
        }
      },
      "source": [
        "%cd ../../tasks/similarity/\n",
        "! ls"
      ],
      "execution_count": 10,
      "outputs": [
        {
          "output_type": "stream",
          "text": [
            "/content/LASER/tasks/similarity\n",
            "README.md  wmt.sh\n"
          ],
          "name": "stdout"
        }
      ]
    },
    {
      "cell_type": "code",
      "metadata": {
        "id": "uVjP99krE02v",
        "colab_type": "code",
        "outputId": "aad707e3-2387-4fa4-e8b9-53f41972fcb9",
        "colab": {
          "base_uri": "https://localhost:8080/",
          "height": 487
        }
      },
      "source": [
        "! apt install libopenblas-base libomp-dev"
      ],
      "execution_count": 11,
      "outputs": [
        {
          "output_type": "stream",
          "text": [
            "Reading package lists... Done\n",
            "Building dependency tree       \n",
            "Reading state information... Done\n",
            "libopenblas-base is already the newest version (0.2.20+ds-4).\n",
            "libopenblas-base set to manually installed.\n",
            "The following package was automatically installed and is no longer required:\n",
            "  libnvidia-common-410\n",
            "Use 'apt autoremove' to remove it.\n",
            "Suggested packages:\n",
            "  libomp-doc\n",
            "The following NEW packages will be installed:\n",
            "  libomp-dev libomp5\n",
            "0 upgraded, 2 newly installed, 0 to remove and 16 not upgraded.\n",
            "Need to get 239 kB of archives.\n",
            "After this operation, 804 kB of additional disk space will be used.\n",
            "Get:1 http://archive.ubuntu.com/ubuntu bionic/universe amd64 libomp5 amd64 5.0.1-1 [234 kB]\n",
            "Get:2 http://archive.ubuntu.com/ubuntu bionic/universe amd64 libomp-dev amd64 5.0.1-1 [5,088 B]\n",
            "Fetched 239 kB in 2s (112 kB/s)\n",
            "Selecting previously unselected package libomp5:amd64.\n",
            "(Reading database ... 130942 files and directories currently installed.)\n",
            "Preparing to unpack .../libomp5_5.0.1-1_amd64.deb ...\n",
            "Unpacking libomp5:amd64 (5.0.1-1) ...\n",
            "Selecting previously unselected package libomp-dev.\n",
            "Preparing to unpack .../libomp-dev_5.0.1-1_amd64.deb ...\n",
            "Unpacking libomp-dev (5.0.1-1) ...\n",
            "Setting up libomp5:amd64 (5.0.1-1) ...\n",
            "Processing triggers for libc-bin (2.27-3ubuntu1) ...\n",
            "Setting up libomp-dev (5.0.1-1) ...\n"
          ],
          "name": "stdout"
        }
      ]
    },
    {
      "cell_type": "code",
      "metadata": {
        "id": "zdgEtRK5AN9g",
        "colab_type": "code",
        "outputId": "d0ab1763-6b8f-4ec5-e300-d6a93eb59034",
        "colab": {
          "base_uri": "https://localhost:8080/",
          "height": 138
        }
      },
      "source": [
        "! pip install faiss"
      ],
      "execution_count": 12,
      "outputs": [
        {
          "output_type": "stream",
          "text": [
            "Collecting faiss\n",
            "\u001b[?25l  Downloading https://files.pythonhosted.org/packages/bd/1c/4ae6cb87cf0c09c25561ea48db11e25713b25c580909902a92c090b377c0/faiss-1.5.3-cp36-cp36m-manylinux1_x86_64.whl (4.7MB)\n",
            "\u001b[K     |████████████████████████████████| 4.7MB 2.7MB/s \n",
            "\u001b[?25hRequirement already satisfied: numpy in /usr/local/lib/python3.6/dist-packages (from faiss) (1.16.4)\n",
            "Installing collected packages: faiss\n",
            "Successfully installed faiss-1.5.3\n"
          ],
          "name": "stdout"
        }
      ]
    },
    {
      "cell_type": "code",
      "metadata": {
        "id": "lBPIo9wj9GSg",
        "colab_type": "code",
        "outputId": "64e0edb7-f906-4096-d77b-f312b961e8d4",
        "colab": {
          "base_uri": "https://localhost:8080/",
          "height": 806
        }
      },
      "source": [
        "% cd /content/LASER/tasks/similarity\n",
        "! bash wmt.sh"
      ],
      "execution_count": 13,
      "outputs": [
        {
          "output_type": "stream",
          "text": [
            "[Errno 2] No such file or directory: './tasks/similarity'\n",
            "/content/LASER/tasks/similarity\n",
            " - Download WMT data\n",
            "LASER: similarity search\n",
            "\n",
            "Processing:\n",
            " - loading encoder /content/LASER/models/bilstm.93langs.2018-12-26.pt\n",
            " - transfer encoder to GPU\n",
            " - creating directory embed\n",
            " - Tokenizer: newstest2012.cs in language cs  \n",
            " - fast BPE: processing newstest2012.tok.cs\n",
            " - Encoder: newstest2012.bpe.cs to newstest2012.enc.cs\n",
            " - Encoder: 3003 sentences in 5s\n",
            " - embedding: ./embed/newstest2012.enc.cs 3003 examples of dim 1024\n",
            " - creating FAISS index\n",
            " - Tokenizer: newstest2012.de in language de  \n",
            " - fast BPE: processing newstest2012.tok.de\n",
            " - Encoder: newstest2012.bpe.de to newstest2012.enc.de\n",
            " - Encoder: 3003 sentences in 5s\n",
            " - embedding: ./embed/newstest2012.enc.de 3003 examples of dim 1024\n",
            " - creating FAISS index\n",
            " - Tokenizer: newstest2012.en in language en  \n",
            " - fast BPE: processing newstest2012.tok.en\n",
            " - Encoder: newstest2012.bpe.en to newstest2012.enc.en\n",
            " - Encoder: 3003 sentences in 4s\n",
            " - embedding: ./embed/newstest2012.enc.en 3003 examples of dim 1024\n",
            " - creating FAISS index\n",
            " - Tokenizer: newstest2012.es in language es  \n",
            " - fast BPE: processing newstest2012.tok.es\n",
            " - Encoder: newstest2012.bpe.es to newstest2012.enc.es\n",
            " - Encoder: 3003 sentences in 5s\n",
            " - embedding: ./embed/newstest2012.enc.es 3003 examples of dim 1024\n",
            " - creating FAISS index\n",
            " - Tokenizer: newstest2012.fr in language fr  \n",
            " - fast BPE: processing newstest2012.tok.fr\n",
            " - Encoder: newstest2012.bpe.fr to newstest2012.enc.fr\n",
            " - Encoder: 3003 sentences in 5s\n",
            " - embedding: ./embed/newstest2012.enc.fr 3003 examples of dim 1024\n",
            " - creating FAISS index\n",
            "Confusion matrix:\n",
            "langs   cs       de       en       es       fr       avg     \n",
            "cs     0.00%    0.70%    0.90%    0.67%    0.77%    0.76%\n",
            "de     0.83%    0.00%    1.17%    0.93%    1.03%    0.99%\n",
            "en     0.93%    1.27%    0.00%    0.83%    1.07%    1.02%\n",
            "es     0.53%    0.77%    0.97%    0.00%    0.57%    0.71%\n",
            "fr     0.50%    0.90%    1.13%    0.60%    0.00%    0.78%\n",
            "avg    0.70%    0.91%    1.04%    0.76%    0.86%    0.85%\n"
          ],
          "name": "stdout"
        }
      ]
    },
    {
      "cell_type": "code",
      "metadata": {
        "id": "9sS0FP2kG-cd",
        "colab_type": "code",
        "colab": {}
      },
      "source": [
        "# sample feasibility check\n",
        "# % cd ../../source/\n",
        "\n",
        "import os\n",
        "import sys\n",
        "LASER = os.environ['LASER']\n",
        "# now include the extra files in the source\n",
        "sys.path.append(LASER + '/source')\n",
        "sys.path.append(LASER + '/source/lib')"
      ],
      "execution_count": 0,
      "outputs": []
    },
    {
      "cell_type": "code",
      "metadata": {
        "id": "39VFH-l3G-l4",
        "colab_type": "code",
        "colab": {}
      },
      "source": [
        "from embed import SentenceEncoder, EncodeLoad, EncodeFile\n",
        "from text_processing import Token, BPEfastApply\n",
        "from indexing import IndexCreate, IndexSearchMultiple, IndexPrintConfusionMatrix"
      ],
      "execution_count": 0,
      "outputs": []
    },
    {
      "cell_type": "markdown",
      "metadata": {
        "id": "iKRw4tSWb1jW",
        "colab_type": "text"
      },
      "source": [
        "## These are the steps to replicate results of the LSTM file"
      ]
    },
    {
      "cell_type": "code",
      "metadata": {
        "id": "c3ZY3F5ZbCwJ",
        "colab_type": "code",
        "colab": {}
      },
      "source": [
        "MODEL_PATH = '/content/LASER/models/'\n",
        "sentence_encoder = SentenceEncoder(\n",
        "    str(MODEL_PATH + \"bilstm.93langs.2018-12-26.pt\"),\n",
        "    max_sentences=None,\n",
        "    max_tokens=10000,\n",
        "    cpu=False)\n",
        "sentence_encoder.use_cuda=True #just a guess not sure if this would actually help"
      ],
      "execution_count": 0,
      "outputs": []
    },
    {
      "cell_type": "code",
      "metadata": {
        "id": "e-J64A0YqMvJ",
        "colab_type": "code",
        "colab": {}
      },
      "source": [
        "# Dictionary for label to index, this has been pre-generated\n",
        "encoding_to_labels = {\n",
        "   0:\t\"Amazon Instant Videos\",\n",
        "   1 :\"Android Apps\",\n",
        "   2 : \"Automotive\",\n",
        "   3 :\"Baby\",\n",
        "   4 :\"Beauty\",\n",
        "   5 :\"CDs and Vinyl\",\n",
        "   6 :\"Cell Phones and Accessories\",\n",
        "   7 :\"Clothing, Shoes, Jewelry\",\n",
        "   8 :\"Digital Music\",\n",
        "   9 :\"Electronics\",\n",
        "  10 :\"Grocery and Gourmet\",\n",
        "  11 :\"Health and Personal Care\",\n",
        "  12 :\"Home and Kitchen\",\n",
        "  13 :\"Kindle\",\n",
        "  14 :\"Movies and TV\",\n",
        "  15 :\"Musical Instruments\",\n",
        "  16 :\"Office Products\",\n",
        "  17 :\"Patio Garden\",\n",
        "  18 :\"Pet Supplies\",\n",
        "  19 :\"Sports, Outdoors\",\n",
        "  20 :\"Tool and Home Improvement\",\n",
        "  21 :\"Toys_and_Games\",\n",
        "  22 :\"Video Games\"\n",
        "}"
      ],
      "execution_count": 0,
      "outputs": []
    },
    {
      "cell_type": "code",
      "metadata": {
        "id": "E-JUCiTYsRWV",
        "colab_type": "code",
        "colab": {}
      },
      "source": [
        "def get_lebel_from_code(code):\n",
        "  if code not in encoding_to_labels.keys():\n",
        "    raise KeyError(\"Invalid Code\")\n",
        "  return encoding_to_labels[code]\n",
        "\n",
        "def get_all_labels():\n",
        "  return list(encoding_to_labels.values())"
      ],
      "execution_count": 0,
      "outputs": []
    },
    {
      "cell_type": "markdown",
      "metadata": {
        "id": "VBYzPcejcJnC",
        "colab_type": "text"
      },
      "source": [
        "# This is the code section for trying Triplet Generation\n"
      ]
    },
    {
      "cell_type": "code",
      "metadata": {
        "id": "vP-YgYTWcQWO",
        "colab_type": "code",
        "colab": {}
      },
      "source": [
        "from torch.utils.data import Dataset\n",
        "import numpy as np\n",
        "\n",
        "class TripletDataset(Dataset):\n",
        "    \"\"\"\n",
        "    Train: For each sample (anchor) randomly chooses a positive and negative samples\n",
        "    Test: Creates fixed triplets for testing\n",
        "    \"\"\"\n",
        "\n",
        "    def __init__(self, dataset, select_column, training_mode=True):\n",
        "         \n",
        "        \n",
        "        self.dataset = dataset\n",
        "        self.train = training_mode\n",
        "        self.select_column = select_column\n",
        "        if self.train:\n",
        "            self.train_labels = self.dataset.labels_encoded\n",
        "            # Drop the labels column so that remaining features form part of the training set\n",
        "            self.dataset = self.dataset.drop('labels_encoded', axis=1)\n",
        "            self.train_data = self.dataset\n",
        "            self.labels_set = set(self.train_labels.to_numpy())\n",
        "            self.label_to_indices = {label: np.where(self.train_labels.to_numpy() == label)[0]\n",
        "                                     for label in self.labels_set} # redundent in our case if we decide to use numeric labels based on certain sklearn packages\n",
        "\n",
        "        else:\n",
        "            self.test_labels = self.dataset.labels_encoded\n",
        "            # Drop the labels column so that remaining features form part of the training set\n",
        "            self.dataset = self.dataset.drop('labels_encoded', axis=1)\n",
        "            self.test_data = self.dataset\n",
        "            # generate fixed triplets for testing\n",
        "            self.labels_set = set(self.test_labels.to_numpy())\n",
        "            self.label_to_indices = {label: np.where(self.test_labels.to_numpy() == label)[0]\n",
        "                                     for label in self.labels_set}\n",
        "\n",
        "            random_state = np.random.RandomState(42)\n",
        "            \n",
        "            #print(\"Length of the dataset is {}\".format(len(self.test_data)))\n",
        "            \n",
        "            triplets = []\n",
        "            for i in range(len(self.test_data)):\n",
        "                  triplets.append([i,\n",
        "                           random_state.choice(self.label_to_indices[self.test_labels.iloc[i]]),\n",
        "                           random_state.choice(self.label_to_indices[\n",
        "                                                 np.random.choice(\n",
        "                                                     list(self.labels_set - set([self.test_labels.iloc[i]]))\n",
        "                                                 )\n",
        "                                             ])\n",
        "                         ]) \n",
        "                         \n",
        "            self.test_triplets = triplets\n",
        "           \n",
        "    def __getitem__(self, index):\n",
        "        if self.train:\n",
        "            #print(type(self.train_data))\n",
        "            img1, label1 = self.train_data.iloc[index], self.train_labels.iloc[index]\n",
        "            positive_index = index\n",
        "            while positive_index == index:\n",
        "                positive_index = np.random.choice(self.label_to_indices[label1])\n",
        "            negative_label = np.random.choice(list(self.labels_set - set([label1])))\n",
        "            negative_index = np.random.choice(self.label_to_indices[negative_label])\n",
        "            img2 = self.train_data.iloc[positive_index]\n",
        "            img3 = self.train_data.iloc[negative_index]\n",
        "        else:\n",
        "            img1 = self.test_data.iloc[self.test_triplets[index][0]]\n",
        "            img2 = self.test_data.iloc[self.test_triplets[index][1]]\n",
        "            img3 = self.test_data.iloc[self.test_triplets[index][2]]\n",
        "\n",
        "        img1 = img1[self.select_column]\n",
        "        img2 = img2[self.select_column]\n",
        "        img3 = img3[self.select_column]\n",
        "        \n",
        "        #print(\"Computation of the entities are completed\")\n",
        "\n",
        "        return (img1, img2, img3)\n",
        "\n",
        "    def __len__(self):\n",
        "        return len(self.dataset)"
      ],
      "execution_count": 0,
      "outputs": []
    },
    {
      "cell_type": "markdown",
      "metadata": {
        "id": "jTXpYPem32iM",
        "colab_type": "text"
      },
      "source": [
        "## Load the entire dataset in this section"
      ]
    },
    {
      "cell_type": "code",
      "metadata": {
        "id": "MzVaHR7VcQlH",
        "colab_type": "code",
        "outputId": "d6609ea4-7a03-40eb-842d-60d4a8e3c821",
        "colab": {
          "base_uri": "https://localhost:8080/",
          "height": 421
        }
      },
      "source": [
        "import pandas as pd\n",
        "%cd /content/\n",
        "input_data = pd.read_csv('actual_dataset.csv')"
      ],
      "execution_count": 0,
      "outputs": [
        {
          "output_type": "stream",
          "text": [
            "/content\n"
          ],
          "name": "stdout"
        },
        {
          "output_type": "error",
          "ename": "FileNotFoundError",
          "evalue": "ignored",
          "traceback": [
            "\u001b[0;31m---------------------------------------------------------------------------\u001b[0m",
            "\u001b[0;31mFileNotFoundError\u001b[0m                         Traceback (most recent call last)",
            "\u001b[0;32m<ipython-input-87-558fcc71a521>\u001b[0m in \u001b[0;36m<module>\u001b[0;34m()\u001b[0m\n\u001b[1;32m      1\u001b[0m \u001b[0;32mimport\u001b[0m \u001b[0mpandas\u001b[0m \u001b[0;32mas\u001b[0m \u001b[0mpd\u001b[0m\u001b[0;34m\u001b[0m\u001b[0;34m\u001b[0m\u001b[0m\n\u001b[1;32m      2\u001b[0m \u001b[0mget_ipython\u001b[0m\u001b[0;34m(\u001b[0m\u001b[0;34m)\u001b[0m\u001b[0;34m.\u001b[0m\u001b[0mmagic\u001b[0m\u001b[0;34m(\u001b[0m\u001b[0;34m'cd /content/'\u001b[0m\u001b[0;34m)\u001b[0m\u001b[0;34m\u001b[0m\u001b[0;34m\u001b[0m\u001b[0m\n\u001b[0;32m----> 3\u001b[0;31m \u001b[0minput_data\u001b[0m \u001b[0;34m=\u001b[0m \u001b[0mpd\u001b[0m\u001b[0;34m.\u001b[0m\u001b[0mread_csv\u001b[0m\u001b[0;34m(\u001b[0m\u001b[0;34m'actual_dataset.csv'\u001b[0m\u001b[0;34m)\u001b[0m\u001b[0;34m\u001b[0m\u001b[0;34m\u001b[0m\u001b[0m\n\u001b[0m",
            "\u001b[0;32m/usr/local/lib/python3.6/dist-packages/pandas/io/parsers.py\u001b[0m in \u001b[0;36mparser_f\u001b[0;34m(filepath_or_buffer, sep, delimiter, header, names, index_col, usecols, squeeze, prefix, mangle_dupe_cols, dtype, engine, converters, true_values, false_values, skipinitialspace, skiprows, skipfooter, nrows, na_values, keep_default_na, na_filter, verbose, skip_blank_lines, parse_dates, infer_datetime_format, keep_date_col, date_parser, dayfirst, iterator, chunksize, compression, thousands, decimal, lineterminator, quotechar, quoting, doublequote, escapechar, comment, encoding, dialect, tupleize_cols, error_bad_lines, warn_bad_lines, delim_whitespace, low_memory, memory_map, float_precision)\u001b[0m\n\u001b[1;32m    700\u001b[0m                     skip_blank_lines=skip_blank_lines)\n\u001b[1;32m    701\u001b[0m \u001b[0;34m\u001b[0m\u001b[0m\n\u001b[0;32m--> 702\u001b[0;31m         \u001b[0;32mreturn\u001b[0m \u001b[0m_read\u001b[0m\u001b[0;34m(\u001b[0m\u001b[0mfilepath_or_buffer\u001b[0m\u001b[0;34m,\u001b[0m \u001b[0mkwds\u001b[0m\u001b[0;34m)\u001b[0m\u001b[0;34m\u001b[0m\u001b[0;34m\u001b[0m\u001b[0m\n\u001b[0m\u001b[1;32m    703\u001b[0m \u001b[0;34m\u001b[0m\u001b[0m\n\u001b[1;32m    704\u001b[0m     \u001b[0mparser_f\u001b[0m\u001b[0;34m.\u001b[0m\u001b[0m__name__\u001b[0m \u001b[0;34m=\u001b[0m \u001b[0mname\u001b[0m\u001b[0;34m\u001b[0m\u001b[0;34m\u001b[0m\u001b[0m\n",
            "\u001b[0;32m/usr/local/lib/python3.6/dist-packages/pandas/io/parsers.py\u001b[0m in \u001b[0;36m_read\u001b[0;34m(filepath_or_buffer, kwds)\u001b[0m\n\u001b[1;32m    427\u001b[0m \u001b[0;34m\u001b[0m\u001b[0m\n\u001b[1;32m    428\u001b[0m     \u001b[0;31m# Create the parser.\u001b[0m\u001b[0;34m\u001b[0m\u001b[0;34m\u001b[0m\u001b[0;34m\u001b[0m\u001b[0m\n\u001b[0;32m--> 429\u001b[0;31m     \u001b[0mparser\u001b[0m \u001b[0;34m=\u001b[0m \u001b[0mTextFileReader\u001b[0m\u001b[0;34m(\u001b[0m\u001b[0mfilepath_or_buffer\u001b[0m\u001b[0;34m,\u001b[0m \u001b[0;34m**\u001b[0m\u001b[0mkwds\u001b[0m\u001b[0;34m)\u001b[0m\u001b[0;34m\u001b[0m\u001b[0;34m\u001b[0m\u001b[0m\n\u001b[0m\u001b[1;32m    430\u001b[0m \u001b[0;34m\u001b[0m\u001b[0m\n\u001b[1;32m    431\u001b[0m     \u001b[0;32mif\u001b[0m \u001b[0mchunksize\u001b[0m \u001b[0;32mor\u001b[0m \u001b[0miterator\u001b[0m\u001b[0;34m:\u001b[0m\u001b[0;34m\u001b[0m\u001b[0;34m\u001b[0m\u001b[0m\n",
            "\u001b[0;32m/usr/local/lib/python3.6/dist-packages/pandas/io/parsers.py\u001b[0m in \u001b[0;36m__init__\u001b[0;34m(self, f, engine, **kwds)\u001b[0m\n\u001b[1;32m    893\u001b[0m             \u001b[0mself\u001b[0m\u001b[0;34m.\u001b[0m\u001b[0moptions\u001b[0m\u001b[0;34m[\u001b[0m\u001b[0;34m'has_index_names'\u001b[0m\u001b[0;34m]\u001b[0m \u001b[0;34m=\u001b[0m \u001b[0mkwds\u001b[0m\u001b[0;34m[\u001b[0m\u001b[0;34m'has_index_names'\u001b[0m\u001b[0;34m]\u001b[0m\u001b[0;34m\u001b[0m\u001b[0;34m\u001b[0m\u001b[0m\n\u001b[1;32m    894\u001b[0m \u001b[0;34m\u001b[0m\u001b[0m\n\u001b[0;32m--> 895\u001b[0;31m         \u001b[0mself\u001b[0m\u001b[0;34m.\u001b[0m\u001b[0m_make_engine\u001b[0m\u001b[0;34m(\u001b[0m\u001b[0mself\u001b[0m\u001b[0;34m.\u001b[0m\u001b[0mengine\u001b[0m\u001b[0;34m)\u001b[0m\u001b[0;34m\u001b[0m\u001b[0;34m\u001b[0m\u001b[0m\n\u001b[0m\u001b[1;32m    896\u001b[0m \u001b[0;34m\u001b[0m\u001b[0m\n\u001b[1;32m    897\u001b[0m     \u001b[0;32mdef\u001b[0m \u001b[0mclose\u001b[0m\u001b[0;34m(\u001b[0m\u001b[0mself\u001b[0m\u001b[0;34m)\u001b[0m\u001b[0;34m:\u001b[0m\u001b[0;34m\u001b[0m\u001b[0;34m\u001b[0m\u001b[0m\n",
            "\u001b[0;32m/usr/local/lib/python3.6/dist-packages/pandas/io/parsers.py\u001b[0m in \u001b[0;36m_make_engine\u001b[0;34m(self, engine)\u001b[0m\n\u001b[1;32m   1120\u001b[0m     \u001b[0;32mdef\u001b[0m \u001b[0m_make_engine\u001b[0m\u001b[0;34m(\u001b[0m\u001b[0mself\u001b[0m\u001b[0;34m,\u001b[0m \u001b[0mengine\u001b[0m\u001b[0;34m=\u001b[0m\u001b[0;34m'c'\u001b[0m\u001b[0;34m)\u001b[0m\u001b[0;34m:\u001b[0m\u001b[0;34m\u001b[0m\u001b[0;34m\u001b[0m\u001b[0m\n\u001b[1;32m   1121\u001b[0m         \u001b[0;32mif\u001b[0m \u001b[0mengine\u001b[0m \u001b[0;34m==\u001b[0m \u001b[0;34m'c'\u001b[0m\u001b[0;34m:\u001b[0m\u001b[0;34m\u001b[0m\u001b[0;34m\u001b[0m\u001b[0m\n\u001b[0;32m-> 1122\u001b[0;31m             \u001b[0mself\u001b[0m\u001b[0;34m.\u001b[0m\u001b[0m_engine\u001b[0m \u001b[0;34m=\u001b[0m \u001b[0mCParserWrapper\u001b[0m\u001b[0;34m(\u001b[0m\u001b[0mself\u001b[0m\u001b[0;34m.\u001b[0m\u001b[0mf\u001b[0m\u001b[0;34m,\u001b[0m \u001b[0;34m**\u001b[0m\u001b[0mself\u001b[0m\u001b[0;34m.\u001b[0m\u001b[0moptions\u001b[0m\u001b[0;34m)\u001b[0m\u001b[0;34m\u001b[0m\u001b[0;34m\u001b[0m\u001b[0m\n\u001b[0m\u001b[1;32m   1123\u001b[0m         \u001b[0;32melse\u001b[0m\u001b[0;34m:\u001b[0m\u001b[0;34m\u001b[0m\u001b[0;34m\u001b[0m\u001b[0m\n\u001b[1;32m   1124\u001b[0m             \u001b[0;32mif\u001b[0m \u001b[0mengine\u001b[0m \u001b[0;34m==\u001b[0m \u001b[0;34m'python'\u001b[0m\u001b[0;34m:\u001b[0m\u001b[0;34m\u001b[0m\u001b[0;34m\u001b[0m\u001b[0m\n",
            "\u001b[0;32m/usr/local/lib/python3.6/dist-packages/pandas/io/parsers.py\u001b[0m in \u001b[0;36m__init__\u001b[0;34m(self, src, **kwds)\u001b[0m\n\u001b[1;32m   1851\u001b[0m         \u001b[0mkwds\u001b[0m\u001b[0;34m[\u001b[0m\u001b[0;34m'usecols'\u001b[0m\u001b[0;34m]\u001b[0m \u001b[0;34m=\u001b[0m \u001b[0mself\u001b[0m\u001b[0;34m.\u001b[0m\u001b[0musecols\u001b[0m\u001b[0;34m\u001b[0m\u001b[0;34m\u001b[0m\u001b[0m\n\u001b[1;32m   1852\u001b[0m \u001b[0;34m\u001b[0m\u001b[0m\n\u001b[0;32m-> 1853\u001b[0;31m         \u001b[0mself\u001b[0m\u001b[0;34m.\u001b[0m\u001b[0m_reader\u001b[0m \u001b[0;34m=\u001b[0m \u001b[0mparsers\u001b[0m\u001b[0;34m.\u001b[0m\u001b[0mTextReader\u001b[0m\u001b[0;34m(\u001b[0m\u001b[0msrc\u001b[0m\u001b[0;34m,\u001b[0m \u001b[0;34m**\u001b[0m\u001b[0mkwds\u001b[0m\u001b[0;34m)\u001b[0m\u001b[0;34m\u001b[0m\u001b[0;34m\u001b[0m\u001b[0m\n\u001b[0m\u001b[1;32m   1854\u001b[0m         \u001b[0mself\u001b[0m\u001b[0;34m.\u001b[0m\u001b[0munnamed_cols\u001b[0m \u001b[0;34m=\u001b[0m \u001b[0mself\u001b[0m\u001b[0;34m.\u001b[0m\u001b[0m_reader\u001b[0m\u001b[0;34m.\u001b[0m\u001b[0munnamed_cols\u001b[0m\u001b[0;34m\u001b[0m\u001b[0;34m\u001b[0m\u001b[0m\n\u001b[1;32m   1855\u001b[0m \u001b[0;34m\u001b[0m\u001b[0m\n",
            "\u001b[0;32mpandas/_libs/parsers.pyx\u001b[0m in \u001b[0;36mpandas._libs.parsers.TextReader.__cinit__\u001b[0;34m()\u001b[0m\n",
            "\u001b[0;32mpandas/_libs/parsers.pyx\u001b[0m in \u001b[0;36mpandas._libs.parsers.TextReader._setup_parser_source\u001b[0;34m()\u001b[0m\n",
            "\u001b[0;31mFileNotFoundError\u001b[0m: [Errno 2] File b'actual_dataset.csv' does not exist: b'actual_dataset.csv'"
          ]
        }
      ]
    },
    {
      "cell_type": "code",
      "metadata": {
        "id": "sJ9OuN6fnEjE",
        "colab_type": "code",
        "outputId": "ab21dc29-41e6-45ed-c982-824f9ab125f9",
        "colab": {
          "base_uri": "https://localhost:8080/",
          "height": 84
        }
      },
      "source": [
        "input_data.columns"
      ],
      "execution_count": 0,
      "outputs": [
        {
          "output_type": "execute_result",
          "data": {
            "text/plain": [
              "Index(['reviewerID', 'asin', 'reviewerName', 'helpful', 'reviewText',\n",
              "       'overall', 'summary', 'unixReviewTime', 'reviewTime',\n",
              "       'Product_Category'],\n",
              "      dtype='object')"
            ]
          },
          "metadata": {
            "tags": []
          },
          "execution_count": 17
        }
      ]
    },
    {
      "cell_type": "code",
      "metadata": {
        "id": "ImQg2ouIupGA",
        "colab_type": "code",
        "outputId": "30795c59-d967-4af0-c829-731b60a2ed08",
        "colab": {
          "base_uri": "https://localhost:8080/",
          "height": 551
        }
      },
      "source": [
        "input_data.head()"
      ],
      "execution_count": 0,
      "outputs": [
        {
          "output_type": "execute_result",
          "data": {
            "text/html": [
              "<div>\n",
              "<style scoped>\n",
              "    .dataframe tbody tr th:only-of-type {\n",
              "        vertical-align: middle;\n",
              "    }\n",
              "\n",
              "    .dataframe tbody tr th {\n",
              "        vertical-align: top;\n",
              "    }\n",
              "\n",
              "    .dataframe thead th {\n",
              "        text-align: right;\n",
              "    }\n",
              "</style>\n",
              "<table border=\"1\" class=\"dataframe\">\n",
              "  <thead>\n",
              "    <tr style=\"text-align: right;\">\n",
              "      <th></th>\n",
              "      <th>reviewerID</th>\n",
              "      <th>asin</th>\n",
              "      <th>reviewerName</th>\n",
              "      <th>helpful</th>\n",
              "      <th>reviewText</th>\n",
              "      <th>overall</th>\n",
              "      <th>summary</th>\n",
              "      <th>unixReviewTime</th>\n",
              "      <th>reviewTime</th>\n",
              "      <th>Product_Category</th>\n",
              "    </tr>\n",
              "  </thead>\n",
              "  <tbody>\n",
              "    <tr>\n",
              "      <th>0</th>\n",
              "      <td>A1VXOAVRGKGEAK</td>\n",
              "      <td>439893577</td>\n",
              "      <td>Angie</td>\n",
              "      <td>[0, 0]</td>\n",
              "      <td>I like the item pricing. My granddaughter want...</td>\n",
              "      <td>5</td>\n",
              "      <td>Magnetic board</td>\n",
              "      <td>1390953600</td>\n",
              "      <td>01 29, 2014</td>\n",
              "      <td>Toys_and_Games</td>\n",
              "    </tr>\n",
              "    <tr>\n",
              "      <th>1</th>\n",
              "      <td>A8R62G708TSCM</td>\n",
              "      <td>439893577</td>\n",
              "      <td>Candace</td>\n",
              "      <td>[1, 1]</td>\n",
              "      <td>Love the magnet easel... great for moving to d...</td>\n",
              "      <td>4</td>\n",
              "      <td>it works pretty good for moving to different a...</td>\n",
              "      <td>1395964800</td>\n",
              "      <td>03 28, 2014</td>\n",
              "      <td>Toys_and_Games</td>\n",
              "    </tr>\n",
              "    <tr>\n",
              "      <th>2</th>\n",
              "      <td>A21KH420DK0ICA</td>\n",
              "      <td>439893577</td>\n",
              "      <td>capemaychristy</td>\n",
              "      <td>[1, 1]</td>\n",
              "      <td>Both sides are magnetic.  A real plus when you...</td>\n",
              "      <td>5</td>\n",
              "      <td>love this!</td>\n",
              "      <td>1359331200</td>\n",
              "      <td>01 28, 2013</td>\n",
              "      <td>Toys_and_Games</td>\n",
              "    </tr>\n",
              "    <tr>\n",
              "      <th>3</th>\n",
              "      <td>AR29QK6HPFYZ4</td>\n",
              "      <td>439893577</td>\n",
              "      <td>dcrm</td>\n",
              "      <td>[0, 0]</td>\n",
              "      <td>Bought one a few years ago for my daughter and...</td>\n",
              "      <td>5</td>\n",
              "      <td>Daughters love it</td>\n",
              "      <td>1391817600</td>\n",
              "      <td>02 8, 2014</td>\n",
              "      <td>Toys_and_Games</td>\n",
              "    </tr>\n",
              "    <tr>\n",
              "      <th>4</th>\n",
              "      <td>ACCH8EOML6FN5</td>\n",
              "      <td>439893577</td>\n",
              "      <td>DoyZ</td>\n",
              "      <td>[1, 1]</td>\n",
              "      <td>I have a stainless steel refrigerator therefor...</td>\n",
              "      <td>4</td>\n",
              "      <td>Great to have so he can play with his alphabet...</td>\n",
              "      <td>1399248000</td>\n",
              "      <td>05 5, 2014</td>\n",
              "      <td>Toys_and_Games</td>\n",
              "    </tr>\n",
              "  </tbody>\n",
              "</table>\n",
              "</div>"
            ],
            "text/plain": [
              "       reviewerID       asin  ...   reviewTime Product_Category\n",
              "0  A1VXOAVRGKGEAK  439893577  ...  01 29, 2014   Toys_and_Games\n",
              "1   A8R62G708TSCM  439893577  ...  03 28, 2014   Toys_and_Games\n",
              "2  A21KH420DK0ICA  439893577  ...  01 28, 2013   Toys_and_Games\n",
              "3   AR29QK6HPFYZ4  439893577  ...   02 8, 2014   Toys_and_Games\n",
              "4   ACCH8EOML6FN5  439893577  ...   05 5, 2014   Toys_and_Games\n",
              "\n",
              "[5 rows x 10 columns]"
            ]
          },
          "metadata": {
            "tags": []
          },
          "execution_count": 18
        }
      ]
    },
    {
      "cell_type": "markdown",
      "metadata": {
        "id": "gY_gevdXu8ZV",
        "colab_type": "text"
      },
      "source": [
        "### We would use review.text as the input and use it to predict review.primaryCategories"
      ]
    },
    {
      "cell_type": "code",
      "metadata": {
        "id": "cfzKSTw5vMvP",
        "colab_type": "code",
        "outputId": "ccfb7d9b-ad22-494c-c224-abf0ae4b4de5",
        "colab": {
          "base_uri": "https://localhost:8080/",
          "height": 101
        }
      },
      "source": [
        "input_data.Product_Category.describe()"
      ],
      "execution_count": 0,
      "outputs": [
        {
          "output_type": "execute_result",
          "data": {
            "text/plain": [
              "count       2300\n",
              "unique        23\n",
              "top       Beauty\n",
              "freq         100\n",
              "Name: Product_Category, dtype: object"
            ]
          },
          "metadata": {
            "tags": []
          },
          "execution_count": 19
        }
      ]
    },
    {
      "cell_type": "code",
      "metadata": {
        "id": "HbUHtUzLl-T1",
        "colab_type": "code",
        "outputId": "387d7f74-d67b-460a-8664-9e42c5978eaa",
        "colab": {
          "base_uri": "https://localhost:8080/",
          "height": 551
        }
      },
      "source": [
        "input_data = input_data.rename(columns={'Product_Category':'label'})\n",
        "input_data.head()"
      ],
      "execution_count": 0,
      "outputs": [
        {
          "output_type": "execute_result",
          "data": {
            "text/html": [
              "<div>\n",
              "<style scoped>\n",
              "    .dataframe tbody tr th:only-of-type {\n",
              "        vertical-align: middle;\n",
              "    }\n",
              "\n",
              "    .dataframe tbody tr th {\n",
              "        vertical-align: top;\n",
              "    }\n",
              "\n",
              "    .dataframe thead th {\n",
              "        text-align: right;\n",
              "    }\n",
              "</style>\n",
              "<table border=\"1\" class=\"dataframe\">\n",
              "  <thead>\n",
              "    <tr style=\"text-align: right;\">\n",
              "      <th></th>\n",
              "      <th>reviewerID</th>\n",
              "      <th>asin</th>\n",
              "      <th>reviewerName</th>\n",
              "      <th>helpful</th>\n",
              "      <th>reviewText</th>\n",
              "      <th>overall</th>\n",
              "      <th>summary</th>\n",
              "      <th>unixReviewTime</th>\n",
              "      <th>reviewTime</th>\n",
              "      <th>label</th>\n",
              "    </tr>\n",
              "  </thead>\n",
              "  <tbody>\n",
              "    <tr>\n",
              "      <th>0</th>\n",
              "      <td>A1VXOAVRGKGEAK</td>\n",
              "      <td>439893577</td>\n",
              "      <td>Angie</td>\n",
              "      <td>[0, 0]</td>\n",
              "      <td>I like the item pricing. My granddaughter want...</td>\n",
              "      <td>5</td>\n",
              "      <td>Magnetic board</td>\n",
              "      <td>1390953600</td>\n",
              "      <td>01 29, 2014</td>\n",
              "      <td>Toys_and_Games</td>\n",
              "    </tr>\n",
              "    <tr>\n",
              "      <th>1</th>\n",
              "      <td>A8R62G708TSCM</td>\n",
              "      <td>439893577</td>\n",
              "      <td>Candace</td>\n",
              "      <td>[1, 1]</td>\n",
              "      <td>Love the magnet easel... great for moving to d...</td>\n",
              "      <td>4</td>\n",
              "      <td>it works pretty good for moving to different a...</td>\n",
              "      <td>1395964800</td>\n",
              "      <td>03 28, 2014</td>\n",
              "      <td>Toys_and_Games</td>\n",
              "    </tr>\n",
              "    <tr>\n",
              "      <th>2</th>\n",
              "      <td>A21KH420DK0ICA</td>\n",
              "      <td>439893577</td>\n",
              "      <td>capemaychristy</td>\n",
              "      <td>[1, 1]</td>\n",
              "      <td>Both sides are magnetic.  A real plus when you...</td>\n",
              "      <td>5</td>\n",
              "      <td>love this!</td>\n",
              "      <td>1359331200</td>\n",
              "      <td>01 28, 2013</td>\n",
              "      <td>Toys_and_Games</td>\n",
              "    </tr>\n",
              "    <tr>\n",
              "      <th>3</th>\n",
              "      <td>AR29QK6HPFYZ4</td>\n",
              "      <td>439893577</td>\n",
              "      <td>dcrm</td>\n",
              "      <td>[0, 0]</td>\n",
              "      <td>Bought one a few years ago for my daughter and...</td>\n",
              "      <td>5</td>\n",
              "      <td>Daughters love it</td>\n",
              "      <td>1391817600</td>\n",
              "      <td>02 8, 2014</td>\n",
              "      <td>Toys_and_Games</td>\n",
              "    </tr>\n",
              "    <tr>\n",
              "      <th>4</th>\n",
              "      <td>ACCH8EOML6FN5</td>\n",
              "      <td>439893577</td>\n",
              "      <td>DoyZ</td>\n",
              "      <td>[1, 1]</td>\n",
              "      <td>I have a stainless steel refrigerator therefor...</td>\n",
              "      <td>4</td>\n",
              "      <td>Great to have so he can play with his alphabet...</td>\n",
              "      <td>1399248000</td>\n",
              "      <td>05 5, 2014</td>\n",
              "      <td>Toys_and_Games</td>\n",
              "    </tr>\n",
              "  </tbody>\n",
              "</table>\n",
              "</div>"
            ],
            "text/plain": [
              "       reviewerID       asin  ...   reviewTime           label\n",
              "0  A1VXOAVRGKGEAK  439893577  ...  01 29, 2014  Toys_and_Games\n",
              "1   A8R62G708TSCM  439893577  ...  03 28, 2014  Toys_and_Games\n",
              "2  A21KH420DK0ICA  439893577  ...  01 28, 2013  Toys_and_Games\n",
              "3   AR29QK6HPFYZ4  439893577  ...   02 8, 2014  Toys_and_Games\n",
              "4   ACCH8EOML6FN5  439893577  ...   05 5, 2014  Toys_and_Games\n",
              "\n",
              "[5 rows x 10 columns]"
            ]
          },
          "metadata": {
            "tags": []
          },
          "execution_count": 20
        }
      ]
    },
    {
      "cell_type": "code",
      "metadata": {
        "id": "Cm6KWbuh95tX",
        "colab_type": "code",
        "colab": {}
      },
      "source": [
        "LASER = os.environ['LASER']\n",
        "FASTBPE = LASER + '/tools-external/fastBPE/fast'\n",
        "MOSES_BDIR = LASER + '/tools-external/moses-tokenizer/tokenizer/'\n",
        "MOSES_TOKENIZER = MOSES_BDIR + 'tokenizer.perl -q -no-escape -threads 20 -l '\n",
        "MOSES_LC = MOSES_BDIR + 'lowercase.perl'\n",
        "NORM_PUNC = MOSES_BDIR + 'normalize-punctuation.perl -l '\n",
        "DESCAPE = MOSES_BDIR + 'deescape-special-chars.perl'\n",
        "REM_NON_PRINT_CHAR = MOSES_BDIR + 'remove-non-printing-char.perl'\n",
        "MECAB = LASER + '/tools-external/mecab'"
      ],
      "execution_count": 0,
      "outputs": []
    },
    {
      "cell_type": "code",
      "metadata": {
        "id": "h9sXKsW1M9Xt",
        "colab_type": "code",
        "colab": {}
      },
      "source": [
        "from subprocess import check_output\n",
        "def sample_token(string_val, lang='en'):\n",
        "    tok = check_output(\n",
        "                REM_NON_PRINT_CHAR\n",
        "                + '|' + NORM_PUNC + lang\n",
        "                + '|' + DESCAPE\n",
        "                + '|' + MOSES_TOKENIZER + lang\n",
        "                + ('| python3 -m jieba -d ' if lang == 'zh' else '')\n",
        "                + ('|' + MECAB + '/bin/mecab -O wakati -b 50000 ' if lang == 'ja' else ''),\n",
        "                input=string_val,\n",
        "                encoding='UTF-8',\n",
        "                shell=True)\n",
        "    return tok.strip()"
      ],
      "execution_count": 0,
      "outputs": []
    },
    {
      "cell_type": "markdown",
      "metadata": {
        "id": "iT4TrHkYvT0Q",
        "colab_type": "text"
      },
      "source": [
        "### Clean the data as that might cause problems later"
      ]
    },
    {
      "cell_type": "code",
      "metadata": {
        "id": "faPNpMFclPpq",
        "colab_type": "code",
        "colab": {}
      },
      "source": [
        "index = input_data.reviewText.isnull()==True\n",
        "samp = index[index==True]\n",
        "input_data = input_data.drop(samp.index)"
      ],
      "execution_count": 0,
      "outputs": []
    },
    {
      "cell_type": "code",
      "metadata": {
        "id": "KID-p2ZpvZP9",
        "colab_type": "code",
        "outputId": "bcedc556-ba58-4513-af3f-66f8759676ed",
        "colab": {
          "base_uri": "https://localhost:8080/",
          "height": 34
        }
      },
      "source": [
        "input_data.reviewText.isnull().sum() #Value should be always zero"
      ],
      "execution_count": 0,
      "outputs": [
        {
          "output_type": "execute_result",
          "data": {
            "text/plain": [
              "0"
            ]
          },
          "metadata": {
            "tags": []
          },
          "execution_count": 47
        }
      ]
    },
    {
      "cell_type": "code",
      "metadata": {
        "id": "zmGwWzJZNkwZ",
        "colab_type": "code",
        "colab": {}
      },
      "source": [
        "\"\"\"\n",
        "  Do the above mentioned operation on all the entries in the column. So,\n",
        "  \n",
        "\"\"\"\n",
        "input_data['tokenized_review'] = input_data.reviewText.apply(sample_token)"
      ],
      "execution_count": 0,
      "outputs": []
    },
    {
      "cell_type": "code",
      "metadata": {
        "id": "sPBpVwpGROPc",
        "colab_type": "code",
        "colab": {}
      },
      "source": [
        "bpe_codes = './LASER/models/93langs.fcodes'\n",
        "bpe_vocab = bpe_codes.replace('fcodes', 'fvocab')\n",
        "\n",
        "\n",
        "def apply_bpe(sentence):\n",
        "  sentence = sentence.replace('\"','\\\\\"')\n",
        "  bpe = check_output(\n",
        "      'echo -n \"'+sentence +'\" | '+ FASTBPE + ' applybpe_stream '+  bpe_codes +' '+bpe_vocab,\n",
        "      encoding='UTF-8',\n",
        "      shell=True)\n",
        "  return bpe.strip()\n",
        "\n",
        "\n",
        "#input_data['tokenized_review_bpe'] = input_data.reviewText.apply(bpe_sentences)\n"
      ],
      "execution_count": 0,
      "outputs": []
    },
    {
      "cell_type": "code",
      "metadata": {
        "id": "sEgQx2HgZml4",
        "colab_type": "code",
        "outputId": "1932ecd5-42ab-4051-8e2f-720ecad8bef3",
        "colab": {
          "base_uri": "https://localhost:8080/",
          "height": 54
        }
      },
      "source": [
        "tok_sentence = '\"love the magnet easel ... \" slow motion me \"great for moving to different areas ... wish it had some sort of non skid pad on bottom though ...'\n",
        "apply_bpe(tok_sentence)"
      ],
      "execution_count": 0,
      "outputs": [
        {
          "output_type": "execute_result",
          "data": {
            "text/plain": [
              "'\"@@ love the magn@@ et ea@@ sel ... \" slo@@ w motion me \"@@ great for mo@@ ving to different areas ... wish it had some sort of non sk@@ id pad on bot@@ tom though ...'"
            ]
          },
          "metadata": {
            "tags": []
          },
          "execution_count": 27
        }
      ]
    },
    {
      "cell_type": "code",
      "metadata": {
        "id": "qHVv21bCcIXf",
        "colab_type": "code",
        "colab": {}
      },
      "source": [
        "input_data['tokenized_review_bpe'] = input_data.tokenized_review.apply(apply_bpe)\n"
      ],
      "execution_count": 0,
      "outputs": []
    },
    {
      "cell_type": "code",
      "metadata": {
        "id": "QoizC9eVsr7N",
        "colab_type": "code",
        "colab": {}
      },
      "source": [
        "\"\"\"\n",
        "  Let's encode the values in here so that we can use them as label encoder later\n",
        "\"\"\"\n",
        "# import labelencoder\n",
        "from sklearn.preprocessing import LabelEncoder\n",
        "# instantiate labelencoder object\n",
        "le = LabelEncoder()\n",
        "\n",
        "input_data['labels_encoded'] = le.fit_transform(input_data['label'])"
      ],
      "execution_count": 0,
      "outputs": []
    },
    {
      "cell_type": "code",
      "metadata": {
        "id": "jB-DB0WB2_Rk",
        "colab_type": "code",
        "outputId": "03ec20c5-5e83-4d89-b6b8-d0b46cc11737",
        "colab": {
          "base_uri": "https://localhost:8080/",
          "height": 178
        }
      },
      "source": [
        "\n",
        "input_data.to_csv('./preprocessed_output.csv')"
      ],
      "execution_count": 0,
      "outputs": [
        {
          "output_type": "error",
          "ename": "NameError",
          "evalue": "ignored",
          "traceback": [
            "\u001b[0;31m---------------------------------------------------------------------------\u001b[0m",
            "\u001b[0;31mNameError\u001b[0m                                 Traceback (most recent call last)",
            "\u001b[0;32m<ipython-input-8-75160cf52e00>\u001b[0m in \u001b[0;36m<module>\u001b[0;34m()\u001b[0m\n\u001b[1;32m      1\u001b[0m \u001b[0;32mimport\u001b[0m \u001b[0mpandas\u001b[0m \u001b[0;32mas\u001b[0m \u001b[0mpd\u001b[0m\u001b[0;34m\u001b[0m\u001b[0;34m\u001b[0m\u001b[0m\n\u001b[0;32m----> 2\u001b[0;31m \u001b[0minput_data\u001b[0m\u001b[0;34m.\u001b[0m\u001b[0mto_csv\u001b[0m\u001b[0;34m(\u001b[0m\u001b[0;34m'./preprocessed_output.csv'\u001b[0m\u001b[0;34m)\u001b[0m\u001b[0;34m\u001b[0m\u001b[0;34m\u001b[0m\u001b[0m\n\u001b[0m",
            "\u001b[0;31mNameError\u001b[0m: name 'input_data' is not defined"
          ]
        }
      ]
    },
    {
      "cell_type": "markdown",
      "metadata": {
        "id": "c3fiA2utZEjH",
        "colab_type": "text"
      },
      "source": [
        "# Reading preprocessed output uptil BPE and then converting it into sentence embeddings"
      ]
    },
    {
      "cell_type": "code",
      "metadata": {
        "id": "stWEpEY7U_mm",
        "colab_type": "code",
        "outputId": "b935b268-7e39-4097-b82e-2b43d622e3e6",
        "colab": {
          "base_uri": "https://localhost:8080/",
          "height": 34
        }
      },
      "source": [
        "# Trying to apply the sentence encoding so that we can store the entire thing\n",
        "%cd /content/\n",
        "import pandas as pd\n",
        "input_data = pd.read_csv('./preprocessed_output.csv')"
      ],
      "execution_count": 0,
      "outputs": [
        {
          "output_type": "stream",
          "text": [
            "/content\n"
          ],
          "name": "stdout"
        }
      ]
    },
    {
      "cell_type": "code",
      "metadata": {
        "id": "IMmedeXLU_kR",
        "colab_type": "code",
        "colab": {}
      },
      "source": [
        "# Directly copy pasted from stackoverflow \n",
        "# https://stackoverflow.com/questions/35092720/verbosity-pandas-apply"
      ],
      "execution_count": 0,
      "outputs": []
    },
    {
      "cell_type": "code",
      "metadata": {
        "id": "Q0jawvqYKJFP",
        "colab_type": "code",
        "colab": {}
      },
      "source": [
        "# Because of the nature in which LASER tends to perform encoding we have to do this extra tweek\n",
        "def to_list(element):\n",
        "  return [element]"
      ],
      "execution_count": 0,
      "outputs": []
    },
    {
      "cell_type": "code",
      "metadata": {
        "id": "ijP0eityf6mG",
        "colab_type": "code",
        "colab": {}
      },
      "source": [
        "input_data['tokenized_review_bpe_list'] = input_data.tokenized_review_bpe.apply(to_list)\n"
      ],
      "execution_count": 0,
      "outputs": []
    },
    {
      "cell_type": "code",
      "metadata": {
        "id": "8ohTxzwRU_hK",
        "colab_type": "code",
        "outputId": "d3986bca-c4bc-4f06-8427-2493da371066",
        "colab": {
          "base_uri": "https://localhost:8080/",
          "height": 185
        }
      },
      "source": [
        "from pandas import Series\n",
        "\n",
        "def progress_coroutine(print_on = 10):\n",
        "    print (\"Starting progress monitor\")\n",
        "\n",
        "    iterations = 0\n",
        "    while True:\n",
        "        yield\n",
        "        iterations += 1\n",
        "        if (iterations % print_on == 0):\n",
        "            print (\"{} iterations done\".format(iterations))\n",
        "\n",
        "def percentage_coroutine(to_process, print_on_percent = 0.10):\n",
        "    print (\"Starting progress percentage monitor\")\n",
        "\n",
        "    processed = 0\n",
        "    count = 0\n",
        "    print_count = to_process*print_on_percent\n",
        "    while True:\n",
        "        yield\n",
        "        processed += 1\n",
        "        count += 1\n",
        "        if (count >= print_count):\n",
        "            count = 0\n",
        "            pct = (float(processed)/float(to_process))*100\n",
        "\n",
        "            print (\"{}% finished\".format(pct))\n",
        "\n",
        "def trace_progress(func, progress = None):\n",
        "    def callf(*args, **kwargs):\n",
        "        if (progress is not None):\n",
        "            progress.send(None)\n",
        "\n",
        "        return func(*args, **kwargs)\n",
        "\n",
        "    return callf\n",
        "\n",
        "def my_func(i):\n",
        "    return i ** 2\n",
        "\n",
        "data_series = input_data.tokenized_review_bpe_list\n",
        "#co1 = progress_coroutine()\n",
        "co2 = percentage_coroutine(len(data_series))\n",
        "input_data['sentence_embedding'] = data_series.apply(trace_progress(sentence_encoder.encode_sentences, progress = co2))"
      ],
      "execution_count": 0,
      "outputs": [
        {
          "output_type": "stream",
          "text": [
            "Starting progress percentage monitor\n",
            "10.004349717268378% finished\n",
            "20.008699434536755% finished\n",
            "30.01304915180513% finished\n",
            "40.01739886907351% finished\n",
            "50.021748586341886% finished\n",
            "60.02609830361026% finished\n",
            "70.03044802087864% finished\n",
            "80.03479773814702% finished\n",
            "90.0391474554154% finished\n"
          ],
          "name": "stdout"
        }
      ]
    },
    {
      "cell_type": "code",
      "metadata": {
        "id": "K6Vw0OaCgf6w",
        "colab_type": "code",
        "outputId": "2c0de7cc-a1aa-4687-db24-9474edcf8240",
        "colab": {
          "base_uri": "https://localhost:8080/",
          "height": 34
        }
      },
      "source": [
        "\"\"\"\n",
        "  Please let this be here for debugging purpose. The output shape should be (1,1024) ideally\n",
        "\n",
        "\"\"\"\n",
        "# string_input = 'I like the item pri@@ cing . M@@ y grand@@ dau@@ ghter wanted to mark on it but I wanted it just for the let@@ ters .'\n",
        "# sentence = (to_list(string_input))\n",
        "# print(sentence_encoder.encode_sentences(sentence).shape)"
      ],
      "execution_count": 0,
      "outputs": [
        {
          "output_type": "stream",
          "text": [
            "(1, 1024)\n"
          ],
          "name": "stdout"
        }
      ]
    },
    {
      "cell_type": "code",
      "metadata": {
        "id": "Pb_uW2UKhfs_",
        "colab_type": "code",
        "outputId": "ecfe87af-ff99-4de3-c982-90ff1151fb34",
        "colab": {
          "base_uri": "https://localhost:8080/",
          "height": 34
        }
      },
      "source": [
        "# The value should be True\n",
        "len(input_data.sentence_embedding.iloc[0]) == 1 "
      ],
      "execution_count": 0,
      "outputs": [
        {
          "output_type": "execute_result",
          "data": {
            "text/plain": [
              "True"
            ]
          },
          "metadata": {
            "tags": []
          },
          "execution_count": 19
        }
      ]
    },
    {
      "cell_type": "code",
      "metadata": {
        "id": "fpfv_95F2MqI",
        "colab_type": "code",
        "colab": {}
      },
      "source": [
        "input_data = input_data[['sentence_embedding','labels_encoded']]"
      ],
      "execution_count": 0,
      "outputs": []
    },
    {
      "cell_type": "code",
      "metadata": {
        "id": "8FM5LGWEU_ej",
        "colab_type": "code",
        "colab": {}
      },
      "source": [
        "input_data.to_pickle('./preprocessed_sentence_encoded.pkl')"
      ],
      "execution_count": 0,
      "outputs": []
    },
    {
      "cell_type": "markdown",
      "metadata": {
        "id": "NXEgP1BoWg5x",
        "colab_type": "text"
      },
      "source": [
        "## The code here basically reads the data from Drive and performs the same set of operations"
      ]
    },
    {
      "cell_type": "code",
      "metadata": {
        "id": "SaIEC_bEU_Zx",
        "colab_type": "code",
        "colab": {}
      },
      "source": [
        ""
      ],
      "execution_count": 0,
      "outputs": []
    },
    {
      "cell_type": "markdown",
      "metadata": {
        "id": "Dx77VUyk5yFe",
        "colab_type": "text"
      },
      "source": [
        "## If you already have the preprocessed data, use it here"
      ]
    },
    {
      "cell_type": "code",
      "metadata": {
        "id": "Iw0-djNMYxxY",
        "colab_type": "code",
        "outputId": "6296d80e-3d6d-454b-8810-84ba8532e473",
        "colab": {
          "base_uri": "https://localhost:8080/",
          "height": 121
        }
      },
      "source": [
        "# Reading the file from gdrive which is faster than downloading it\n",
        "from google.colab import drive\n",
        "drive.mount(\"/gdrive\", force_remount=True)"
      ],
      "execution_count": 0,
      "outputs": [
        {
          "output_type": "stream",
          "text": [
            "Go to this URL in a browser: https://accounts.google.com/o/oauth2/auth?client_id=947318989803-6bn6qk8qdgf4n4g3pfee6491hc0brc4i.apps.googleusercontent.com&redirect_uri=urn%3Aietf%3Awg%3Aoauth%3A2.0%3Aoob&scope=email%20https%3A%2F%2Fwww.googleapis.com%2Fauth%2Fdocs.test%20https%3A%2F%2Fwww.googleapis.com%2Fauth%2Fdrive%20https%3A%2F%2Fwww.googleapis.com%2Fauth%2Fdrive.photos.readonly%20https%3A%2F%2Fwww.googleapis.com%2Fauth%2Fpeopleapi.readonly&response_type=code\n",
            "\n",
            "Enter your authorization code:\n",
            "··········\n",
            "Mounted at /gdrive\n"
          ],
          "name": "stdout"
        }
      ]
    },
    {
      "cell_type": "code",
      "metadata": {
        "id": "6QyyEHMw52rT",
        "colab_type": "code",
        "outputId": "5ca91a1f-d2ab-4c63-fcdc-be328897a09d",
        "colab": {
          "base_uri": "https://localhost:8080/",
          "height": 34
        }
      },
      "source": [
        "import pandas as pd\n",
        "%cd /content/\n",
        "input_data = pd.read_csv('/gdrive/My Drive/d_training_concatenated_230k.csv', index_col=0)"
      ],
      "execution_count": 0,
      "outputs": [
        {
          "output_type": "stream",
          "text": [
            "/content\n"
          ],
          "name": "stdout"
        }
      ]
    },
    {
      "cell_type": "code",
      "metadata": {
        "id": "ytjqgiLurasK",
        "colab_type": "code",
        "outputId": "0ea91636-cab3-46b8-d67e-341f5f0b1fcf",
        "colab": {
          "base_uri": "https://localhost:8080/",
          "height": 67
        }
      },
      "source": [
        "input_data.columns"
      ],
      "execution_count": 0,
      "outputs": [
        {
          "output_type": "execute_result",
          "data": {
            "text/plain": [
              "Index(['Unnamed: 0.1', 'label', 'reviewText', 'tokenized_review',\n",
              "       'tokenized_review_bpe'],\n",
              "      dtype='object')"
            ]
          },
          "metadata": {
            "tags": []
          },
          "execution_count": 24
        }
      ]
    },
    {
      "cell_type": "code",
      "metadata": {
        "id": "CBxmvXGoqi27",
        "colab_type": "code",
        "colab": {}
      },
      "source": [
        "input_data.head()\n",
        "#input_data = input_data.drop('Unnamed:0', axis=1)\n",
        "df = input_data\n",
        "df = df[pd.notnull(df['tokenized_review_bpe'])]"
      ],
      "execution_count": 0,
      "outputs": []
    },
    {
      "cell_type": "code",
      "metadata": {
        "id": "mC-JdgYkryls",
        "colab_type": "code",
        "outputId": "06115f60-2ac0-4647-f6bb-9e15fa1066a0",
        "colab": {
          "base_uri": "https://localhost:8080/",
          "height": 34
        }
      },
      "source": [
        "df.tokenized_review_bpe.isnull().sum()"
      ],
      "execution_count": 0,
      "outputs": [
        {
          "output_type": "execute_result",
          "data": {
            "text/plain": [
              "0"
            ]
          },
          "metadata": {
            "tags": []
          },
          "execution_count": 26
        }
      ]
    },
    {
      "cell_type": "code",
      "metadata": {
        "id": "6KryRitpr8I2",
        "colab_type": "code",
        "colab": {}
      },
      "source": [
        "input_data = df"
      ],
      "execution_count": 0,
      "outputs": []
    },
    {
      "cell_type": "markdown",
      "metadata": {
        "id": "Rd3drVZISrtq",
        "colab_type": "text"
      },
      "source": [
        "##  Same set of preprocessing equations that we used for the actual index file"
      ]
    },
    {
      "cell_type": "code",
      "metadata": {
        "colab_type": "code",
        "id": "uDG6vLzdS5ho",
        "colab": {}
      },
      "source": [
        "# Because of the nature in which LASER tends to perform encoding we have to do this extra tweek\n",
        "def to_list(element):\n",
        "  return [element]"
      ],
      "execution_count": 0,
      "outputs": []
    },
    {
      "cell_type": "code",
      "metadata": {
        "colab_type": "code",
        "id": "3UmjrdiMS5h-",
        "colab": {}
      },
      "source": [
        "input_data['tokenized_review_bpe_list'] = input_data.tokenized_review_bpe.apply(to_list)\n"
      ],
      "execution_count": 0,
      "outputs": []
    },
    {
      "cell_type": "code",
      "metadata": {
        "colab_type": "code",
        "id": "YAN8XLWwS5iC",
        "colab": {}
      },
      "source": [
        "from pandas import Series\n",
        "\n",
        "def progress_coroutine(print_on = 10):\n",
        "    print (\"Starting progress monitor\")\n",
        "\n",
        "    iterations = 0\n",
        "    while True:\n",
        "        yield\n",
        "        iterations += 1\n",
        "        if (iterations % print_on == 0):\n",
        "            print (\"{} iterations done\".format(iterations))\n",
        "\n",
        "def percentage_coroutine(to_process, print_on_percent = 0.10):\n",
        "    print (\"Starting progress percentage monitor\")\n",
        "\n",
        "    processed = 0\n",
        "    count = 0\n",
        "    print_count = to_process*print_on_percent\n",
        "    while True:\n",
        "        yield\n",
        "        processed += 1\n",
        "        count += 1\n",
        "        if (count >= print_count):\n",
        "            count = 0\n",
        "            pct = (float(processed)/float(to_process))*100\n",
        "\n",
        "            print (\"{}% finished\".format(pct))\n",
        "\n",
        "def trace_progress(func, progress = None):\n",
        "    def callf(*args, **kwargs):\n",
        "        if (progress is not None):\n",
        "            progress.send(None)\n",
        "\n",
        "        return func(*args, **kwargs)\n",
        "\n",
        "    return callf\n",
        "\n",
        "def my_func(i):\n",
        "    return i ** 2\n",
        "\n",
        "data_series = input_data.tokenized_review_bpe_list\n",
        "co1 = progress_coroutine()\n",
        "co2 = percentage_coroutine(len(data_series))\n",
        "input_data['sentence_embedding'] = data_series.apply(trace_progress(sentence_encoder.encode_sentences, progress = co1))"
      ],
      "execution_count": 0,
      "outputs": []
    },
    {
      "cell_type": "code",
      "metadata": {
        "colab_type": "code",
        "outputId": "19526081-de0f-4257-d22a-90fb03aa9277",
        "id": "FW6_Ssr3S5iM",
        "colab": {
          "base_uri": "https://localhost:8080/",
          "height": 162
        }
      },
      "source": [
        "# The value should be True\n",
        "len(input_data.sentence_embedding.iloc[0]) == 1 "
      ],
      "execution_count": 0,
      "outputs": [
        {
          "output_type": "error",
          "ename": "NameError",
          "evalue": "ignored",
          "traceback": [
            "\u001b[0;31m---------------------------------------------------------------------------\u001b[0m",
            "\u001b[0;31mNameError\u001b[0m                                 Traceback (most recent call last)",
            "\u001b[0;32m<ipython-input-1-995144687c82>\u001b[0m in \u001b[0;36m<module>\u001b[0;34m()\u001b[0m\n\u001b[0;32m----> 1\u001b[0;31m \u001b[0mlen\u001b[0m\u001b[0;34m(\u001b[0m\u001b[0minput_data\u001b[0m\u001b[0;34m.\u001b[0m\u001b[0msentence_embedding\u001b[0m\u001b[0;34m.\u001b[0m\u001b[0miloc\u001b[0m\u001b[0;34m[\u001b[0m\u001b[0;36m0\u001b[0m\u001b[0;34m]\u001b[0m\u001b[0;34m)\u001b[0m \u001b[0;34m==\u001b[0m \u001b[0;36m1\u001b[0m\u001b[0;34m\u001b[0m\u001b[0;34m\u001b[0m\u001b[0m\n\u001b[0m",
            "\u001b[0;31mNameError\u001b[0m: name 'input_data' is not defined"
          ]
        }
      ]
    },
    {
      "cell_type": "code",
      "metadata": {
        "id": "EeLXKI4z2CYP",
        "colab_type": "code",
        "colab": {}
      },
      "source": [
        "# Drop irrelevant columns now\n",
        "input_data = input_data[['sentence_embedding','labels_encoded']]"
      ],
      "execution_count": 0,
      "outputs": []
    },
    {
      "cell_type": "code",
      "metadata": {
        "colab_type": "code",
        "outputId": "935c0a91-d997-499f-bf78-21a1e95b74d6",
        "id": "PqkNX211S5iQ",
        "colab": {
          "base_uri": "https://localhost:8080/",
          "height": 70
        }
      },
      "source": [
        "data_series.to_pickle('/gdrive/My Drive/d_training_concatenated_183k_embedded.pkl')"
      ],
      "execution_count": 0,
      "outputs": [
        {
          "output_type": "stream",
          "text": [
            "/usr/local/lib/python3.6/dist-packages/ipykernel_launcher.py:1: FutureWarning: The signature of `Series.to_csv` was aligned to that of `DataFrame.to_csv`, and argument 'header' will change its default value from False to True: please pass an explicit value to suppress this warning.\n",
            "  \"\"\"Entry point for launching an IPython kernel.\n"
          ],
          "name": "stderr"
        }
      ]
    },
    {
      "cell_type": "markdown",
      "metadata": {
        "id": "FVwr0z3eW_iT",
        "colab_type": "text"
      },
      "source": [
        "# If you have sentence embedded dataframe present, use those here directly"
      ]
    },
    {
      "cell_type": "code",
      "metadata": {
        "id": "aGp-uBC9Pwhb",
        "colab_type": "code",
        "outputId": "cf6e4568-1abe-4b94-87d1-f0d9154f0076",
        "colab": {
          "base_uri": "https://localhost:8080/",
          "height": 121
        }
      },
      "source": [
        "# Reading the file from gdrive which is faster than downloading it\n",
        "from google.colab import drive\n",
        "drive.mount(\"/gdrive\", force_remount=True)"
      ],
      "execution_count": 22,
      "outputs": [
        {
          "output_type": "stream",
          "text": [
            "Go to this URL in a browser: https://accounts.google.com/o/oauth2/auth?client_id=947318989803-6bn6qk8qdgf4n4g3pfee6491hc0brc4i.apps.googleusercontent.com&redirect_uri=urn%3Aietf%3Awg%3Aoauth%3A2.0%3Aoob&scope=email%20https%3A%2F%2Fwww.googleapis.com%2Fauth%2Fdocs.test%20https%3A%2F%2Fwww.googleapis.com%2Fauth%2Fdrive%20https%3A%2F%2Fwww.googleapis.com%2Fauth%2Fdrive.photos.readonly%20https%3A%2F%2Fwww.googleapis.com%2Fauth%2Fpeopleapi.readonly&response_type=code\n",
            "\n",
            "Enter your authorization code:\n",
            "··········\n",
            "Mounted at /gdrive\n"
          ],
          "name": "stdout"
        }
      ]
    },
    {
      "cell_type": "code",
      "metadata": {
        "id": "_BIOsjmBSqRh",
        "colab_type": "code",
        "colab": {}
      },
      "source": [
        "import pandas as pd\n",
        "#input_data.to_csv('/gdrive/My Drive/d_training_concatenated_183k_encoded.pkl')\n",
        "input_data = pd.read_pickle('/gdrive/My Drive/d_training_final.pkl')"
      ],
      "execution_count": 0,
      "outputs": []
    },
    {
      "cell_type": "code",
      "metadata": {
        "id": "yqEnzjojSqPA",
        "colab_type": "code",
        "outputId": "f135c93c-5265-4aac-8012-7ab2cbe5642b",
        "colab": {
          "base_uri": "https://localhost:8080/",
          "height": 34
        }
      },
      "source": [
        "len(input_data.sentence_embedding)"
      ],
      "execution_count": 24,
      "outputs": [
        {
          "output_type": "execute_result",
          "data": {
            "text/plain": [
              "193940"
            ]
          },
          "metadata": {
            "tags": []
          },
          "execution_count": 24
        }
      ]
    },
    {
      "cell_type": "code",
      "metadata": {
        "id": "5-ARJLniSqMh",
        "colab_type": "code",
        "outputId": "b326f02b-34e6-4370-8baa-471190338b2d",
        "colab": {
          "base_uri": "https://localhost:8080/",
          "height": 34
        }
      },
      "source": [
        "\"\"\"\n",
        "  Leaving this line here because used it to generate the csv file.\n",
        "  Should be refactored in the next iteration\n",
        "\"\"\"\n",
        "# temp_input_data = input_data[:183943]\n",
        "# len(temp_input_data)\n",
        "# temp_input_data.to_csv('/gdrive/My Drive/d_training_concatenated_183k.csv')"
      ],
      "execution_count": 0,
      "outputs": [
        {
          "output_type": "execute_result",
          "data": {
            "text/plain": [
              "'\\n  Leaving this line here because used it to generate the csv file.\\n  Should be refactored in the next iteration\\n'"
            ]
          },
          "metadata": {
            "tags": []
          },
          "execution_count": 27
        }
      ]
    },
    {
      "cell_type": "code",
      "metadata": {
        "id": "obSsZW6dBqrE",
        "colab_type": "code",
        "outputId": "55cccce8-5e14-4b54-abbb-ba1def0fab73",
        "colab": {
          "base_uri": "https://localhost:8080/",
          "height": 195
        }
      },
      "source": [
        "\"\"\"\n",
        "  Let's encode the values in here so that we can use them as label encoder later\n",
        "\"\"\"\n",
        "# import labelencoder\n",
        "# from sklearn.preprocessing import LabelEncoder\n",
        "# # instantiate labelencoder object\n",
        "# le = LabelEncoder()\n",
        "\n",
        "# input_data['labels_encoded'] = le.fit_transform(input_data['label'])\n",
        "\n",
        "\"\"\"\n",
        "  We are leaving this part here again for completeness since we have a preprocessed dataframe which \n",
        "  has most of the things in place\n",
        "\"\"\"\n",
        "\n",
        "input_data.head()"
      ],
      "execution_count": 0,
      "outputs": [
        {
          "output_type": "execute_result",
          "data": {
            "text/html": [
              "<div>\n",
              "<style scoped>\n",
              "    .dataframe tbody tr th:only-of-type {\n",
              "        vertical-align: middle;\n",
              "    }\n",
              "\n",
              "    .dataframe tbody tr th {\n",
              "        vertical-align: top;\n",
              "    }\n",
              "\n",
              "    .dataframe thead th {\n",
              "        text-align: right;\n",
              "    }\n",
              "</style>\n",
              "<table border=\"1\" class=\"dataframe\">\n",
              "  <thead>\n",
              "    <tr style=\"text-align: right;\">\n",
              "      <th></th>\n",
              "      <th>sentence_embedding</th>\n",
              "      <th>labels_encoded</th>\n",
              "    </tr>\n",
              "  </thead>\n",
              "  <tbody>\n",
              "    <tr>\n",
              "      <th>0</th>\n",
              "      <td>[[0.017418101, 0.003224724, 0.00979801, 0.0071...</td>\n",
              "      <td>20</td>\n",
              "    </tr>\n",
              "    <tr>\n",
              "      <th>1</th>\n",
              "      <td>[[0.0093318345, -3.4339969e-06, 0.005169349, 0...</td>\n",
              "      <td>17</td>\n",
              "    </tr>\n",
              "    <tr>\n",
              "      <th>2</th>\n",
              "      <td>[[0.018201692, -7.0058045e-06, 0.0027392416, 0...</td>\n",
              "      <td>16</td>\n",
              "    </tr>\n",
              "    <tr>\n",
              "      <th>3</th>\n",
              "      <td>[[0.015383401, -2.7567687e-06, -0.0008938909, ...</td>\n",
              "      <td>15</td>\n",
              "    </tr>\n",
              "    <tr>\n",
              "      <th>4</th>\n",
              "      <td>[[0.0031439448, -4.9704126e-05, 0.06903063, 0....</td>\n",
              "      <td>20</td>\n",
              "    </tr>\n",
              "  </tbody>\n",
              "</table>\n",
              "</div>"
            ],
            "text/plain": [
              "                                  sentence_embedding  labels_encoded\n",
              "0  [[0.017418101, 0.003224724, 0.00979801, 0.0071...              20\n",
              "1  [[0.0093318345, -3.4339969e-06, 0.005169349, 0...              17\n",
              "2  [[0.018201692, -7.0058045e-06, 0.0027392416, 0...              16\n",
              "3  [[0.015383401, -2.7567687e-06, -0.0008938909, ...              15\n",
              "4  [[0.0031439448, -4.9704126e-05, 0.06903063, 0....              20"
            ]
          },
          "metadata": {
            "tags": []
          },
          "execution_count": 16
        }
      ]
    },
    {
      "cell_type": "code",
      "metadata": {
        "id": "85LV2EV4BqmR",
        "colab_type": "code",
        "outputId": "91fb8fe4-a24f-4d3e-8e30-7abeaa5fe26b",
        "colab": {
          "base_uri": "https://localhost:8080/",
          "height": 34
        }
      },
      "source": [
        "# The value should be True\n",
        "#len(input_data.sentence_embedding.iloc[0]) == 1 \n",
        "input_data.sentence_embedding.iloc[0].shape"
      ],
      "execution_count": 0,
      "outputs": [
        {
          "output_type": "execute_result",
          "data": {
            "text/plain": [
              "(1, 1024)"
            ]
          },
          "metadata": {
            "tags": []
          },
          "execution_count": 21
        }
      ]
    },
    {
      "cell_type": "markdown",
      "metadata": {
        "id": "HwGXxRMJPJUY",
        "colab_type": "text"
      },
      "source": [
        "##Quickly check if both train and validate dataloaders work"
      ]
    },
    {
      "cell_type": "code",
      "metadata": {
        "id": "0jUp4DY8cUl1",
        "colab_type": "code",
        "outputId": "5979e132-24ad-4ce5-ea42-c06eb3cc950e",
        "colab": {
          "base_uri": "https://localhost:8080/",
          "height": 195
        }
      },
      "source": [
        "input_data.head()"
      ],
      "execution_count": 0,
      "outputs": [
        {
          "output_type": "execute_result",
          "data": {
            "text/html": [
              "<div>\n",
              "<style scoped>\n",
              "    .dataframe tbody tr th:only-of-type {\n",
              "        vertical-align: middle;\n",
              "    }\n",
              "\n",
              "    .dataframe tbody tr th {\n",
              "        vertical-align: top;\n",
              "    }\n",
              "\n",
              "    .dataframe thead th {\n",
              "        text-align: right;\n",
              "    }\n",
              "</style>\n",
              "<table border=\"1\" class=\"dataframe\">\n",
              "  <thead>\n",
              "    <tr style=\"text-align: right;\">\n",
              "      <th></th>\n",
              "      <th>sentence_embedding</th>\n",
              "      <th>labels_encoded</th>\n",
              "    </tr>\n",
              "  </thead>\n",
              "  <tbody>\n",
              "    <tr>\n",
              "      <th>0</th>\n",
              "      <td>[[0.017418101, 0.003224724, 0.00979801, 0.0071...</td>\n",
              "      <td>20</td>\n",
              "    </tr>\n",
              "    <tr>\n",
              "      <th>1</th>\n",
              "      <td>[[0.0093318345, -3.4339969e-06, 0.005169349, 0...</td>\n",
              "      <td>17</td>\n",
              "    </tr>\n",
              "    <tr>\n",
              "      <th>2</th>\n",
              "      <td>[[0.018201692, -7.0058045e-06, 0.0027392416, 0...</td>\n",
              "      <td>16</td>\n",
              "    </tr>\n",
              "    <tr>\n",
              "      <th>3</th>\n",
              "      <td>[[0.015383401, -2.7567687e-06, -0.0008938909, ...</td>\n",
              "      <td>15</td>\n",
              "    </tr>\n",
              "    <tr>\n",
              "      <th>4</th>\n",
              "      <td>[[0.0031439448, -4.9704126e-05, 0.06903063, 0....</td>\n",
              "      <td>20</td>\n",
              "    </tr>\n",
              "  </tbody>\n",
              "</table>\n",
              "</div>"
            ],
            "text/plain": [
              "                                  sentence_embedding  labels_encoded\n",
              "0  [[0.017418101, 0.003224724, 0.00979801, 0.0071...              20\n",
              "1  [[0.0093318345, -3.4339969e-06, 0.005169349, 0...              17\n",
              "2  [[0.018201692, -7.0058045e-06, 0.0027392416, 0...              16\n",
              "3  [[0.015383401, -2.7567687e-06, -0.0008938909, ...              15\n",
              "4  [[0.0031439448, -4.9704126e-05, 0.06903063, 0....              20"
            ]
          },
          "metadata": {
            "tags": []
          },
          "execution_count": 22
        }
      ]
    },
    {
      "cell_type": "code",
      "metadata": {
        "id": "ikgRo75cfgU1",
        "colab_type": "code",
        "outputId": "fbc4015c-6ff7-4734-d80e-f714a1958de5",
        "colab": {
          "base_uri": "https://localhost:8080/",
          "height": 212
        }
      },
      "source": [
        "from torch.utils.data import DataLoader\n",
        "batch_size = 1000\n",
        "siamese_train_dataset = TripletDataset(training_mode=True,dataset=input_data,select_column='sentence_embedding')\n",
        "loader = DataLoader(siamese_train_dataset, batch_size=batch_size,shuffle=True)"
      ],
      "execution_count": 0,
      "outputs": [
        {
          "output_type": "error",
          "ename": "NameError",
          "evalue": "ignored",
          "traceback": [
            "\u001b[0;31m---------------------------------------------------------------------------\u001b[0m",
            "\u001b[0;31mNameError\u001b[0m                                 Traceback (most recent call last)",
            "\u001b[0;32m<ipython-input-40-fdd347f87175>\u001b[0m in \u001b[0;36m<module>\u001b[0;34m()\u001b[0m\n\u001b[1;32m      1\u001b[0m \u001b[0;32mfrom\u001b[0m \u001b[0mtorch\u001b[0m\u001b[0;34m.\u001b[0m\u001b[0mutils\u001b[0m\u001b[0;34m.\u001b[0m\u001b[0mdata\u001b[0m \u001b[0;32mimport\u001b[0m \u001b[0mDataLoader\u001b[0m\u001b[0;34m\u001b[0m\u001b[0;34m\u001b[0m\u001b[0m\n\u001b[1;32m      2\u001b[0m \u001b[0mbatch_size\u001b[0m \u001b[0;34m=\u001b[0m \u001b[0;36m1000\u001b[0m\u001b[0;34m\u001b[0m\u001b[0;34m\u001b[0m\u001b[0m\n\u001b[0;32m----> 3\u001b[0;31m \u001b[0msiamese_train_dataset\u001b[0m \u001b[0;34m=\u001b[0m \u001b[0mTripletDataset\u001b[0m\u001b[0;34m(\u001b[0m\u001b[0mtraining_mode\u001b[0m\u001b[0;34m=\u001b[0m\u001b[0;32mTrue\u001b[0m\u001b[0;34m,\u001b[0m\u001b[0mdataset\u001b[0m\u001b[0;34m=\u001b[0m\u001b[0minput_data\u001b[0m\u001b[0;34m,\u001b[0m\u001b[0mselect_column\u001b[0m\u001b[0;34m=\u001b[0m\u001b[0;34m'sentence_embedding'\u001b[0m\u001b[0;34m)\u001b[0m\u001b[0;34m\u001b[0m\u001b[0;34m\u001b[0m\u001b[0m\n\u001b[0m\u001b[1;32m      4\u001b[0m \u001b[0mloader\u001b[0m \u001b[0;34m=\u001b[0m \u001b[0mDataLoader\u001b[0m\u001b[0;34m(\u001b[0m\u001b[0msiamese_train_dataset\u001b[0m\u001b[0;34m,\u001b[0m \u001b[0mbatch_size\u001b[0m\u001b[0;34m=\u001b[0m\u001b[0mbatch_size\u001b[0m\u001b[0;34m,\u001b[0m\u001b[0mshuffle\u001b[0m\u001b[0;34m=\u001b[0m\u001b[0;32mTrue\u001b[0m\u001b[0;34m)\u001b[0m\u001b[0;34m\u001b[0m\u001b[0;34m\u001b[0m\u001b[0m\n",
            "\u001b[0;31mNameError\u001b[0m: name 'TripletDataset' is not defined"
          ]
        }
      ]
    },
    {
      "cell_type": "code",
      "metadata": {
        "id": "ddasqFvxh5QG",
        "colab_type": "code",
        "outputId": "0d06247a-944d-4a21-96ed-212787f0e0e3",
        "colab": {
          "base_uri": "https://localhost:8080/",
          "height": 67
        }
      },
      "source": [
        "for index, (img1,img2,img3) in enumerate(loader):\n",
        "  print (img1.shape)\n",
        "  print(img2.shape)\n",
        "  print(img3.shape)\n",
        "  break\n",
        "  "
      ],
      "execution_count": 0,
      "outputs": [
        {
          "output_type": "stream",
          "text": [
            "torch.Size([1000, 1, 1024])\n",
            "torch.Size([1000, 1, 1024])\n",
            "torch.Size([1000, 1, 1024])\n"
          ],
          "name": "stdout"
        }
      ]
    },
    {
      "cell_type": "code",
      "metadata": {
        "id": "AwJuQJ3XVrfV",
        "colab_type": "code",
        "colab": {}
      },
      "source": [
        "siamese_val_dataset = TripletDataset(training_mode=False,dataset=input_data,select_column='sentence_embedding')\n",
        "val_loader = DataLoader(siamese_val_dataset, batch_size=batch_size,shuffle=True)"
      ],
      "execution_count": 0,
      "outputs": []
    },
    {
      "cell_type": "code",
      "metadata": {
        "id": "VlaBuJNcVrpE",
        "colab_type": "code",
        "outputId": "cd02b9d5-5ed5-444b-fcca-e7847a7dd340",
        "colab": {
          "base_uri": "https://localhost:8080/",
          "height": 67
        }
      },
      "source": [
        "for index, (img1,img2,img3) in enumerate(val_loader):\n",
        "  print (img1.shape)\n",
        "  print(img2.shape)\n",
        "  print(img3.shape)\n",
        "  break"
      ],
      "execution_count": 0,
      "outputs": [
        {
          "output_type": "stream",
          "text": [
            "torch.Size([1000, 1, 1024])\n",
            "torch.Size([1000, 1, 1024])\n",
            "torch.Size([1000, 1, 1024])\n"
          ],
          "name": "stdout"
        }
      ]
    },
    {
      "cell_type": "markdown",
      "metadata": {
        "id": "1R7HfIwQN-JO",
        "colab_type": "text"
      },
      "source": [
        "## Let us drop all the un-necessary columns\n"
      ]
    },
    {
      "cell_type": "code",
      "metadata": {
        "id": "hHOe1eyjN9eE",
        "colab_type": "code",
        "outputId": "625ef825-df0e-4613-da0a-9c7ed987224d",
        "colab": {
          "base_uri": "https://localhost:8080/",
          "height": 195
        }
      },
      "source": [
        "# We used this here: https://stackoverflow.com/questions/45846189/how-to-delete-all-columns-in-dataframe-except-certain-ones\n",
        "input_data = input_data[['sentence_embedding','labels_encoded']]\n",
        "input_data.head()"
      ],
      "execution_count": 0,
      "outputs": [
        {
          "output_type": "execute_result",
          "data": {
            "text/html": [
              "<div>\n",
              "<style scoped>\n",
              "    .dataframe tbody tr th:only-of-type {\n",
              "        vertical-align: middle;\n",
              "    }\n",
              "\n",
              "    .dataframe tbody tr th {\n",
              "        vertical-align: top;\n",
              "    }\n",
              "\n",
              "    .dataframe thead th {\n",
              "        text-align: right;\n",
              "    }\n",
              "</style>\n",
              "<table border=\"1\" class=\"dataframe\">\n",
              "  <thead>\n",
              "    <tr style=\"text-align: right;\">\n",
              "      <th></th>\n",
              "      <th>sentence_embedding</th>\n",
              "      <th>labels_encoded</th>\n",
              "    </tr>\n",
              "  </thead>\n",
              "  <tbody>\n",
              "    <tr>\n",
              "      <th>0</th>\n",
              "      <td>[[0.009863429, -4.1575836e-06, 0.008913217, 0....</td>\n",
              "      <td>21</td>\n",
              "    </tr>\n",
              "    <tr>\n",
              "      <th>1</th>\n",
              "      <td>[[0.039715618, -1.4197368e-05, 0.017486058, 0....</td>\n",
              "      <td>21</td>\n",
              "    </tr>\n",
              "    <tr>\n",
              "      <th>2</th>\n",
              "      <td>[[0.012652903, -2.9125708e-06, 0.0009350272, 0...</td>\n",
              "      <td>21</td>\n",
              "    </tr>\n",
              "    <tr>\n",
              "      <th>3</th>\n",
              "      <td>[[0.014141707, -1.0407556e-05, 0.00032491196, ...</td>\n",
              "      <td>21</td>\n",
              "    </tr>\n",
              "    <tr>\n",
              "      <th>4</th>\n",
              "      <td>[[0.0115525685, 0.0019211376, 0.008262169, 0.0...</td>\n",
              "      <td>21</td>\n",
              "    </tr>\n",
              "  </tbody>\n",
              "</table>\n",
              "</div>"
            ],
            "text/plain": [
              "                                  sentence_embedding  labels_encoded\n",
              "0  [[0.009863429, -4.1575836e-06, 0.008913217, 0....              21\n",
              "1  [[0.039715618, -1.4197368e-05, 0.017486058, 0....              21\n",
              "2  [[0.012652903, -2.9125708e-06, 0.0009350272, 0...              21\n",
              "3  [[0.014141707, -1.0407556e-05, 0.00032491196, ...              21\n",
              "4  [[0.0115525685, 0.0019211376, 0.008262169, 0.0...              21"
            ]
          },
          "metadata": {
            "tags": []
          },
          "execution_count": 58
        }
      ]
    },
    {
      "cell_type": "code",
      "metadata": {
        "id": "tWPIplWsz8iV",
        "colab_type": "code",
        "colab": {}
      },
      "source": [
        "# Let us split the data into train and test sections. This we can use later for our purpose\n",
        "# interestingly, missing out on shuffling would lead to unexpected results\n",
        "# so we need to take care of that as well\n",
        "# This command shuffles the dataset completely\n",
        "input_data = input_data.sample(frac=1).reset_index(drop=True)\n",
        "# now we split it\n",
        "train_split = 0.8\n",
        "last_train_index = int(len(input_data) * train_split)\n",
        "data_train = input_data.iloc[:last_train_index]\n",
        "data_test = input_data.iloc[last_train_index:]"
      ],
      "execution_count": 0,
      "outputs": []
    },
    {
      "cell_type": "code",
      "metadata": {
        "id": "JWLAenAwz8qd",
        "colab_type": "code",
        "outputId": "4533cc2e-b29d-4a2b-b23b-282c68f7f947",
        "colab": {
          "base_uri": "https://localhost:8080/",
          "height": 34
        }
      },
      "source": [
        "data_train.labels_encoded.iloc[-1] == data_test.labels_encoded.iloc[0]  #Indicating that our splits of the data are correct"
      ],
      "execution_count": 0,
      "outputs": [
        {
          "output_type": "execute_result",
          "data": {
            "text/plain": [
              "False"
            ]
          },
          "metadata": {
            "tags": []
          },
          "execution_count": 60
        }
      ]
    },
    {
      "cell_type": "markdown",
      "metadata": {
        "id": "koat_Nz1Op49",
        "colab_type": "text"
      },
      "source": [
        "# We first define the simple Triplet Function in here"
      ]
    },
    {
      "cell_type": "code",
      "metadata": {
        "id": "GSJRaTBiOpSG",
        "colab_type": "code",
        "colab": {}
      },
      "source": [
        "import torch.nn as nn\n",
        "import torch.nn.functional as F\n",
        "class TripletLoss(nn.Module):\n",
        "    \"\"\"\n",
        "    Triplet loss\n",
        "    Takes embeddings of an anchor sample, a positive sample and a negative sample\n",
        "    \"\"\"\n",
        "\n",
        "    def __init__(self, margin):\n",
        "        super(TripletLoss, self).__init__()\n",
        "        self.margin = margin\n",
        "\n",
        "    def forward(self, anchor, positive, negative, size_average=True):\n",
        "        distance_positive = (anchor - positive).pow(2).sum(1)  # .pow(.5)\n",
        "        distance_negative = (anchor - negative).pow(2).sum(1)  # .pow(.5)\n",
        "        losses = F.relu(distance_positive - distance_negative + self.margin)\n",
        "        return losses.mean() if size_average else losses.sum()"
      ],
      "execution_count": 0,
      "outputs": []
    },
    {
      "cell_type": "markdown",
      "metadata": {
        "id": "GR61vY4tM-SW",
        "colab_type": "text"
      },
      "source": [
        "# Modified Siamese Network to be called Triplet Network"
      ]
    },
    {
      "cell_type": "code",
      "metadata": {
        "id": "vbJFhGMaM-A3",
        "colab_type": "code",
        "colab": {}
      },
      "source": [
        "import torch.nn as nn\n",
        "class TripletNetwork(nn.Module):\n",
        "    \n",
        "    def __init__(self): # binary classification so 0/1 shall work\n",
        "      \n",
        "        super(TripletNetwork, self).__init__()\n",
        "\n",
        "        self.input_dim=1024\n",
        "        self.fc = nn.Sequential(nn.Linear(1024, 512),\n",
        "                                  nn.BatchNorm1d(num_features=512),\n",
        "                                  nn.ReLU(),\n",
        "                                  nn.Dropout(),\n",
        "                                  nn.Linear(512,256),\n",
        "                                  nn.BatchNorm1d(num_features=256),\n",
        "                                  nn.ReLU(),\n",
        "                                  nn.Dropout(p=0.6),\n",
        "                                  nn.Linear(256,64)\n",
        "                               )\n",
        "       \n",
        "    def forward(self, x1, x2, x3):\n",
        "       \n",
        "        \"\"\"\n",
        "          We updated the network now and are directly getting the sentence embeddings\n",
        "        \"\"\"\n",
        "        # These are the embeddings and what we want to achieve is to make\n",
        "        # these embeddings which should be in the same region denoting their language to\n",
        "        # fall a bit away based on the task at hand\n",
        "        output1 = self.fc(x1.cuda())\n",
        "        output2 = self.fc(x2.cuda())\n",
        "        output3 = self.fc(x3.cuda())\n",
        "        \n",
        "        return (output1, output2, output3)\n",
        "\n",
        "    def get_embedding(self, x):\n",
        "        return self.encoder.encode_sentences(sentences = x)"
      ],
      "execution_count": 0,
      "outputs": []
    },
    {
      "cell_type": "markdown",
      "metadata": {
        "id": "rY-eNwlA81qU",
        "colab_type": "text"
      },
      "source": [
        "# Final Train Procedure"
      ]
    },
    {
      "cell_type": "code",
      "metadata": {
        "id": "TqSjqqbd_5bo",
        "colab_type": "code",
        "colab": {}
      },
      "source": [
        "import torch\n",
        "import numpy as np\n",
        "import torch.optim as optim\n",
        "from torch.optim import lr_scheduler"
      ],
      "execution_count": 0,
      "outputs": []
    },
    {
      "cell_type": "code",
      "metadata": {
        "id": "qRnu-2oaQqkh",
        "colab_type": "code",
        "outputId": "531de7d3-9367-4b1b-c617-a5f931c14561",
        "colab": {
          "base_uri": "https://localhost:8080/",
          "height": 229
        }
      },
      "source": [
        "siamese_train_dataset = TripletDataset(training_mode=True,dataset=data_train, select_column='sentence_embedding')\n",
        "siamese_test_dataset = TripletDataset(training_mode=False,dataset=data_test, select_column='sentence_embedding')\n",
        "\n",
        "\n",
        "# Putting in the batch sampler here. Again, we need two batch samplers, one for each type\n",
        "\n",
        "train_loader = DataLoader(siamese_train_dataset,  batch_size=40, shuffle=True)\n",
        "val_loader = DataLoader(siamese_test_dataset,  batch_size=40, shuffle=True)"
      ],
      "execution_count": 0,
      "outputs": [
        {
          "output_type": "error",
          "ename": "NameError",
          "evalue": "ignored",
          "traceback": [
            "\u001b[0;31m---------------------------------------------------------------------------\u001b[0m",
            "\u001b[0;31mNameError\u001b[0m                                 Traceback (most recent call last)",
            "\u001b[0;32m<ipython-input-28-59d837f69c1a>\u001b[0m in \u001b[0;36m<module>\u001b[0;34m()\u001b[0m\n\u001b[0;32m----> 1\u001b[0;31m \u001b[0msiamese_train_dataset\u001b[0m \u001b[0;34m=\u001b[0m \u001b[0mTripletDataset\u001b[0m\u001b[0;34m(\u001b[0m\u001b[0mtraining_mode\u001b[0m\u001b[0;34m=\u001b[0m\u001b[0;32mTrue\u001b[0m\u001b[0;34m,\u001b[0m\u001b[0mdataset\u001b[0m\u001b[0;34m=\u001b[0m\u001b[0mdata_train\u001b[0m\u001b[0;34m,\u001b[0m \u001b[0mselect_column\u001b[0m\u001b[0;34m=\u001b[0m\u001b[0;34m'sentence_embedding'\u001b[0m\u001b[0;34m)\u001b[0m\u001b[0;34m\u001b[0m\u001b[0;34m\u001b[0m\u001b[0m\n\u001b[0m\u001b[1;32m      2\u001b[0m \u001b[0msiamese_test_dataset\u001b[0m \u001b[0;34m=\u001b[0m \u001b[0mTripletDataset\u001b[0m\u001b[0;34m(\u001b[0m\u001b[0mtraining_mode\u001b[0m\u001b[0;34m=\u001b[0m\u001b[0;32mFalse\u001b[0m\u001b[0;34m,\u001b[0m\u001b[0mdataset\u001b[0m\u001b[0;34m=\u001b[0m\u001b[0mdata_test\u001b[0m\u001b[0;34m,\u001b[0m \u001b[0mselect_column\u001b[0m\u001b[0;34m=\u001b[0m\u001b[0;34m'sentence_embedding'\u001b[0m\u001b[0;34m)\u001b[0m\u001b[0;34m\u001b[0m\u001b[0;34m\u001b[0m\u001b[0m\n\u001b[1;32m      3\u001b[0m \u001b[0;34m\u001b[0m\u001b[0m\n\u001b[1;32m      4\u001b[0m \u001b[0;34m\u001b[0m\u001b[0m\n\u001b[1;32m      5\u001b[0m \u001b[0;31m# Putting in the batch sampler here. Again, we need two batch samplers, one for each type\u001b[0m\u001b[0;34m\u001b[0m\u001b[0;34m\u001b[0m\u001b[0;34m\u001b[0m\u001b[0m\n",
            "\u001b[0;31mNameError\u001b[0m: name 'data_train' is not defined"
          ]
        }
      ]
    },
    {
      "cell_type": "code",
      "metadata": {
        "id": "AdgDrJGr6i8H",
        "colab_type": "code",
        "colab": {}
      },
      "source": [
        "margin = 1.\n",
        "model = TripletNetwork(encoder=sentence_encoder)\n",
        "model.cuda()\n",
        "#loss_fn = OnlineTripletLoss(margin, RandomNegativeTripletSelector(margin))\n",
        "# Fist start with the offline variant\n",
        "loss_fn = TripletLoss(margin)\n",
        "lr = 1e-3\n",
        "optimizer = optim.Adam(model.parameters(), lr=lr, weight_decay=1e-4)\n",
        "scheduler = lr_scheduler.StepLR(optimizer, 8, gamma=0.1, last_epoch=-1)\n",
        "n_epochs = 20\n",
        "log_interval = 50\n"
      ],
      "execution_count": 0,
      "outputs": []
    },
    {
      "cell_type": "markdown",
      "metadata": {
        "id": "ZerJu79ImORc",
        "colab_type": "text"
      },
      "source": [
        "## This is the Colab Integration as it will be useul for our task"
      ]
    },
    {
      "cell_type": "code",
      "metadata": {
        "id": "-JodQfo6mNt4",
        "colab_type": "code",
        "outputId": "4bbbd932-92ad-4dad-ecd8-b75093cea716",
        "colab": {
          "base_uri": "https://localhost:8080/",
          "height": 84
        }
      },
      "source": [
        "# Install latest Tensorflow build\n",
        "!pip install -q tf-nightly-2.0-preview\n",
        "from tensorflow import summary\n",
        "%load_ext tensorboard"
      ],
      "execution_count": 173,
      "outputs": [
        {
          "output_type": "stream",
          "text": [
            "\u001b[K     |████████████████████████████████| 79.1MB 429kB/s \n",
            "\u001b[K     |████████████████████████████████| 450kB 39.1MB/s \n",
            "\u001b[K     |████████████████████████████████| 3.2MB 11.1MB/s \n",
            "\u001b[?25hThe tensorboard module is not an IPython extension.\n"
          ],
          "name": "stdout"
        }
      ]
    },
    {
      "cell_type": "code",
      "metadata": {
        "id": "k86QKp30v0_p",
        "colab_type": "code",
        "colab": {}
      },
      "source": [
        "# Delete any old logs.... be smart while using this\n",
        "% rm -rf /content/logs/"
      ],
      "execution_count": 0,
      "outputs": []
    },
    {
      "cell_type": "code",
      "metadata": {
        "id": "53uZxjiDnDah",
        "colab_type": "code",
        "colab": {}
      },
      "source": [
        "% mkdir -p '/content/logs/tensorboard/train/'\n",
        "% mkdir -p '/content/logs/tensorboard/test/'"
      ],
      "execution_count": 0,
      "outputs": []
    },
    {
      "cell_type": "code",
      "metadata": {
        "id": "j01oTX8dnDfD",
        "colab_type": "code",
        "colab": {
          "base_uri": "https://localhost:8080/",
          "height": 330
        },
        "outputId": "eec2948b-ec9f-40ea-ac66-f81662ece429"
      },
      "source": [
        "import datetime\n",
        "current_time = str(datetime.datetime.now().timestamp())\n",
        "train_log_dir = '/content/logs/tensorboard/train/' + current_time\n",
        "test_log_dir = '/content/logs/tensorboard/test/' + current_time\n",
        "train_summary_writer = summary.create_file_writer(train_log_dir)\n",
        "test_summary_writer = summary.create_file_writer(test_log_dir)"
      ],
      "execution_count": 178,
      "outputs": [
        {
          "output_type": "error",
          "ename": "AttributeError",
          "evalue": "ignored",
          "traceback": [
            "\u001b[0;31m---------------------------------------------------------------------------\u001b[0m",
            "\u001b[0;31mAttributeError\u001b[0m                            Traceback (most recent call last)",
            "\u001b[0;32m<ipython-input-178-902c1f0a206f>\u001b[0m in \u001b[0;36m<module>\u001b[0;34m()\u001b[0m\n\u001b[1;32m      3\u001b[0m \u001b[0mtrain_log_dir\u001b[0m \u001b[0;34m=\u001b[0m \u001b[0;34m'/content/logs/tensorboard/train/'\u001b[0m \u001b[0;34m+\u001b[0m \u001b[0mcurrent_time\u001b[0m\u001b[0;34m\u001b[0m\u001b[0;34m\u001b[0m\u001b[0m\n\u001b[1;32m      4\u001b[0m \u001b[0mtest_log_dir\u001b[0m \u001b[0;34m=\u001b[0m \u001b[0;34m'/content/logs/tensorboard/test/'\u001b[0m \u001b[0;34m+\u001b[0m \u001b[0mcurrent_time\u001b[0m\u001b[0;34m\u001b[0m\u001b[0;34m\u001b[0m\u001b[0m\n\u001b[0;32m----> 5\u001b[0;31m \u001b[0mtrain_summary_writer\u001b[0m \u001b[0;34m=\u001b[0m \u001b[0msummary\u001b[0m\u001b[0;34m.\u001b[0m\u001b[0mcreate_file_writer\u001b[0m\u001b[0;34m(\u001b[0m\u001b[0mtrain_log_dir\u001b[0m\u001b[0;34m)\u001b[0m\u001b[0;34m\u001b[0m\u001b[0;34m\u001b[0m\u001b[0m\n\u001b[0m\u001b[1;32m      6\u001b[0m \u001b[0mtest_summary_writer\u001b[0m \u001b[0;34m=\u001b[0m \u001b[0msummary\u001b[0m\u001b[0;34m.\u001b[0m\u001b[0mcreate_file_writer\u001b[0m\u001b[0;34m(\u001b[0m\u001b[0mtest_log_dir\u001b[0m\u001b[0;34m)\u001b[0m\u001b[0;34m\u001b[0m\u001b[0;34m\u001b[0m\u001b[0m\n",
            "\u001b[0;32m/usr/local/lib/python3.6/dist-packages/tensorflow/python/util/deprecation_wrapper.py\u001b[0m in \u001b[0;36m__getattr__\u001b[0;34m(self, name)\u001b[0m\n\u001b[1;32m    104\u001b[0m     \u001b[0;32mif\u001b[0m \u001b[0mname\u001b[0m\u001b[0;34m.\u001b[0m\u001b[0mstartswith\u001b[0m\u001b[0;34m(\u001b[0m\u001b[0;34m'_dw_'\u001b[0m\u001b[0;34m)\u001b[0m\u001b[0;34m:\u001b[0m\u001b[0;34m\u001b[0m\u001b[0;34m\u001b[0m\u001b[0m\n\u001b[1;32m    105\u001b[0m       \u001b[0;32mraise\u001b[0m \u001b[0mAttributeError\u001b[0m\u001b[0;34m(\u001b[0m\u001b[0;34m'Accessing local variables before they are created.'\u001b[0m\u001b[0;34m)\u001b[0m\u001b[0;34m\u001b[0m\u001b[0;34m\u001b[0m\u001b[0m\n\u001b[0;32m--> 106\u001b[0;31m     \u001b[0mattr\u001b[0m \u001b[0;34m=\u001b[0m \u001b[0mgetattr\u001b[0m\u001b[0;34m(\u001b[0m\u001b[0mself\u001b[0m\u001b[0;34m.\u001b[0m\u001b[0m_dw_wrapped_module\u001b[0m\u001b[0;34m,\u001b[0m \u001b[0mname\u001b[0m\u001b[0;34m)\u001b[0m\u001b[0;34m\u001b[0m\u001b[0;34m\u001b[0m\u001b[0m\n\u001b[0m\u001b[1;32m    107\u001b[0m     if (self._dw_warning_count < _PER_MODULE_WARNING_LIMIT and\n\u001b[1;32m    108\u001b[0m         name not in self._dw_deprecated_printed):\n",
            "\u001b[0;31mAttributeError\u001b[0m: module 'tensorflow._api.v1.summary' has no attribute 'create_file_writer'"
          ]
        }
      ]
    },
    {
      "cell_type": "markdown",
      "metadata": {
        "id": "yR6Xw2Mz22Ia",
        "colab_type": "text"
      },
      "source": [
        "## Actual training code"
      ]
    },
    {
      "cell_type": "code",
      "metadata": {
        "id": "6K-lYpXS_8UV",
        "colab_type": "code",
        "colab": {}
      },
      "source": [
        "def test_epoch(val_loader, model, loss_fn, cuda):\n",
        "    with torch.no_grad():\n",
        "        \n",
        "        val_loss = 0\n",
        "        for batch_idx, (img1,img2,img3) in enumerate(val_loader):\n",
        "            \n",
        "            # First let us reshape the tensors\n",
        "            batch_size = img1.shape[0]\n",
        "            img1 = img1.reshape(batch_size,-1)\n",
        "            img2 = img2.reshape(batch_size,-1)\n",
        "            img3 = img3.reshape(batch_size,-1)\n",
        "            # Now we can optimize the remaining terms\n",
        "            \n",
        "            outputs = model(img1,img2,img3) \n",
        "            loss_inputs = outputs\n",
        "\n",
        "            loss_outputs = loss_fn(*loss_inputs)\n",
        "            \n",
        "            val_loss += loss_outputs.item()\n",
        "            \n",
        "    return val_loss/(batch_idx + 1)\n"
      ],
      "execution_count": 0,
      "outputs": []
    },
    {
      "cell_type": "code",
      "metadata": {
        "id": "DTxnqAvN_5Ym",
        "colab_type": "code",
        "colab": {}
      },
      "source": [
        "from tensorflow import summary\n",
        "def train_epoch(train_loader, model, loss_fn, optimizer, cuda, log_interval):\n",
        "    \n",
        "\n",
        "    model.train()\n",
        "    losses = []\n",
        "    total_loss = 0\n",
        "\n",
        "    for batch_idx, (img1,img2,img3) in enumerate(train_loader):\n",
        "        # First let us reshape the tensors\n",
        "        batch_size = img1.shape[0]\n",
        "        img1 = img1.reshape(batch_size,-1)\n",
        "        img2 = img2.reshape(batch_size,-1)\n",
        "        img3 = img3.reshape(batch_size,-1)\n",
        "        # Now we can optimize the remaining terms\n",
        "        optimizer.zero_grad()\n",
        "        outputs = model(img1,img2,img3) \n",
        "        loss_inputs = outputs\n",
        "        \n",
        "        loss_outputs = loss_fn(*outputs) #We assume that target value is not known and hence is None\n",
        "        loss = loss_outputs[0] if type(loss_outputs) in (tuple, list) else loss_outputs\n",
        "        losses.append(loss.item())\n",
        "        total_loss += loss.item()\n",
        "        loss.backward()\n",
        "        optimizer.step()\n",
        "\n",
        "        if batch_idx % log_interval == 0:\n",
        "            message = 'Train: [{}/{} ({:.0f}%)]\\tLoss: {:.6f}'.format(\n",
        "                batch_idx * len(img1), len(train_loader.dataset),\n",
        "                100. * batch_idx / len(train_loader), np.mean(losses))\n",
        "            \n",
        "            print(message)\n",
        "            losses = []\n",
        "\n",
        "    total_loss /= (batch_idx + 1)\n",
        "    return total_loss"
      ],
      "execution_count": 0,
      "outputs": []
    },
    {
      "cell_type": "code",
      "metadata": {
        "id": "nMPNdk6_RztF",
        "colab_type": "code",
        "colab": {}
      },
      "source": [
        "def fit(train_loader, val_loader, model, loss_fn, optimizer, scheduler, n_epochs, cuda, log_interval,\n",
        "        start_epoch=0):\n",
        "    \"\"\"\n",
        "    Loaders, model, loss function and metrics should work together for a given task,\n",
        "    i.e. The model should be able to process data output of loaders,\n",
        "    loss function should process target output of loaders and outputs from the model\n",
        "\n",
        "    Examples: Classification: batch loader, classification model, NLL loss, accuracy metric\n",
        "    Siamese network: Siamese loader, siamese model, contrastive loss\n",
        "    Online triplet learning: batch loader, embedding model, online triplet loss\n",
        "    \"\"\"\n",
        "    for epoch in range(0, start_epoch):\n",
        "        scheduler.step()\n",
        "\n",
        "    for epoch in range(start_epoch, n_epochs):\n",
        "        scheduler.step()\n",
        "        \n",
        "        # Train stage\n",
        "        train_loss = train_epoch(train_loader, model, loss_fn, optimizer, cuda, log_interval)\n",
        "        message = 'Epoch: {}/{}. Train set: Average loss: {:.4f}'.format(epoch + 1, n_epochs, train_loss)\n",
        "        with train_summary_writer.as_default():\n",
        "           summary.scalar('loss', train_loss, step=epoch)\n",
        "        print(message)\n",
        "        val_loss = test_epoch(val_loader, model, loss_fn, cuda)\n",
        "        val_loss /= len(val_loader)\n",
        "\n",
        "        message += '\\nEpoch: {}/{}. Validation set: Average loss: {:.4f}'.format(epoch + 1, n_epochs,\n",
        "                                                                                     val_loss)\n",
        "        \n",
        "        torch.save(model.state_dict(), './{}-model.pth'.format(epoch))\n",
        "        \n",
        "        with test_summary_writer.as_default():\n",
        "           summary.scalar('loss', val_loss, step=epoch)        \n",
        "\n",
        "#        print(message)\n"
      ],
      "execution_count": 0,
      "outputs": []
    },
    {
      "cell_type": "code",
      "metadata": {
        "id": "wE7xETdQLNfB",
        "colab_type": "code",
        "outputId": "48bb271c-b2c0-4b69-8414-0daf3e6086d3",
        "colab": {
          "base_uri": "https://localhost:8080/",
          "height": 438
        }
      },
      "source": [
        "cuda = True\n",
        "n_epochs = 200\n",
        "fit(train_loader, val_loader, model, loss_fn, optimizer, scheduler, n_epochs, cuda,log_interval)"
      ],
      "execution_count": 0,
      "outputs": [
        {
          "output_type": "stream",
          "text": [
            "Train: [30000/147154 (20%)]\tLoss: 0.359381\n",
            "Train: [32000/147154 (22%)]\tLoss: 0.368391\n",
            "Train: [34000/147154 (23%)]\tLoss: 0.364973\n",
            "Train: [36000/147154 (24%)]\tLoss: 0.290639\n",
            "Train: [38000/147154 (26%)]\tLoss: 0.347265\n",
            "Train: [40000/147154 (27%)]\tLoss: 0.368214\n"
          ],
          "name": "stdout"
        },
        {
          "output_type": "error",
          "ename": "KeyboardInterrupt",
          "evalue": "ignored",
          "traceback": [
            "\u001b[0;31m---------------------------------------------------------------------------\u001b[0m",
            "\u001b[0;31mKeyboardInterrupt\u001b[0m                         Traceback (most recent call last)",
            "\u001b[0;32m<ipython-input-113-c65247cc3177>\u001b[0m in \u001b[0;36m<module>\u001b[0;34m()\u001b[0m\n\u001b[1;32m      1\u001b[0m \u001b[0mcuda\u001b[0m \u001b[0;34m=\u001b[0m \u001b[0;32mTrue\u001b[0m\u001b[0;34m\u001b[0m\u001b[0;34m\u001b[0m\u001b[0m\n\u001b[1;32m      2\u001b[0m \u001b[0mn_epochs\u001b[0m \u001b[0;34m=\u001b[0m \u001b[0;36m200\u001b[0m\u001b[0;34m\u001b[0m\u001b[0;34m\u001b[0m\u001b[0m\n\u001b[0;32m----> 3\u001b[0;31m \u001b[0mfit\u001b[0m\u001b[0;34m(\u001b[0m\u001b[0mtrain_loader\u001b[0m\u001b[0;34m,\u001b[0m \u001b[0mval_loader\u001b[0m\u001b[0;34m,\u001b[0m \u001b[0mmodel\u001b[0m\u001b[0;34m,\u001b[0m \u001b[0mloss_fn\u001b[0m\u001b[0;34m,\u001b[0m \u001b[0moptimizer\u001b[0m\u001b[0;34m,\u001b[0m \u001b[0mscheduler\u001b[0m\u001b[0;34m,\u001b[0m \u001b[0mn_epochs\u001b[0m\u001b[0;34m,\u001b[0m \u001b[0mcuda\u001b[0m\u001b[0;34m,\u001b[0m\u001b[0mlog_interval\u001b[0m\u001b[0;34m)\u001b[0m\u001b[0;34m\u001b[0m\u001b[0;34m\u001b[0m\u001b[0m\n\u001b[0m",
            "\u001b[0;32m<ipython-input-107-7705deb7daf7>\u001b[0m in \u001b[0;36mfit\u001b[0;34m(train_loader, val_loader, model, loss_fn, optimizer, scheduler, n_epochs, cuda, log_interval, start_epoch)\u001b[0m\n\u001b[1;32m     17\u001b[0m \u001b[0;34m\u001b[0m\u001b[0m\n\u001b[1;32m     18\u001b[0m         \u001b[0;31m# Train stage\u001b[0m\u001b[0;34m\u001b[0m\u001b[0;34m\u001b[0m\u001b[0;34m\u001b[0m\u001b[0m\n\u001b[0;32m---> 19\u001b[0;31m         \u001b[0mtrain_loss\u001b[0m \u001b[0;34m=\u001b[0m \u001b[0mtrain_epoch\u001b[0m\u001b[0;34m(\u001b[0m\u001b[0mtrain_loader\u001b[0m\u001b[0;34m,\u001b[0m \u001b[0mmodel\u001b[0m\u001b[0;34m,\u001b[0m \u001b[0mloss_fn\u001b[0m\u001b[0;34m,\u001b[0m \u001b[0moptimizer\u001b[0m\u001b[0;34m,\u001b[0m \u001b[0mcuda\u001b[0m\u001b[0;34m,\u001b[0m \u001b[0mlog_interval\u001b[0m\u001b[0;34m)\u001b[0m\u001b[0;34m\u001b[0m\u001b[0;34m\u001b[0m\u001b[0m\n\u001b[0m\u001b[1;32m     20\u001b[0m         \u001b[0mmessage\u001b[0m \u001b[0;34m=\u001b[0m \u001b[0;34m'Epoch: {}/{}. Train set: Average loss: {:.4f}'\u001b[0m\u001b[0;34m.\u001b[0m\u001b[0mformat\u001b[0m\u001b[0;34m(\u001b[0m\u001b[0mepoch\u001b[0m \u001b[0;34m+\u001b[0m \u001b[0;36m1\u001b[0m\u001b[0;34m,\u001b[0m \u001b[0mn_epochs\u001b[0m\u001b[0;34m,\u001b[0m \u001b[0mtrain_loss\u001b[0m\u001b[0;34m)\u001b[0m\u001b[0;34m\u001b[0m\u001b[0;34m\u001b[0m\u001b[0m\n\u001b[1;32m     21\u001b[0m         \u001b[0;32mwith\u001b[0m \u001b[0mtrain_summary_writer\u001b[0m\u001b[0;34m.\u001b[0m\u001b[0mas_default\u001b[0m\u001b[0;34m(\u001b[0m\u001b[0;34m)\u001b[0m\u001b[0;34m:\u001b[0m\u001b[0;34m\u001b[0m\u001b[0;34m\u001b[0m\u001b[0m\n",
            "\u001b[0;32m<ipython-input-106-738f287d02b8>\u001b[0m in \u001b[0;36mtrain_epoch\u001b[0;34m(train_loader, model, loss_fn, optimizer, cuda, log_interval)\u001b[0m\n\u001b[1;32m      7\u001b[0m     \u001b[0mtotal_loss\u001b[0m \u001b[0;34m=\u001b[0m \u001b[0;36m0\u001b[0m\u001b[0;34m\u001b[0m\u001b[0;34m\u001b[0m\u001b[0m\n\u001b[1;32m      8\u001b[0m \u001b[0;34m\u001b[0m\u001b[0m\n\u001b[0;32m----> 9\u001b[0;31m     \u001b[0;32mfor\u001b[0m \u001b[0mbatch_idx\u001b[0m\u001b[0;34m,\u001b[0m \u001b[0;34m(\u001b[0m\u001b[0mimg1\u001b[0m\u001b[0;34m,\u001b[0m\u001b[0mimg2\u001b[0m\u001b[0;34m,\u001b[0m\u001b[0mimg3\u001b[0m\u001b[0;34m)\u001b[0m \u001b[0;32min\u001b[0m \u001b[0menumerate\u001b[0m\u001b[0;34m(\u001b[0m\u001b[0mtrain_loader\u001b[0m\u001b[0;34m)\u001b[0m\u001b[0;34m:\u001b[0m\u001b[0;34m\u001b[0m\u001b[0;34m\u001b[0m\u001b[0m\n\u001b[0m\u001b[1;32m     10\u001b[0m         \u001b[0;31m# First let us reshape the tensors\u001b[0m\u001b[0;34m\u001b[0m\u001b[0;34m\u001b[0m\u001b[0;34m\u001b[0m\u001b[0m\n\u001b[1;32m     11\u001b[0m         \u001b[0mbatch_size\u001b[0m \u001b[0;34m=\u001b[0m \u001b[0mimg1\u001b[0m\u001b[0;34m.\u001b[0m\u001b[0mshape\u001b[0m\u001b[0;34m[\u001b[0m\u001b[0;36m0\u001b[0m\u001b[0;34m]\u001b[0m\u001b[0;34m\u001b[0m\u001b[0;34m\u001b[0m\u001b[0m\n",
            "\u001b[0;32m/usr/local/lib/python3.6/dist-packages/torch/utils/data/dataloader.py\u001b[0m in \u001b[0;36m__next__\u001b[0;34m(self)\u001b[0m\n\u001b[1;32m    558\u001b[0m         \u001b[0;32mif\u001b[0m \u001b[0mself\u001b[0m\u001b[0;34m.\u001b[0m\u001b[0mnum_workers\u001b[0m \u001b[0;34m==\u001b[0m \u001b[0;36m0\u001b[0m\u001b[0;34m:\u001b[0m  \u001b[0;31m# same-process loading\u001b[0m\u001b[0;34m\u001b[0m\u001b[0;34m\u001b[0m\u001b[0m\n\u001b[1;32m    559\u001b[0m             \u001b[0mindices\u001b[0m \u001b[0;34m=\u001b[0m \u001b[0mnext\u001b[0m\u001b[0;34m(\u001b[0m\u001b[0mself\u001b[0m\u001b[0;34m.\u001b[0m\u001b[0msample_iter\u001b[0m\u001b[0;34m)\u001b[0m  \u001b[0;31m# may raise StopIteration\u001b[0m\u001b[0;34m\u001b[0m\u001b[0;34m\u001b[0m\u001b[0m\n\u001b[0;32m--> 560\u001b[0;31m             \u001b[0mbatch\u001b[0m \u001b[0;34m=\u001b[0m \u001b[0mself\u001b[0m\u001b[0;34m.\u001b[0m\u001b[0mcollate_fn\u001b[0m\u001b[0;34m(\u001b[0m\u001b[0;34m[\u001b[0m\u001b[0mself\u001b[0m\u001b[0;34m.\u001b[0m\u001b[0mdataset\u001b[0m\u001b[0;34m[\u001b[0m\u001b[0mi\u001b[0m\u001b[0;34m]\u001b[0m \u001b[0;32mfor\u001b[0m \u001b[0mi\u001b[0m \u001b[0;32min\u001b[0m \u001b[0mindices\u001b[0m\u001b[0;34m]\u001b[0m\u001b[0;34m)\u001b[0m\u001b[0;34m\u001b[0m\u001b[0;34m\u001b[0m\u001b[0m\n\u001b[0m\u001b[1;32m    561\u001b[0m             \u001b[0;32mif\u001b[0m \u001b[0mself\u001b[0m\u001b[0;34m.\u001b[0m\u001b[0mpin_memory\u001b[0m\u001b[0;34m:\u001b[0m\u001b[0;34m\u001b[0m\u001b[0;34m\u001b[0m\u001b[0m\n\u001b[1;32m    562\u001b[0m                 \u001b[0mbatch\u001b[0m \u001b[0;34m=\u001b[0m \u001b[0m_utils\u001b[0m\u001b[0;34m.\u001b[0m\u001b[0mpin_memory\u001b[0m\u001b[0;34m.\u001b[0m\u001b[0mpin_memory_batch\u001b[0m\u001b[0;34m(\u001b[0m\u001b[0mbatch\u001b[0m\u001b[0;34m)\u001b[0m\u001b[0;34m\u001b[0m\u001b[0;34m\u001b[0m\u001b[0m\n",
            "\u001b[0;32m/usr/local/lib/python3.6/dist-packages/torch/utils/data/dataloader.py\u001b[0m in \u001b[0;36m<listcomp>\u001b[0;34m(.0)\u001b[0m\n\u001b[1;32m    558\u001b[0m         \u001b[0;32mif\u001b[0m \u001b[0mself\u001b[0m\u001b[0;34m.\u001b[0m\u001b[0mnum_workers\u001b[0m \u001b[0;34m==\u001b[0m \u001b[0;36m0\u001b[0m\u001b[0;34m:\u001b[0m  \u001b[0;31m# same-process loading\u001b[0m\u001b[0;34m\u001b[0m\u001b[0;34m\u001b[0m\u001b[0m\n\u001b[1;32m    559\u001b[0m             \u001b[0mindices\u001b[0m \u001b[0;34m=\u001b[0m \u001b[0mnext\u001b[0m\u001b[0;34m(\u001b[0m\u001b[0mself\u001b[0m\u001b[0;34m.\u001b[0m\u001b[0msample_iter\u001b[0m\u001b[0;34m)\u001b[0m  \u001b[0;31m# may raise StopIteration\u001b[0m\u001b[0;34m\u001b[0m\u001b[0;34m\u001b[0m\u001b[0m\n\u001b[0;32m--> 560\u001b[0;31m             \u001b[0mbatch\u001b[0m \u001b[0;34m=\u001b[0m \u001b[0mself\u001b[0m\u001b[0;34m.\u001b[0m\u001b[0mcollate_fn\u001b[0m\u001b[0;34m(\u001b[0m\u001b[0;34m[\u001b[0m\u001b[0mself\u001b[0m\u001b[0;34m.\u001b[0m\u001b[0mdataset\u001b[0m\u001b[0;34m[\u001b[0m\u001b[0mi\u001b[0m\u001b[0;34m]\u001b[0m \u001b[0;32mfor\u001b[0m \u001b[0mi\u001b[0m \u001b[0;32min\u001b[0m \u001b[0mindices\u001b[0m\u001b[0;34m]\u001b[0m\u001b[0;34m)\u001b[0m\u001b[0;34m\u001b[0m\u001b[0;34m\u001b[0m\u001b[0m\n\u001b[0m\u001b[1;32m    561\u001b[0m             \u001b[0;32mif\u001b[0m \u001b[0mself\u001b[0m\u001b[0;34m.\u001b[0m\u001b[0mpin_memory\u001b[0m\u001b[0;34m:\u001b[0m\u001b[0;34m\u001b[0m\u001b[0;34m\u001b[0m\u001b[0m\n\u001b[1;32m    562\u001b[0m                 \u001b[0mbatch\u001b[0m \u001b[0;34m=\u001b[0m \u001b[0m_utils\u001b[0m\u001b[0;34m.\u001b[0m\u001b[0mpin_memory\u001b[0m\u001b[0;34m.\u001b[0m\u001b[0mpin_memory_batch\u001b[0m\u001b[0;34m(\u001b[0m\u001b[0mbatch\u001b[0m\u001b[0;34m)\u001b[0m\u001b[0;34m\u001b[0m\u001b[0;34m\u001b[0m\u001b[0m\n",
            "\u001b[0;32m<ipython-input-37-d87e332fbcef>\u001b[0m in \u001b[0;36m__getitem__\u001b[0;34m(self, index)\u001b[0m\n\u001b[1;32m     68\u001b[0m         \u001b[0mimg1\u001b[0m \u001b[0;34m=\u001b[0m \u001b[0mimg1\u001b[0m\u001b[0;34m[\u001b[0m\u001b[0mself\u001b[0m\u001b[0;34m.\u001b[0m\u001b[0mselect_column\u001b[0m\u001b[0;34m]\u001b[0m\u001b[0;34m\u001b[0m\u001b[0;34m\u001b[0m\u001b[0m\n\u001b[1;32m     69\u001b[0m         \u001b[0mimg2\u001b[0m \u001b[0;34m=\u001b[0m \u001b[0mimg2\u001b[0m\u001b[0;34m[\u001b[0m\u001b[0mself\u001b[0m\u001b[0;34m.\u001b[0m\u001b[0mselect_column\u001b[0m\u001b[0;34m]\u001b[0m\u001b[0;34m\u001b[0m\u001b[0;34m\u001b[0m\u001b[0m\n\u001b[0;32m---> 70\u001b[0;31m         \u001b[0mimg3\u001b[0m \u001b[0;34m=\u001b[0m \u001b[0mimg3\u001b[0m\u001b[0;34m[\u001b[0m\u001b[0mself\u001b[0m\u001b[0;34m.\u001b[0m\u001b[0mselect_column\u001b[0m\u001b[0;34m]\u001b[0m\u001b[0;34m\u001b[0m\u001b[0;34m\u001b[0m\u001b[0m\n\u001b[0m\u001b[1;32m     71\u001b[0m \u001b[0;34m\u001b[0m\u001b[0m\n\u001b[1;32m     72\u001b[0m         \u001b[0;31m#print(\"Computation of the entities are completed\")\u001b[0m\u001b[0;34m\u001b[0m\u001b[0;34m\u001b[0m\u001b[0;34m\u001b[0m\u001b[0m\n",
            "\u001b[0;32m/usr/local/lib/python3.6/dist-packages/pandas/core/series.py\u001b[0m in \u001b[0;36m__getitem__\u001b[0;34m(self, key)\u001b[0m\n\u001b[1;32m    866\u001b[0m         \u001b[0mkey\u001b[0m \u001b[0;34m=\u001b[0m \u001b[0mcom\u001b[0m\u001b[0;34m.\u001b[0m\u001b[0mapply_if_callable\u001b[0m\u001b[0;34m(\u001b[0m\u001b[0mkey\u001b[0m\u001b[0;34m,\u001b[0m \u001b[0mself\u001b[0m\u001b[0;34m)\u001b[0m\u001b[0;34m\u001b[0m\u001b[0;34m\u001b[0m\u001b[0m\n\u001b[1;32m    867\u001b[0m         \u001b[0;32mtry\u001b[0m\u001b[0;34m:\u001b[0m\u001b[0;34m\u001b[0m\u001b[0;34m\u001b[0m\u001b[0m\n\u001b[0;32m--> 868\u001b[0;31m             \u001b[0mresult\u001b[0m \u001b[0;34m=\u001b[0m \u001b[0mself\u001b[0m\u001b[0;34m.\u001b[0m\u001b[0mindex\u001b[0m\u001b[0;34m.\u001b[0m\u001b[0mget_value\u001b[0m\u001b[0;34m(\u001b[0m\u001b[0mself\u001b[0m\u001b[0;34m,\u001b[0m \u001b[0mkey\u001b[0m\u001b[0;34m)\u001b[0m\u001b[0;34m\u001b[0m\u001b[0;34m\u001b[0m\u001b[0m\n\u001b[0m\u001b[1;32m    869\u001b[0m \u001b[0;34m\u001b[0m\u001b[0m\n\u001b[1;32m    870\u001b[0m             \u001b[0;32mif\u001b[0m \u001b[0;32mnot\u001b[0m \u001b[0mis_scalar\u001b[0m\u001b[0;34m(\u001b[0m\u001b[0mresult\u001b[0m\u001b[0;34m)\u001b[0m\u001b[0;34m:\u001b[0m\u001b[0;34m\u001b[0m\u001b[0;34m\u001b[0m\u001b[0m\n",
            "\u001b[0;32m/usr/local/lib/python3.6/dist-packages/pandas/core/indexes/base.py\u001b[0m in \u001b[0;36mget_value\u001b[0;34m(self, series, key)\u001b[0m\n\u001b[1;32m   4373\u001b[0m         \u001b[0;32mtry\u001b[0m\u001b[0;34m:\u001b[0m\u001b[0;34m\u001b[0m\u001b[0;34m\u001b[0m\u001b[0m\n\u001b[1;32m   4374\u001b[0m             return self._engine.get_value(s, k,\n\u001b[0;32m-> 4375\u001b[0;31m                                           tz=getattr(series.dtype, 'tz', None))\n\u001b[0m\u001b[1;32m   4376\u001b[0m         \u001b[0;32mexcept\u001b[0m \u001b[0mKeyError\u001b[0m \u001b[0;32mas\u001b[0m \u001b[0me1\u001b[0m\u001b[0;34m:\u001b[0m\u001b[0;34m\u001b[0m\u001b[0;34m\u001b[0m\u001b[0m\n\u001b[1;32m   4377\u001b[0m             \u001b[0;32mif\u001b[0m \u001b[0mlen\u001b[0m\u001b[0;34m(\u001b[0m\u001b[0mself\u001b[0m\u001b[0;34m)\u001b[0m \u001b[0;34m>\u001b[0m \u001b[0;36m0\u001b[0m \u001b[0;32mand\u001b[0m \u001b[0;34m(\u001b[0m\u001b[0mself\u001b[0m\u001b[0;34m.\u001b[0m\u001b[0mholds_integer\u001b[0m\u001b[0;34m(\u001b[0m\u001b[0;34m)\u001b[0m \u001b[0;32mor\u001b[0m \u001b[0mself\u001b[0m\u001b[0;34m.\u001b[0m\u001b[0mis_boolean\u001b[0m\u001b[0;34m(\u001b[0m\u001b[0;34m)\u001b[0m\u001b[0;34m)\u001b[0m\u001b[0;34m:\u001b[0m\u001b[0;34m\u001b[0m\u001b[0;34m\u001b[0m\u001b[0m\n",
            "\u001b[0;31mKeyboardInterrupt\u001b[0m: "
          ]
        }
      ]
    },
    {
      "cell_type": "code",
      "metadata": {
        "id": "H95TwXv-rckQ",
        "colab_type": "code",
        "outputId": "c4fc29aa-bd34-4086-c534-ac49eeeac840",
        "colab": {
          "base_uri": "https://localhost:8080/",
          "height": 34
        }
      },
      "source": [
        "%tensorboard --logdir /content/logs/tensorboard"
      ],
      "execution_count": 175,
      "outputs": [
        {
          "output_type": "stream",
          "text": [
            "UsageError: Line magic function `%tensorboard` not found.\n"
          ],
          "name": "stderr"
        }
      ]
    },
    {
      "cell_type": "markdown",
      "metadata": {
        "id": "Df5OaEQT02wa",
        "colab_type": "text"
      },
      "source": [
        "# The Code here is to try and implement the online Batch Sampling Selection Procedure"
      ]
    },
    {
      "cell_type": "code",
      "metadata": {
        "id": "ERTjB0zztxnN",
        "colab_type": "code",
        "colab": {
          "base_uri": "https://localhost:8080/",
          "height": 121
        },
        "outputId": "1c8e26bf-cc3a-4253-c82a-c2f66128c1a1"
      },
      "source": [
        "# Run this cell to mount your Google Drive.\n",
        "from google.colab import drive\n",
        "drive.mount('/content/drive')"
      ],
      "execution_count": 5,
      "outputs": [
        {
          "output_type": "stream",
          "text": [
            "Go to this URL in a browser: https://accounts.google.com/o/oauth2/auth?client_id=947318989803-6bn6qk8qdgf4n4g3pfee6491hc0brc4i.apps.googleusercontent.com&redirect_uri=urn%3Aietf%3Awg%3Aoauth%3A2.0%3Aoob&scope=email%20https%3A%2F%2Fwww.googleapis.com%2Fauth%2Fdocs.test%20https%3A%2F%2Fwww.googleapis.com%2Fauth%2Fdrive%20https%3A%2F%2Fwww.googleapis.com%2Fauth%2Fdrive.photos.readonly%20https%3A%2F%2Fwww.googleapis.com%2Fauth%2Fpeopleapi.readonly&response_type=code\n",
            "\n",
            "Enter your authorization code:\n",
            "··········\n",
            "Mounted at /content/drive\n"
          ],
          "name": "stdout"
        }
      ]
    },
    {
      "cell_type": "code",
      "metadata": {
        "id": "z7A0tgL80ye6",
        "colab_type": "code",
        "outputId": "4f79e255-322d-43a9-ebdb-aebe677fa3ad",
        "colab": {
          "base_uri": "https://localhost:8080/",
          "height": 34
        }
      },
      "source": [
        "import pandas as pd\n",
        "%cd /content/\n",
        "#input_data.to_csv('/gdrive/My Drive/d_training_concatenated_183k_encoded.pkl')\n",
        "input_data = pd.read_pickle('/content/drive/My Drive/d_training_final.pkl')"
      ],
      "execution_count": 7,
      "outputs": [
        {
          "output_type": "stream",
          "text": [
            "/content\n"
          ],
          "name": "stdout"
        }
      ]
    },
    {
      "cell_type": "code",
      "metadata": {
        "id": "H5NdmsYeyY4o",
        "colab_type": "code",
        "outputId": "3c71acd3-4650-47de-df58-74d5bceb32b8",
        "colab": {
          "base_uri": "https://localhost:8080/",
          "height": 34
        }
      },
      "source": [
        "len(input_data)"
      ],
      "execution_count": 9,
      "outputs": [
        {
          "output_type": "execute_result",
          "data": {
            "text/plain": [
              "193940"
            ]
          },
          "metadata": {
            "tags": []
          },
          "execution_count": 9
        }
      ]
    },
    {
      "cell_type": "code",
      "metadata": {
        "colab_type": "code",
        "id": "-mtMvx0b25bh",
        "colab": {}
      },
      "source": [
        "# Let us split the data into train and test sections. This we can use later for our purpose\n",
        "# interestingly, missing out on shuffling would lead to unexpected results\n",
        "# so we need to take care of that as well\n",
        "# This command shuffles the dataset completely\n",
        "input_data = input_data.sample(frac=1).reset_index(drop=True)\n",
        "# now we split it\n",
        "train_split = 0.8\n",
        "last_train_index = int(len(input_data) * train_split)\n",
        "data_train = input_data.iloc[:last_train_index]\n",
        "data_test = input_data.iloc[last_train_index:]"
      ],
      "execution_count": 0,
      "outputs": []
    },
    {
      "cell_type": "code",
      "metadata": {
        "colab_type": "code",
        "outputId": "cca1f825-9479-46fb-8d0b-5b17a45143fd",
        "id": "21-ENHTN25b1",
        "colab": {
          "base_uri": "https://localhost:8080/",
          "height": 34
        }
      },
      "source": [
        "data_train.labels_encoded.iloc[-1] != data_test.labels_encoded.iloc[0]  #Indicating that our splits of the data are correct"
      ],
      "execution_count": 11,
      "outputs": [
        {
          "output_type": "execute_result",
          "data": {
            "text/plain": [
              "True"
            ]
          },
          "metadata": {
            "tags": []
          },
          "execution_count": 11
        }
      ]
    },
    {
      "cell_type": "code",
      "metadata": {
        "id": "wcikqQjD092u",
        "colab_type": "code",
        "colab": {}
      },
      "source": [
        "from torch.utils.data import BatchSampler\n",
        "\n",
        "class BalancedBatchSampler(BatchSampler):\n",
        "    \"\"\"\n",
        "    BatchSampler - from a MNIST-like dataset, samples n_classes and within these classes samples n_samples.\n",
        "    Returns batches of size n_classes * n_samples\n",
        "    \"\"\"\n",
        "\n",
        "    def __init__(self, labels, n_classes, n_samples):\n",
        "        self.labels = labels\n",
        "        self.labels_set = list(set(self.labels.to_numpy()))\n",
        "        self.label_to_indices = {label: np.where(self.labels.to_numpy() == label)[0]\n",
        "                                 for label in self.labels_set}\n",
        "        for l in self.labels_set:\n",
        "            np.random.shuffle(self.label_to_indices[l])\n",
        "        self.used_label_indices_count = {label: 0 for label in self.labels_set}\n",
        "        self.count = 0\n",
        "        self.n_classes = n_classes\n",
        "        self.n_samples = n_samples\n",
        "        self.n_dataset = len(self.labels)\n",
        "        self.batch_size = self.n_samples * self.n_classes\n",
        "\n",
        "    def __iter__(self):\n",
        "        self.count = 0\n",
        "        while self.count + self.batch_size < self.n_dataset:\n",
        "            classes = np.random.choice(self.labels_set, self.n_classes, replace=False)\n",
        "            indices = []\n",
        "            for class_ in classes:\n",
        "                indices.extend(self.label_to_indices[class_][\n",
        "                               self.used_label_indices_count[class_]:self.used_label_indices_count[\n",
        "                                                                         class_] + self.n_samples])\n",
        "                self.used_label_indices_count[class_] += self.n_samples\n",
        "                if self.used_label_indices_count[class_] + self.n_samples > len(self.label_to_indices[class_]):\n",
        "                    np.random.shuffle(self.label_to_indices[class_])\n",
        "                    self.used_label_indices_count[class_] = 0\n",
        "            yield indices\n",
        "            self.count += self.n_classes * self.n_samples\n",
        "\n",
        "    def __len__(self):\n",
        "        return self.n_dataset // self.batch_size\n"
      ],
      "execution_count": 0,
      "outputs": []
    },
    {
      "cell_type": "markdown",
      "metadata": {
        "id": "zJKJcWNgHArF",
        "colab_type": "text"
      },
      "source": [
        "# This is the definition of the Online Loss Function"
      ]
    },
    {
      "cell_type": "code",
      "metadata": {
        "id": "9-xIsmzV7Tfx",
        "colab_type": "code",
        "colab": {}
      },
      "source": [
        "import torch.nn as nn\n",
        "import torch.nn.functional as F\n",
        "class OnlineTripletLoss(nn.Module):\n",
        "    \"\"\"\n",
        "    Online Triplets loss\n",
        "    Takes a batch of embeddings and corresponding labels.\n",
        "    Triplets are generated using triplet_selector object that take embeddings and targets and return indices of\n",
        "    triplets\n",
        "    \"\"\"\n",
        "\n",
        "    def __init__(self, margin, triplet_selector):\n",
        "        super(OnlineTripletLoss, self).__init__()\n",
        "        self.margin = margin\n",
        "        self.triplet_selector = triplet_selector\n",
        "\n",
        "    def forward(self, embeddings, target):\n",
        "\n",
        "        triplets = self.triplet_selector.get_triplets(embeddings, target)\n",
        "\n",
        "        if embeddings.is_cuda:\n",
        "            triplets = triplets.cuda()\n",
        "\n",
        "        ap_distances = (embeddings[triplets[:, 0]] - embeddings[triplets[:, 1]]).pow(2).sum(1)  # .pow(.5)\n",
        "        an_distances = (embeddings[triplets[:, 0]] - embeddings[triplets[:, 2]]).pow(2).sum(1)  # .pow(.5)\n",
        "        losses = F.relu(ap_distances - an_distances + self.margin)\n",
        "\n",
        "        return losses.mean(), len(triplets)\n"
      ],
      "execution_count": 0,
      "outputs": []
    },
    {
      "cell_type": "markdown",
      "metadata": {
        "id": "O2lVJimGIx1O",
        "colab_type": "text"
      },
      "source": [
        "# This is a variation via the Triplet Loader because I could not find any other way out"
      ]
    },
    {
      "cell_type": "code",
      "metadata": {
        "id": "48TpoQRCJLD7",
        "colab_type": "code",
        "colab": {}
      },
      "source": [
        "from torch.utils.data import Dataset\n",
        "import numpy as np\n",
        "\n",
        "class OnlineTripletDataset(Dataset):\n",
        "    \"\"\"\n",
        "    Train: For each sample (anchor) randomly chooses a positive and negative samples\n",
        "    Test: Creates fixed triplets for testing\n",
        "    \"\"\"\n",
        "\n",
        "    def __init__(self, dataset, select_column, training_mode=True):\n",
        "         \n",
        "        \n",
        "        self.dataset = dataset\n",
        "        self.train = training_mode\n",
        "        self.select_column = select_column\n",
        "        self.labels = self.dataset.labels_encoded\n",
        "        if self.train:\n",
        "            self.train_labels = self.dataset.labels_encoded\n",
        "            # Drop the labels column so that remaining features form part of the training set\n",
        "            self.dataset = self.dataset.drop('labels_encoded', axis=1)\n",
        "            self.train_data = self.dataset\n",
        "            self.labels_set = set(self.train_labels.to_numpy())\n",
        "            self.label_to_indices = {label: np.where(self.train_labels.to_numpy() == label)[0]\n",
        "                                     for label in self.labels_set} # redundent in our case if we decide to use numeric labels based on certain sklearn packages\n",
        "\n",
        "        else:\n",
        "            self.test_labels = self.dataset.labels_encoded\n",
        "            # Drop the labels column so that remaining features form part of the training set\n",
        "            self.dataset = self.dataset.drop('labels_encoded', axis=1)\n",
        "            self.test_data = self.dataset\n",
        "            # generate fixed triplets for testing\n",
        "            self.labels_set = set(self.test_labels.to_numpy())\n",
        "            self.label_to_indices = {label: np.where(self.test_labels.to_numpy() == label)[0]\n",
        "                                     for label in self.labels_set}\n",
        "\n",
        "            random_state = np.random.RandomState(42)\n",
        "            \n",
        "            #print(\"Length of the dataset is {}\".format(len(self.test_data)))\n",
        "            \n",
        "            triplets = []\n",
        "            for i in range(len(self.test_data)):\n",
        "                  triplets.append([i,\n",
        "                           random_state.choice(self.label_to_indices[self.test_labels.iloc[i]]),\n",
        "                           random_state.choice(self.label_to_indices[\n",
        "                                                 np.random.choice(\n",
        "                                                     list(self.labels_set - set([self.test_labels.iloc[i]]))\n",
        "                                                 )\n",
        "                                             ])\n",
        "                         ]) \n",
        "                         \n",
        "            self.test_triplets = triplets\n",
        "           \n",
        "    def __getitem__(self, index):\n",
        "        if self.train:\n",
        "            #print(type(self.train_data))\n",
        "            sent1, label1 = self.train_data.iloc[index], self.train_labels.iloc[index]\n",
        "            positive_index = index\n",
        "            while positive_index == index:\n",
        "                positive_index = np.random.choice(self.label_to_indices[label1])\n",
        "            negative_label = np.random.choice(list(self.labels_set - set([label1])))\n",
        "            negative_index = np.random.choice(self.label_to_indices[negative_label])\n",
        "            sent2 = self.train_data.iloc[positive_index]\n",
        "            sent3 = self.train_data.iloc[negative_index]\n",
        "            # Also include the labels under consideration\n",
        "            label2 = self.labels.iloc[positive_index]\n",
        "            label3 = self.labels.iloc[negative_index]\n",
        "        else:\n",
        "            sent1 = self.test_data.iloc[self.test_triplets[index][0]]\n",
        "            sent2 = self.test_data.iloc[self.test_triplets[index][1]]\n",
        "            sent3 = self.test_data.iloc[self.test_triplets[index][2]]\n",
        "            label1 = self.labels.iloc[self.test_triplets[index][0]]\n",
        "            label2 = self.labels.iloc[self.test_triplets[index][1]]\n",
        "            label3 = self.labels.iloc[self.test_triplets[index][2]]\n",
        "        # Filter to select only the required column rather than all\n",
        "        sent1 = sent1[self.select_column]\n",
        "        sent2 = sent2[self.select_column]\n",
        "        sent3 = sent3[self.select_column]\n",
        "        \n",
        "\n",
        "        return ((sent1,label1), (sent2,label2), (sent3,label3))\n",
        "\n",
        "    def __len__(self):\n",
        "        return len(self.dataset)"
      ],
      "execution_count": 0,
      "outputs": []
    },
    {
      "cell_type": "code",
      "metadata": {
        "id": "P99BAFNhZBwG",
        "colab_type": "code",
        "outputId": "4605f736-57c4-439b-f4e7-55d1fd492f0b",
        "colab": {
          "base_uri": "https://localhost:8080/",
          "height": 34
        }
      },
      "source": [
        "\"\"\" \n",
        "  This cell should be basically `True` indicating that the two datasets have all the\n",
        "  labels ie shuffling done earlier was meaninigful\n",
        "\"\"\"\n",
        "set(data_train.labels_encoded) == set(data_test.labels_encoded)"
      ],
      "execution_count": 15,
      "outputs": [
        {
          "output_type": "execute_result",
          "data": {
            "text/plain": [
              "True"
            ]
          },
          "metadata": {
            "tags": []
          },
          "execution_count": 15
        }
      ]
    },
    {
      "cell_type": "code",
      "metadata": {
        "id": "XZOD7HvJ3zKT",
        "colab_type": "code",
        "colab": {}
      },
      "source": [
        "from torch.utils.data import DataLoader\n",
        "siamese_train_dataset = OnlineTripletDataset(training_mode=True,dataset=data_train, select_column='sentence_embedding')\n",
        "siamese_test_dataset = OnlineTripletDataset(training_mode=False,dataset=data_test, select_column='sentence_embedding')\n",
        "\n",
        "batch_size = 5\n",
        "# Putting in the batch sampler here. Again, we need two batch samplers, one for each type\n",
        "\n",
        "# We'll create mini batches by sampling labels that will be present in the mini batch and number of examples from each datatype\n",
        "train_batch_sampler = BalancedBatchSampler(data_train.labels_encoded, n_classes=23, n_samples=batch_size) # Number of classes in the current dataset is 23\n",
        "val_batch_sampler = BalancedBatchSampler(data_test.labels_encoded, n_classes=23, n_samples=batch_size) # Number of classes in the current dataset is 23\n",
        "\n",
        "\n",
        "online_train_loader = DataLoader(siamese_train_dataset, batch_sampler=train_batch_sampler)\n",
        "online_val_loader = DataLoader(siamese_test_dataset, batch_sampler=val_batch_sampler)\n"
      ],
      "execution_count": 0,
      "outputs": []
    },
    {
      "cell_type": "code",
      "metadata": {
        "id": "YrDgswhZ4HNv",
        "colab_type": "code",
        "outputId": "1b9e5b71-360e-498d-e657-289346e50047",
        "colab": {
          "base_uri": "https://localhost:8080/",
          "height": 134
        }
      },
      "source": [
        "\"\"\" \n",
        " Quick sanity check for the batch samplers\n",
        " The outpur shall be 23 times batch size ie we have elements from each of the categories\n",
        "\"\"\"\n",
        "\n",
        "for index, (img1,img2,img3) in enumerate(online_train_loader):\n",
        "  print (img1[0].shape)\n",
        "  print (img2[0].shape)\n",
        "  print (img3[0].shape)\n",
        "  break\n",
        "\n",
        "print(\"Let us test the scenario for validation dataloader\")\n",
        "  \n",
        "for index, (img1,img2,img3) in enumerate(online_val_loader):\n",
        "  print (img1[0].shape)\n",
        "  print (img2[0].shape)\n",
        "  print (img3[0].shape)\n",
        "  break"
      ],
      "execution_count": 17,
      "outputs": [
        {
          "output_type": "stream",
          "text": [
            "torch.Size([115, 1, 1024])\n",
            "torch.Size([115, 1, 1024])\n",
            "torch.Size([115, 1, 1024])\n",
            "Let us test the scenario for validation dataloader\n",
            "torch.Size([115, 1, 1024])\n",
            "torch.Size([115, 1, 1024])\n",
            "torch.Size([115, 1, 1024])\n"
          ],
          "name": "stdout"
        }
      ]
    },
    {
      "cell_type": "markdown",
      "metadata": {
        "id": "MlDNl66-7Ueo",
        "colab_type": "text"
      },
      "source": [
        "# This is the Triplet Selection code that is being used in this place"
      ]
    },
    {
      "cell_type": "code",
      "metadata": {
        "id": "XzTqQdqS7T2F",
        "colab_type": "code",
        "colab": {}
      },
      "source": [
        "def pdist(vectors):\n",
        "  \"\"\"\n",
        "    This is the basic definition of the distance matrix from a vector\n",
        "  \"\"\"\n",
        "  distance_matrix = -2 * vectors.mm(torch.t(vectors)) + vectors.pow(2).sum(dim=1).view(1, -1) + vectors.pow(2).sum(\n",
        "      dim=1).view(-1, 1)\n",
        "  return distance_matrix"
      ],
      "execution_count": 0,
      "outputs": []
    },
    {
      "cell_type": "code",
      "metadata": {
        "id": "0Odz1NjZ4LN6",
        "colab_type": "code",
        "colab": {}
      },
      "source": [
        "from itertools import combinations\n",
        "class FunctionNegativeTripletSelector():\n",
        "    \"\"\"\n",
        "    For each positive pair, takes the hardest negative sample (with the greatest triplet loss value) to create a triplet\n",
        "    Margin should match the margin used in triplet loss.\n",
        "    negative_selection_fn should take array of loss_values for a given anchor-positive pair and all negative samples\n",
        "    and return a negative index for that pair\n",
        "    \"\"\"\n",
        "\n",
        "    def __init__(self, margin, negative_selection_fn, cpu=False):\n",
        "        super(FunctionNegativeTripletSelector, self).__init__()\n",
        "        self.cpu = cpu\n",
        "        self.margin = margin\n",
        "        self.negative_selection_fn = negative_selection_fn\n",
        "\n",
        "    def get_triplets(self, embeddings, labels):\n",
        "        if self.cpu:\n",
        "            embeddings = embeddings.cpu()\n",
        "        distance_matrix = pdist(embeddings)\n",
        "        distance_matrix = distance_matrix.cpu()\n",
        "        \n",
        "        labels = labels.cpu().data.numpy()\n",
        "        triplets = []\n",
        "        for label in set(labels):\n",
        "            label_mask = (labels == label)\n",
        "            label_indices = np.where(label_mask)[0]\n",
        "            if len(label_indices) < 2:\n",
        "                continue\n",
        "            negative_indices = np.where(np.logical_not(label_mask))[0]\n",
        "            anchor_positives = list(combinations(label_indices, 2))  # All anchor-positive pairs\n",
        "            anchor_positives = np.array(anchor_positives)\n",
        "\n",
        "            ap_distances = distance_matrix[anchor_positives[:, 0], anchor_positives[:, 1]]\n",
        "            for anchor_positive, ap_distance in zip(anchor_positives, ap_distances):\n",
        "                loss_values = ap_distance - distance_matrix[torch.LongTensor(np.array([anchor_positive[0]])), torch.LongTensor(negative_indices)] + self.margin\n",
        "                loss_values = loss_values.data.cpu().numpy()\n",
        "                hard_negative = self.negative_selection_fn(loss_values)\n",
        "                if hard_negative is not None:\n",
        "                    hard_negative = negative_indices[hard_negative]\n",
        "                    triplets.append([anchor_positive[0], anchor_positive[1], hard_negative])\n",
        "\n",
        "        if len(triplets) == 0:\n",
        "            triplets.append([anchors_positive[0], anchors_positive[1], negative_indices[0]])\n",
        "\n",
        "        triplets = np.array(triplets)\n",
        "\n",
        "        return torch.LongTensor(triplets)\n",
        "\n",
        "\n"
      ],
      "execution_count": 0,
      "outputs": []
    },
    {
      "cell_type": "code",
      "metadata": {
        "id": "WX7FRICw7HYi",
        "colab_type": "code",
        "colab": {}
      },
      "source": [
        "def hardest_negative(loss_values):\n",
        "    hard_negative = np.argmax(loss_values)\n",
        "    return hard_negative if loss_values[hard_negative] > 0 else None\n",
        "\n",
        "\n",
        "def random_hard_negative(loss_values):\n",
        "    hard_negatives = np.where(loss_values > 0)[0]\n",
        "    return np.random.choice(hard_negatives) if len(hard_negatives) > 0 else None\n",
        "\n",
        "\n",
        "def semihard_negative(loss_values, margin):\n",
        "    semihard_negatives = np.where(np.logical_and(loss_values < margin, loss_values > 0))[0]\n",
        "    return np.random.choice(semihard_negatives) if len(semihard_negatives) > 0 else None"
      ],
      "execution_count": 0,
      "outputs": []
    },
    {
      "cell_type": "code",
      "metadata": {
        "id": "mB-fLNLG6i_7",
        "colab_type": "code",
        "colab": {}
      },
      "source": [
        "def HardestNegativeTripletSelector(margin, cpu=False):\n",
        "  return FunctionNegativeTripletSelector(margin=margin,negative_selection_fn=hardest_negative, cpu=cpu)\n",
        "\n",
        "\n",
        "def RandomNegativeTripletSelector(margin, cpu=False): \n",
        "  return FunctionNegativeTripletSelector(margin=margin, negative_selection_fn=random_hard_negative, cpu=cpu)\n",
        "\n",
        "\n",
        "def SemihardNegativeTripletSelector(margin, cpu=False): \n",
        "  return FunctionNegativeTripletSelector(margin=margin, negative_selection_fn=lambda x: semihard_negative(x, margin), cpu=cpu)\n"
      ],
      "execution_count": 0,
      "outputs": []
    },
    {
      "cell_type": "markdown",
      "metadata": {
        "id": "lSMiDjZWSbGe",
        "colab_type": "text"
      },
      "source": [
        "# This train code is for the Online Triplet selection network"
      ]
    },
    {
      "cell_type": "markdown",
      "metadata": {
        "id": "ZXI9oTnwV3vs",
        "colab_type": "text"
      },
      "source": [
        "## Creating new event objects for Tensorboard. Visualisation on previous dashboard possible"
      ]
    },
    {
      "cell_type": "code",
      "metadata": {
        "id": "ccXh8-EOQ_vU",
        "colab_type": "code",
        "colab": {}
      },
      "source": [
        "import torch.optim as optim\n",
        "from torch.optim import lr_scheduler\n",
        "import torch\n",
        "margin = 1.\n",
        "model = TripletNetwork()\n",
        "model.cuda()\n",
        "loss_fn = OnlineTripletLoss(margin,triplet_selector=SemihardNegativeTripletSelector(margin=margin))\n",
        "lr = 1e-3\n",
        "optimizer = optim.Adam(model.parameters(), lr=lr, weight_decay=1e-4)\n",
        "scheduler = lr_scheduler.StepLR(optimizer, 8, gamma=0.1, last_epoch=-1)\n",
        "n_epochs = 20\n",
        "log_interval = 50"
      ],
      "execution_count": 0,
      "outputs": []
    },
    {
      "cell_type": "code",
      "metadata": {
        "id": "YFoyQ0PNSajZ",
        "colab_type": "code",
        "colab": {}
      },
      "source": [
        "from tensorflow import summary\n",
        "def train_epoch(train_loader, model, loss_fn, optimizer, cuda, log_interval):\n",
        "    \n",
        "\n",
        "    model.train()\n",
        "    losses = []\n",
        "    total_loss = 0\n",
        "\n",
        "    for batch_idx, ((sent1,label1),(sent2,label2),(sent3,label3)) in enumerate(train_loader):\n",
        "      \n",
        "        labels = []\n",
        "        batch_size = sent1.shape[0]\n",
        "        sent1 = sent1.reshape(batch_size,-1)\n",
        "        sent2 = sent2.reshape(batch_size,-1)\n",
        "        sent3 = sent3.reshape(batch_size,-1)\n",
        "        labels.extend(label1)\n",
        "        labels.extend(label2)\n",
        "        labels.extend(label3)\n",
        "        #print(labels)\n",
        "        labels = torch.Tensor(labels).cuda()\n",
        "        optimizer.zero_grad()\n",
        "        outputs = model(sent1,sent2,sent3) \n",
        "        loss_inputs = outputs\n",
        "        \n",
        "        # We have three outputs, index 0 shall be for anchor, 1 is positive and 2 negative\n",
        "        # please double check\n",
        "        \n",
        "        loss_inputs = torch.cat((outputs[0],outputs[1], outputs[2]), 0)\n",
        "        \n",
        "        #print()\n",
        "        \n",
        "        loss_outputs = loss_fn(loss_inputs, labels) #We assume that target value is not known and hence is None\n",
        "        \n",
        "        loss = loss_outputs[0] if type(loss_outputs) in (tuple, list) else loss_outputs\n",
        "        losses.append(loss.item())\n",
        "        total_loss += loss.item()\n",
        "        loss.backward()\n",
        "        optimizer.step()\n",
        "\n",
        "        if batch_idx % log_interval == 0:\n",
        "            message = 'Train: [{}/{} ({:.0f}%)]\\tLoss: {:.6f}'.format(\n",
        "                batch_idx * len(img1), len(train_loader.dataset),\n",
        "                100. * batch_idx / len(train_loader), np.mean(losses))\n",
        "            \n",
        "            print(message)\n",
        "            losses = []\n",
        "\n",
        "    total_loss /= (batch_idx + 1)\n",
        "    return total_loss"
      ],
      "execution_count": 0,
      "outputs": []
    },
    {
      "cell_type": "code",
      "metadata": {
        "id": "BlO5Ja_PXyyZ",
        "colab_type": "code",
        "colab": {}
      },
      "source": [
        "def test_epoch(val_loader, model, loss_fn, cuda):\n",
        "    with torch.no_grad():\n",
        "        \n",
        "        val_loss = 0\n",
        "        for batch_idx, ((sent1,label1),(sent2,label2),(sent3,label3)) in enumerate(val_loader):\n",
        "            \n",
        "            labels = []\n",
        "            batch_size = sent1.shape[0]\n",
        "            sent1 = sent1.reshape(batch_size,-1)\n",
        "            sent2 = sent2.reshape(batch_size,-1)\n",
        "            sent3 = sent3.reshape(batch_size,-1)\n",
        "            labels.extend(label1)\n",
        "            labels.extend(label2)\n",
        "            labels.extend(label3)\n",
        "        \n",
        "            labels = torch.Tensor(labels).cuda()\n",
        "          \n",
        "            outputs = model(sent1,sent2,sent3) \n",
        "\n",
        "            \n",
        "            loss_inputs = torch.cat((outputs[0],outputs[1], outputs[2]), 0)\n",
        "            \n",
        "\n",
        "            loss_outputs = loss_fn(loss_inputs, labels) #We assume that target value is not known and hence is None\n",
        "            loss = loss_outputs[0] if type(loss_outputs) in (tuple, list) else loss_outputs\n",
        "            \n",
        "            val_loss += loss.item()\n",
        "            \n",
        "    return val_loss"
      ],
      "execution_count": 0,
      "outputs": []
    },
    {
      "cell_type": "code",
      "metadata": {
        "id": "0BX4rsUm8053",
        "colab_type": "code",
        "colab": {}
      },
      "source": [
        "def fit(train_loader, val_loader, model, loss_fn, optimizer, scheduler, n_epochs, cuda, log_interval,\n",
        "        start_epoch=0):\n",
        "    \"\"\"\n",
        "    Loaders, model, loss function and metrics should work together for a given task,\n",
        "    i.e. The model should be able to process data output of loaders,\n",
        "    loss function should process target output of loaders and outputs from the model\n",
        "\n",
        "    Examples: Classification: batch loader, classification model, NLL loss, accuracy metric\n",
        "    Siamese network: Siamese loader, siamese model, contrastive loss\n",
        "    Online triplet learning: batch loader, embedding model, online triplet loss\n",
        "    \"\"\"\n",
        "    for epoch in range(0, start_epoch):\n",
        "        scheduler.step()\n",
        "\n",
        "    for epoch in range(start_epoch, n_epochs):\n",
        "        scheduler.step()\n",
        "        \n",
        "        # Train stage\n",
        "        train_loss = train_epoch(train_loader, model, loss_fn, optimizer, cuda, log_interval)\n",
        "        message = 'Epoch: {}/{}. Train set: Average loss: {:.4f}'.format(epoch + 1, n_epochs, train_loss)\n",
        "        with train_summary_writer.as_default():\n",
        "           summary.scalar('loss', train_loss, step=epoch)\n",
        "        print(message)\n",
        "        val_loss = test_epoch(val_loader, model, loss_fn, cuda)\n",
        "        val_loss /= len(val_loader)\n",
        "\n",
        "        message += '\\nEpoch: {}/{}. Validation set: Average loss: {:.4f}'.format(epoch + 1, n_epochs,\n",
        "                                                                                     val_loss)\n",
        "        print(message)\n",
        "        torch.save(model.state_dict(), './{}-model.pth'.format(epoch))\n",
        "        \n",
        "        with test_summary_writer.as_default():\n",
        "           summary.scalar('loss', val_loss, step=epoch)        \n"
      ],
      "execution_count": 0,
      "outputs": []
    },
    {
      "cell_type": "code",
      "metadata": {
        "id": "S01rUUY8802M",
        "colab_type": "code",
        "outputId": "53bcd39e-7634-4a98-cf9f-b101b7b29431",
        "colab": {
          "base_uri": "https://localhost:8080/",
          "height": 5494
        }
      },
      "source": [
        "cuda = True\n",
        "n_epochs = 30\n",
        "fit(online_train_loader, online_val_loader, model, loss_fn, optimizer, scheduler, n_epochs, cuda,log_interval)"
      ],
      "execution_count": 0,
      "outputs": [
        {
          "output_type": "stream",
          "text": [
            "Train: [400/155152 (15%)]\tLoss: 0.501999\n",
            "Train: [500/155152 (19%)]\tLoss: 0.500556\n",
            "Train: [600/155152 (22%)]\tLoss: 0.498599\n",
            "Train: [700/155152 (26%)]\tLoss: 0.498965\n",
            "Train: [800/155152 (30%)]\tLoss: 0.501510\n",
            "Train: [900/155152 (33%)]\tLoss: 0.499077\n",
            "Train: [1000/155152 (37%)]\tLoss: 0.500659\n",
            "Train: [1100/155152 (41%)]\tLoss: 0.500450\n",
            "Train: [1200/155152 (44%)]\tLoss: 0.498242\n",
            "Train: [1300/155152 (48%)]\tLoss: 0.497559\n",
            "Train: [1400/155152 (52%)]\tLoss: 0.496821\n",
            "Train: [1500/155152 (56%)]\tLoss: 0.496996\n",
            "Train: [1600/155152 (59%)]\tLoss: 0.498663\n",
            "Train: [1700/155152 (63%)]\tLoss: 0.496408\n",
            "Train: [1800/155152 (67%)]\tLoss: 0.500720\n",
            "Train: [1900/155152 (70%)]\tLoss: 0.500404\n",
            "Train: [2000/155152 (74%)]\tLoss: 0.496622\n",
            "Train: [2100/155152 (78%)]\tLoss: 0.497047\n",
            "Train: [2200/155152 (82%)]\tLoss: 0.500607\n",
            "Train: [2300/155152 (85%)]\tLoss: 0.498410\n",
            "Train: [2400/155152 (89%)]\tLoss: 0.501754\n",
            "Train: [2500/155152 (93%)]\tLoss: 0.495104\n",
            "Train: [2600/155152 (96%)]\tLoss: 0.497693\n",
            "Epoch: 20/30. Train set: Average loss: 0.4992\n",
            "Epoch: 20/30. Train set: Average loss: 0.4992\n",
            "Epoch: 20/30. Validation set: Average loss: 0.4988\n",
            "Train: [0/155152 (0%)]\tLoss: 0.512983\n",
            "Train: [100/155152 (4%)]\tLoss: 0.502889\n",
            "Train: [200/155152 (7%)]\tLoss: 0.495115\n",
            "Train: [300/155152 (11%)]\tLoss: 0.499633\n",
            "Train: [400/155152 (15%)]\tLoss: 0.498521\n",
            "Train: [500/155152 (19%)]\tLoss: 0.496047\n",
            "Train: [600/155152 (22%)]\tLoss: 0.501868\n",
            "Train: [700/155152 (26%)]\tLoss: 0.497914\n",
            "Train: [800/155152 (30%)]\tLoss: 0.497097\n",
            "Train: [900/155152 (33%)]\tLoss: 0.501795\n",
            "Train: [1000/155152 (37%)]\tLoss: 0.496182\n",
            "Train: [1100/155152 (41%)]\tLoss: 0.501159\n",
            "Train: [1200/155152 (44%)]\tLoss: 0.499457\n",
            "Train: [1300/155152 (48%)]\tLoss: 0.502099\n",
            "Train: [1400/155152 (52%)]\tLoss: 0.496666\n",
            "Train: [1500/155152 (56%)]\tLoss: 0.499686\n",
            "Train: [1600/155152 (59%)]\tLoss: 0.498581\n",
            "Train: [1700/155152 (63%)]\tLoss: 0.503591\n",
            "Train: [1800/155152 (67%)]\tLoss: 0.500951\n",
            "Train: [1900/155152 (70%)]\tLoss: 0.499946\n",
            "Train: [2000/155152 (74%)]\tLoss: 0.494265\n",
            "Train: [2100/155152 (78%)]\tLoss: 0.500238\n",
            "Train: [2200/155152 (82%)]\tLoss: 0.497327\n",
            "Train: [2300/155152 (85%)]\tLoss: 0.500080\n",
            "Train: [2400/155152 (89%)]\tLoss: 0.500955\n",
            "Train: [2500/155152 (93%)]\tLoss: 0.502190\n",
            "Train: [2600/155152 (96%)]\tLoss: 0.500341\n",
            "Epoch: 21/30. Train set: Average loss: 0.4994\n",
            "Epoch: 21/30. Train set: Average loss: 0.4994\n",
            "Epoch: 21/30. Validation set: Average loss: 0.4999\n",
            "Train: [0/155152 (0%)]\tLoss: 0.504360\n",
            "Train: [100/155152 (4%)]\tLoss: 0.499703\n",
            "Train: [200/155152 (7%)]\tLoss: 0.497724\n",
            "Train: [300/155152 (11%)]\tLoss: 0.501310\n",
            "Train: [400/155152 (15%)]\tLoss: 0.501502\n",
            "Train: [500/155152 (19%)]\tLoss: 0.501579\n",
            "Train: [600/155152 (22%)]\tLoss: 0.500444\n",
            "Train: [700/155152 (26%)]\tLoss: 0.500596\n",
            "Train: [800/155152 (30%)]\tLoss: 0.501843\n",
            "Train: [900/155152 (33%)]\tLoss: 0.497642\n",
            "Train: [1000/155152 (37%)]\tLoss: 0.501714\n",
            "Train: [1100/155152 (41%)]\tLoss: 0.499634\n",
            "Train: [1200/155152 (44%)]\tLoss: 0.497441\n",
            "Train: [1300/155152 (48%)]\tLoss: 0.499585\n",
            "Train: [1400/155152 (52%)]\tLoss: 0.499225\n",
            "Train: [1500/155152 (56%)]\tLoss: 0.499755\n",
            "Train: [1600/155152 (59%)]\tLoss: 0.494013\n",
            "Train: [1700/155152 (63%)]\tLoss: 0.505947\n",
            "Train: [1800/155152 (67%)]\tLoss: 0.500967\n",
            "Train: [1900/155152 (70%)]\tLoss: 0.504419\n",
            "Train: [2000/155152 (74%)]\tLoss: 0.500151\n",
            "Train: [2100/155152 (78%)]\tLoss: 0.497481\n",
            "Train: [2200/155152 (82%)]\tLoss: 0.495378\n",
            "Train: [2300/155152 (85%)]\tLoss: 0.500294\n",
            "Train: [2400/155152 (89%)]\tLoss: 0.501630\n",
            "Train: [2500/155152 (93%)]\tLoss: 0.497237\n",
            "Train: [2600/155152 (96%)]\tLoss: 0.499653\n",
            "Epoch: 22/30. Train set: Average loss: 0.4999\n",
            "Epoch: 22/30. Train set: Average loss: 0.4999\n",
            "Epoch: 22/30. Validation set: Average loss: 0.4992\n",
            "Train: [0/155152 (0%)]\tLoss: 0.493722\n",
            "Train: [100/155152 (4%)]\tLoss: 0.501293\n",
            "Train: [200/155152 (7%)]\tLoss: 0.500187\n",
            "Train: [300/155152 (11%)]\tLoss: 0.499544\n",
            "Train: [400/155152 (15%)]\tLoss: 0.501766\n",
            "Train: [500/155152 (19%)]\tLoss: 0.497139\n",
            "Train: [600/155152 (22%)]\tLoss: 0.497946\n",
            "Train: [700/155152 (26%)]\tLoss: 0.501862\n",
            "Train: [800/155152 (30%)]\tLoss: 0.502060\n",
            "Train: [900/155152 (33%)]\tLoss: 0.497073\n",
            "Train: [1000/155152 (37%)]\tLoss: 0.492372\n",
            "Train: [1100/155152 (41%)]\tLoss: 0.506066\n",
            "Train: [1200/155152 (44%)]\tLoss: 0.499831\n",
            "Train: [1300/155152 (48%)]\tLoss: 0.501510\n",
            "Train: [1400/155152 (52%)]\tLoss: 0.497330\n",
            "Train: [1500/155152 (56%)]\tLoss: 0.493717\n",
            "Train: [1600/155152 (59%)]\tLoss: 0.496389\n",
            "Train: [1700/155152 (63%)]\tLoss: 0.506068\n",
            "Train: [1800/155152 (67%)]\tLoss: 0.500855\n",
            "Train: [1900/155152 (70%)]\tLoss: 0.498899\n",
            "Train: [2000/155152 (74%)]\tLoss: 0.504116\n",
            "Train: [2100/155152 (78%)]\tLoss: 0.497310\n",
            "Train: [2200/155152 (82%)]\tLoss: 0.498647\n",
            "Train: [2300/155152 (85%)]\tLoss: 0.501518\n",
            "Train: [2400/155152 (89%)]\tLoss: 0.498596\n",
            "Train: [2500/155152 (93%)]\tLoss: 0.498969\n",
            "Train: [2600/155152 (96%)]\tLoss: 0.502750\n",
            "Epoch: 23/30. Train set: Average loss: 0.4999\n",
            "Epoch: 23/30. Train set: Average loss: 0.4999\n",
            "Epoch: 23/30. Validation set: Average loss: 0.4991\n",
            "Train: [0/155152 (0%)]\tLoss: 0.481394\n",
            "Train: [100/155152 (4%)]\tLoss: 0.498618\n",
            "Train: [200/155152 (7%)]\tLoss: 0.498522\n",
            "Train: [300/155152 (11%)]\tLoss: 0.499457\n",
            "Train: [400/155152 (15%)]\tLoss: 0.502611\n",
            "Train: [500/155152 (19%)]\tLoss: 0.498930\n",
            "Train: [600/155152 (22%)]\tLoss: 0.496543\n",
            "Train: [700/155152 (26%)]\tLoss: 0.499765\n",
            "Train: [800/155152 (30%)]\tLoss: 0.500589\n",
            "Train: [900/155152 (33%)]\tLoss: 0.500296\n",
            "Train: [1000/155152 (37%)]\tLoss: 0.498132\n",
            "Train: [1100/155152 (41%)]\tLoss: 0.502915\n",
            "Train: [1200/155152 (44%)]\tLoss: 0.497808\n",
            "Train: [1300/155152 (48%)]\tLoss: 0.501973\n",
            "Train: [1400/155152 (52%)]\tLoss: 0.497450\n",
            "Train: [1500/155152 (56%)]\tLoss: 0.495141\n",
            "Train: [1600/155152 (59%)]\tLoss: 0.501565\n",
            "Train: [1700/155152 (63%)]\tLoss: 0.501407\n",
            "Train: [1800/155152 (67%)]\tLoss: 0.499205\n",
            "Train: [1900/155152 (70%)]\tLoss: 0.504273\n",
            "Train: [2000/155152 (74%)]\tLoss: 0.500661\n",
            "Train: [2100/155152 (78%)]\tLoss: 0.499643\n",
            "Train: [2200/155152 (82%)]\tLoss: 0.499909\n",
            "Train: [2300/155152 (85%)]\tLoss: 0.501226\n",
            "Train: [2400/155152 (89%)]\tLoss: 0.496185\n",
            "Train: [2500/155152 (93%)]\tLoss: 0.500451\n",
            "Train: [2600/155152 (96%)]\tLoss: 0.499717\n",
            "Epoch: 24/30. Train set: Average loss: 0.4999\n",
            "Epoch: 24/30. Train set: Average loss: 0.4999\n",
            "Epoch: 24/30. Validation set: Average loss: 0.5009\n",
            "Train: [0/155152 (0%)]\tLoss: 0.541628\n",
            "Train: [100/155152 (4%)]\tLoss: 0.498626\n",
            "Train: [200/155152 (7%)]\tLoss: 0.497178\n",
            "Train: [300/155152 (11%)]\tLoss: 0.494134\n",
            "Train: [400/155152 (15%)]\tLoss: 0.498793\n",
            "Train: [500/155152 (19%)]\tLoss: 0.493216\n",
            "Train: [600/155152 (22%)]\tLoss: 0.497094\n",
            "Train: [700/155152 (26%)]\tLoss: 0.500498\n",
            "Train: [800/155152 (30%)]\tLoss: 0.497900\n",
            "Train: [900/155152 (33%)]\tLoss: 0.503199\n",
            "Train: [1000/155152 (37%)]\tLoss: 0.504540\n",
            "Train: [1100/155152 (41%)]\tLoss: 0.501417\n",
            "Train: [1200/155152 (44%)]\tLoss: 0.501633\n",
            "Train: [1300/155152 (48%)]\tLoss: 0.495704\n",
            "Train: [1400/155152 (52%)]\tLoss: 0.499877\n",
            "Train: [1500/155152 (56%)]\tLoss: 0.496456\n",
            "Train: [1600/155152 (59%)]\tLoss: 0.500035\n",
            "Train: [1700/155152 (63%)]\tLoss: 0.500679\n",
            "Train: [1800/155152 (67%)]\tLoss: 0.501114\n",
            "Train: [1900/155152 (70%)]\tLoss: 0.502038\n",
            "Train: [2000/155152 (74%)]\tLoss: 0.494737\n",
            "Train: [2100/155152 (78%)]\tLoss: 0.501270\n",
            "Train: [2200/155152 (82%)]\tLoss: 0.498165\n",
            "Train: [2300/155152 (85%)]\tLoss: 0.502792\n",
            "Train: [2400/155152 (89%)]\tLoss: 0.495352\n",
            "Train: [2500/155152 (93%)]\tLoss: 0.503311\n",
            "Train: [2600/155152 (96%)]\tLoss: 0.495321\n",
            "Epoch: 25/30. Train set: Average loss: 0.4992\n",
            "Epoch: 25/30. Train set: Average loss: 0.4992\n",
            "Epoch: 25/30. Validation set: Average loss: 0.4984\n",
            "Train: [0/155152 (0%)]\tLoss: 0.486573\n",
            "Train: [100/155152 (4%)]\tLoss: 0.505905\n",
            "Train: [200/155152 (7%)]\tLoss: 0.499378\n",
            "Train: [300/155152 (11%)]\tLoss: 0.501389\n",
            "Train: [400/155152 (15%)]\tLoss: 0.500639\n",
            "Train: [500/155152 (19%)]\tLoss: 0.496329\n",
            "Train: [600/155152 (22%)]\tLoss: 0.502114\n",
            "Train: [700/155152 (26%)]\tLoss: 0.500230\n",
            "Train: [800/155152 (30%)]\tLoss: 0.497575\n",
            "Train: [900/155152 (33%)]\tLoss: 0.502226\n",
            "Train: [1000/155152 (37%)]\tLoss: 0.498761\n",
            "Train: [1100/155152 (41%)]\tLoss: 0.496299\n",
            "Train: [1200/155152 (44%)]\tLoss: 0.500241\n",
            "Train: [1300/155152 (48%)]\tLoss: 0.504566\n",
            "Train: [1400/155152 (52%)]\tLoss: 0.498251\n",
            "Train: [1500/155152 (56%)]\tLoss: 0.498842\n",
            "Train: [1600/155152 (59%)]\tLoss: 0.495117\n",
            "Train: [1700/155152 (63%)]\tLoss: 0.501229\n",
            "Train: [1800/155152 (67%)]\tLoss: 0.501704\n",
            "Train: [1900/155152 (70%)]\tLoss: 0.499510\n",
            "Train: [2000/155152 (74%)]\tLoss: 0.499297\n",
            "Train: [2100/155152 (78%)]\tLoss: 0.498609\n",
            "Train: [2200/155152 (82%)]\tLoss: 0.499035\n",
            "Train: [2300/155152 (85%)]\tLoss: 0.498106\n",
            "Train: [2400/155152 (89%)]\tLoss: 0.499596\n",
            "Train: [2500/155152 (93%)]\tLoss: 0.503435\n",
            "Train: [2600/155152 (96%)]\tLoss: 0.501765\n",
            "Epoch: 26/30. Train set: Average loss: 0.5000\n",
            "Epoch: 26/30. Train set: Average loss: 0.5000\n",
            "Epoch: 26/30. Validation set: Average loss: 0.4987\n",
            "Train: [0/155152 (0%)]\tLoss: 0.474082\n",
            "Train: [100/155152 (4%)]\tLoss: 0.496992\n",
            "Train: [200/155152 (7%)]\tLoss: 0.500073\n",
            "Train: [300/155152 (11%)]\tLoss: 0.498528\n",
            "Train: [400/155152 (15%)]\tLoss: 0.499187\n",
            "Train: [500/155152 (19%)]\tLoss: 0.494968\n",
            "Train: [600/155152 (22%)]\tLoss: 0.501369\n",
            "Train: [700/155152 (26%)]\tLoss: 0.499602\n",
            "Train: [800/155152 (30%)]\tLoss: 0.502859\n",
            "Train: [900/155152 (33%)]\tLoss: 0.500658\n",
            "Train: [1000/155152 (37%)]\tLoss: 0.496540\n",
            "Train: [1100/155152 (41%)]\tLoss: 0.500892\n",
            "Train: [1200/155152 (44%)]\tLoss: 0.500568\n",
            "Train: [1300/155152 (48%)]\tLoss: 0.502802\n",
            "Train: [1400/155152 (52%)]\tLoss: 0.507634\n",
            "Train: [1500/155152 (56%)]\tLoss: 0.505636\n",
            "Train: [1600/155152 (59%)]\tLoss: 0.499558\n",
            "Train: [1700/155152 (63%)]\tLoss: 0.497923\n",
            "Train: [1800/155152 (67%)]\tLoss: 0.503634\n",
            "Train: [1900/155152 (70%)]\tLoss: 0.500490\n",
            "Train: [2000/155152 (74%)]\tLoss: 0.497370\n",
            "Train: [2100/155152 (78%)]\tLoss: 0.499343\n",
            "Train: [2200/155152 (82%)]\tLoss: 0.500245\n",
            "Train: [2300/155152 (85%)]\tLoss: 0.500987\n",
            "Train: [2400/155152 (89%)]\tLoss: 0.498742\n",
            "Train: [2500/155152 (93%)]\tLoss: 0.497477\n",
            "Train: [2600/155152 (96%)]\tLoss: 0.503241\n",
            "Epoch: 27/30. Train set: Average loss: 0.5001\n",
            "Epoch: 27/30. Train set: Average loss: 0.5001\n",
            "Epoch: 27/30. Validation set: Average loss: 0.5004\n",
            "Train: [0/155152 (0%)]\tLoss: 0.483309\n",
            "Train: [100/155152 (4%)]\tLoss: 0.496612\n",
            "Train: [200/155152 (7%)]\tLoss: 0.498314\n",
            "Train: [300/155152 (11%)]\tLoss: 0.496453\n",
            "Train: [400/155152 (15%)]\tLoss: 0.501047\n",
            "Train: [500/155152 (19%)]\tLoss: 0.497033\n",
            "Train: [600/155152 (22%)]\tLoss: 0.500143\n",
            "Train: [700/155152 (26%)]\tLoss: 0.500127\n",
            "Train: [800/155152 (30%)]\tLoss: 0.500828\n",
            "Train: [900/155152 (33%)]\tLoss: 0.497948\n",
            "Train: [1000/155152 (37%)]\tLoss: 0.496744\n",
            "Train: [1100/155152 (41%)]\tLoss: 0.499264\n",
            "Train: [1200/155152 (44%)]\tLoss: 0.499224\n",
            "Train: [1300/155152 (48%)]\tLoss: 0.498109\n",
            "Train: [1400/155152 (52%)]\tLoss: 0.494286\n",
            "Train: [1500/155152 (56%)]\tLoss: 0.497074\n",
            "Train: [1600/155152 (59%)]\tLoss: 0.497773\n",
            "Train: [1700/155152 (63%)]\tLoss: 0.495857\n",
            "Train: [1800/155152 (67%)]\tLoss: 0.496758\n",
            "Train: [1900/155152 (70%)]\tLoss: 0.493797\n",
            "Train: [2000/155152 (74%)]\tLoss: 0.503553\n",
            "Train: [2100/155152 (78%)]\tLoss: 0.496423\n",
            "Train: [2200/155152 (82%)]\tLoss: 0.495199\n",
            "Train: [2300/155152 (85%)]\tLoss: 0.497571\n",
            "Train: [2400/155152 (89%)]\tLoss: 0.503591\n",
            "Train: [2500/155152 (93%)]\tLoss: 0.496045\n",
            "Train: [2600/155152 (96%)]\tLoss: 0.497080\n",
            "Epoch: 28/30. Train set: Average loss: 0.4981\n",
            "Epoch: 28/30. Train set: Average loss: 0.4981\n",
            "Epoch: 28/30. Validation set: Average loss: 0.4990\n",
            "Train: [0/155152 (0%)]\tLoss: 0.497005\n",
            "Train: [100/155152 (4%)]\tLoss: 0.494902\n",
            "Train: [200/155152 (7%)]\tLoss: 0.498980\n",
            "Train: [300/155152 (11%)]\tLoss: 0.503371\n",
            "Train: [400/155152 (15%)]\tLoss: 0.498153\n",
            "Train: [500/155152 (19%)]\tLoss: 0.503994\n",
            "Train: [600/155152 (22%)]\tLoss: 0.495511\n",
            "Train: [700/155152 (26%)]\tLoss: 0.502143\n",
            "Train: [800/155152 (30%)]\tLoss: 0.496668\n",
            "Train: [900/155152 (33%)]\tLoss: 0.499636\n",
            "Train: [1000/155152 (37%)]\tLoss: 0.501636\n",
            "Train: [1100/155152 (41%)]\tLoss: 0.495945\n",
            "Train: [1200/155152 (44%)]\tLoss: 0.501972\n",
            "Train: [1300/155152 (48%)]\tLoss: 0.496327\n",
            "Train: [1400/155152 (52%)]\tLoss: 0.492268\n",
            "Train: [1500/155152 (56%)]\tLoss: 0.497897\n",
            "Train: [1600/155152 (59%)]\tLoss: 0.497798\n",
            "Train: [1700/155152 (63%)]\tLoss: 0.497109\n",
            "Train: [1800/155152 (67%)]\tLoss: 0.499592\n",
            "Train: [1900/155152 (70%)]\tLoss: 0.499255\n",
            "Train: [2000/155152 (74%)]\tLoss: 0.501226\n",
            "Train: [2100/155152 (78%)]\tLoss: 0.503891\n",
            "Train: [2200/155152 (82%)]\tLoss: 0.504283\n",
            "Train: [2300/155152 (85%)]\tLoss: 0.499220\n",
            "Train: [2400/155152 (89%)]\tLoss: 0.502540\n",
            "Train: [2500/155152 (93%)]\tLoss: 0.497979\n",
            "Train: [2600/155152 (96%)]\tLoss: 0.498668\n",
            "Epoch: 29/30. Train set: Average loss: 0.4993\n",
            "Epoch: 29/30. Train set: Average loss: 0.4993\n",
            "Epoch: 29/30. Validation set: Average loss: 0.5008\n",
            "Train: [0/155152 (0%)]\tLoss: 0.513807\n",
            "Train: [100/155152 (4%)]\tLoss: 0.497438\n",
            "Train: [200/155152 (7%)]\tLoss: 0.497598\n",
            "Train: [300/155152 (11%)]\tLoss: 0.501261\n",
            "Train: [400/155152 (15%)]\tLoss: 0.500399\n",
            "Train: [500/155152 (19%)]\tLoss: 0.497347\n",
            "Train: [600/155152 (22%)]\tLoss: 0.497136\n",
            "Train: [700/155152 (26%)]\tLoss: 0.496886\n",
            "Train: [800/155152 (30%)]\tLoss: 0.503554\n",
            "Train: [900/155152 (33%)]\tLoss: 0.499664\n",
            "Train: [1000/155152 (37%)]\tLoss: 0.502189\n",
            "Train: [1100/155152 (41%)]\tLoss: 0.504152\n",
            "Train: [1200/155152 (44%)]\tLoss: 0.496653\n",
            "Train: [1300/155152 (48%)]\tLoss: 0.497588\n",
            "Train: [1400/155152 (52%)]\tLoss: 0.495165\n",
            "Train: [1500/155152 (56%)]\tLoss: 0.497575\n",
            "Train: [1600/155152 (59%)]\tLoss: 0.497347\n",
            "Train: [1700/155152 (63%)]\tLoss: 0.499604\n",
            "Train: [1800/155152 (67%)]\tLoss: 0.502246\n",
            "Train: [1900/155152 (70%)]\tLoss: 0.501328\n",
            "Train: [2000/155152 (74%)]\tLoss: 0.499458\n",
            "Train: [2100/155152 (78%)]\tLoss: 0.494519\n",
            "Train: [2200/155152 (82%)]\tLoss: 0.501810\n",
            "Train: [2300/155152 (85%)]\tLoss: 0.501302\n",
            "Train: [2400/155152 (89%)]\tLoss: 0.499487\n",
            "Train: [2500/155152 (93%)]\tLoss: 0.502363\n",
            "Train: [2600/155152 (96%)]\tLoss: 0.499512\n",
            "Epoch: 30/30. Train set: Average loss: 0.4994\n",
            "Epoch: 30/30. Train set: Average loss: 0.4994\n",
            "Epoch: 30/30. Validation set: Average loss: 0.4984\n"
          ],
          "name": "stdout"
        }
      ]
    },
    {
      "cell_type": "markdown",
      "metadata": {
        "id": "eqIjnEpERaOG",
        "colab_type": "text"
      },
      "source": [
        "## Experimental Section of applying Softmax on the embedding space to see the output. This is bit of a change from the normal operation of our Triplet Network"
      ]
    },
    {
      "cell_type": "code",
      "metadata": {
        "id": "tEJsZLi3RZkD",
        "colab_type": "code",
        "colab": {}
      },
      "source": [
        "class ClassificationNet(nn.Module):\n",
        "  \n",
        "\n",
        "  def __init__(self, embedding_network, num_classes):\n",
        "    super(ClassificationNet, self).__init__()\n",
        "    self.embedding_network = embedding_network #We would like to freeze these embeddings\n",
        "    self.num_classes = num_classes\n",
        "    self.nonlinear = nn.ReLU()\n",
        "    self.fc1 = nn.Linear(64, 64)\n",
        "    self.fc2 = nn.Linear(64, 32)\n",
        "    self.fc3 = nn.Linear(32, self.num_classes)\n",
        "    # Freeze the weights of this network\n",
        "    \"\"\" This attempt is to first allow classification network to train\"\"\"\n",
        "    for param in self.embedding_network.fc.parameters():\n",
        "           param.requires_grad = False\n",
        "    \n",
        "  \n",
        "\n",
        "  def forward(self,x):\n",
        "    x = self.embedding_network.fc(x)\n",
        "    x = self.fc1(self.nonlinear(x))\n",
        "    x = self.fc2(self.nonlinear(x))\n",
        "    x = self.fc3(self.nonlinear(x))\n",
        "    return x"
      ],
      "execution_count": 0,
      "outputs": []
    },
    {
      "cell_type": "markdown",
      "metadata": {
        "id": "QgCvK3yUUVlw",
        "colab_type": "text"
      },
      "source": [
        "### Dummy dataset generation for training the FC and softmax layers\n"
      ]
    },
    {
      "cell_type": "code",
      "metadata": {
        "id": "dX8B_3GoT9c7",
        "colab_type": "code",
        "colab": {}
      },
      "source": [
        "# We need to define a specific dataloader in this case, which shall be frankly, quite simple and dummy\n",
        "from torch.utils.data import Dataset\n",
        "import numpy as np\n",
        "\n",
        "class SoftmaxDataset(Dataset):\n",
        "    \"\"\"\n",
        "    Train: For each sample (anchor) randomly chooses a positive and negative samples\n",
        "    Test: Creates fixed triplets for testing\n",
        "    \"\"\"\n",
        "\n",
        "    def __init__(self, dataset, select_column):\n",
        "         \n",
        "        \n",
        "        self.dataset = dataset\n",
        "        self.train_labels = self.dataset.labels_encoded\n",
        "            # Drop the labels column so that remaining features form part of the training set\n",
        "        self.dataset = self.dataset.drop('labels_encoded', axis=1)\n",
        "        self.train_data = self.dataset\n",
        "        self.select_column = select_column\n",
        "       \n",
        "    def __getitem__(self, index):\n",
        "        #print(type(self.train_data))\n",
        "        selected_frame, label = self.train_data.iloc[index], self.train_labels.iloc[index]\n",
        "        str_data = selected_frame[self.select_column]\n",
        "\n",
        "        return str_data, label\n",
        "\n",
        "    def __len__(self):\n",
        "        return len(self.dataset)"
      ],
      "execution_count": 0,
      "outputs": []
    },
    {
      "cell_type": "markdown",
      "metadata": {
        "id": "Yy6Nq9ZnlJPc",
        "colab_type": "text"
      },
      "source": [
        "## overfit on a smaller dataset but only for initial evaluation. Ignore later"
      ]
    },
    {
      "cell_type": "code",
      "metadata": {
        "id": "irnA5T-T_TVW",
        "colab_type": "code",
        "colab": {}
      },
      "source": [
        "miniature_data_train = data_train[:10000]\n",
        "miniature_data_test = data_test[:500]\n",
        "# Change the next cell with the correct values\n",
        "batch_size = 10\n",
        "num_epochs=30"
      ],
      "execution_count": 0,
      "outputs": []
    },
    {
      "cell_type": "code",
      "metadata": {
        "id": "7V7jVh1KkoEF",
        "colab_type": "code",
        "colab": {}
      },
      "source": [
        "softmax_train_dataset = SoftmaxDataset(dataset=miniature_data_train,select_column='sentence_embedding')\n",
        "softmax_test_dataset = SoftmaxDataset(dataset=miniature_data_test,select_column='sentence_embedding')\n",
        "# Now the dataloaders need to be defined as well\n",
        "classification_train_loader = DataLoader(softmax_train_dataset, batch_size=batch_size,shuffle=True)\n",
        "classification_test_loader = DataLoader(softmax_test_dataset, batch_size=batch_size,shuffle=True)"
      ],
      "execution_count": 0,
      "outputs": []
    },
    {
      "cell_type": "code",
      "metadata": {
        "id": "gT4YawdSkoA0",
        "colab_type": "code",
        "colab": {
          "base_uri": "https://localhost:8080/",
          "height": 34
        },
        "outputId": "36fc3668-5c56-485e-cf94-9b30ff509d6a"
      },
      "source": [
        "len(data_train)"
      ],
      "execution_count": 185,
      "outputs": [
        {
          "output_type": "execute_result",
          "data": {
            "text/plain": [
              "155152"
            ]
          },
          "metadata": {
            "tags": []
          },
          "execution_count": 185
        }
      ]
    },
    {
      "cell_type": "markdown",
      "metadata": {
        "id": "zBeET4QrnUzg",
        "colab_type": "text"
      },
      "source": [
        "##Actual data loader for the model that we plan to use"
      ]
    },
    {
      "cell_type": "code",
      "metadata": {
        "id": "ZC0nL-sYSOcf",
        "colab_type": "code",
        "colab": {}
      },
      "source": [
        "# Global declarations\n",
        "num_classes=23\n",
        "num_epochs = 40\n",
        "batch_size = 100"
      ],
      "execution_count": 0,
      "outputs": []
    },
    {
      "cell_type": "code",
      "metadata": {
        "colab_type": "code",
        "outputId": "1d19029c-3358-4681-facd-a99fe7aae504",
        "id": "MjSwcL7J0zZm",
        "colab": {
          "base_uri": "https://localhost:8080/",
          "height": 235
        }
      },
      "source": [
        "# Load a pre-existing model \n",
        "PATH = '/content/5-model.pth'\n",
        "model = TripletNetwork()\n",
        "model.load_state_dict(torch.load(PATH))\n",
        "model.cuda()"
      ],
      "execution_count": 101,
      "outputs": [
        {
          "output_type": "execute_result",
          "data": {
            "text/plain": [
              "TripletNetwork(\n",
              "  (fc): Sequential(\n",
              "    (0): Linear(in_features=1024, out_features=512, bias=True)\n",
              "    (1): BatchNorm1d(512, eps=1e-05, momentum=0.1, affine=True, track_running_stats=True)\n",
              "    (2): ReLU()\n",
              "    (3): Dropout(p=0.5)\n",
              "    (4): Linear(in_features=512, out_features=256, bias=True)\n",
              "    (5): BatchNorm1d(256, eps=1e-05, momentum=0.1, affine=True, track_running_stats=True)\n",
              "    (6): ReLU()\n",
              "    (7): Dropout(p=0.6)\n",
              "    (8): Linear(in_features=256, out_features=64, bias=True)\n",
              "  )\n",
              ")"
            ]
          },
          "metadata": {
            "tags": []
          },
          "execution_count": 101
        }
      ]
    },
    {
      "cell_type": "code",
      "metadata": {
        "id": "TzXYFUDYRZtZ",
        "colab_type": "code",
        "outputId": "96c89536-45a4-48e1-f7af-408eaf3336a5",
        "colab": {
          "base_uri": "https://localhost:8080/",
          "height": 336
        }
      },
      "source": [
        "num_classes = 23\n",
        "net = ClassificationNet(embedding_network=model, num_classes=num_classes)\n",
        "net.cuda()"
      ],
      "execution_count": 102,
      "outputs": [
        {
          "output_type": "execute_result",
          "data": {
            "text/plain": [
              "ClassificationNet(\n",
              "  (embedding_network): TripletNetwork(\n",
              "    (fc): Sequential(\n",
              "      (0): Linear(in_features=1024, out_features=512, bias=True)\n",
              "      (1): BatchNorm1d(512, eps=1e-05, momentum=0.1, affine=True, track_running_stats=True)\n",
              "      (2): ReLU()\n",
              "      (3): Dropout(p=0.5)\n",
              "      (4): Linear(in_features=512, out_features=256, bias=True)\n",
              "      (5): BatchNorm1d(256, eps=1e-05, momentum=0.1, affine=True, track_running_stats=True)\n",
              "      (6): ReLU()\n",
              "      (7): Dropout(p=0.6)\n",
              "      (8): Linear(in_features=256, out_features=64, bias=True)\n",
              "    )\n",
              "  )\n",
              "  (nonlinear): ReLU()\n",
              "  (fc1): Linear(in_features=64, out_features=64, bias=True)\n",
              "  (fc2): Linear(in_features=64, out_features=32, bias=True)\n",
              "  (fc3): Linear(in_features=32, out_features=23, bias=True)\n",
              ")"
            ]
          },
          "metadata": {
            "tags": []
          },
          "execution_count": 102
        }
      ]
    },
    {
      "cell_type": "code",
      "metadata": {
        "id": "m4kYkHpsRaoR",
        "colab_type": "code",
        "colab": {}
      },
      "source": [
        "import torch.optim as optim\n",
        "criterion = nn.CrossEntropyLoss()\n",
        "optimizer = optim.Adam(net.parameters(), lr=0.001)"
      ],
      "execution_count": 0,
      "outputs": []
    },
    {
      "cell_type": "code",
      "metadata": {
        "id": "ptV1nJq2YM4-",
        "colab_type": "code",
        "colab": {}
      },
      "source": [
        "from torch.utils.data import DataLoader\n",
        "softmax_train_dataset = SoftmaxDataset(dataset=data_train,select_column='sentence_embedding')\n",
        "softmax_test_dataset = SoftmaxDataset(dataset=data_test,select_column='sentence_embedding')\n",
        "# Now the dataloaders need to be defined as well\n",
        "classification_train_loader = DataLoader(softmax_train_dataset, batch_size=batch_size,shuffle=True)\n",
        "classification_test_loader = DataLoader(softmax_test_dataset, batch_size=batch_size,shuffle=True)"
      ],
      "execution_count": 0,
      "outputs": []
    },
    {
      "cell_type": "code",
      "metadata": {
        "colab_type": "code",
        "id": "Bg6zVkhzbess",
        "colab": {
          "base_uri": "https://localhost:8080/",
          "height": 346
        },
        "outputId": "a0fe644d-a301-4874-9a1b-70e14149a345"
      },
      "source": [
        "import datetime\n",
        "from tensorflow import summary\n",
        "%load_ext tensorboard\n",
        "current_time = str(datetime.datetime.now().timestamp())\n",
        "train_log_dir = '/content/logs/tensorboard/train/classifier/' + current_time\n",
        "test_log_dir = '/content/logs/tensorboard/test/classifier/' + current_time\n",
        "train_summary_writer = summary.create_file_writer(train_log_dir)\n",
        "test_summary_writer = summary.create_file_writer(test_log_dir)"
      ],
      "execution_count": 177,
      "outputs": [
        {
          "output_type": "stream",
          "text": [
            "The tensorboard module is not an IPython extension.\n"
          ],
          "name": "stdout"
        },
        {
          "output_type": "error",
          "ename": "AttributeError",
          "evalue": "ignored",
          "traceback": [
            "\u001b[0;31m---------------------------------------------------------------------------\u001b[0m",
            "\u001b[0;31mAttributeError\u001b[0m                            Traceback (most recent call last)",
            "\u001b[0;32m<ipython-input-177-f8d4886f6a6c>\u001b[0m in \u001b[0;36m<module>\u001b[0;34m()\u001b[0m\n\u001b[1;32m      5\u001b[0m \u001b[0mtrain_log_dir\u001b[0m \u001b[0;34m=\u001b[0m \u001b[0;34m'/content/logs/tensorboard/train/classifier/'\u001b[0m \u001b[0;34m+\u001b[0m \u001b[0mcurrent_time\u001b[0m\u001b[0;34m\u001b[0m\u001b[0;34m\u001b[0m\u001b[0m\n\u001b[1;32m      6\u001b[0m \u001b[0mtest_log_dir\u001b[0m \u001b[0;34m=\u001b[0m \u001b[0;34m'/content/logs/tensorboard/test/classifier/'\u001b[0m \u001b[0;34m+\u001b[0m \u001b[0mcurrent_time\u001b[0m\u001b[0;34m\u001b[0m\u001b[0;34m\u001b[0m\u001b[0m\n\u001b[0;32m----> 7\u001b[0;31m \u001b[0mtrain_summary_writer\u001b[0m \u001b[0;34m=\u001b[0m \u001b[0msummary\u001b[0m\u001b[0;34m.\u001b[0m\u001b[0mcreate_file_writer\u001b[0m\u001b[0;34m(\u001b[0m\u001b[0mtrain_log_dir\u001b[0m\u001b[0;34m)\u001b[0m\u001b[0;34m\u001b[0m\u001b[0;34m\u001b[0m\u001b[0m\n\u001b[0m\u001b[1;32m      8\u001b[0m \u001b[0mtest_summary_writer\u001b[0m \u001b[0;34m=\u001b[0m \u001b[0msummary\u001b[0m\u001b[0;34m.\u001b[0m\u001b[0mcreate_file_writer\u001b[0m\u001b[0;34m(\u001b[0m\u001b[0mtest_log_dir\u001b[0m\u001b[0;34m)\u001b[0m\u001b[0;34m\u001b[0m\u001b[0;34m\u001b[0m\u001b[0m\n",
            "\u001b[0;32m/usr/local/lib/python3.6/dist-packages/tensorflow/python/util/deprecation_wrapper.py\u001b[0m in \u001b[0;36m__getattr__\u001b[0;34m(self, name)\u001b[0m\n\u001b[1;32m    104\u001b[0m     \u001b[0;32mif\u001b[0m \u001b[0mname\u001b[0m\u001b[0;34m.\u001b[0m\u001b[0mstartswith\u001b[0m\u001b[0;34m(\u001b[0m\u001b[0;34m'_dw_'\u001b[0m\u001b[0;34m)\u001b[0m\u001b[0;34m:\u001b[0m\u001b[0;34m\u001b[0m\u001b[0;34m\u001b[0m\u001b[0m\n\u001b[1;32m    105\u001b[0m       \u001b[0;32mraise\u001b[0m \u001b[0mAttributeError\u001b[0m\u001b[0;34m(\u001b[0m\u001b[0;34m'Accessing local variables before they are created.'\u001b[0m\u001b[0;34m)\u001b[0m\u001b[0;34m\u001b[0m\u001b[0;34m\u001b[0m\u001b[0m\n\u001b[0;32m--> 106\u001b[0;31m     \u001b[0mattr\u001b[0m \u001b[0;34m=\u001b[0m \u001b[0mgetattr\u001b[0m\u001b[0;34m(\u001b[0m\u001b[0mself\u001b[0m\u001b[0;34m.\u001b[0m\u001b[0m_dw_wrapped_module\u001b[0m\u001b[0;34m,\u001b[0m \u001b[0mname\u001b[0m\u001b[0;34m)\u001b[0m\u001b[0;34m\u001b[0m\u001b[0;34m\u001b[0m\u001b[0m\n\u001b[0m\u001b[1;32m    107\u001b[0m     if (self._dw_warning_count < _PER_MODULE_WARNING_LIMIT and\n\u001b[1;32m    108\u001b[0m         name not in self._dw_deprecated_printed):\n",
            "\u001b[0;31mAttributeError\u001b[0m: module 'tensorflow._api.v1.summary' has no attribute 'create_file_writer'"
          ]
        }
      ]
    },
    {
      "cell_type": "code",
      "metadata": {
        "id": "OXkjJP4dQ0m1",
        "colab_type": "code",
        "outputId": "914a9972-7d9a-4a10-d690-a460d6199e65",
        "colab": {
          "base_uri": "https://localhost:8080/",
          "height": 1311
        }
      },
      "source": [
        "# Next we need to train this network in order to learn the weights of the fc layer and cross entropy weights\n",
        "for epoch in range(num_epochs):  # loop over the dataset multiple times\n",
        "    correct = 0\n",
        "    total = 0\n",
        "    running_loss = 0.0\n",
        "    for i, data in enumerate(classification_train_loader, 0):\n",
        "        # get the inputs; data is a list of [inputs, labels]\n",
        "        inputs, labels = data\n",
        "        inputs = inputs.cuda()\n",
        "        labels = labels.cuda()\n",
        "        #reshape the input to align\n",
        "        batch_size = inputs.shape[0]\n",
        "        inputs = inputs.reshape(batch_size,-1)\n",
        "        # zero the parameter gradients\n",
        "        optimizer.zero_grad()\n",
        "        # forward + backward + optimize\n",
        "        outputs = net(inputs)\n",
        "        loss = criterion(outputs, labels)\n",
        "        loss.backward()\n",
        "        optimizer.step()\n",
        "        # Write the scalars\n",
        "        running_loss += loss.item()\n",
        "        _, predicted = torch.max(outputs.data, 1)\n",
        "        total += labels.size(0)\n",
        "        correct += (predicted == labels).cpu().sum().item()\n",
        "    print(\"loss is {}\".format(running_loss/total))   \n",
        "    print('Accuracy of the network on the train samples: {} '.format((100 * correct / total)))\n",
        "#     with train_summary_writer.as_default():\n",
        "#        summary.scalar('accuracy', 100 * correct / total, step=epoch)\n",
        "#        summary.scalar('loss', running_loss / total, step=epoch)\n",
        "    # Now this is the section for testing the model in the same epoch\n",
        "    correct = 0\n",
        "    total = 0\n",
        "    loss_val = 0\n",
        "    with torch.no_grad():\n",
        "        for data in classification_test_loader:\n",
        "            inputs, labels = data\n",
        "            inputs = inputs.cuda()\n",
        "            batch_size = inputs.shape[0]\n",
        "            inputs = inputs.reshape(batch_size,-1)\n",
        "            # Next the evaluation\n",
        "            outputs = net(inputs)\n",
        "            labels = labels.cuda()\n",
        "            loss = criterion(outputs, labels)\n",
        "            loss_val = loss_val + loss.item()\n",
        "            _, predicted = torch.max(outputs.data, 1)\n",
        "            total += labels.size(0)\n",
        "            correct += (predicted == labels).cpu().sum().item()\n",
        "            \n",
        "#     with test_summary_writer.as_default():\n",
        "#         summary.scalar('accuracy', 100 * correct / total, step=epoch)\n",
        "#         summary.scalar('loss', loss_val / total, step=epoch)\n",
        "\n",
        "    print('Accuracy of the network on the test samples: %d %%' % (\n",
        "        100 * correct / total))\n",
        "    print(\"loss validation set is {}\".format(loss_val/total)) \n",
        "    torch.save(net.state_dict(), '/content/{}-classifier.pth'.format(epoch))\n",
        "\n",
        "print('Finished Training')"
      ],
      "execution_count": 105,
      "outputs": [
        {
          "output_type": "stream",
          "text": [
            "loss is 0.014489773709303547\n",
            "Accuracy of the network on the train samples: 54.62127462101681 \n",
            "Accuracy of the network on the test samples: 55 %\n",
            "loss validation set is 0.01393008095045071\n",
            "loss is 0.013745051500071222\n",
            "Accuracy of the network on the train samples: 56.437558007631225 \n",
            "Accuracy of the network on the test samples: 56 %\n",
            "loss validation set is 0.013835222155971357\n",
            "loss is 0.01368317836287637\n",
            "Accuracy of the network on the train samples: 56.83136537073322 \n",
            "Accuracy of the network on the test samples: 56 %\n",
            "loss validation set is 0.013697030913821198\n",
            "loss is 0.013637078862387186\n",
            "Accuracy of the network on the train samples: 56.91708775910075 \n",
            "Accuracy of the network on the test samples: 57 %\n",
            "loss validation set is 0.013637336212064085\n",
            "loss is 0.013622913992124033\n",
            "Accuracy of the network on the train samples: 56.88550582654429 \n",
            "Accuracy of the network on the test samples: 56 %\n",
            "loss validation set is 0.013766390978644604\n",
            "loss is 0.013612702436652198\n",
            "Accuracy of the network on the train samples: 56.98025162421367 \n",
            "Accuracy of the network on the test samples: 57 %\n",
            "loss validation set is 0.013646355817167246\n",
            "loss is 0.013596631238494224\n",
            "Accuracy of the network on the train samples: 57.0337475507889 \n",
            "Accuracy of the network on the test samples: 56 %\n",
            "loss validation set is 0.013717220049488603\n",
            "loss is 0.013619771872068837\n",
            "Accuracy of the network on the train samples: 57.00667732288336 \n",
            "Accuracy of the network on the test samples: 56 %\n",
            "loss validation set is 0.013671805262504146\n",
            "loss is 0.013597506995580731\n",
            "Accuracy of the network on the train samples: 56.92546663916675 \n",
            "Accuracy of the network on the test samples: 56 %\n",
            "loss validation set is 0.013661267496918211\n",
            "loss is 0.013567494490677836\n",
            "Accuracy of the network on the train samples: 57.118825409920596 \n",
            "Accuracy of the network on the test samples: 56 %\n",
            "loss validation set is 0.013670702653409673\n",
            "loss is 0.013583861527672696\n",
            "Accuracy of the network on the train samples: 57.03181396308136 \n",
            "Accuracy of the network on the test samples: 57 %\n",
            "loss validation set is 0.013561844761204176\n",
            "loss is 0.01354439933507224\n",
            "Accuracy of the network on the train samples: 57.10786841291121 \n",
            "Accuracy of the network on the test samples: 56 %\n",
            "loss validation set is 0.013596208987192259\n",
            "loss is 0.013537425371120305\n",
            "Accuracy of the network on the train samples: 57.17425492420336 \n",
            "Accuracy of the network on the test samples: 56 %\n",
            "loss validation set is 0.013694577648232275\n",
            "loss is 0.013547515467990977\n",
            "Accuracy of the network on the train samples: 57.1091574713829 \n",
            "Accuracy of the network on the test samples: 56 %\n",
            "loss validation set is 0.013587130840825115\n"
          ],
          "name": "stdout"
        },
        {
          "output_type": "error",
          "ename": "KeyboardInterrupt",
          "evalue": "ignored",
          "traceback": [
            "\u001b[0;31m---------------------------------------------------------------------------\u001b[0m",
            "\u001b[0;31mKeyboardInterrupt\u001b[0m                         Traceback (most recent call last)",
            "\u001b[0;32m<ipython-input-105-ed740016d454>\u001b[0m in \u001b[0;36m<module>\u001b[0;34m()\u001b[0m\n\u001b[1;32m      3\u001b[0m     \u001b[0mtotal\u001b[0m \u001b[0;34m=\u001b[0m \u001b[0;36m0\u001b[0m\u001b[0;34m\u001b[0m\u001b[0;34m\u001b[0m\u001b[0m\n\u001b[1;32m      4\u001b[0m     \u001b[0mrunning_loss\u001b[0m \u001b[0;34m=\u001b[0m \u001b[0;36m0.0\u001b[0m\u001b[0;34m\u001b[0m\u001b[0;34m\u001b[0m\u001b[0m\n\u001b[0;32m----> 5\u001b[0;31m     \u001b[0;32mfor\u001b[0m \u001b[0mi\u001b[0m\u001b[0;34m,\u001b[0m \u001b[0mdata\u001b[0m \u001b[0;32min\u001b[0m \u001b[0menumerate\u001b[0m\u001b[0;34m(\u001b[0m\u001b[0mclassification_train_loader\u001b[0m\u001b[0;34m,\u001b[0m \u001b[0;36m0\u001b[0m\u001b[0;34m)\u001b[0m\u001b[0;34m:\u001b[0m\u001b[0;34m\u001b[0m\u001b[0;34m\u001b[0m\u001b[0m\n\u001b[0m\u001b[1;32m      6\u001b[0m         \u001b[0;31m# get the inputs; data is a list of [inputs, labels]\u001b[0m\u001b[0;34m\u001b[0m\u001b[0;34m\u001b[0m\u001b[0;34m\u001b[0m\u001b[0m\n\u001b[1;32m      7\u001b[0m         \u001b[0minputs\u001b[0m\u001b[0;34m,\u001b[0m \u001b[0mlabels\u001b[0m \u001b[0;34m=\u001b[0m \u001b[0mdata\u001b[0m\u001b[0;34m\u001b[0m\u001b[0;34m\u001b[0m\u001b[0m\n",
            "\u001b[0;32m/usr/local/lib/python3.6/dist-packages/torch/utils/data/dataloader.py\u001b[0m in \u001b[0;36m__next__\u001b[0;34m(self)\u001b[0m\n\u001b[1;32m    558\u001b[0m         \u001b[0;32mif\u001b[0m \u001b[0mself\u001b[0m\u001b[0;34m.\u001b[0m\u001b[0mnum_workers\u001b[0m \u001b[0;34m==\u001b[0m \u001b[0;36m0\u001b[0m\u001b[0;34m:\u001b[0m  \u001b[0;31m# same-process loading\u001b[0m\u001b[0;34m\u001b[0m\u001b[0;34m\u001b[0m\u001b[0m\n\u001b[1;32m    559\u001b[0m             \u001b[0mindices\u001b[0m \u001b[0;34m=\u001b[0m \u001b[0mnext\u001b[0m\u001b[0;34m(\u001b[0m\u001b[0mself\u001b[0m\u001b[0;34m.\u001b[0m\u001b[0msample_iter\u001b[0m\u001b[0;34m)\u001b[0m  \u001b[0;31m# may raise StopIteration\u001b[0m\u001b[0;34m\u001b[0m\u001b[0;34m\u001b[0m\u001b[0m\n\u001b[0;32m--> 560\u001b[0;31m             \u001b[0mbatch\u001b[0m \u001b[0;34m=\u001b[0m \u001b[0mself\u001b[0m\u001b[0;34m.\u001b[0m\u001b[0mcollate_fn\u001b[0m\u001b[0;34m(\u001b[0m\u001b[0;34m[\u001b[0m\u001b[0mself\u001b[0m\u001b[0;34m.\u001b[0m\u001b[0mdataset\u001b[0m\u001b[0;34m[\u001b[0m\u001b[0mi\u001b[0m\u001b[0;34m]\u001b[0m \u001b[0;32mfor\u001b[0m \u001b[0mi\u001b[0m \u001b[0;32min\u001b[0m \u001b[0mindices\u001b[0m\u001b[0;34m]\u001b[0m\u001b[0;34m)\u001b[0m\u001b[0;34m\u001b[0m\u001b[0;34m\u001b[0m\u001b[0m\n\u001b[0m\u001b[1;32m    561\u001b[0m             \u001b[0;32mif\u001b[0m \u001b[0mself\u001b[0m\u001b[0;34m.\u001b[0m\u001b[0mpin_memory\u001b[0m\u001b[0;34m:\u001b[0m\u001b[0;34m\u001b[0m\u001b[0;34m\u001b[0m\u001b[0m\n\u001b[1;32m    562\u001b[0m                 \u001b[0mbatch\u001b[0m \u001b[0;34m=\u001b[0m \u001b[0m_utils\u001b[0m\u001b[0;34m.\u001b[0m\u001b[0mpin_memory\u001b[0m\u001b[0;34m.\u001b[0m\u001b[0mpin_memory_batch\u001b[0m\u001b[0;34m(\u001b[0m\u001b[0mbatch\u001b[0m\u001b[0;34m)\u001b[0m\u001b[0;34m\u001b[0m\u001b[0;34m\u001b[0m\u001b[0m\n",
            "\u001b[0;32m/usr/local/lib/python3.6/dist-packages/torch/utils/data/dataloader.py\u001b[0m in \u001b[0;36m<listcomp>\u001b[0;34m(.0)\u001b[0m\n\u001b[1;32m    558\u001b[0m         \u001b[0;32mif\u001b[0m \u001b[0mself\u001b[0m\u001b[0;34m.\u001b[0m\u001b[0mnum_workers\u001b[0m \u001b[0;34m==\u001b[0m \u001b[0;36m0\u001b[0m\u001b[0;34m:\u001b[0m  \u001b[0;31m# same-process loading\u001b[0m\u001b[0;34m\u001b[0m\u001b[0;34m\u001b[0m\u001b[0m\n\u001b[1;32m    559\u001b[0m             \u001b[0mindices\u001b[0m \u001b[0;34m=\u001b[0m \u001b[0mnext\u001b[0m\u001b[0;34m(\u001b[0m\u001b[0mself\u001b[0m\u001b[0;34m.\u001b[0m\u001b[0msample_iter\u001b[0m\u001b[0;34m)\u001b[0m  \u001b[0;31m# may raise StopIteration\u001b[0m\u001b[0;34m\u001b[0m\u001b[0;34m\u001b[0m\u001b[0m\n\u001b[0;32m--> 560\u001b[0;31m             \u001b[0mbatch\u001b[0m \u001b[0;34m=\u001b[0m \u001b[0mself\u001b[0m\u001b[0;34m.\u001b[0m\u001b[0mcollate_fn\u001b[0m\u001b[0;34m(\u001b[0m\u001b[0;34m[\u001b[0m\u001b[0mself\u001b[0m\u001b[0;34m.\u001b[0m\u001b[0mdataset\u001b[0m\u001b[0;34m[\u001b[0m\u001b[0mi\u001b[0m\u001b[0;34m]\u001b[0m \u001b[0;32mfor\u001b[0m \u001b[0mi\u001b[0m \u001b[0;32min\u001b[0m \u001b[0mindices\u001b[0m\u001b[0;34m]\u001b[0m\u001b[0;34m)\u001b[0m\u001b[0;34m\u001b[0m\u001b[0;34m\u001b[0m\u001b[0m\n\u001b[0m\u001b[1;32m    561\u001b[0m             \u001b[0;32mif\u001b[0m \u001b[0mself\u001b[0m\u001b[0;34m.\u001b[0m\u001b[0mpin_memory\u001b[0m\u001b[0;34m:\u001b[0m\u001b[0;34m\u001b[0m\u001b[0;34m\u001b[0m\u001b[0m\n\u001b[1;32m    562\u001b[0m                 \u001b[0mbatch\u001b[0m \u001b[0;34m=\u001b[0m \u001b[0m_utils\u001b[0m\u001b[0;34m.\u001b[0m\u001b[0mpin_memory\u001b[0m\u001b[0;34m.\u001b[0m\u001b[0mpin_memory_batch\u001b[0m\u001b[0;34m(\u001b[0m\u001b[0mbatch\u001b[0m\u001b[0;34m)\u001b[0m\u001b[0;34m\u001b[0m\u001b[0;34m\u001b[0m\u001b[0m\n",
            "\u001b[0;32m<ipython-input-67-c474277d6a85>\u001b[0m in \u001b[0;36m__getitem__\u001b[0;34m(self, index)\u001b[0m\n\u001b[1;32m     20\u001b[0m     \u001b[0;32mdef\u001b[0m \u001b[0m__getitem__\u001b[0m\u001b[0;34m(\u001b[0m\u001b[0mself\u001b[0m\u001b[0;34m,\u001b[0m \u001b[0mindex\u001b[0m\u001b[0;34m)\u001b[0m\u001b[0;34m:\u001b[0m\u001b[0;34m\u001b[0m\u001b[0;34m\u001b[0m\u001b[0m\n\u001b[1;32m     21\u001b[0m         \u001b[0;31m#print(type(self.train_data))\u001b[0m\u001b[0;34m\u001b[0m\u001b[0;34m\u001b[0m\u001b[0;34m\u001b[0m\u001b[0m\n\u001b[0;32m---> 22\u001b[0;31m         \u001b[0mselected_frame\u001b[0m\u001b[0;34m,\u001b[0m \u001b[0mlabel\u001b[0m \u001b[0;34m=\u001b[0m \u001b[0mself\u001b[0m\u001b[0;34m.\u001b[0m\u001b[0mtrain_data\u001b[0m\u001b[0;34m.\u001b[0m\u001b[0miloc\u001b[0m\u001b[0;34m[\u001b[0m\u001b[0mindex\u001b[0m\u001b[0;34m]\u001b[0m\u001b[0;34m,\u001b[0m \u001b[0mself\u001b[0m\u001b[0;34m.\u001b[0m\u001b[0mtrain_labels\u001b[0m\u001b[0;34m.\u001b[0m\u001b[0miloc\u001b[0m\u001b[0;34m[\u001b[0m\u001b[0mindex\u001b[0m\u001b[0;34m]\u001b[0m\u001b[0;34m\u001b[0m\u001b[0;34m\u001b[0m\u001b[0m\n\u001b[0m\u001b[1;32m     23\u001b[0m         \u001b[0mstr_data\u001b[0m \u001b[0;34m=\u001b[0m \u001b[0mselected_frame\u001b[0m\u001b[0;34m[\u001b[0m\u001b[0mself\u001b[0m\u001b[0;34m.\u001b[0m\u001b[0mselect_column\u001b[0m\u001b[0;34m]\u001b[0m\u001b[0;34m\u001b[0m\u001b[0;34m\u001b[0m\u001b[0m\n\u001b[1;32m     24\u001b[0m \u001b[0;34m\u001b[0m\u001b[0m\n",
            "\u001b[0;32m/usr/local/lib/python3.6/dist-packages/pandas/core/indexing.py\u001b[0m in \u001b[0;36m__getitem__\u001b[0;34m(self, key)\u001b[0m\n\u001b[1;32m   1498\u001b[0m \u001b[0;34m\u001b[0m\u001b[0m\n\u001b[1;32m   1499\u001b[0m             \u001b[0mmaybe_callable\u001b[0m \u001b[0;34m=\u001b[0m \u001b[0mcom\u001b[0m\u001b[0;34m.\u001b[0m\u001b[0mapply_if_callable\u001b[0m\u001b[0;34m(\u001b[0m\u001b[0mkey\u001b[0m\u001b[0;34m,\u001b[0m \u001b[0mself\u001b[0m\u001b[0;34m.\u001b[0m\u001b[0mobj\u001b[0m\u001b[0;34m)\u001b[0m\u001b[0;34m\u001b[0m\u001b[0;34m\u001b[0m\u001b[0m\n\u001b[0;32m-> 1500\u001b[0;31m             \u001b[0;32mreturn\u001b[0m \u001b[0mself\u001b[0m\u001b[0;34m.\u001b[0m\u001b[0m_getitem_axis\u001b[0m\u001b[0;34m(\u001b[0m\u001b[0mmaybe_callable\u001b[0m\u001b[0;34m,\u001b[0m \u001b[0maxis\u001b[0m\u001b[0;34m=\u001b[0m\u001b[0maxis\u001b[0m\u001b[0;34m)\u001b[0m\u001b[0;34m\u001b[0m\u001b[0;34m\u001b[0m\u001b[0m\n\u001b[0m\u001b[1;32m   1501\u001b[0m \u001b[0;34m\u001b[0m\u001b[0m\n\u001b[1;32m   1502\u001b[0m     \u001b[0;32mdef\u001b[0m \u001b[0m_is_scalar_access\u001b[0m\u001b[0;34m(\u001b[0m\u001b[0mself\u001b[0m\u001b[0;34m,\u001b[0m \u001b[0mkey\u001b[0m\u001b[0;34m)\u001b[0m\u001b[0;34m:\u001b[0m\u001b[0;34m\u001b[0m\u001b[0;34m\u001b[0m\u001b[0m\n",
            "\u001b[0;32m/usr/local/lib/python3.6/dist-packages/pandas/core/indexing.py\u001b[0m in \u001b[0;36m_getitem_axis\u001b[0;34m(self, key, axis)\u001b[0m\n\u001b[1;32m   2230\u001b[0m             \u001b[0mself\u001b[0m\u001b[0;34m.\u001b[0m\u001b[0m_validate_integer\u001b[0m\u001b[0;34m(\u001b[0m\u001b[0mkey\u001b[0m\u001b[0;34m,\u001b[0m \u001b[0maxis\u001b[0m\u001b[0;34m)\u001b[0m\u001b[0;34m\u001b[0m\u001b[0;34m\u001b[0m\u001b[0m\n\u001b[1;32m   2231\u001b[0m \u001b[0;34m\u001b[0m\u001b[0m\n\u001b[0;32m-> 2232\u001b[0;31m             \u001b[0;32mreturn\u001b[0m \u001b[0mself\u001b[0m\u001b[0;34m.\u001b[0m\u001b[0m_get_loc\u001b[0m\u001b[0;34m(\u001b[0m\u001b[0mkey\u001b[0m\u001b[0;34m,\u001b[0m \u001b[0maxis\u001b[0m\u001b[0;34m=\u001b[0m\u001b[0maxis\u001b[0m\u001b[0;34m)\u001b[0m\u001b[0;34m\u001b[0m\u001b[0;34m\u001b[0m\u001b[0m\n\u001b[0m\u001b[1;32m   2233\u001b[0m \u001b[0;34m\u001b[0m\u001b[0m\n\u001b[1;32m   2234\u001b[0m     \u001b[0;32mdef\u001b[0m \u001b[0m_convert_to_indexer\u001b[0m\u001b[0;34m(\u001b[0m\u001b[0mself\u001b[0m\u001b[0;34m,\u001b[0m \u001b[0mobj\u001b[0m\u001b[0;34m,\u001b[0m \u001b[0maxis\u001b[0m\u001b[0;34m=\u001b[0m\u001b[0;32mNone\u001b[0m\u001b[0;34m,\u001b[0m \u001b[0mis_setter\u001b[0m\u001b[0;34m=\u001b[0m\u001b[0;32mFalse\u001b[0m\u001b[0;34m)\u001b[0m\u001b[0;34m:\u001b[0m\u001b[0;34m\u001b[0m\u001b[0;34m\u001b[0m\u001b[0m\n",
            "\u001b[0;32m/usr/local/lib/python3.6/dist-packages/pandas/core/indexing.py\u001b[0m in \u001b[0;36m_get_loc\u001b[0;34m(self, key, axis)\u001b[0m\n\u001b[1;32m    144\u001b[0m         \u001b[0;32mif\u001b[0m \u001b[0maxis\u001b[0m \u001b[0;32mis\u001b[0m \u001b[0;32mNone\u001b[0m\u001b[0;34m:\u001b[0m\u001b[0;34m\u001b[0m\u001b[0;34m\u001b[0m\u001b[0m\n\u001b[1;32m    145\u001b[0m             \u001b[0maxis\u001b[0m \u001b[0;34m=\u001b[0m \u001b[0mself\u001b[0m\u001b[0;34m.\u001b[0m\u001b[0maxis\u001b[0m\u001b[0;34m\u001b[0m\u001b[0;34m\u001b[0m\u001b[0m\n\u001b[0;32m--> 146\u001b[0;31m         \u001b[0;32mreturn\u001b[0m \u001b[0mself\u001b[0m\u001b[0;34m.\u001b[0m\u001b[0mobj\u001b[0m\u001b[0;34m.\u001b[0m\u001b[0m_ixs\u001b[0m\u001b[0;34m(\u001b[0m\u001b[0mkey\u001b[0m\u001b[0;34m,\u001b[0m \u001b[0maxis\u001b[0m\u001b[0;34m=\u001b[0m\u001b[0maxis\u001b[0m\u001b[0;34m)\u001b[0m\u001b[0;34m\u001b[0m\u001b[0;34m\u001b[0m\u001b[0m\n\u001b[0m\u001b[1;32m    147\u001b[0m \u001b[0;34m\u001b[0m\u001b[0m\n\u001b[1;32m    148\u001b[0m     \u001b[0;32mdef\u001b[0m \u001b[0m_slice\u001b[0m\u001b[0;34m(\u001b[0m\u001b[0mself\u001b[0m\u001b[0;34m,\u001b[0m \u001b[0mobj\u001b[0m\u001b[0;34m,\u001b[0m \u001b[0maxis\u001b[0m\u001b[0;34m=\u001b[0m\u001b[0;32mNone\u001b[0m\u001b[0;34m,\u001b[0m \u001b[0mkind\u001b[0m\u001b[0;34m=\u001b[0m\u001b[0;32mNone\u001b[0m\u001b[0;34m)\u001b[0m\u001b[0;34m:\u001b[0m\u001b[0;34m\u001b[0m\u001b[0;34m\u001b[0m\u001b[0m\n",
            "\u001b[0;32m/usr/local/lib/python3.6/dist-packages/pandas/core/frame.py\u001b[0m in \u001b[0;36m_ixs\u001b[0;34m(self, i, axis)\u001b[0m\n\u001b[1;32m   2859\u001b[0m                                                       \u001b[0mindex\u001b[0m\u001b[0;34m=\u001b[0m\u001b[0mself\u001b[0m\u001b[0;34m.\u001b[0m\u001b[0mcolumns\u001b[0m\u001b[0;34m,\u001b[0m\u001b[0;34m\u001b[0m\u001b[0;34m\u001b[0m\u001b[0m\n\u001b[1;32m   2860\u001b[0m                                                       \u001b[0mname\u001b[0m\u001b[0;34m=\u001b[0m\u001b[0mself\u001b[0m\u001b[0;34m.\u001b[0m\u001b[0mindex\u001b[0m\u001b[0;34m[\u001b[0m\u001b[0mi\u001b[0m\u001b[0;34m]\u001b[0m\u001b[0;34m,\u001b[0m\u001b[0;34m\u001b[0m\u001b[0;34m\u001b[0m\u001b[0m\n\u001b[0;32m-> 2861\u001b[0;31m                                                       dtype=new_values.dtype)\n\u001b[0m\u001b[1;32m   2862\u001b[0m                 \u001b[0mresult\u001b[0m\u001b[0;34m.\u001b[0m\u001b[0m_set_is_copy\u001b[0m\u001b[0;34m(\u001b[0m\u001b[0mself\u001b[0m\u001b[0;34m,\u001b[0m \u001b[0mcopy\u001b[0m\u001b[0;34m=\u001b[0m\u001b[0mcopy\u001b[0m\u001b[0;34m)\u001b[0m\u001b[0;34m\u001b[0m\u001b[0;34m\u001b[0m\u001b[0m\n\u001b[1;32m   2863\u001b[0m                 \u001b[0;32mreturn\u001b[0m \u001b[0mresult\u001b[0m\u001b[0;34m\u001b[0m\u001b[0;34m\u001b[0m\u001b[0m\n",
            "\u001b[0;32m/usr/local/lib/python3.6/dist-packages/pandas/core/series.py\u001b[0m in \u001b[0;36m__init__\u001b[0;34m(self, data, index, dtype, name, copy, fastpath)\u001b[0m\n\u001b[1;32m    260\u001b[0m             \u001b[0;32melse\u001b[0m\u001b[0;34m:\u001b[0m\u001b[0;34m\u001b[0m\u001b[0;34m\u001b[0m\u001b[0m\n\u001b[1;32m    261\u001b[0m                 data = sanitize_array(data, index, dtype, copy,\n\u001b[0;32m--> 262\u001b[0;31m                                       raise_cast_failure=True)\n\u001b[0m\u001b[1;32m    263\u001b[0m \u001b[0;34m\u001b[0m\u001b[0m\n\u001b[1;32m    264\u001b[0m                 \u001b[0mdata\u001b[0m \u001b[0;34m=\u001b[0m \u001b[0mSingleBlockManager\u001b[0m\u001b[0;34m(\u001b[0m\u001b[0mdata\u001b[0m\u001b[0;34m,\u001b[0m \u001b[0mindex\u001b[0m\u001b[0;34m,\u001b[0m \u001b[0mfastpath\u001b[0m\u001b[0;34m=\u001b[0m\u001b[0;32mTrue\u001b[0m\u001b[0;34m)\u001b[0m\u001b[0;34m\u001b[0m\u001b[0;34m\u001b[0m\u001b[0m\n",
            "\u001b[0;32m/usr/local/lib/python3.6/dist-packages/pandas/core/internals/construction.py\u001b[0m in \u001b[0;36msanitize_array\u001b[0;34m(data, index, dtype, copy, raise_cast_failure)\u001b[0m\n\u001b[1;32m    570\u001b[0m                         \u001b[0msubarr\u001b[0m \u001b[0;34m=\u001b[0m \u001b[0mdata\u001b[0m\u001b[0;34m.\u001b[0m\u001b[0mcopy\u001b[0m\u001b[0;34m(\u001b[0m\u001b[0;34m)\u001b[0m\u001b[0;34m\u001b[0m\u001b[0;34m\u001b[0m\u001b[0m\n\u001b[1;32m    571\u001b[0m             \u001b[0;32melse\u001b[0m\u001b[0;34m:\u001b[0m\u001b[0;34m\u001b[0m\u001b[0;34m\u001b[0m\u001b[0m\n\u001b[0;32m--> 572\u001b[0;31m                 \u001b[0msubarr\u001b[0m \u001b[0;34m=\u001b[0m \u001b[0m_try_cast\u001b[0m\u001b[0;34m(\u001b[0m\u001b[0mdata\u001b[0m\u001b[0;34m,\u001b[0m \u001b[0;32mTrue\u001b[0m\u001b[0;34m,\u001b[0m \u001b[0mdtype\u001b[0m\u001b[0;34m,\u001b[0m \u001b[0mcopy\u001b[0m\u001b[0;34m,\u001b[0m \u001b[0mraise_cast_failure\u001b[0m\u001b[0;34m)\u001b[0m\u001b[0;34m\u001b[0m\u001b[0;34m\u001b[0m\u001b[0m\n\u001b[0m\u001b[1;32m    573\u001b[0m         \u001b[0;32melif\u001b[0m \u001b[0misinstance\u001b[0m\u001b[0;34m(\u001b[0m\u001b[0mdata\u001b[0m\u001b[0;34m,\u001b[0m \u001b[0mIndex\u001b[0m\u001b[0;34m)\u001b[0m\u001b[0;34m:\u001b[0m\u001b[0;34m\u001b[0m\u001b[0;34m\u001b[0m\u001b[0m\n\u001b[1;32m    574\u001b[0m             \u001b[0;31m# don't coerce Index types\u001b[0m\u001b[0;34m\u001b[0m\u001b[0;34m\u001b[0m\u001b[0;34m\u001b[0m\u001b[0m\n",
            "\u001b[0;32m/usr/local/lib/python3.6/dist-packages/pandas/core/internals/construction.py\u001b[0m in \u001b[0;36m_try_cast\u001b[0;34m(arr, take_fast_path, dtype, copy, raise_cast_failure)\u001b[0m\n\u001b[1;32m    702\u001b[0m                                        isinstance(subarr, np.ndarray))):\n\u001b[1;32m    703\u001b[0m             \u001b[0msubarr\u001b[0m \u001b[0;34m=\u001b[0m \u001b[0mconstruct_1d_object_array_from_listlike\u001b[0m\u001b[0;34m(\u001b[0m\u001b[0msubarr\u001b[0m\u001b[0;34m)\u001b[0m\u001b[0;34m\u001b[0m\u001b[0;34m\u001b[0m\u001b[0m\n\u001b[0;32m--> 704\u001b[0;31m         \u001b[0;32melif\u001b[0m \u001b[0;32mnot\u001b[0m \u001b[0mis_extension_type\u001b[0m\u001b[0;34m(\u001b[0m\u001b[0msubarr\u001b[0m\u001b[0;34m)\u001b[0m\u001b[0;34m:\u001b[0m\u001b[0;34m\u001b[0m\u001b[0;34m\u001b[0m\u001b[0m\n\u001b[0m\u001b[1;32m    705\u001b[0m             subarr = construct_1d_ndarray_preserving_na(subarr, dtype,\n\u001b[1;32m    706\u001b[0m                                                         copy=copy)\n",
            "\u001b[0;32m/usr/local/lib/python3.6/dist-packages/pandas/core/dtypes/common.py\u001b[0m in \u001b[0;36mis_extension_type\u001b[0;34m(arr)\u001b[0m\n\u001b[1;32m   1691\u001b[0m     \"\"\"\n\u001b[1;32m   1692\u001b[0m \u001b[0;34m\u001b[0m\u001b[0m\n\u001b[0;32m-> 1693\u001b[0;31m     \u001b[0;32mif\u001b[0m \u001b[0mis_categorical\u001b[0m\u001b[0;34m(\u001b[0m\u001b[0marr\u001b[0m\u001b[0;34m)\u001b[0m\u001b[0;34m:\u001b[0m\u001b[0;34m\u001b[0m\u001b[0;34m\u001b[0m\u001b[0m\n\u001b[0m\u001b[1;32m   1694\u001b[0m         \u001b[0;32mreturn\u001b[0m \u001b[0;32mTrue\u001b[0m\u001b[0;34m\u001b[0m\u001b[0;34m\u001b[0m\u001b[0m\n\u001b[1;32m   1695\u001b[0m     \u001b[0;32melif\u001b[0m \u001b[0mis_sparse\u001b[0m\u001b[0;34m(\u001b[0m\u001b[0marr\u001b[0m\u001b[0;34m)\u001b[0m\u001b[0;34m:\u001b[0m\u001b[0;34m\u001b[0m\u001b[0;34m\u001b[0m\u001b[0m\n",
            "\u001b[0;32m/usr/local/lib/python3.6/dist-packages/pandas/core/dtypes/common.py\u001b[0m in \u001b[0;36mis_categorical\u001b[0;34m(arr)\u001b[0m\n\u001b[1;32m    289\u001b[0m     \"\"\"\n\u001b[1;32m    290\u001b[0m \u001b[0;34m\u001b[0m\u001b[0m\n\u001b[0;32m--> 291\u001b[0;31m     \u001b[0;32mreturn\u001b[0m \u001b[0misinstance\u001b[0m\u001b[0;34m(\u001b[0m\u001b[0marr\u001b[0m\u001b[0;34m,\u001b[0m \u001b[0mABCCategorical\u001b[0m\u001b[0;34m)\u001b[0m \u001b[0;32mor\u001b[0m \u001b[0mis_categorical_dtype\u001b[0m\u001b[0;34m(\u001b[0m\u001b[0marr\u001b[0m\u001b[0;34m)\u001b[0m\u001b[0;34m\u001b[0m\u001b[0;34m\u001b[0m\u001b[0m\n\u001b[0m\u001b[1;32m    292\u001b[0m \u001b[0;34m\u001b[0m\u001b[0m\n\u001b[1;32m    293\u001b[0m \u001b[0;34m\u001b[0m\u001b[0m\n",
            "\u001b[0;32m/usr/local/lib/python3.6/dist-packages/pandas/core/dtypes/common.py\u001b[0m in \u001b[0;36mis_categorical_dtype\u001b[0;34m(arr_or_dtype)\u001b[0m\n\u001b[1;32m    600\u001b[0m     \u001b[0;32mif\u001b[0m \u001b[0marr_or_dtype\u001b[0m \u001b[0;32mis\u001b[0m \u001b[0;32mNone\u001b[0m\u001b[0;34m:\u001b[0m\u001b[0;34m\u001b[0m\u001b[0;34m\u001b[0m\u001b[0m\n\u001b[1;32m    601\u001b[0m         \u001b[0;32mreturn\u001b[0m \u001b[0;32mFalse\u001b[0m\u001b[0;34m\u001b[0m\u001b[0;34m\u001b[0m\u001b[0m\n\u001b[0;32m--> 602\u001b[0;31m     \u001b[0;32mreturn\u001b[0m \u001b[0mCategoricalDtype\u001b[0m\u001b[0;34m.\u001b[0m\u001b[0mis_dtype\u001b[0m\u001b[0;34m(\u001b[0m\u001b[0marr_or_dtype\u001b[0m\u001b[0;34m)\u001b[0m\u001b[0;34m\u001b[0m\u001b[0;34m\u001b[0m\u001b[0m\n\u001b[0m\u001b[1;32m    603\u001b[0m \u001b[0;34m\u001b[0m\u001b[0m\n\u001b[1;32m    604\u001b[0m \u001b[0;34m\u001b[0m\u001b[0m\n",
            "\u001b[0;32m/usr/local/lib/python3.6/dist-packages/pandas/core/dtypes/base.py\u001b[0m in \u001b[0;36mis_dtype\u001b[0;34m(cls, dtype)\u001b[0m\n\u001b[1;32m     99\u001b[0m \u001b[0;34m\u001b[0m\u001b[0m\n\u001b[1;32m    100\u001b[0m         if isinstance(dtype, (ABCSeries, ABCIndexClass,\n\u001b[0;32m--> 101\u001b[0;31m                               ABCDataFrame, np.dtype)):\n\u001b[0m\u001b[1;32m    102\u001b[0m             \u001b[0;31m# https://github.com/pandas-dev/pandas/issues/22960\u001b[0m\u001b[0;34m\u001b[0m\u001b[0;34m\u001b[0m\u001b[0;34m\u001b[0m\u001b[0m\n\u001b[1;32m    103\u001b[0m             \u001b[0;31m# avoid passing data to `construct_from_string`. This could\u001b[0m\u001b[0;34m\u001b[0m\u001b[0;34m\u001b[0m\u001b[0;34m\u001b[0m\u001b[0m\n",
            "\u001b[0;32m/usr/local/lib/python3.6/dist-packages/pandas/core/dtypes/generic.py\u001b[0m in \u001b[0;36m_check\u001b[0;34m(cls, inst)\u001b[0m\n\u001b[1;32m      7\u001b[0m     \u001b[0;34m@\u001b[0m\u001b[0mclassmethod\u001b[0m\u001b[0;34m\u001b[0m\u001b[0;34m\u001b[0m\u001b[0m\n\u001b[1;32m      8\u001b[0m     \u001b[0;32mdef\u001b[0m \u001b[0m_check\u001b[0m\u001b[0;34m(\u001b[0m\u001b[0mcls\u001b[0m\u001b[0;34m,\u001b[0m \u001b[0minst\u001b[0m\u001b[0;34m)\u001b[0m\u001b[0;34m:\u001b[0m\u001b[0;34m\u001b[0m\u001b[0;34m\u001b[0m\u001b[0m\n\u001b[0;32m----> 9\u001b[0;31m         \u001b[0;32mreturn\u001b[0m \u001b[0mgetattr\u001b[0m\u001b[0;34m(\u001b[0m\u001b[0minst\u001b[0m\u001b[0;34m,\u001b[0m \u001b[0mattr\u001b[0m\u001b[0;34m,\u001b[0m \u001b[0;34m'_typ'\u001b[0m\u001b[0;34m)\u001b[0m \u001b[0;32min\u001b[0m \u001b[0mcomp\u001b[0m\u001b[0;34m\u001b[0m\u001b[0;34m\u001b[0m\u001b[0m\n\u001b[0m\u001b[1;32m     10\u001b[0m \u001b[0;34m\u001b[0m\u001b[0m\n\u001b[1;32m     11\u001b[0m     \u001b[0mdct\u001b[0m \u001b[0;34m=\u001b[0m \u001b[0mdict\u001b[0m\u001b[0;34m(\u001b[0m\u001b[0m__instancecheck__\u001b[0m\u001b[0;34m=\u001b[0m\u001b[0m_check\u001b[0m\u001b[0;34m,\u001b[0m \u001b[0m__subclasscheck__\u001b[0m\u001b[0;34m=\u001b[0m\u001b[0m_check\u001b[0m\u001b[0;34m)\u001b[0m\u001b[0;34m\u001b[0m\u001b[0;34m\u001b[0m\u001b[0m\n",
            "\u001b[0;31mKeyboardInterrupt\u001b[0m: "
          ]
        }
      ]
    },
    {
      "cell_type": "code",
      "metadata": {
        "id": "uCnOhz2Yg3T6",
        "colab_type": "code",
        "colab": {
          "base_uri": "https://localhost:8080/",
          "height": 336
        },
        "outputId": "ea093cc3-103d-44e6-d0d2-956340992657"
      },
      "source": [
        "# First load the best model based on the classification scenario above\n",
        "net = ClassificationNet(embedding_network=model, num_classes=num_classes)\n",
        "PATH = '/content/5-classifier.pth'\n",
        "net.load_state_dict(torch.load(PATH))\n",
        "net.cuda()"
      ],
      "execution_count": 106,
      "outputs": [
        {
          "output_type": "execute_result",
          "data": {
            "text/plain": [
              "ClassificationNet(\n",
              "  (embedding_network): TripletNetwork(\n",
              "    (fc): Sequential(\n",
              "      (0): Linear(in_features=1024, out_features=512, bias=True)\n",
              "      (1): BatchNorm1d(512, eps=1e-05, momentum=0.1, affine=True, track_running_stats=True)\n",
              "      (2): ReLU()\n",
              "      (3): Dropout(p=0.5)\n",
              "      (4): Linear(in_features=512, out_features=256, bias=True)\n",
              "      (5): BatchNorm1d(256, eps=1e-05, momentum=0.1, affine=True, track_running_stats=True)\n",
              "      (6): ReLU()\n",
              "      (7): Dropout(p=0.6)\n",
              "      (8): Linear(in_features=256, out_features=64, bias=True)\n",
              "    )\n",
              "  )\n",
              "  (nonlinear): ReLU()\n",
              "  (fc1): Linear(in_features=64, out_features=64, bias=True)\n",
              "  (fc2): Linear(in_features=64, out_features=32, bias=True)\n",
              "  (fc3): Linear(in_features=32, out_features=23, bias=True)\n",
              ")"
            ]
          },
          "metadata": {
            "tags": []
          },
          "execution_count": 106
        }
      ]
    },
    {
      "cell_type": "code",
      "metadata": {
        "id": "zsGspogEg3dW",
        "colab_type": "code",
        "colab": {}
      },
      "source": [
        "# TODO: Still not ready. Please refer to the KNN part for now\n",
        "all_labels = []\n",
        "all_predictions=[]\n",
        "with torch.no_grad():\n",
        "        for data in classification_test_loader:\n",
        "            inputs, labels = data\n",
        "            inputs = inputs.cuda()\n",
        "            batch_size = inputs.shape[0]\n",
        "            inputs = inputs.reshape(batch_size,-1)\n",
        "            # Next the evaluation\n",
        "            outputs = net(inputs)\n",
        "            labels = labels.cuda()\n",
        "            loss = criterion(outputs, labels)\n",
        "            loss_val = loss_val + loss.item()\n",
        "            _, predicted = torch.max(outputs.data, 1)\n",
        "            for idx in range(batch_size):\n",
        "                all_predictions.append(predicted[idx].item())\n",
        "                all_labels.append(labels[idx].item())\n"
      ],
      "execution_count": 0,
      "outputs": []
    },
    {
      "cell_type": "code",
      "metadata": {
        "colab_type": "code",
        "id": "7IOcTdmFInnH",
        "colab": {}
      },
      "source": [
        "labels = list(set(data_train.labels_encoded))\n",
        "cm = confusion_matrix(all_labels, all_predictions, labels)"
      ],
      "execution_count": 0,
      "outputs": []
    },
    {
      "cell_type": "code",
      "metadata": {
        "colab_type": "code",
        "outputId": "364b8ff8-0260-483b-e624-40bb8363e08e",
        "id": "JClpBpSJK-sD",
        "colab": {
          "base_uri": "https://localhost:8080/",
          "height": 289
        }
      },
      "source": [
        "import matplotlib.pyplot as plt\n",
        "fig = plt.figure()\n",
        "ax = fig.add_subplot(111)\n",
        "cax = ax.matshow(cm)\n",
        "plt.title('Confusion matrix of the classifier')\n",
        "fig.colorbar(cax)\n",
        "ax.set_xticklabels([''] + get_all_labels())\n",
        "ax.set_yticklabels([''] + get_all_labels())\n",
        "plt.xlabel('Predicted')\n",
        "plt.ylabel('True')\n",
        "plt.show()"
      ],
      "execution_count": 138,
      "outputs": [
        {
          "output_type": "display_data",
          "data": {
            "image/png": "[encoded data removed]",
            "text/plain": [
              "<Figure size 432x288 with 2 Axes>"
            ]
          },
          "metadata": {
            "tags": []
          }
        }
      ]
    },
    {
      "cell_type": "code",
      "metadata": {
        "colab_type": "code",
        "outputId": "ba5ffa04-cc26-4fed-efba-a6d6c159d446",
        "id": "83WzcFdcK-sJ",
        "colab": {
          "base_uri": "https://localhost:8080/",
          "height": 431
        }
      },
      "source": [
        "import seaborn as sns\n",
        "import matplotlib.pyplot as plt     \n",
        "\n",
        "ax= plt.subplot()\n",
        "sns.heatmap(cm, annot=False, ax = ax, fmt='g', cmap='Greens'); #annot=True to annotate cells\n",
        "\n",
        "# labels, title and ticks\n",
        "ax.set_xlabel('Predicted labels');ax.set_ylabel('True labels'); \n",
        "ax.set_title('Confusion Matrix'); \n",
        "ax.xaxis.set_ticklabels([''] + get_all_labels());\n",
        "ax.yaxis.set_ticklabels([''] + get_all_labels());"
      ],
      "execution_count": 139,
      "outputs": [
        {
          "output_type": "display_data",
          "data": {
            "image/png": "[encoded data removed]",
            "text/plain": [
              "<Figure size 432x288 with 2 Axes>"
            ]
          },
          "metadata": {
            "tags": []
          }
        }
      ]
    },
    {
      "cell_type": "code",
      "metadata": {
        "colab_type": "code",
        "outputId": "2daa71f5-d1d6-4a6c-bbd5-ec92750332a2",
        "id": "sTu_7QLyK-sN",
        "colab": {
          "base_uri": "https://localhost:8080/",
          "height": 521
        }
      },
      "source": [
        "print(classification_report(all_labels, all_predictions,labels=labels, target_names=get_all_labels()))"
      ],
      "execution_count": 140,
      "outputs": [
        {
          "output_type": "stream",
          "text": [
            "                             precision    recall  f1-score   support\n",
            "\n",
            "      Amazon Instant Videos       0.57      0.70      0.63      1615\n",
            "               Android Apps       0.66      0.72      0.69      1611\n",
            "                 Automotive       0.40      0.49      0.44      1672\n",
            "                       Baby       0.63      0.69      0.66      1548\n",
            "                     Beauty       0.65      0.63      0.64      1604\n",
            "              CDs and Vinyl       0.47      0.42      0.44      1508\n",
            "Cell Phones and Accessories       0.50      0.53      0.51      1572\n",
            "   Clothing, Shoes, Jewelry       0.64      0.70      0.67      1579\n",
            "              Digital Music       0.70      0.74      0.72      1604\n",
            "                Electronics       0.36      0.33      0.34      1587\n",
            "        Grocery and Gourmet       0.68      0.74      0.71      1585\n",
            "   Health and Personal Care       0.30      0.26      0.28      1619\n",
            "           Home and Kitchen       0.46      0.44      0.45      1627\n",
            "                     Kindle       0.81      0.80      0.81      1577\n",
            "              Movies and TV       0.59      0.53      0.56      1639\n",
            "        Musical Instruments       0.58      0.53      0.55      1643\n",
            "            Office Products       0.71      0.68      0.69      3222\n",
            "               Patio Garden       0.46      0.47      0.47      1642\n",
            "               Pet Supplies       0.62      0.62      0.62      1960\n",
            "           Sports, Outdoors       0.26      0.24      0.25      1580\n",
            "  Tool and Home Improvement       0.36      0.27      0.31      1596\n",
            "             Toys_and_Games       0.63      0.70      0.66      1608\n",
            "                Video Games       0.79      0.76      0.78      1590\n",
            "\n",
            "                   accuracy                           0.57     38788\n",
            "                  macro avg       0.56      0.56      0.56     38788\n",
            "               weighted avg       0.56      0.57      0.57     38788\n",
            "\n"
          ],
          "name": "stdout"
        }
      ]
    },
    {
      "cell_type": "markdown",
      "metadata": {
        "id": "jElqeitX7QCQ",
        "colab_type": "text"
      },
      "source": [
        "# Finally here we try and implement the 1-Nearest classification process"
      ]
    },
    {
      "cell_type": "code",
      "metadata": {
        "id": "sy2klJSDDVUP",
        "colab_type": "code",
        "colab": {
          "base_uri": "https://localhost:8080/",
          "height": 235
        },
        "outputId": "c1bf6c2f-9edc-4a43-c26c-5df99ce0b0a6"
      },
      "source": [
        "# Load a pre-existing model \n",
        "PATH = '/content/5-model.pth'\n",
        "model = TripletNetwork()\n",
        "model.load_state_dict(torch.load(PATH))\n",
        "model.cuda()"
      ],
      "execution_count": 57,
      "outputs": [
        {
          "output_type": "execute_result",
          "data": {
            "text/plain": [
              "TripletNetwork(\n",
              "  (fc): Sequential(\n",
              "    (0): Linear(in_features=1024, out_features=512, bias=True)\n",
              "    (1): BatchNorm1d(512, eps=1e-05, momentum=0.1, affine=True, track_running_stats=True)\n",
              "    (2): ReLU()\n",
              "    (3): Dropout(p=0.5)\n",
              "    (4): Linear(in_features=512, out_features=256, bias=True)\n",
              "    (5): BatchNorm1d(256, eps=1e-05, momentum=0.1, affine=True, track_running_stats=True)\n",
              "    (6): ReLU()\n",
              "    (7): Dropout(p=0.6)\n",
              "    (8): Linear(in_features=256, out_features=64, bias=True)\n",
              "  )\n",
              ")"
            ]
          },
          "metadata": {
            "tags": []
          },
          "execution_count": 57
        }
      ]
    },
    {
      "cell_type": "code",
      "metadata": {
        "id": "8Y4ChZ6L85qA",
        "colab_type": "code",
        "colab": {}
      },
      "source": [
        "# First of all, our model shall be the one we trained for embeddings in the \n",
        "# 60 dimensional space using Triplet loss. So,\n",
        "embedding_model = model"
      ],
      "execution_count": 0,
      "outputs": []
    },
    {
      "cell_type": "code",
      "metadata": {
        "colab_type": "code",
        "id": "y07EHij5G7TR",
        "colab": {}
      },
      "source": [
        "from torch.utils.data import DataLoader\n",
        "batch_size = 100\n",
        "softmax_train_dataset = SoftmaxDataset(dataset=data_train,select_column='sentence_embedding')\n",
        "softmax_test_dataset = SoftmaxDataset(dataset=data_test,select_column='sentence_embedding')\n",
        "# Now the dataloaders need to be defined as well\n",
        "classification_train_loader = DataLoader(softmax_train_dataset, batch_size=batch_size,shuffle=True)\n",
        "classification_test_loader = DataLoader(softmax_test_dataset, batch_size=batch_size,shuffle=True)"
      ],
      "execution_count": 0,
      "outputs": []
    },
    {
      "cell_type": "code",
      "metadata": {
        "id": "pxkf2Kad8iTo",
        "colab_type": "code",
        "colab": {}
      },
      "source": [
        "# Let us save the embedding of all elements in the train_data as well as their index\n",
        "# this can be used later for our purpose\n",
        "embedding_space = []\n",
        "for i, data in enumerate(classification_train_loader, 0):\n",
        "        # get the inputs; data is a list of [inputs, labels]\n",
        "        inputs, labels = data\n",
        "        inputs = inputs.cuda()\n",
        "        batch_size = inputs.shape[0]\n",
        "        inputs = inputs.reshape(batch_size,-1)\n",
        "        labels = labels.cuda()\n",
        "        embeddings = embedding_model.fc(inputs)\n",
        "        for index,tensor in enumerate(embeddings):\n",
        "           embedding_space.append((labels[index],tensor))"
      ],
      "execution_count": 0,
      "outputs": []
    },
    {
      "cell_type": "code",
      "metadata": {
        "id": "4vrATUP_LQ_6",
        "colab_type": "code",
        "colab": {
          "base_uri": "https://localhost:8080/",
          "height": 34
        },
        "outputId": "ec6fc16b-d76b-47cc-be67-14c581ff5f24"
      },
      "source": [
        "dist = [space for index,space in embedding_space[:-1]]\n",
        "result = torch.stack(dist, dim=0)\n",
        "result.shape"
      ],
      "execution_count": 36,
      "outputs": [
        {
          "output_type": "execute_result",
          "data": {
            "text/plain": [
              "torch.Size([155151, 64])"
            ]
          },
          "metadata": {
            "tags": []
          },
          "execution_count": 36
        }
      ]
    },
    {
      "cell_type": "code",
      "metadata": {
        "id": "mN3wtiUuLRHv",
        "colab_type": "code",
        "colab": {}
      },
      "source": [
        "from collections import Counter\n",
        "def k_nearest_neighbour(distance_embeddings, vector, k=3):   \n",
        "    updated_result = torch.norm((distance_embeddings - vector),p=2,dim=1)\n",
        "    values, indices = torch.topk(updated_result,k=k ,largest=False)\n",
        "    candidate_indexes = []\n",
        "    for index in indices:\n",
        "      candidate_indexes.append((embedding_space[index][0]).item())\n",
        "    return Counter(candidate_indexes).most_common(1)[0][0]"
      ],
      "execution_count": 0,
      "outputs": []
    },
    {
      "cell_type": "code",
      "metadata": {
        "id": "tMlN9hFQ_pdA",
        "colab_type": "code",
        "colab": {
          "base_uri": "https://localhost:8080/",
          "height": 34
        },
        "outputId": "86e49872-e454-4c87-b555-eec6b9994e8d"
      },
      "source": [
        "correct = 0\n",
        "total = 0\n",
        "all_labels = []\n",
        "all_predictions=[]\n",
        "for data in classification_test_loader:\n",
        "    inputs, labels = data\n",
        "    inputs = inputs.cuda()\n",
        "    batch_size = inputs.shape[0]\n",
        "    inputs = inputs.reshape(batch_size,-1)\n",
        "    # Next the evaluation\n",
        "    \n",
        "    output = embedding_model.fc(inputs)\n",
        "    for idx,query in enumerate(output):\n",
        "        predicted = k_nearest_neighbour(result, query, 1)\n",
        "        all_predictions.append(predicted)\n",
        "        correct += (predicted == labels[idx])\n",
        "        all_labels.append(labels[idx].item())\n",
        "    total += labels.size(0)\n",
        "    correct = correct.cpu().sum()\n",
        "print('Accuracy of the network on the test samples: %d %%' % (\n",
        "        100 * correct /total))"
      ],
      "execution_count": 76,
      "outputs": [
        {
          "output_type": "stream",
          "text": [
            "Accuracy of the network on the test samples: 45 %\n"
          ],
          "name": "stdout"
        }
      ]
    },
    {
      "cell_type": "markdown",
      "metadata": {
        "id": "v6dTNg9X_C5P",
        "colab_type": "text"
      },
      "source": [
        "# Evaluating the Micro and Macro F1 scores"
      ]
    },
    {
      "cell_type": "code",
      "metadata": {
        "id": "OMYjLzYq_CFL",
        "colab_type": "code",
        "colab": {}
      },
      "source": [
        "from sklearn.metrics import f1_score,accuracy_score, confusion_matrix, classification_report\n"
      ],
      "execution_count": 0,
      "outputs": []
    },
    {
      "cell_type": "code",
      "metadata": {
        "id": "HpUVFVx9_B_y",
        "colab_type": "code",
        "colab": {
          "base_uri": "https://localhost:8080/",
          "height": 34
        },
        "outputId": "a5bcb856-7102-4c97-f6c5-d3f3994db6ea"
      },
      "source": [
        "f1_score(all_labels, all_predictions, average='micro') "
      ],
      "execution_count": 40,
      "outputs": [
        {
          "output_type": "execute_result",
          "data": {
            "text/plain": [
              "0.44565329483345373"
            ]
          },
          "metadata": {
            "tags": []
          },
          "execution_count": 40
        }
      ]
    },
    {
      "cell_type": "code",
      "metadata": {
        "id": "Y7Qw9O4BBu1W",
        "colab_type": "code",
        "colab": {
          "base_uri": "https://localhost:8080/",
          "height": 34
        },
        "outputId": "825d9e04-6268-4ef0-c8e3-194fd7d242a8"
      },
      "source": [
        "f1_score(all_labels, all_predictions, average='macro') "
      ],
      "execution_count": 41,
      "outputs": [
        {
          "output_type": "execute_result",
          "data": {
            "text/plain": [
              "0.4401489228289628"
            ]
          },
          "metadata": {
            "tags": []
          },
          "execution_count": 41
        }
      ]
    },
    {
      "cell_type": "code",
      "metadata": {
        "id": "d_tN-b-SBLPE",
        "colab_type": "code",
        "colab": {}
      },
      "source": [
        "labels = list(set(data_train.labels_encoded))\n",
        "cm = confusion_matrix(all_labels, all_predictions, labels)"
      ],
      "execution_count": 0,
      "outputs": []
    },
    {
      "cell_type": "code",
      "metadata": {
        "id": "sYrGlrsnDJiy",
        "colab_type": "code",
        "colab": {
          "base_uri": "https://localhost:8080/",
          "height": 289
        },
        "outputId": "8f010d79-acc9-4150-98a1-33be3f886917"
      },
      "source": [
        "import matplotlib.pyplot as plt\n",
        "fig = plt.figure()\n",
        "ax = fig.add_subplot(111)\n",
        "cax = ax.matshow(cm)\n",
        "plt.title('Confusion matrix of the classifier')\n",
        "fig.colorbar(cax)\n",
        "ax.set_xticklabels([''] + get_all_labels())\n",
        "ax.set_yticklabels([''] + get_all_labels())\n",
        "plt.xlabel('Predicted')\n",
        "plt.ylabel('True')\n",
        "plt.show()"
      ],
      "execution_count": 46,
      "outputs": [
        {
          "output_type": "display_data",
          "data": {
            "image/png": "[encoded data removed]",
            "text/plain": [
              "<Figure size 432x288 with 2 Axes>"
            ]
          },
          "metadata": {
            "tags": []
          }
        }
      ]
    },
    {
      "cell_type": "code",
      "metadata": {
        "id": "n2Qt2zWlEhnL",
        "colab_type": "code",
        "colab": {
          "base_uri": "https://localhost:8080/",
          "height": 431
        },
        "outputId": "503424e1-aaaf-45c0-bc6f-1bd95bda8325"
      },
      "source": [
        "import seaborn as sns\n",
        "import matplotlib.pyplot as plt     \n",
        "\n",
        "ax= plt.subplot()\n",
        "sns.heatmap(cm, annot=False, ax = ax, fmt='g', cmap='Greens'); #annot=True to annotate cells\n",
        "\n",
        "# labels, title and ticks\n",
        "ax.set_xlabel('Predicted labels');ax.set_ylabel('True labels'); \n",
        "ax.set_title('Confusion Matrix'); \n",
        "ax.xaxis.set_ticklabels([''] + get_all_labels());\n",
        "ax.yaxis.set_ticklabels([''] + get_all_labels());"
      ],
      "execution_count": 47,
      "outputs": [
        {
          "output_type": "display_data",
          "data": {
            "image/png": "[encoded data removed]",
            "text/plain": [
              "<Figure size 432x288 with 2 Axes>"
            ]
          },
          "metadata": {
            "tags": []
          }
        }
      ]
    },
    {
      "cell_type": "code",
      "metadata": {
        "id": "DZvX13V9A4bZ",
        "colab_type": "code",
        "colab": {
          "base_uri": "https://localhost:8080/",
          "height": 34
        },
        "outputId": "7364534c-161b-4874-dbf6-398eac540700"
      },
      "source": [
        "accuracy_score(all_labels, all_predictions)"
      ],
      "execution_count": 48,
      "outputs": [
        {
          "output_type": "execute_result",
          "data": {
            "text/plain": [
              "0.4456532948334537"
            ]
          },
          "metadata": {
            "tags": []
          },
          "execution_count": 48
        }
      ]
    },
    {
      "cell_type": "code",
      "metadata": {
        "id": "4SbT8LFAGBM4",
        "colab_type": "code",
        "colab": {
          "base_uri": "https://localhost:8080/",
          "height": 521
        },
        "outputId": "8b083568-e971-4591-d4f1-6ffee1f784e8"
      },
      "source": [
        "print(classification_report(all_labels, all_predictions,labels=labels, target_names=get_all_labels()))"
      ],
      "execution_count": 52,
      "outputs": [
        {
          "output_type": "stream",
          "text": [
            "                             precision    recall  f1-score   support\n",
            "\n",
            "      Amazon Instant Videos       0.48      0.47      0.48      1615\n",
            "               Android Apps       0.59      0.59      0.59      1611\n",
            "                 Automotive       0.29      0.26      0.27      1672\n",
            "                       Baby       0.53      0.54      0.53      1548\n",
            "                     Beauty       0.50      0.51      0.50      1604\n",
            "              CDs and Vinyl       0.34      0.36      0.35      1508\n",
            "Cell Phones and Accessories       0.38      0.39      0.39      1572\n",
            "   Clothing, Shoes, Jewelry       0.55      0.54      0.54      1579\n",
            "              Digital Music       0.60      0.60      0.60      1604\n",
            "                Electronics       0.24      0.24      0.24      1587\n",
            "        Grocery and Gourmet       0.59      0.59      0.59      1585\n",
            "   Health and Personal Care       0.17      0.17      0.17      1619\n",
            "           Home and Kitchen       0.32      0.32      0.32      1627\n",
            "                     Kindle       0.73      0.73      0.73      1577\n",
            "              Movies and TV       0.43      0.44      0.43      1639\n",
            "        Musical Instruments       0.44      0.43      0.43      1643\n",
            "            Office Products       0.57      0.57      0.57      3222\n",
            "               Patio Garden       0.33      0.32      0.32      1642\n",
            "               Pet Supplies       0.50      0.50      0.50      1960\n",
            "           Sports, Outdoors       0.12      0.12      0.12      1580\n",
            "  Tool and Home Improvement       0.20      0.20      0.20      1596\n",
            "             Toys_and_Games       0.54      0.55      0.55      1608\n",
            "                Video Games       0.68      0.69      0.69      1590\n",
            "\n",
            "                   accuracy                           0.45     38788\n",
            "                  macro avg       0.44      0.44      0.44     38788\n",
            "               weighted avg       0.45      0.45      0.45     38788\n",
            "\n"
          ],
          "name": "stdout"
        }
      ]
    }
  ]
}